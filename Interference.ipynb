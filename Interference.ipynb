{
 "cells": [
  {
   "cell_type": "markdown",
   "id": "5e2586c4-74f4-4e93-b6a6-76f0d2d4293f",
   "metadata": {},
   "source": [
    "<div style=\"background-color:rgba(230, 245, 255, 1.0); text-align:center; vertical-align: middle; padding:20px 0;border:3px; border-style:solid; padding: 0.5em; border-color: rgba(0, 153, 255, 1.0); color: #000000;\">\n",
    "\n",
    "<h1><strong>MIT Quantum Winter School</strong></h1>\n",
    "\n",
    "<h1><strong>Day 2 - Interference</strong></h1>\n",
    "\n",
    "<img src=\"figures/course_logo.png\" width=\"500\"/>\n",
    "\n",
    "</div>"
   ]
  },
  {
   "cell_type": "code",
   "execution_count": null,
   "id": "e96254fa-b5c1-4339-ad9f-428fe86ca0e5",
   "metadata": {},
   "outputs": [],
   "source": [
    "%load_ext autoreload\n",
    "%autoreload 2"
   ]
  },
  {
   "cell_type": "code",
   "execution_count": null,
   "id": "e1448713-9c7b-4936-9ffb-1b176a76ebc6",
   "metadata": {},
   "outputs": [],
   "source": [
    "import math\n",
    "import numpy as np\n",
    "import matplotlib.pyplot as plt\n",
    "import random\n",
    "\n",
    "# Importing standard Qiskit libraries\n",
    "import qiskit\n",
    "import qiskit_aer\n",
    "import pylatexenc\n",
    "from qiskit import *\n",
    "from qiskit_aer import *\n",
    "from qiskit.compiler import transpile, assemble\n",
    "from qiskit.visualization import plot_histogram, plot_bloch_vector\n",
    "from qiskit.quantum_info import Statevector, DensityMatrix, random_statevector\n",
    "from qiskit.quantum_info.operators import Operator, Pauli\n",
    "from qiskit.circuit.library import GroverOperator, MCMT, ZGate\n",
    "\n",
    "# QWS helpers\n",
    "from helpers import convert_to_basis_string, get_all_pauli_strings,interactive_sine_waves, double_slit_experiment\n",
    "\n",
    "# Bokeh interactive plotting\n",
    "from bokeh.plotting import figure, output_notebook, show\n",
    "from bokeh.models import Slider, ColumnDataSource, CustomJS, Range1d, Toggle, Button, SetValue\n",
    "from bokeh.layouts import column, row\n",
    "from bokeh.io import push_notebook\n",
    "# Initialize the notebook output\n",
    "output_notebook()\n",
    "\n",
    "nshots = 10000"
   ]
  },
  {
   "cell_type": "markdown",
   "id": "c5ff30f9-2178-47eb-bcf0-9708f6cd7b6e",
   "metadata": {},
   "source": [
    "# Interference Between Two Sine Waves\n",
    "\n",
    "Two sine waves interfere with each other. For two sine waves with the same amplitude and frequency, the condition for complete constructive interference is for the phase difference between the waves to be a multiple of $2\\pi$, i.e. $2\\pi n$ for $n\\in\\mathbb{Z}$. The condition of complete destructive interference is for the phase difference between the two waves to be $\\pi (n + 1/2)$ for $n\\in\\mathbb{Z}$. For values of phase in between these special points, or if the frequency and/or amplitudes of the waves are different, there will be partial interference.\n",
    "\n",
    "In the interactive plot below, you can play around with the properties of two sine waves and see how their sum can interfere constructively/destructively."
   ]
  },
  {
   "cell_type": "code",
   "execution_count": null,
   "id": "db954bef-3694-4de9-86bc-30d5f18da824",
   "metadata": {},
   "outputs": [],
   "source": [
    "interactive_sine_waves()"
   ]
  },
  {
   "cell_type": "markdown",
   "id": "a8975c0c-c9ab-4b70-bb89-99c28c867a9e",
   "metadata": {},
   "source": [
    "# The Double Slit Experiment\n",
    "\n",
    "Today we learned about the double slit experiment, which displays the wave-particle duality of quantum particles, such as electrons. When an electron passes through a single slit, it simply passes through and ends up on the other side. From one electron alone, we cannot tell what the probability distribution is for where our electron will be found. When we send many electrons through, however, we can see the underlying probability distribution from the build up of the electrons. *This is much like when we need to measure our qubits many times in order to obtain an estimate of the quantum state. Measuring a qubit once gives us little information.* In the case of one slit, the probability distribution will be non zero across a region with the probability peaked in the center and decaying to the sides.\n",
    "\n",
    "Now if we add in a second slit, the electron may pass through either slit... and in fact, it will be in a *superposition* of passing through both slits! This means that our electron will *interfere with itself*, exhibiting wave-like behavior. (Of course, when you measure where the electron hits the screen, it displays particle-like behavior again since you only observe it in one place.) In this double slit case, the probability distribution for where we will find the particle will exhibit regions of constructive and destructive interference. The overall amplitude envelope will be peaked in the center and decay out to the sides, but within that there are regions where you are more or less likely to find the electron. Again, measuring only one electron will not tell us anything about the underlying probability distribution, but if we repeat this many times, the electrons will build up, revealing the underlying probability distribution.\n",
    "\n",
    "Now we add in one more twist... What if you watch the electron and observe which slit the electron went through, the probability distribution changes again! We can observe which slit the electron goes through because it is a particle, and a particle can only be seen in one place at one time. In this case, the probability distribution will look like two of the single slit probability distributions laid on top of each other. In practice, since the slits are so close together and the screen is so far away, the distribution looks the same as just one single slit distribution. By observing which slit the electron went through, you *collapsed the electron's wave function* and the electron proceeds to behave particle-like.\n",
    "\n",
    "<div style=\"background-color:rgba(255, 253, 255, 1.0); text-align:center; vertical-align: middle; padding:20px 0;border:3px; border-style:solid; padding: 0.5em; border-color: rgba(216, 129, 247, 1.0); color: #000000;\">\n",
    "\n",
    "<h4><strong>Probability Distributions for Observing vs. Ignoring</strong></h4>\n",
    "\n",
    "Here we show the probability distribution (pmf) for the double slit experiment when you ignore which slit the electron went through:\n",
    "\n",
    "<img src=\"figures/interference/interfere.png\" width=\"500\"/>\n",
    "\n",
    "Here we show the probability distribution (pmf) for the double slit experiment when you observe which slit the electron went through:\n",
    "\n",
    "<img src=\"figures/interference/gauss.png\" width=\"500\"/>\n",
    "\n",
    "</div>\n",
    "\n",
    "\\\n",
    "In the interactive plot below, we show the double slit experiment for electrons with a wavelength of 10 picometers ($10^{-12}$ m). You can play around with the distance between the two slits, the distance from the slits to the screen, and the number of electrons fired at one time. You can also toggle between observing which slit the electron went through versus ignoring."
   ]
  },
  {
   "cell_type": "code",
   "execution_count": null,
   "id": "7900a279-c4c3-4f10-833c-e2331c628f3f",
   "metadata": {},
   "outputs": [],
   "source": [
    "# Create an instance of the double_slit_bokeh class\n",
    "slit_simulation = double_slit_experiment()"
   ]
  },
  {
   "cell_type": "markdown",
   "id": "f8db58eb-293b-49d0-856b-50fde6a63b22",
   "metadata": {},
   "source": [
    "### Comprehension Question:\n",
    "\n",
    "**A)** If you set the number of electrons really low (around 5), can you tell the difference between the probability distribution from when you ignore vs. observe the electron? \n",
    "\n",
    "**B)** How does the distance between the slits impact the probability distribution?\n",
    "\n",
    "**C)** How does the distance to the screen impact the probability distribution?\n",
    "\n",
    "**D)** What do you think would happen if we had three slits instead of two? Consider the following two cases:\n",
    "\n",
    "1. What kind of probability distribution would you expect if we ignored the electron vs. observed which of the three slits it went through?\n",
    "2. What kind of probability distribution would you expect if we ignored the electron vs. observed whether or not it went through the center slit?"
   ]
  },
  {
   "cell_type": "markdown",
   "id": "703b54d1-fb4a-480c-911c-645c6c2978f5",
   "metadata": {},
   "source": [
    "# Measuring in different bases"
   ]
  },
  {
   "cell_type": "markdown",
   "id": "7a9a82f4-62ad-498f-9eaf-8d1072422c2e",
   "metadata": {},
   "source": [
    "Yesterday and today in class, we learned about different quantum operators and different bases for measurement. Today, we'll start off with a quick review of measurement in these different bases."
   ]
  },
  {
   "cell_type": "markdown",
   "id": "1062329a-7bbf-43d9-a1b7-e7f5f8ab599c",
   "metadata": {},
   "source": [
    "We'll start off by generating a state and plotting it on the Bloch sphere. We'll also show the circuit used to prepare it. By default, `qc = QuantumCircuit(n)` will initialize all qubits to the all-zeros state."
   ]
  },
  {
   "cell_type": "code",
   "execution_count": null,
   "id": "94a1b35a-cf96-4c4f-8ba2-6a87979f17be",
   "metadata": {},
   "outputs": [],
   "source": [
    "qc = QuantumCircuit(1)\n",
    "qc.rx(np.pi/4, 0)\n",
    "display(Statevector(qc).draw('bloch'))\n",
    "display(qc.draw('mpl'))"
   ]
  },
  {
   "cell_type": "markdown",
   "id": "1bc81e6f-bab1-483a-b135-35f9d4c4fa20",
   "metadata": {},
   "source": [
    "## Measuring in the Z basis"
   ]
  },
  {
   "cell_type": "markdown",
   "id": "5d37012e-920a-4b2d-92dc-cc74e3b90b04",
   "metadata": {},
   "source": [
    "Written in braket notation, the state is ..."
   ]
  },
  {
   "cell_type": "code",
   "execution_count": null,
   "id": "5b31895f-a89f-42ca-bd0f-fedd5cf07d3e",
   "metadata": {},
   "outputs": [],
   "source": [
    "qc = QuantumCircuit(1)\n",
    "qc.rx(np.pi/4, 0)\n",
    "display(Statevector(qc).draw('latex'))"
   ]
  },
  {
   "cell_type": "markdown",
   "id": "bdf7dff6-d99e-4503-a694-9ebea4763307",
   "metadata": {},
   "source": [
    "### Comprehension Question:\n",
    "If we prepare and measure this state ten thousand times in the Z basis, what would we expect our measurement histogram to be? (You can give approximate answers.) "
   ]
  },
  {
   "cell_type": "markdown",
   "id": "e1e9a7ad-890d-46ef-afc9-a1d08cd72071",
   "metadata": {},
   "source": [
    "### Comparing to the histogram..."
   ]
  },
  {
   "cell_type": "markdown",
   "id": "e370f0b1-36ca-4c72-b1cc-5cf533591045",
   "metadata": {},
   "source": [
    "The standard Qiskit measurement operation will measure the qubit in the Z basis, projecting it to either pole along the Z axis. We can repeat this experiment many times (`nshots` times) and plot the histogram below. Let's see how this compares to our analytical solution above."
   ]
  },
  {
   "cell_type": "code",
   "execution_count": null,
   "id": "015e9871-2f75-48eb-a080-cf172f371865",
   "metadata": {},
   "outputs": [],
   "source": [
    "qc = QuantumCircuit(1)\n",
    "qc.rx(np.pi/4, 0)\n",
    "qc.measure_all()\n",
    "display(qc.draw('mpl'))\n",
    "\n",
    "backend = Aer.get_backend('qasm_simulator')\n",
    "\n",
    "new_circuit = transpile(qc, backend)\n",
    "job = backend.run(new_circuit, shots = nshots)\n",
    "results = job.result()\n",
    "counts = results.get_counts()\n",
    "\n",
    "display(plot_histogram(counts))"
   ]
  },
  {
   "cell_type": "markdown",
   "id": "10ba22f8-09bc-45f7-9940-9a4e69437c26",
   "metadata": {},
   "source": [
    "The overall experiment is equivalent to the following pseudocode:\n",
    "\n",
    "```python\n",
    "histogram = {0: 0, 1: 0}\n",
    "for i in range(nshots):\n",
    "    qc.prepare(state)\n",
    "    result = qc.measure() # returns 0 or 1\n",
    "    if result == 0:\n",
    "        histogram[0] += 1\n",
    "    else:\n",
    "        histogram[1] += 1\n",
    "plot(histogram)\n",
    "```\n",
    "\n",
    "We are re-initializing and re-running this entire circuit for every shot, and the outcome of each shot may be different. Over many shots, we build up our histogram."
   ]
  },
  {
   "cell_type": "markdown",
   "id": "01174f45-c977-46bd-bc67-d28143ab1e64",
   "metadata": {},
   "source": [
    "Rerun the above cell a few times. Note that each time we rerun the above cell, our histogram also changes by a slight amount. This is because the Qiskit simulator is sampling from a probability distribution to measure each shot, so each experimental run (comprising many shots) will have had a slightly different number of its shots evaluate to $0$ or $1$. As `nshots` tends to $\\infty$, the histogram will approach the mathematically expected value that you calculated above."
   ]
  },
  {
   "cell_type": "markdown",
   "id": "356b7048-4fc1-461d-9c6f-9188c8d2f958",
   "metadata": {},
   "source": [
    "### Comprehension Question:\n",
    "What would the histogram look like if we took repeated measurements without re-running the circuit? (i.e. feed the output of the first measurement into the second measurement, then feed the output of the second measurement into the third measurement, etc.)"
   ]
  },
  {
   "cell_type": "markdown",
   "id": "a4f718ed-fca9-42ac-878f-c4ed3a418e1f",
   "metadata": {},
   "source": [
    "## Measuring in other bases"
   ]
  },
  {
   "cell_type": "markdown",
   "id": "f50e9e02-8288-46bc-8f8c-c6195f319593",
   "metadata": {},
   "source": [
    "We can also reuse the same circuit to prepare the same state but instead measure in the X basis.\n",
    "\n",
    "Qiskit only allows us to measure in the Z basis, so we apply the $H$ gate to map the $|+\\rangle$ and $|-\\rangle$ states to $|0\\rangle$ and $|1\\rangle$, respectively. We then measure using the standard Qiskit measurement operator and interpret our results according to our mapping."
   ]
  },
  {
   "cell_type": "code",
   "execution_count": null,
   "id": "133f0a4b-dfbd-4297-828d-5a626c3d2867",
   "metadata": {},
   "outputs": [],
   "source": [
    "qc = QuantumCircuit(1)\n",
    "qc.rx(np.pi/4, 0)\n",
    "qc.h(0)\n",
    "qc.measure_all()\n",
    "display(qc.draw('mpl'))\n",
    "\n",
    "backend = Aer.get_backend('qasm_simulator')\n",
    "\n",
    "new_circuit = transpile(qc, backend)\n",
    "job = backend.run(new_circuit, shots = nshots)\n",
    "results = job.result()\n",
    "counts = results.get_counts()\n",
    "\n",
    "display(plot_histogram(counts))"
   ]
  },
  {
   "cell_type": "markdown",
   "id": "691face7-3621-410f-825d-86088723ec2f",
   "metadata": {},
   "source": [
    "The measurement outcomes $0$ and $1$ correspond to $|+\\rangle$ and $|-\\rangle$, respectively."
   ]
  },
  {
   "cell_type": "markdown",
   "id": "e8e02965-f840-4fe1-a426-7c5720e470e7",
   "metadata": {},
   "source": [
    "We can also measure in the Y basis, applying $HS^\\dagger$ to map $|+i\\rangle$ and $|-i\\rangle$ to $|0\\rangle$ and $|1\\rangle$, respectively. Note that the operator $HS^\\dagger$ corresponds to first applying $S^\\dagger$ and then $H$ to the state. This is consistent with $S^\\dagger$ being to the left of $H$ in the circuit below."
   ]
  },
  {
   "cell_type": "code",
   "execution_count": null,
   "id": "eb7e5fa4-6b78-4f4d-bf0d-6d9343b8804e",
   "metadata": {},
   "outputs": [],
   "source": [
    "qc = QuantumCircuit(1)\n",
    "qc.rx(np.pi/4, 0)\n",
    "qc.barrier()\n",
    "qc.sdg(0)\n",
    "qc.h(0)\n",
    "qc.measure_all()\n",
    "display(qc.draw('mpl'))\n",
    "\n",
    "backend = Aer.get_backend('qasm_simulator')\n",
    "\n",
    "new_circuit = transpile(qc, backend)\n",
    "job = backend.run(new_circuit, shots = nshots)\n",
    "results = job.result()\n",
    "counts = results.get_counts()\n",
    "\n",
    "display(plot_histogram(counts))"
   ]
  },
  {
   "cell_type": "markdown",
   "id": "9c56f675-ec30-4571-96f5-7cbda3ba8cac",
   "metadata": {},
   "source": [
    "The measurement outcomes $0$ and $1$ correspond to $|+i\\rangle$ and $|-i\\rangle$, respectively."
   ]
  },
  {
   "cell_type": "markdown",
   "id": "24459c88-41e3-4f6d-ab8a-caca24a0e5f8",
   "metadata": {},
   "source": [
    "## Why is it important to be able to measure in different bases?"
   ]
  },
  {
   "cell_type": "markdown",
   "id": "bfb4a7f4-a4d8-4708-8981-6b0648e9acb8",
   "metadata": {},
   "source": [
    "Let's take two quantum states, $|+i\\rangle$ and $|-i\\rangle$. Suppose someone gives you an infinite stream of one of these states, but you don't know which one you have.\n",
    "\n",
    "You would like to know which state you have. Suppose that you are also able to perform measurements and gates on your states. What kinds of gates or measurements will be useful?"
   ]
  },
  {
   "cell_type": "markdown",
   "id": "72574744-eb71-45f0-9873-6747bd1ddc4d",
   "metadata": {},
   "source": [
    "Let's take a look at the distribution for measurement of these two states in the Z basis."
   ]
  },
  {
   "cell_type": "code",
   "execution_count": null,
   "id": "2ac66072-e511-4206-9ef0-11d5e262ab43",
   "metadata": {},
   "outputs": [],
   "source": [
    "qc = QuantumCircuit(1)\n",
    "qc.rx(-np.pi/2, 0)\n",
    "display(Statevector(qc).draw('latex'))\n",
    "qc.measure_all()\n",
    "display(qc.draw('mpl'))\n",
    "\n",
    "backend = Aer.get_backend('qasm_simulator')\n",
    "\n",
    "new_circuit = transpile(qc, backend)\n",
    "job = backend.run(new_circuit, shots = nshots)\n",
    "results = job.result()\n",
    "counts = results.get_counts()\n",
    "\n",
    "display(plot_histogram(counts))"
   ]
  },
  {
   "cell_type": "code",
   "execution_count": null,
   "id": "33fe0c60-3b1d-4b48-b0ec-aeaa06f79253",
   "metadata": {},
   "outputs": [],
   "source": [
    "qc = QuantumCircuit(1)\n",
    "qc.rx(np.pi/2, 0)\n",
    "display(Statevector(qc).draw('latex'))\n",
    "qc.measure_all()\n",
    "display(qc.draw('mpl'))\n",
    "\n",
    "backend = Aer.get_backend('qasm_simulator')\n",
    "\n",
    "new_circuit = transpile(qc, backend)\n",
    "job = backend.run(new_circuit, shots = nshots)\n",
    "results = job.result()\n",
    "counts = results.get_counts()\n",
    "\n",
    "display(plot_histogram(counts))"
   ]
  },
  {
   "cell_type": "markdown",
   "id": "a9b2e233-a457-46d0-ade8-63ba71fe56e9",
   "metadata": {},
   "source": [
    "### Conclusion"
   ]
  },
  {
   "cell_type": "markdown",
   "id": "dc58dac7-d144-46bf-9a3b-aafaa037877b",
   "metadata": {},
   "source": [
    "These distributions are essentially identical, so repeatedly measuring in the Z basis doesn't help us differentiate between the states. However, if we can measure in another basis that distinguishes these states, that might be useful."
   ]
  },
  {
   "cell_type": "markdown",
   "id": "3588b901-de14-48a7-99cd-6a1ae2338588",
   "metadata": {},
   "source": [
    "## Exercises\n"
   ]
  },
  {
   "cell_type": "markdown",
   "id": "c739d4cf-07c1-4358-beb5-966e8eb21801",
   "metadata": {},
   "source": [
    "### Differentiate between $|+i\\rangle$ and $|-i\\rangle$"
   ]
  },
  {
   "cell_type": "markdown",
   "id": "dc309016-930f-4250-bb04-8e1c6f425879",
   "metadata": {},
   "source": [
    "Design a protocol to distinguish between $|+i\\rangle$ and $|-i\\rangle$. What is the minimum number of measurements (shots) you need to do this? How many gates do you need?"
   ]
  },
  {
   "cell_type": "code",
   "execution_count": null,
   "id": "51723d6f-c775-4bf2-ac72-2b6215d35541",
   "metadata": {},
   "outputs": [],
   "source": [
    "# write your protocol\n",
    "def distinguish_plus_minus_i(statevector: Statevector):\n",
    "    # Function to identify the input state\n",
    "    # Input: a Qiskit Statevector encoding one of ['+i', '-i']\n",
    "    # Output: '+i' or '-i'\n",
    "    \n",
    "    # starter code\n",
    "    qc = QuantumCircuit(1)\n",
    "    qc.initialize(statevector)\n",
    "    # quantum circuit\n",
    "    # *FILL IN*\n",
    "    ...\n",
    "    qc.measure_all()\n",
    "    backend = Aer.get_backend('qasm_simulator')\n",
    "    new_circuit = transpile(qc, backend)\n",
    "    job = backend.run(new_circuit, shots = # *FILL IN*)\n",
    "    results = job.result()\n",
    "    counts = results.get_counts()\n",
    "    \n",
    "    # post-processing\n",
    "    # *FILL IN*\n",
    "    ...\n",
    "    return # one of ['+i', '-i']"
   ]
  },
  {
   "cell_type": "code",
   "execution_count": null,
   "id": "61c06e72-6932-461e-9b94-730768fc829b",
   "metadata": {},
   "outputs": [],
   "source": [
    "# test your protocol\n",
    "assert distinguish_plus_minus_i(Statevector.from_label('r')) == '+i', \"State detector did not work\"\n",
    "assert distinguish_plus_minus_i(Statevector.from_label('l')) == '-i', \"State detector did not work\""
   ]
  },
  {
   "cell_type": "markdown",
   "id": "4128f34c-8fd5-419f-add5-88b19f556b70",
   "metadata": {},
   "source": [
    "### Determine the state"
   ]
  },
  {
   "cell_type": "markdown",
   "id": "d399659e-465a-4b35-ae78-8fc8da45d0e7",
   "metadata": {},
   "source": [
    "Design a protocol to distinguish between $|0\\rangle$, $|1\\rangle$, $|+\\rangle$, $|-\\rangle$, $|+i\\rangle$ and $|-i\\rangle$, assuming someone gives you an infinite stream of one such state. What is the minimum number of measurements (shots) you need to do this? How many gates do you need?\n",
    "\n",
    "You may use\n",
    "```python\n",
    "qc = QuantumCircuit(1)\n",
    "qc.initialize(statevector)\n",
    "```\n",
    "as many times as you'd like to initialize your circuit with the input state. You may not investigate other properties of the `statevector` variable."
   ]
  },
  {
   "cell_type": "code",
   "execution_count": null,
   "id": "bc44d323-b249-4de6-b8f0-0a3cee14abbc",
   "metadata": {},
   "outputs": [],
   "source": [
    "# write your protocol\n",
    "def state_detector(statevector: Statevector):\n",
    "    # Function to identify the input state\n",
    "    # Input: a Qiskit Statevector encoding one of ['0', '1', '+', '-', '+i', '-i']\n",
    "    # Output: one of ['0', '1', '+', '-', '+i', '-i']\n",
    "    \n",
    "    # starter code\n",
    "    qc = QuantumCircuit(1)\n",
    "    qc.initialize(statevector)\n",
    "    # quantum circuit\n",
    "    # *FILL IN*\n",
    "    ...\n",
    "    qc.measure_all()\n",
    "    backend = Aer.get_backend('qasm_simulator')\n",
    "    new_circuit = transpile(qc, backend)\n",
    "    job = backend.run(new_circuit, shots = 1000)# *FILL IN*)\n",
    "    results = job.result()\n",
    "    counts = results.get_counts()\n",
    "    \n",
    "    # quantum circuit(s)\n",
    "    # *FILL IN*\n",
    "    ...\n",
    "    \n",
    "    # post-processing\n",
    "    # *FILL IN*\n",
    "    ...\n",
    "    return # one of ['0', '1', '+', '-', '+i', '-i']"
   ]
  },
  {
   "cell_type": "code",
   "execution_count": null,
   "id": "04514e00-96b8-4ecb-966c-85ee00cc05b1",
   "metadata": {},
   "outputs": [],
   "source": [
    "# test your protocol\n",
    "assert state_detector(Statevector.from_label('0')) == '0', \"State detector did not work\"\n",
    "assert state_detector(Statevector.from_label('1')) == '1', \"State detector did not work\"\n",
    "assert state_detector(Statevector.from_label('+')) == '+', \"State detector did not work\"\n",
    "assert state_detector(Statevector.from_label('-')) == '-', \"State detector did not work\"\n",
    "assert state_detector(Statevector.from_label('r')) == '+i', \"State detector did not work\"\n",
    "assert state_detector(Statevector.from_label('l')) == '-i', \"State detector did not work\""
   ]
  },
  {
   "cell_type": "markdown",
   "id": "bf25671e-af8a-4d00-96dd-67fc053f1f6f",
   "metadata": {},
   "source": [
    "### Challenge Problem: Two Qubits"
   ]
  },
  {
   "cell_type": "markdown",
   "id": "d116092c-7a4c-4ec9-b3d2-4fb9efd46f73",
   "metadata": {},
   "source": [
    "Design a protocol to distinguish between $\\frac{|00\\rangle+|11\\rangle}{\\sqrt{2}}$, $\\frac{|00\\rangle-|11\\rangle}{\\sqrt{2}}$, $\\frac{|01\\rangle+|10\\rangle}{\\sqrt{2}}$, and $\\frac{|01\\rangle-|10\\rangle}{\\sqrt{2}}$ assuming someone gives you an infinite stream of one such two-qubit state. What is the minimum number of measurements (shots) you need to do this? How many gates do you need?\n",
    "\n",
    "You may use\n",
    "```python\n",
    "qc = QuantumCircuit(2)\n",
    "qc.initialize(statevector)\n",
    "```\n",
    "as many times as you'd like to initialize your circuit with the input state. You may not investigate other properties of the `statevector` variable.\n",
    "\n",
    "Hint: you may use the $CX$ or $CNOT$ gate."
   ]
  },
  {
   "cell_type": "code",
   "execution_count": null,
   "id": "f3580702-46db-47ee-8313-dc92afb08fd8",
   "metadata": {},
   "outputs": [],
   "source": [
    "# write your protocol\n",
    "def state_detector_bell(statevector):\n",
    "    # Function to identify the input state\n",
    "    # Input: a Qiskit Statevector encoding one of the four states above\n",
    "    # Output: one of [0, 1, 2, 3]\n",
    "    \n",
    "    # starter code\n",
    "    qc = QuantumCircuit(2)\n",
    "    qc.initialize(statevector)\n",
    "    # quantum circuit\n",
    "    # *FILL IN*\n",
    "    ...\n",
    "    qc.measure_all()\n",
    "    backend = Aer.get_backend('qasm_simulator')\n",
    "    new_circuit = transpile(qc, backend)\n",
    "    job = backend.run(new_circuit, shots = 1000)# *FILL IN*)\n",
    "    results = job.result()\n",
    "    counts = results.get_counts()\n",
    "    \n",
    "    # quantum circuit(s)\n",
    "    # *FILL IN*\n",
    "    ...\n",
    "    \n",
    "    # post-processing\n",
    "    # *FILL IN*\n",
    "    ...\n",
    "    return # one of [0, 1, 2, 3]"
   ]
  },
  {
   "cell_type": "code",
   "execution_count": null,
   "id": "06193e07-07d0-4e25-9d3c-13f42e005b43",
   "metadata": {},
   "outputs": [],
   "source": [
    "# test your protocol\n",
    "assert state_detector_bell(Statevector(np.array([1,0,0,+1])/np.sqrt(2)) == 0, \"State detector did not work\"\n",
    "assert state_detector_bell(Statevector(np.array([1,0,0,-1])/np.sqrt(2)) == 1, \"State detector did not work\"\n",
    "assert state_detector_bell(Statevector(np.array([0,1,+1,0])/np.sqrt(2)) == 2, \"State detector did not work\"\n",
    "assert state_detector_bell(Statevector(np.array([0,1,-1,0])/np.sqrt(2)) == 3, \"State detector did not work\"\n"
   ]
  },
  {
   "cell_type": "markdown",
   "id": "fd1c18f7-5225-4080-987e-93d2dce4719d",
   "metadata": {},
   "source": [
    "# Quantum State Tomography"
   ]
  },
  {
   "cell_type": "markdown",
   "id": "90e41785-2f04-457b-83f0-51a65c0325f8",
   "metadata": {},
   "source": [
    "What we have been doing above is a kind of protocol known as quantum state tomography. In general, this protocol allows for the reconstruction of an unknown quantum state, provided we can repeatedly create and measure it.\n",
    "\n",
    "Why would this be useful? Let's say we are running an experiment in which we are preparing a particular useful state. If we want to ensure that our experiment is working correctly, we can repeatedly run the experiment from the same initial conditions. We can perform quantum state tomography on the resulting state, measuring it in different bases to confirm that we've prepared the correct state. (Note that this does not violate the no-cloning theorem, because we are following a deterministic protocol to generate a specific state.)\n",
    "\n",
    "Let's see this in action."
   ]
  },
  {
   "cell_type": "markdown",
   "id": "187f0f50-c6ac-4a60-9c85-a59b68cddffc",
   "metadata": {},
   "source": [
    "In the following cell, we prepare a quantum state. You can uncomment the commented lines to see the intermediate circuits and intermediate states plotted on the Bloch sphere."
   ]
  },
  {
   "cell_type": "code",
   "execution_count": null,
   "id": "baca2879-73f0-48f8-9562-12bd5fe1777b",
   "metadata": {},
   "outputs": [],
   "source": [
    "qc = QuantumCircuit(1)\n",
    "# display(qc.draw('mpl'))\n",
    "# display(Statevector(qc).draw('bloch'))\n",
    "\n",
    "qc.x(0)\n",
    "# display(qc.draw('mpl'))\n",
    "# display(Statevector(qc).draw('bloch'))\n",
    "\n",
    "qc.h(0)\n",
    "# display(qc.draw('mpl'))\n",
    "# display(Statevector(qc).draw('bloch'))\n",
    "\n",
    "qc.ry(45, 0)\n",
    "# display(qc.draw('mpl'))\n",
    "# display(Statevector(qc).draw('bloch'))\n",
    "\n",
    "qc.y(0)\n",
    "# display(qc.draw('mpl'))\n",
    "# display(Statevector(qc).draw('bloch'))\n",
    "\n",
    "qc.rz(45, 0)\n",
    "display(qc.draw('mpl'))\n",
    "display(Statevector(qc).draw('bloch'))"
   ]
  },
  {
   "cell_type": "markdown",
   "id": "e17e9db4-68df-4853-93f2-d95e8485dd88",
   "metadata": {},
   "source": [
    "The Bloch sphere picture gives us some sense of the expectation values of the states. If we were to measure the qubit in the Z basis, we'd get a distribution of $\\{|0\\rangle, |1\\rangle\\}$ proportionate to the projection of the state onto the Z axis. And likewise for the other two axes."
   ]
  },
  {
   "cell_type": "markdown",
   "id": "7321e9d4-0d10-40da-81b0-376641890ea2",
   "metadata": {},
   "source": [
    "## Exercises"
   ]
  },
  {
   "cell_type": "markdown",
   "id": "21f41e05-c172-479b-8a97-030960303d31",
   "metadata": {},
   "source": [
    "### Histograms"
   ]
  },
  {
   "cell_type": "markdown",
   "id": "1ef36a51-94eb-41a0-8900-cf2e1ae1a364",
   "metadata": {},
   "source": [
    "Measure the state generated above in the X, Y, and Z bases and obtain the histograms.\n",
    "\n",
    "Here is the condensed code to generate the circuit:\n",
    "\n",
    "```python\n",
    "qc = QuantumCircuit(1)\n",
    "qc.x(0)\n",
    "qc.h(0)\n",
    "qc.ry(45, 0)\n",
    "qc.y(0)\n",
    "qc.rz(45, 0)\n",
    "```\n",
    "\n",
    "You may invoke this as many times as you need."
   ]
  },
  {
   "cell_type": "code",
   "execution_count": null,
   "id": "38d88f04-326c-434d-a7c0-eee89a506f3a",
   "metadata": {},
   "outputs": [],
   "source": [
    "x_counts, y_counts, z_counts = # *FILL IN*\n",
    "\n",
    "display(plot_histogram(x_counts))\n",
    "display(plot_histogram(y_counts))\n",
    "display(plot_histogram(z_counts))"
   ]
  },
  {
   "cell_type": "markdown",
   "id": "8ed53c00-8950-40b1-856f-a2e06f537f04",
   "metadata": {},
   "source": [
    "### Expectation values"
   ]
  },
  {
   "cell_type": "markdown",
   "id": "648d7483-4805-4500-8b18-badf8f4cdf03",
   "metadata": {},
   "source": [
    "We now compute the expectation values for the three measurements.\n",
    "\n",
    "In this scheme, $|0\\rangle$, $|+\\rangle$, and $|+i\\rangle$ correspond to a value of +1, and $|1\\rangle$, $|-\\rangle$, and $|-i\\rangle$ correspond to a value of -1.\n",
    "\n",
    "For each basis, we multiply the number of counts in each bin by the respective \"expectation\" value for each bin and then take the average over `nshots` to obtain the expectation value."
   ]
  },
  {
   "cell_type": "code",
   "execution_count": null,
   "id": "1ce64707-e503-4d86-bbab-35ef689b2600",
   "metadata": {},
   "outputs": [],
   "source": [
    "# sx = # *FILL IN*\n",
    "# sy = # *FILL IN*\n",
    "# sz = # *FILL IN*\n",
    "# print(sx, sy, sz)"
   ]
  },
  {
   "cell_type": "markdown",
   "id": "c8f6b7d8-4360-4f91-b07a-a6cd9c3455d3",
   "metadata": {},
   "source": [
    "If we did everything right, we can plot the expectations on the Bloch sphere and compare it to the initial state."
   ]
  },
  {
   "cell_type": "code",
   "execution_count": null,
   "id": "0deae360-50fb-400c-b90d-bfad32e351a2",
   "metadata": {},
   "outputs": [],
   "source": [
    "display(plot_bloch_vector([sx,sy,sz]))\n",
    "qc = QuantumCircuit(1)\n",
    "qc.x(0)\n",
    "qc.h(0)\n",
    "qc.ry(45, 0)\n",
    "qc.y(0)\n",
    "qc.rz(45, 0)\n",
    "display(Statevector(qc).draw('bloch'))"
   ]
  },
  {
   "cell_type": "markdown",
   "id": "e7651f40-d23b-4172-8f02-528aa5664683",
   "metadata": {},
   "source": [
    "### Challenge Problem: Reconstructing the State"
   ]
  },
  {
   "cell_type": "markdown",
   "id": "09c2216a-accf-4254-8775-3243a5e9bfd4",
   "metadata": {},
   "source": [
    "We can go one step further and obtain the amplitudes of the state as well."
   ]
  },
  {
   "cell_type": "markdown",
   "id": "33611f12-0ea0-459f-968c-f85deb43720e",
   "metadata": {},
   "source": [
    "Per the lecture notes, if $$S = \\begin{pmatrix} s_x \\\\ s_y \\\\ s_z \\end{pmatrix} = \\begin{pmatrix} \\sin\\theta\\cos\\phi \\\\ \\sin\\theta\\sin\\phi \\\\ \\cos\\theta \\end{pmatrix},$$ where $S$ is the state's vector coordinates on the Bloch sphere and $s_x = \\langle X \\rangle$ is the expectation of measurement in the $X$ basis, then $$|\\psi\\rangle = \\cos\\frac{\\theta}{2}|0\\rangle + e^{i\\phi}\\sin\\frac{\\theta}{2}|1\\rangle.$$\n",
    "\n",
    "Using the measurement data you collected above, can you reconstruct $|\\psi\\rangle$? Recall that $\\arccos$ and $\\arcsin$ are multivalued, so you might have to apply some extra logic to ensure you have the correct values."
   ]
  },
  {
   "cell_type": "code",
   "execution_count": null,
   "id": "0529eab0-e949-43fb-986d-a1783c0d11af",
   "metadata": {},
   "outputs": [],
   "source": [
    "theta = # *FILL IN* f(sx, sy, sz)\n",
    "phi = # *FILL IN* f(sx, sy, sz)\n",
    "\n",
    "# *FILL IN*\n",
    "psi = Statevector([np.cos(theta/2), np.exp(1j*phi)*np.sin(theta/2)])"
   ]
  },
  {
   "cell_type": "code",
   "execution_count": null,
   "id": "ec14356f-087f-4442-a79b-0ebdf527414a",
   "metadata": {},
   "outputs": [],
   "source": [
    "qc = QuantumCircuit(1)\n",
    "qc.x(0)\n",
    "qc.h(0)\n",
    "qc.ry(45, 0)\n",
    "qc.y(0)\n",
    "qc.rz(45, 0)\n",
    "display(Statevector(qc).draw())\n",
    "display(psi.draw())"
   ]
  },
  {
   "cell_type": "markdown",
   "id": "650db723-be7c-4ea3-aa06-24ae400d827f",
   "metadata": {},
   "source": [
    "### Challenge Problem: Putting it All Together"
   ]
  },
  {
   "cell_type": "markdown",
   "id": "a560aaea-3216-4e40-a26b-bff18d204c3c",
   "metadata": {},
   "source": [
    "Below is a code snippet that generates a random pure state $|\\psi\\rangle$, uniformly distributed over the Bloch sphere, and plots it on the Bloch sphere. You can repeatedly rerun the code to generate a new state."
   ]
  },
  {
   "cell_type": "code",
   "execution_count": null,
   "id": "d7d0dc82-a5bf-4986-bbdd-c89cbcd57d49",
   "metadata": {},
   "outputs": [],
   "source": [
    "# statevector = Statevector(qiskit.circuit.library.UGate(np.arccos(1-2*random.random()), 2*np.pi*random.random(), 2*np.pi*random.random()))\n",
    "statevector = random_statevector(2)\n",
    "display(statevector.draw('bloch'))"
   ]
  },
  {
   "cell_type": "markdown",
   "id": "9fe994cc-c42f-4889-b3d6-702a37686563",
   "metadata": {},
   "source": [
    "Now suppose that someone picks a particular random state. We wish to find out which state they chose. They can supply us with an infinite number of qubits prepared in this particular state. However, all we can do is repeatedly measure the state in various bases. How can we determine the state?\n",
    "\n",
    "You may use\n",
    "```python\n",
    "qc = QuantumCircuit(1)\n",
    "qc.initialize(statevector)\n",
    "```\n",
    "as many times as you'd like to initialize your circuit with the input state. You may not investigate other properties of the `statevector` variable.\n",
    "\n",
    "Hint: put together everything you did in the previous few exercises."
   ]
  },
  {
   "cell_type": "code",
   "execution_count": null,
   "id": "c0b1c70a-7f90-4159-9eea-3e31c2bcca31",
   "metadata": {},
   "outputs": [],
   "source": [
    "# write your protocol\n",
    "def random_state_reconstructor(statevector: Statevector):\n",
    "    # Function to reconstruct the random input state\n",
    "    # Input: a Qiskit Statevector\n",
    "    # Output: a Qiskit Statevector\n",
    "    \n",
    "    # starter code\n",
    "    # *FILL IN*\n",
    "    qc = QuantumCircuit(1)\n",
    "    qc.initialize(statevector)\n",
    "    # quantum circuit\n",
    "    # *FILL IN*\n",
    "    ...\n",
    "    qc.measure_all()\n",
    "    backend = Aer.get_backend('qasm_simulator')\n",
    "    new_circuit = transpile(qc, backend)\n",
    "    job = backend.run(new_circuit, shots = 1000)# *FILL IN*)\n",
    "    results = job.result()\n",
    "    counts = results.get_counts()\n",
    "    \n",
    "    # quantum circuit(s)\n",
    "    # *FILL IN*\n",
    "    ...\n",
    "    \n",
    "    # post-processing\n",
    "    theta = # *FILL IN* f(sx, sy, sz)\n",
    "    phi = # *FILL IN* f(sx, sy, sz)\n",
    "    \n",
    "    psi = Statevector([np.cos(theta/2), np.exp(1j*phi)*np.sin(theta/2)])\n",
    "    # *FILL IN*\n",
    "    ...\n",
    "    return psi"
   ]
  },
  {
   "cell_type": "code",
   "execution_count": null,
   "id": "15793ed7-69f9-47a2-bcc8-19b8e6517377",
   "metadata": {},
   "outputs": [],
   "source": [
    "psi = random_state_reconstructor(statevector)"
   ]
  },
  {
   "cell_type": "markdown",
   "id": "bb95785d-30a8-43de-ad47-28b34d51e050",
   "metadata": {},
   "source": [
    "Did we get it right? Let's plot Bloch vectors for the initial and reconstructed states."
   ]
  },
  {
   "cell_type": "code",
   "execution_count": null,
   "id": "9f1f02ad-1d67-4cc0-b53d-5e4410f374e5",
   "metadata": {},
   "outputs": [],
   "source": [
    "display(psi.draw('bloch'))\n",
    "display(statevector.draw('bloch'))"
   ]
  },
  {
   "cell_type": "markdown",
   "id": "a5e47259-7d65-49cb-b84d-bd2c47fe1799",
   "metadata": {},
   "source": [
    "And we can compare the statevector representations, as well:"
   ]
  },
  {
   "cell_type": "code",
   "execution_count": null,
   "id": "76ae026c-fa0e-49bb-9ba8-5364100b1e9f",
   "metadata": {},
   "outputs": [],
   "source": [
    "display(psi.draw('latex'))\n",
    "display(statevector.draw('latex'))"
   ]
  },
  {
   "cell_type": "markdown",
   "id": "ec2f4f65-c787-4d88-83e5-eb6e616ebeca",
   "metadata": {},
   "source": [
    "If we did everything correctly, these should be identical, up to a global phase. This is because we imposed a constraint on our reconstruction algorithm that the amplitude of $|0\\rangle$ be real, whereas this constraint is not present in the `random_statevector` function. Note that we are unable to recover global phase in this sort of tomography"
   ]
  },
  {
   "cell_type": "markdown",
   "id": "192c63d0-d37b-4357-9fd9-bb232a892e94",
   "metadata": {},
   "source": [
    "# State preparation"
   ]
  },
  {
   "cell_type": "markdown",
   "id": "25b7b754-6f49-46db-a6ae-8d5a9b8acaff",
   "metadata": {},
   "source": [
    "## Exercises"
   ]
  },
  {
   "cell_type": "markdown",
   "id": "8b88274c-6cd1-41bb-9ca1-9fdc5ae3685f",
   "metadata": {},
   "source": [
    "### Bell States"
   ]
  },
  {
   "cell_type": "markdown",
   "id": "79c93db2-720b-4047-a57b-aa3e31f3f185",
   "metadata": {},
   "source": [
    "Sometimes, it is useful to prepare certain quantum states. \n",
    "\n",
    "Design circuits to prepare the following states, assuming the initial state is all zeros. Compare the LaTeX output above each circuit diagram to the expression in the problem statement.\n",
    "\n",
    "**1.** $\\frac{|00\\rangle+|11\\rangle}{\\sqrt{2}}$\n",
    "\n",
    "**2.** $\\frac{|00\\rangle-|11\\rangle}{\\sqrt{2}}$\n",
    "\n",
    "**3.** $\\frac{|01\\rangle+|10\\rangle}{\\sqrt{2}}$\n",
    "\n",
    "**4.** $\\frac{|01\\rangle-i|10\\rangle}{\\sqrt{2}}$"
   ]
  },
  {
   "cell_type": "code",
   "execution_count": null,
   "id": "86e80401-529f-49d0-95ba-3dac69442489",
   "metadata": {},
   "outputs": [],
   "source": [
    "# 1\n",
    "\n",
    "qc = QuantumCircuit(2)\n",
    "# *FILL IN*\n",
    "display(Statevector(qc).draw('latex'))\n",
    "display(qc.draw('mpl'))"
   ]
  },
  {
   "cell_type": "code",
   "execution_count": null,
   "id": "2ba1cd27-11b5-424f-b439-d12cb84a6e33",
   "metadata": {
    "scrolled": true
   },
   "outputs": [],
   "source": [
    "# 2\n",
    "\n",
    "qc = QuantumCircuit(2)\n",
    "# *FILL IN*\n",
    "display(Statevector(qc).draw('latex'))\n",
    "display(qc.draw('mpl'))"
   ]
  },
  {
   "cell_type": "code",
   "execution_count": null,
   "id": "8b5d65c3-25b3-4b24-ac7e-fe20c5da3b71",
   "metadata": {},
   "outputs": [],
   "source": [
    "# 3\n",
    "\n",
    "qc = QuantumCircuit(2)\n",
    "# *FILL IN*\n",
    "display(Statevector(qc).draw('latex'))\n",
    "display(qc.draw('mpl'))"
   ]
  },
  {
   "cell_type": "code",
   "execution_count": null,
   "id": "57129b19-2ecd-4ea4-a008-73bb34913ea9",
   "metadata": {},
   "outputs": [],
   "source": [
    "# 4\n",
    "\n",
    "qc = QuantumCircuit(2)\n",
    "# *FILL IN*\n",
    "display(Statevector(qc).draw('latex'))\n",
    "display(qc.draw('mpl'))"
   ]
  },
  {
   "cell_type": "markdown",
   "id": "40b12b71-fcb4-4f16-9e18-b59e773d3a1a",
   "metadata": {},
   "source": [
    "### Challenge Problem: 3-Cat State"
   ]
  },
  {
   "cell_type": "markdown",
   "id": "ae1ed8dc-eafd-40c8-bfb6-82c4811951b3",
   "metadata": {},
   "source": [
    "Prepare the three-qubit cat state $\\frac{|000\\rangle+|111\\rangle}{\\sqrt{2}}$\n"
   ]
  },
  {
   "cell_type": "code",
   "execution_count": null,
   "id": "48005c2b-8676-4909-82a3-9d63219e727b",
   "metadata": {
    "scrolled": true
   },
   "outputs": [],
   "source": [
    "qc = QuantumCircuit(3)\n",
    "# *FILL IN*\n",
    "display(Statevector(qc).draw('latex'))\n",
    "display(qc.draw('mpl'))"
   ]
  },
  {
   "cell_type": "markdown",
   "id": "734f9915-08e9-4d4e-8aa9-bf90dcf2c3d6",
   "metadata": {},
   "source": [
    "### Challenge Problem: N-Cat State"
   ]
  },
  {
   "cell_type": "markdown",
   "id": "a9f3f9d2-6299-4dd2-9a5b-cdf1ade22a1f",
   "metadata": {},
   "source": [
    "Prepare the n-qubit cat state $\\frac{|0....0\\rangle+|1...1\\rangle}{2}$\n"
   ]
  },
  {
   "cell_type": "code",
   "execution_count": null,
   "id": "19ac667f-0936-4e0a-93d7-1ecbf6ed29fe",
   "metadata": {},
   "outputs": [],
   "source": [
    "def cat_state(n):\n",
    "    qc = QuantumCircuit(n)\n",
    "    # *FILL IN*\n",
    "    return qc"
   ]
  },
  {
   "cell_type": "code",
   "execution_count": null,
   "id": "7821cc34-1933-451b-818a-29e4acc2798a",
   "metadata": {},
   "outputs": [],
   "source": [
    "qc = cat_state(10)\n",
    "state = Statevector(qc)\n",
    "display(state.draw('latex'))\n",
    "display(qc.draw('mpl'))"
   ]
  },
  {
   "cell_type": "markdown",
   "id": "cc4423b4-126c-407a-b4f7-b2ea71bc1b1c",
   "metadata": {},
   "source": [
    "### Challenge Problem: Four-Qubit Parity"
   ]
  },
  {
   "cell_type": "markdown",
   "id": "4e2bd452-1c3b-4f3b-ab13-49649e1c39ef",
   "metadata": {},
   "source": [
    "Design a circuit that prepares an equal superposition of all four-qubit states, in which strings with an even Hamming weight (number of ones in the string) have positive amplitude, and all strings of odd Hamming weight have negative amplitude.\n",
    "\n",
    "Example of desired end-state for two qubits: $$\\frac{|00\\rangle-|01\\rangle-|10\\rangle+11\\rangle}{2}$$.\n",
    "\n",
    "Example of desired end-state for three qubits: $$\\frac{|000\\rangle-|001\\rangle-|010\\rangle+|011\\rangle-|100\\rangle+|011\\rangle+|101\\rangle-|111\\rangle}{2\\sqrt{2}}$$.\n",
    "\n",
    "Hint: Starting from the all-zeros string, apply $H$ to every qubit to move to the equal superposition state."
   ]
  },
  {
   "cell_type": "code",
   "execution_count": null,
   "id": "87d68315-8fe9-4c98-8a11-9d592808a231",
   "metadata": {},
   "outputs": [],
   "source": [
    "qc = QuantumCircuit(4)\n",
    "# *FILL IN*\n",
    "state = Statevector(qc)\n",
    "display(state.draw('latex'))\n",
    "display(qc.draw('mpl'))"
   ]
  },
  {
   "cell_type": "markdown",
   "id": "d85356c4-0e0f-4806-902a-cdd0e6afa7cb",
   "metadata": {},
   "source": [
    "### Challenge Problem: N-Qubit Parity"
   ]
  },
  {
   "cell_type": "markdown",
   "id": "48fa6c68-6686-45fb-829c-2f7c5f30ce56",
   "metadata": {},
   "source": [
    "Can you make a state-preparing that works for arbitrarily-sized inputs?"
   ]
  },
  {
   "cell_type": "code",
   "execution_count": null,
   "id": "866d4ad5-777a-4e37-b66a-30bb1cbee3e6",
   "metadata": {},
   "outputs": [],
   "source": [
    "def state_preparer(n):\n",
    "    qc = QuantumCircuit(n)\n",
    "    # *FILL IN*\n",
    "\n",
    "    return qc"
   ]
  },
  {
   "cell_type": "code",
   "execution_count": null,
   "id": "8034e540-c3b9-48b1-8ac8-079ac51b37eb",
   "metadata": {},
   "outputs": [],
   "source": [
    "qc = state_preparer(10)\n",
    "state = Statevector(qc)\n",
    "display(state.draw('latex'))\n",
    "display(qc.draw('mpl'))"
   ]
  },
  {
   "cell_type": "markdown",
   "id": "1765ba9c-fea6-45cb-8d97-b599d463d757",
   "metadata": {},
   "source": [
    "### Challenge Problem: Only Two of Three Qubits"
   ]
  },
  {
   "cell_type": "markdown",
   "id": "89a96762-95c6-4e4b-8625-a2ffc70d6110",
   "metadata": {},
   "source": [
    "Example of desired end-state for three qubits: $$\\frac{|000\\rangle+|001\\rangle+|010\\rangle-|011\\rangle+|100\\rangle-|011\\rangle-|101\\rangle+|111\\rangle}{2\\sqrt{2}}$$.\n",
    "\n",
    "Hint: you can use the $CZ$ and $CCZ$ gates.\n",
    "\n",
    "$$CZ = \\begin{pmatrix} 1 & 0 & 0 & 0 \\\\ 0 & 1 & 0 & 0 \\\\ 0 & 0 & 1 & 0 \\\\ 0 & 0 & 0 & -1 \\end{pmatrix}$$\n",
    "\n",
    "$$CCZ = \\begin{pmatrix} 1 & 0 & 0 & 0 & 0 & 0 & 0 & 0 \\\\ 0 & 1 & 0 & 0 & 0 & 0 & 0 & 0 \\\\ 0 & 0 & 1 & 0 & 0 & 0 & 0 & 0 \\\\ 0 & 0 & 0 & 1 & 0 & 0 & 0 & 0 \\\\ 0 & 0 & 0 & 0 & 1 & 0 & 0 & 0 \\\\ 0 & 0 & 0 & 0 & 0 & 1 & 0 & 0 \\\\ 0 & 0 & 0 & 0 & 0 & 0 & 1 & 0 \\\\ 0 & 0 & 0 & 0 & 0 & 0 & 0 & -1 \\end{pmatrix}$$"
   ]
  },
  {
   "cell_type": "code",
   "execution_count": null,
   "id": "ae10a770-e532-451b-a427-7420661936d7",
   "metadata": {},
   "outputs": [],
   "source": [
    "qc = QuantumCircuit(3)\n",
    "# *FILL IN*\n",
    "state = Statevector(qc)\n",
    "display(state.draw('latex'))\n",
    "display(qc.draw('mpl'))"
   ]
  },
  {
   "cell_type": "markdown",
   "id": "b6f67eed-36e7-4681-b92e-f818e6e534da",
   "metadata": {},
   "source": [
    "### Challenge Problem: More Complicated Oracle"
   ]
  },
  {
   "cell_type": "markdown",
   "id": "f199e8e6-35f1-4274-be2b-128feecca42c",
   "metadata": {},
   "source": [
    "Can you design a quantum circuit that takes a four-qubit input state $|\\psi\\rangle$ and returns $|1\\rangle$ if the state has any adjacent qubits set to $|1\\rangle$, and returns $|0\\rangle$ otherwise. Use an ancilla qubit to store the answer.\n",
    "\n",
    "Note that $|\\psi\\rangle$ may be a superposition, so the ancilla qubit that you return will be entangled with the initial state. Our desired result is a circuit $U$ such that if $$|\\psi\\rangle = \\sum_{i=0}^{2^n} \\alpha_i |i\\rangle,$$ then $$U\\left(|\\psi\\rangle|0\\rangle_{ancilla}\\right) = \\sum_{i=0}^{2^n}\\alpha_i \\cdot U\\left(|i\\rangle|0\\rangle_{ancilla}\\right) = \\sum_{i=0}^{2^n}\\alpha_i|i\\rangle|f(|i\\rangle)\\rangle_{ancilla} = |\\psi\\rangle|f(|\\psi\\rangle)\\rangle_{ancilla},$$\n",
    "\n",
    "where $f(|i\\rangle) = 1$ if $|i\\rangle$ has consecutive ones anywhere and $|0\\rangle$ otherwise."
   ]
  },
  {
   "cell_type": "code",
   "execution_count": null,
   "id": "f7fbdf46-d903-4021-84ab-3484b98f59d6",
   "metadata": {},
   "outputs": [],
   "source": [
    "def oracle(n):\n",
    "    qr = qiskit.circuit.QuantumRegister(n, 'input')\n",
    "    ancilla = QuantumRegister(1, 'ancilla')\n",
    "    qc = QuantumCircuit(qr, ancilla)\n",
    "    # *FILL IN*\n",
    "\n",
    "    return qc"
   ]
  },
  {
   "cell_type": "code",
   "execution_count": null,
   "id": "8bb60539-d50c-4abf-82cb-b6a71e958219",
   "metadata": {},
   "outputs": [],
   "source": [
    "qc = oracle(3)\n",
    "state = Statevector(qc)\n",
    "display(state.draw('latex'))\n",
    "display(qc.draw('mpl'))"
   ]
  },
  {
   "cell_type": "markdown",
   "id": "dc410e71-de49-42af-b287-ae22b9f8a1ec",
   "metadata": {},
   "source": [
    "# Density Matrices"
   ]
  },
  {
   "cell_type": "markdown",
   "id": "01af175e-59eb-4b5c-9772-9317fe4e602e",
   "metadata": {},
   "source": [
    "As we learned in class, another way to represent quantum states besides braket notation is with density matrices.\n",
    "\n",
    "$$\\rho = |\\psi\\rangle\\langle\\psi|$$"
   ]
  },
  {
   "cell_type": "markdown",
   "id": "e4a011c6-47c5-488f-934a-50120c9d9449",
   "metadata": {},
   "source": [
    "## Checkpoint\n",
    "\n"
   ]
  },
  {
   "cell_type": "markdown",
   "id": "60cf0d1d-644d-4c5e-9ee2-d4d4869b9f37",
   "metadata": {},
   "source": [
    "Compute the density matrix for the following one-qubit states:\n",
    "\n",
    "$$|0\\rangle, |1\\rangle, |+\\rangle, |-\\rangle, |+i\\rangle, |-\\rangle$$\n",
    "\n",
    "Optional: Compute the density matrix for the following two-qubit states:\n",
    "\n",
    "$$\\frac{|00\\rangle+|11\\rangle}{\\sqrt{2}}, \\frac{|01\\rangle+i|11\\rangle}{\\sqrt{2}}, \\frac{|++\\rangle+|--\\rangle}{\\sqrt{2}}$$\n",
    "\n",
    "Hint: write them as amplitude vectors first."
   ]
  },
  {
   "cell_type": "markdown",
   "id": "d7c874c1-cf9d-4551-8265-3c40aad7d965",
   "metadata": {},
   "source": [
    "## Continuing..."
   ]
  },
  {
   "cell_type": "markdown",
   "id": "f1d07614-f83a-4001-a9ab-8ab020d976e1",
   "metadata": {},
   "source": [
    "Qiskit gives us a convenient way to visualize density matrices through a variety of commands. For example, let us plot the density matrix for the $|+\\rangle$ state ..."
   ]
  },
  {
   "cell_type": "code",
   "execution_count": null,
   "id": "c3947031-709f-4bbd-a877-223f5f0fd113",
   "metadata": {},
   "outputs": [],
   "source": [
    "display(Statevector.from_label(\"+\").draw('latex'))\n",
    "display(Statevector.from_label(\"+\").draw('city'))"
   ]
  },
  {
   "cell_type": "markdown",
   "id": "309fd7df-7ae0-4090-b9f3-3bad4339137b",
   "metadata": {},
   "source": [
    "... and for the $|-i\\rangle$ state."
   ]
  },
  {
   "cell_type": "code",
   "execution_count": null,
   "id": "9ffb58dc-eebd-4806-b477-e86d14d0b6c0",
   "metadata": {},
   "outputs": [],
   "source": [
    "display(Statevector.from_label(\"l\").draw('latex'))\n",
    "display(Statevector.from_label(\"l\").draw('city'))"
   ]
  },
  {
   "cell_type": "markdown",
   "id": "03d93821-224a-4e38-9572-1fc68f679812",
   "metadata": {},
   "source": [
    "As we see above, density matrix elements can take complex values."
   ]
  },
  {
   "cell_type": "markdown",
   "id": "be66c130-fec9-4f97-b485-fcbdb75339d5",
   "metadata": {},
   "source": [
    "For one qubit, the density matrix can be represented as a sum of the Pauli matrices, weighted by the expectation value for each Pauli matrix: $$\\rho = \\frac{\\langle I\\rangle I+\\langle X\\rangle X+\\langle Y\\rangle Y+\\langle Z\\rangle Z}{2}.$$\n",
    "\n",
    "Note that expectation values for Pauli matrices are equivalent to expectation values for measurements in the corresponding basis, according to the scheme that we defined above of assigning a value of (+1) or (-1) to a measurement. Also, $\\langle I \\rangle = 1$.\n",
    "\n",
    "We note that this formula for the density matrix contains exactly as much information as the Bloch sphere reconstruction from above. This suggests that reconstructing the density matrix for a state will allow us to learn a sufficient amount of information about the state. Additionally, for systems of more than one qubit, it will be more convenient to stick to density matrices, as there is no convenient Bloch sphere picture that can represent a multiqubit system.\n",
    "\n",
    "For two qubits, $$\\rho = \\frac{\\langle II\\rangle II+\\langle IX\\rangle IX+\\langle IY\\rangle IY+\\langle IZ\\rangle IZ+\\langle XI\\rangle XI+\\langle XX\\rangle XX+\\langle XY\\rangle XY+\\langle XZ\\rangle XZ+\\langle YI\\rangle YI+\\langle YX\\rangle YX+\\langle YY\\rangle YY+\\langle YZ\\rangle YZ+\\langle ZI\\rangle ZI+\\langle ZX\\rangle ZX+\\langle ZY\\rangle ZY+\\langle ZZ\\rangle ZZ}{4},$$\n",
    "\n",
    "where $\\langle XY \\rangle$ represents the expectation value of jointly measuring the first qubit in the X basis and the zeroth qubit in the Y basis.\n",
    "\n",
    "In general, the formula for the density matrix of an n-qubit system is \n",
    "\n",
    "$$\\rho = \\frac{\\sum_{P_i\\in\\{I,X,Y,Z\\}^{n}}\\langle P_i\\rangle P_i}{2^n}.$$\n",
    "\n",
    "In words, the density matrix is proportional to the sum of all the Pauli strings (products of single-qubit Pauli operators), weighted by the expectation value for each Pauli matrix."
   ]
  },
  {
   "cell_type": "markdown",
   "id": "61d6a593-4750-4929-96ad-95a4466a5fd9",
   "metadata": {},
   "source": [
    "Let's generate the four cardinal states again and randomly permute them."
   ]
  },
  {
   "cell_type": "code",
   "execution_count": null,
   "id": "ee3a501a-f68f-437b-99d1-ccb84b83f21a",
   "metadata": {},
   "outputs": [],
   "source": [
    "state1, state2, state3, state4 = random.sample([Statevector.from_label('+'),\n",
    "                                                Statevector.from_label('-'),\n",
    "                                                Statevector.from_label('r'),\n",
    "                                                Statevector.from_label('l')], 4) # randomly permuting the four options"
   ]
  },
  {
   "cell_type": "markdown",
   "id": "7fb2ec15-c92b-4b19-8d95-5d09848579f3",
   "metadata": {},
   "source": [
    "Measuring only in the Z basis is not very useful, as we discussed above. The distributions are identical."
   ]
  },
  {
   "cell_type": "code",
   "execution_count": null,
   "id": "23431224-9978-47c0-98c9-29a1ddc54982",
   "metadata": {},
   "outputs": [],
   "source": [
    "display(plot_histogram(state1.sample_counts(nshots)))\n",
    "display(plot_histogram(state2.sample_counts(nshots)))\n",
    "display(plot_histogram(state3.sample_counts(nshots)))\n",
    "display(plot_histogram(state4.sample_counts(nshots)))"
   ]
  },
  {
   "cell_type": "markdown",
   "id": "c79f3962-a941-4633-801b-522ee29f5324",
   "metadata": {},
   "source": [
    "However, their density matrices look different (note the different signs). If we could reconstruct their density matrices, that might be useful for differentiating between the states."
   ]
  },
  {
   "cell_type": "code",
   "execution_count": null,
   "id": "49f696f3-7641-4793-a78b-b1ca917be088",
   "metadata": {
    "scrolled": true
   },
   "outputs": [],
   "source": [
    "display(state1.draw('city'))\n",
    "display(state2.draw('city'))\n",
    "display(state3.draw('city'))\n",
    "display(state4.draw('city'))"
   ]
  },
  {
   "cell_type": "markdown",
   "id": "db243270-3811-45f5-b98e-1cab496d158d",
   "metadata": {},
   "source": [
    "## Checkpoint"
   ]
  },
  {
   "cell_type": "markdown",
   "id": "2cec150f-6e07-4f8c-a61f-a30b1d3dc7da",
   "metadata": {},
   "source": [
    "Can you match the above four density matrices to the correct states ($|+\\rangle, |-\\rangle, |+i\\rangle, |-i\\rangle$)?"
   ]
  },
  {
   "cell_type": "markdown",
   "id": "db432cd5-eeb3-4749-ae51-80c0d954459a",
   "metadata": {},
   "source": [
    "## Final Notes on Density Matrices"
   ]
  },
  {
   "cell_type": "markdown",
   "id": "373c0908-3f24-430f-a2b7-eb55bb34e02b",
   "metadata": {},
   "source": [
    "What do all the parts of the density matrix represent?\n",
    "\n",
    "The diagonal entries represent the probabilities of a measurement ending up in the respective computational state. Consequently, the trace of the density matrix, or the sum of its diagonal entries, will always be $1$, since total probability of the system being measured in some state is always 1.\n",
    "\n",
    "The off-diagonal entries are known as \"coherences\" and represent the amount of \"quantumness\" in the system. We can exactly quantify the \"quantumness\" through a metric known as the purity, which is computed by taking the trace of the density matrix squared:\n",
    "\n",
    "$$purity = Tr(\\rho^2)$$\n",
    "\n",
    "Use `density_matrix.purity()` to compute the purity of a density matrix."
   ]
  },
  {
   "cell_type": "markdown",
   "id": "a9e83656-57c8-4226-8c9b-4bddb0b80f6f",
   "metadata": {},
   "source": [
    "The density matrix representation is useful because it also allows us to represent all kinds of states, including pure (quantum) states, fully classical states, and everything in between.\n",
    "\n",
    "If we prepare the $|+\\rangle$ state, a pure state, its density matrix is fully quantum.\n",
    "\n",
    "**What is the purity of this state?**\n",
    "\n",
    "On the other hand, if we take the $|+\\rangle$ state and now measure it in the Z basis but don't look at the result, there is a 50% chance that it went to each of the $|0\\rangle$ and $|1\\rangle$ states. The state is no longer in a superposition (we collapsed the superposition when we measured), but it is in a probabilistic mixture of the $0$ and $1$ states. We can describe the new value of the state as $\\rho = 0.5|0\\rangle\\langle 0| + 0.5|1\\rangle\\langle 1|$. This state is often referred to as the maximally mixed state.\n",
    "\n",
    "**What is the purity of this state?**\n",
    "\n",
    "Physical quantum systems are susceptible to error channels that induce loss. The effect is that the system \"decoheres\" over time. If we were to track the time evolution of the density matrix, we would see the off-diagonal terms shrinking. The purity would be somewhere between the two answers you gave above, trending from the first answer to the second answer as the loss terms entirely dominate and fully decohere the system.\n",
    "\n",
    "Come talk to the lab staff if you want to learn more about errors!"
   ]
  },
  {
   "cell_type": "markdown",
   "id": "1c927806-2506-45a2-b529-8b14f146f552",
   "metadata": {},
   "source": [
    "## Exercises"
   ]
  },
  {
   "cell_type": "markdown",
   "id": "39e9e671-ebb1-4300-a5ab-5e4cf09bec35",
   "metadata": {},
   "source": [
    "Plot the density matrix for the maximally mixed state. Notice how the off-diagonal entries are zero! This means it is entirely a classical state, equivalent to a fair coin which has two equiprobable classical outcomes."
   ]
  },
  {
   "cell_type": "code",
   "execution_count": null,
   "id": "57ec678c-b964-4e1b-ba60-3bb438a2fc43",
   "metadata": {},
   "outputs": [],
   "source": [
    "# plot the quantum\n",
    "maximally_mixed_state = # *FILL IN*\n",
    "display(maximally_mixed_state.draw('city'))"
   ]
  },
  {
   "cell_type": "markdown",
   "id": "8cb01874-2755-43c4-b12c-44ab80449437",
   "metadata": {},
   "source": [
    "Measure the maximally mixed state in the $X$ basis and compare the result to measuring the $|+\\rangle$ state in the X basis. Plot the histograms below.\n",
    "\n",
    "Hint: you can take `maximally_mixed_state` that you created above and evolve it with `dm = maximally_mixed_state.evolve(qiskit.circuit.library.HGate())` to measure in another basis. Use `dm.sample_counts()` to obtain the counts."
   ]
  },
  {
   "cell_type": "code",
   "execution_count": null,
   "id": "3bf5ab4e-f7f9-48fa-bf14-dd5921f55982",
   "metadata": {},
   "outputs": [],
   "source": [
    "# plot the \n",
    "maximally_mixed_state = # *FILL IN*\n",
    "counts = # *FILL IN*\n",
    "display(plot_histogram(counts))"
   ]
  },
  {
   "cell_type": "markdown",
   "id": "5e7c60ed-48ea-4244-b694-b3a3906afa6b",
   "metadata": {},
   "source": [
    "### Challenge Problem: Quantum State Tomography with Larger States\n"
   ]
  },
  {
   "cell_type": "markdown",
   "id": "7fd7303f-d87f-43ea-915e-3acfd7bc79e5",
   "metadata": {},
   "source": [
    "Quantum state tomography on larger states entails reconstructing the density matrix for the larger system and follows roughly the same process as above, albeit with far more measurements. For the two-qubit case, we already need to compute sixteen expectation values. Luckily, Qiskit gives us an easy shortcut to compute expectation values for long Pauli strings."
   ]
  },
  {
   "cell_type": "code",
   "execution_count": null,
   "id": "b5d314ee-2978-440f-8b8d-94f7fa50f397",
   "metadata": {},
   "outputs": [],
   "source": [
    "n = 2 # number of qubits\n",
    "statevector = random_statevector(2**n)\n",
    "expectation = statevector.expectation_value(Pauli('IX'))\n",
    "print(statevector)\n",
    "print(expectation)"
   ]
  },
  {
   "cell_type": "markdown",
   "id": "71cf5861-6f89-46e5-b967-90add7496d3e",
   "metadata": {},
   "source": [
    "Design a protocol to reconstruct the density matrix for a n-qubit state. You may use\n",
    "\n",
    "```python\n",
    "qc = QuantumCircuit(n)\n",
    "qc.initialize(statevector)\n",
    "```\n",
    "\n",
    "as many times as you'd like to initialize your circuit with the input state. You may not investigate other properties of the `statevector` variable.\n",
    "\n",
    "\n",
    "Hints:\n",
    "* We made a function that generates all Pauli strings of length `n` (measurements on n qubits): `get_all_pauli_strings(n)`.\n",
    "* You should also use the `Pauli(string).to_matrix()` function.\n",
    "* Recall that $$\\rho = \\frac{\\sum_{P_i\\in\\{I,X,Y,Z\\}^{n}}\\langle P_i\\rangle P_i}{2^n}.$$"
   ]
  },
  {
   "cell_type": "code",
   "execution_count": null,
   "id": "6b92d566-07fd-46ca-881d-4f8654963c52",
   "metadata": {},
   "outputs": [],
   "source": [
    "# write your protocol\n",
    "def reconstruct_dm(statevector: Statevector, n):\n",
    "    # Function to reconstruct the density matrix of an input state\n",
    "    # Input: statevector: a Qiskit Statevector, n: the number of qubits\n",
    "    # Output: a (2**n by 2**n) Qiskit DensityMatrix\n",
    "    \n",
    "    # starter code\n",
    "    result = np.zeros((2**n, 2**n))\n",
    "    # *FILL IN*\n",
    "    qc = QuantumCircuit(n)\n",
    "    qc.initialize(statevector)\n",
    "    # quantum circuit\n",
    "    # *FILL IN*\n",
    "    ...\n",
    "    qc.measure_all()\n",
    "    backend = Aer.get_backend('qasm_simulator')\n",
    "    new_circuit = transpile(qc, backend)\n",
    "    job = backend.run(new_circuit, shots = 1000)# *FILL IN*)\n",
    "    results = job.result()\n",
    "    counts = results.get_counts()\n",
    "    \n",
    "    # quantum circuit(s)\n",
    "    # *FILL IN*\n",
    "    ...\n",
    "    \n",
    "    # post-processing\n",
    "    # *FILL IN*\n",
    "    ...\n",
    "    return DensityMatrix(result)"
   ]
  },
  {
   "cell_type": "code",
   "execution_count": null,
   "id": "825c13c5-c99d-4363-a795-e08d5e8415cc",
   "metadata": {},
   "outputs": [],
   "source": [
    "n = 4\n",
    "statevector = random_statevector(2**n)\n",
    "density_matrix = reconstruct_dm(statevector, n)\n",
    "print(\"purity of reconstructed density matrix is\", density_matrix.purity())\n",
    "display(statevector.draw('city'))\n",
    "display(density_matrix.draw('city'))"
   ]
  },
  {
   "cell_type": "markdown",
   "id": "780aac34-75a1-48cd-9c6d-30e376865a32",
   "metadata": {
    "scrolled": true
   },
   "source": [
    "If everything went well, these should be the same."
   ]
  },
  {
   "cell_type": "markdown",
   "id": "cd7c9d2d-1ec3-4f22-ab72-784c531257bd",
   "metadata": {},
   "source": [
    "### Challenge Problem: Recovering a Pure State from a Density Matrix"
   ]
  },
  {
   "cell_type": "markdown",
   "id": "e363eae6-97fc-449e-9764-d299a2f4310b",
   "metadata": {},
   "source": [
    "Let $\\rho = |\\psi\\rangle\\langle \\psi|$ but we only have $\\rho$ or some approximate reconstruction of $\\rho$. How do we find $|\\psi\\rangle$?\n",
    "\n",
    "Hint: use the spectral decomposition and diagonalize the matrix into its eigenbasis. What do you notice about the relative magnitudes of the eigenvalues?"
   ]
  },
  {
   "cell_type": "code",
   "execution_count": null,
   "id": "3f1bfcc5-0399-406f-8487-c9cd1ce8a4ec",
   "metadata": {},
   "outputs": [],
   "source": [
    "def recover_state(rho, n):\n",
    "    # Function to recover the pure state from a density matrix\n",
    "    # Input: rho: a Qiskit DensityMatrix, n: the number of qubits\n",
    "    # Output: a (2**n) unit vector\n",
    "\n",
    "    result = np.zeros(2**n), dtype=np.complex128)\n",
    "    # *FILL IN*\n",
    "    ...\n",
    "    \n",
    "    return result"
   ]
  },
  {
   "cell_type": "code",
   "execution_count": null,
   "id": "a2f218a8-3ad9-443c-8c50-447d33bde388",
   "metadata": {},
   "outputs": [],
   "source": [
    "n = 4\n",
    "\n",
    "statevector = random_statevector(2**n)*0.95\n",
    "phi = recover_state(DensityMatrix(statevector), n)\n",
    "\n",
    "print(statevector)\n",
    "print(phi)\n",
    "\n",
    "print(np.abs(statevector))\n",
    "print(np.abs(phi))\n",
    "print(np.abs(statevector)@np.abs(phi))"
   ]
  },
  {
   "cell_type": "markdown",
   "id": "5c2403ba-edaf-4c66-983f-840e0f31ed12",
   "metadata": {},
   "source": [
    "### Challenge Problem: Quantum Process Tomography"
   ]
  },
  {
   "cell_type": "markdown",
   "id": "0a9cea9d-1369-42ba-a68f-2490a98781f8",
   "metadata": {},
   "source": [
    "Suppose we have an unknown quantum circuit whose behavior we want to characterize. The circuit's behavior can be described by a unitary matrix $U$ which we hope to find out.\n",
    "\n",
    "We can run a similar procedure to quantum state tomography known as quantum process tomography. We will run the quantum circuit with various known quantum states as the input and perform quantum state tomography on each resulting output. Once we know how the quantum circuit operates on this set of states, we know how the quantum circuit will operate on any other pure state."
   ]
  },
  {
   "cell_type": "markdown",
   "id": "9588bdbd-bad5-4f69-b1b5-f76c271bd0ab",
   "metadata": {},
   "source": [
    "Design a protocol to reconstruct the unitary matrix for a one-qubit unitary operator. You may create as many quantum circuits as you'd like. You may use `statevector.evolve(u)` but you may not investigate other properties of the `u` variable. Reuse your quantum state tomography and pure state recovery protocols from above. How many times do you need to run quantum state tomography?\n",
    "\n",
    "Hints:\n",
    "* To obtain the computational basis vectors, use `statevector = Statevector.from_int(i, 2**n)`.\n",
    "* You can compute the result of the circuit (as a density matrix) by invoking `output_dm = DensityMatrix(statevector.evolve(u))`. Do not directly access `statevector.evolve(u)` as a statevector.\n",
    "* To find $|u_i\\rangle$ from the reconstructed density matrix $\\rho_i \\approx |u_i\\rangle\\langle u_i|$ requires some work, as in the previous challenge problem. Due to the imprecision of this reconstruction process, you will have to find eigenstates $|u_{ik}\\rangle$ of $\\rho_i$ such that $\\rho_i = \\sum_k p_k |u_{ik}\\rangle\\langle u_{ik}|$ where $\\sum_k p_k = 1$. If your density matrix reconstruction is well-behaved, one of the $p_k$ will be much larger than the others and the corresponding $|u_{ik}\\rangle$ is a good guess for $|u_{i}\\rangle$, up to a phase factor.\n",
    "* Keep an eye out for phase! When you reconstruct $U$ from the $|u_{i}\\rangle$, some of the columns might need an extra phase factor in relation to one another. Just sampling the computational basis is insufficient. You can assume that $U_{0,0} \\in \\mathbb{R}$."
   ]
  },
  {
   "cell_type": "code",
   "execution_count": null,
   "id": "e8d7d4ec-1cae-4f03-8e43-24d8163f16ca",
   "metadata": {},
   "outputs": [],
   "source": [
    "def reconstruct_operator(u, n):\n",
    "    # Function to reconstruct the matrix of a unitary operator\n",
    "    # Input: u: a Qiskit Operator with u[0,0] real, n: the number of qubits\n",
    "    # Output: a (2**n by 2**n) unitary matrix\n",
    "\n",
    "    result = np.zeros((2**n, 2**n), dtype=np.complex128)\n",
    "    # *FILL IN*\n",
    "    ...\n",
    "    \n",
    "    return result"
   ]
  },
  {
   "cell_type": "code",
   "execution_count": null,
   "id": "82b72063-7b89-438c-a2cc-dbdeb2bc161d",
   "metadata": {},
   "outputs": [],
   "source": [
    "n = 1\n",
    "u_global_phase = qiskit.quantum_info.random_unitary(2**n)\n",
    "u = u_global_phase/np.exp(1j*np.angle(u_global_phase.to_matrix()[0,0]))\n",
    "operator = reconstruct_operator(u, n)\n",
    "print(np.allclose(u.to_matrix(), operator))\n",
    "print(u.to_matrix())\n",
    "print(operator)\n",
    "print()\n",
    "for i in range(2**n):\n",
    "    print(np.abs(u.to_matrix()[:,i]))\n",
    "    print(np.abs(operator[:,i]))"
   ]
  },
  {
   "cell_type": "markdown",
   "id": "59bb3ddb-4131-4a81-b767-a071d1d09b12",
   "metadata": {},
   "source": [
    "Can you use your algorithm on a larger system? How many times do you need to run quantum state tomography?"
   ]
  },
  {
   "cell_type": "code",
   "execution_count": null,
   "id": "ebc9dae4-43fa-4909-b02f-195227f23390",
   "metadata": {},
   "outputs": [],
   "source": [
    "n = 3\n",
    "u_global_phase = qiskit.quantum_info.random_unitary(2**n)\n",
    "u = u_global_phase/np.exp(1j*np.angle(u_global_phase.to_matrix()[0,0]))\n",
    "operator = reconstruct_operator(u, n)\n",
    "print(np.allclose(u.to_matrix(), operator))\n",
    "print(u.to_matrix())\n",
    "print(operator)\n",
    "print()\n",
    "for i in range(2**n):\n",
    "    print(np.abs(u.to_matrix()[:,i]))\n",
    "    print(np.abs(operator[:,i]))"
   ]
  }
 ],
 "metadata": {
  "kernelspec": {
   "display_name": "Python 3 (ipykernel)",
   "language": "python",
   "name": "python3"
  },
  "language_info": {
   "codemirror_mode": {
    "name": "ipython",
    "version": 3
   },
   "file_extension": ".py",
   "mimetype": "text/x-python",
   "name": "python",
   "nbconvert_exporter": "python",
   "pygments_lexer": "ipython3",
   "version": "3.13.1"
  }
 },
 "nbformat": 4,
 "nbformat_minor": 5
}
