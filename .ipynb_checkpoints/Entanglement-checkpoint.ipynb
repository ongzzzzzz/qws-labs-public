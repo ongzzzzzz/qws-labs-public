{
 "cells": [
  {
   "cell_type": "markdown",
   "id": "5e2586c4-74f4-4e93-b6a6-76f0d2d4293f",
   "metadata": {},
   "source": [
    "<div style=\"background-color:rgba(230, 245, 255, 1.0); text-align:center; vertical-align: middle; padding:20px 0;border:3px; border-style:solid; padding: 0.5em; border-color: rgba(0, 153, 255, 1.0); color: #000000;\">\n",
    "\n",
    "<h1><strong>MIT Quantum Winter School</strong></h1>\n",
    "\n",
    "<h1><strong>Day 3 - Entanglement</strong></h1>\n",
    "\n",
    "<img src=\"figures/course_logo.png\" width=\"500\"/>\n",
    "\n",
    "</div>"
   ]
  },
  {
   "cell_type": "code",
   "execution_count": null,
   "id": "e96254fa-b5c1-4339-ad9f-428fe86ca0e5",
   "metadata": {},
   "outputs": [],
   "source": [
    "%load_ext autoreload\n",
    "%autoreload 2"
   ]
  },
  {
   "cell_type": "code",
   "execution_count": null,
   "id": "e1448713-9c7b-4936-9ffb-1b176a76ebc6",
   "metadata": {},
   "outputs": [],
   "source": [
    "import math\n",
    "import numpy as np\n",
    "import matplotlib.pyplot as plt\n",
    "import random\n",
    "\n",
    "# Importing standard Qiskit libraries\n",
    "import qiskit\n",
    "import qiskit_aer\n",
    "import pylatexenc\n",
    "from qiskit import *\n",
    "from qiskit_aer import *\n",
    "from qiskit.compiler import transpile, assemble\n",
    "from qiskit.visualization import plot_histogram, plot_bloch_vector\n",
    "from qiskit.quantum_info import Statevector, DensityMatrix, random_statevector\n",
    "from qiskit.quantum_info.operators import Operator, Pauli\n",
    "from qiskit.circuit.library import GroverOperator, MCMT, ZGate\n",
    "\n",
    "# QWS helpers\n",
    "from helpers import convert_to_basis_string, get_all_pauli_strings,interactive_sine_waves, double_slit_experiment\n",
    "\n",
    "# Bokeh interactive plotting\n",
    "from bokeh.plotting import figure, output_notebook, show\n",
    "from bokeh.models import Slider, ColumnDataSource, CustomJS, Range1d, Toggle, Button, SetValue\n",
    "from bokeh.layouts import column, row\n",
    "from bokeh.io import push_notebook\n",
    "# Initialize the notebook output\n",
    "output_notebook()\n",
    "\n",
    "nshots = 10000"
   ]
  },
  {
   "cell_type": "markdown",
   "id": "a4d1a672-94fb-4ac3-a9c0-a0750f5dc25f",
   "metadata": {},
   "source": [
    "# Sending Quantum States"
   ]
  },
  {
   "cell_type": "markdown",
   "id": "d3d2e1d5-5782-421d-92f8-0e5cff2d608d",
   "metadata": {},
   "source": [
    "## Introduction"
   ]
  },
  {
   "cell_type": "markdown",
   "id": "1571142e-97c8-44a8-adcc-9882ea13a253",
   "metadata": {},
   "source": [
    "Suppose Alice has an arbitary one-qubit quantum state."
   ]
  },
  {
   "cell_type": "code",
   "execution_count": null,
   "id": "292660e4-1082-4c43-9e80-4e22b91f0cc4",
   "metadata": {
    "scrolled": true
   },
   "outputs": [],
   "source": [
    "a = QuantumRegister(1, name=\"A\")\n",
    "qc = QuantumCircuit(a)\n",
    "state = random_statevector(2)\n",
    "qc.initialize(state, [0])\n",
    "\n",
    "display(qc.draw('mpl'))"
   ]
  },
  {
   "cell_type": "markdown",
   "id": "30a9edd8-6ce7-491c-9ef0-de869e7cf135",
   "metadata": {},
   "source": [
    "Alice wants to send Bob this state, perhaps as part of some protocol related to quantum communication. How can they do this?"
   ]
  },
  {
   "cell_type": "code",
   "execution_count": null,
   "id": "eb9a141c-620e-4dda-8972-54e34b82eb1a",
   "metadata": {
    "scrolled": true
   },
   "outputs": [],
   "source": [
    "a = QuantumRegister(1, name=\"A\")\n",
    "b = QuantumRegister(1, name=\"B\")\n",
    "qc = QuantumCircuit(a, b)\n",
    "qc.initialize(state, [0])\n",
    "qc.swap(0,1)\n",
    "\n",
    "display(qc.draw('mpl'))"
   ]
  },
  {
   "cell_type": "markdown",
   "id": "595d5928-4613-4e23-a481-316c4ee1b692",
   "metadata": {},
   "source": [
    "Alice and Bob can perform the SWAP gate to swap their qubits. Note that Alice no longer has access to her state (this would be prohibited by the no-cloning theorem).\n"
   ]
  },
  {
   "cell_type": "markdown",
   "id": "631dfd25-5142-453f-bb94-60fe151d8a8b",
   "metadata": {},
   "source": [
    "However, this protocol requires Alice and Bob to be able to perform a joint two-qubit gate. If Alice and Bob are spatially separated or otherwise unable to perform a joint two-qubit gate, this would be impossible. What can they do instead?"
   ]
  },
  {
   "cell_type": "markdown",
   "id": "e4537e3f-a292-4814-b205-188363f89ecc",
   "metadata": {},
   "source": [
    "## Quantum State Teleportation\n",
    "\n",
    "Quantum state teleportation is an elementary protocol in quantum computing that allows one party to send another a quantum state. All it requires is that the parties share a Bell pair (maximally entangled state) and that the sender can locally perform two-qubit gates and send the recipient classical information (such as measurement results).\n",
    "\n",
    "<div style=\"background-color:rgba(243, 248, 255, 1.0); text-align:left; vertical-align: middle; padding:20px 0;border:3px; border-style:solid; padding: 0.5em; border-color: rgba(101, 174, 247, 1.0); color: #000000;\">\n",
    "\n",
    "<h4><strong>The Math Behind Quantum Teleportation</strong></h4>\n",
    "\n",
    "Although the name is suggestive of object transfer, it is a bit misleading. Perhaps a more precise name would be quantum \\textit{information} teleportation. The protocol is as follows:\n",
    "\n",
    "1. Alice and Bob each receive one qubit of a Bell pair. \n",
    "2. Alice wants to transfer a qubit $\\ket{\\phi}_A=\\alpha\\ket{0}+\\beta\\ket{1}$ to Bob, perhaps over a great spatial distance. In other words, Bob should end up with qubit\n",
    "    $$\n",
    "        \\ket{\\phi}_B=\\alpha\\ket{0}+\\beta\\ket{1} \\nonumber\n",
    "    $$\n",
    "    that can be manipulated, measured, etc. in the same way as Alice's qubit $\\ket{\\phi}_A$.\n",
    "3. Because Alice has two qubits, they can perform a *Bell measurement* on them, as if one were trying to determine which of the four Bell states the two Alice qubits are in.\n",
    "4. Half of the time, this turns out to send Bob's qubit into a superposition that, within a local phase flip, looks like $\\ket{\\phi}_A$:\n",
    "    $$\n",
    "        \\ket{\\phi}_B=\\alpha\\ket{0}\\pm\\beta\\ket{1} \\nonumber\n",
    "    $$\n",
    "    Thus, Bob can apply a Z gate if needed to bring $\\ket{\\phi}_B$ to the desired superposition. What about the other half of the time? The result is a little more complicated\n",
    "    $$\n",
    "        \\ket{\\phi}_B=\\alpha\\ket{1}\\pm\\beta\\ket{0} \\nonumber\n",
    "    $$\n",
    "    but it can be seen that with judicious application of an additional bit-flip (X gate), this becomes identical to the previous case requiring a local phase flip.\n",
    "5. How does Bob know whether or not to apply an X or Z gate or both? It turns out that the bit-flip and relative phase depends on which of the four Bell states Alice measured. Thus, Alice also needs to transfer two *classical* bits, corresponding to the measurement results from Step 3. \n",
    "\n",
    "The circuit for the procotol can be expressed as:\n",
    "\n",
    "<img src=\"figures/entanglement/quantum_tele_circuit.png\" width=\"800\"/>\n",
    "\n",
    "Of course, one could conceive of simply sending a $\\ket{\\phi}$ encoded photon to Bob. The key is that with quantum teleportation, Alice never even has to do that! Remember, the Bell pair could be coming from someone else entirely, a third party. Instead, Alice only ever needs to transmit classical information to Bob (which unfortunately, does limit the communication to the speed of light).\n",
    "\n",
    "It might seem like this protocol appears out of nowhere. The key intuition here is that _the four Bell states form a complete basis for a two-qubit composite system._ Thus, even though Alice's qubits may not be in a maximally-entangled state, they can always be decomposed into a superposition of Bell states. Roughly speaking, this suggests the full Alice-Bob three-qubit composite system may be able to be factorized as a tensor product of the Alice Bell-state decomposition, times Bob's qubit, with weights related to $\\ket{\\phi}_A$. Measurement then projects Bob's qubit into the desired state.\n",
    "\n",
    "Suppose the shared entangled state between Alice and Bob is the Bell state $\\ket{\\Phi^+}$. Then the full composite system is given by:\n",
    "$$\\begin{equation}\n",
    "    \\ket{\\phi}_A \\ket{\\Phi^+}_{AB} = \\frac{1}{\\sqrt{2}}(\\alpha\\ket{0}_A\\pm\\beta\\ket{1}_A)(\\ket{0}_A\\ket{0}_B+\\ket{1}_A\\ket{1}_B)\n",
    "\\end{equation}$$\n",
    "where the subscripts indicate whom the qubits belong to. Then, decomposing Alice's qubits in the Bell basis, we obtain\n",
    "$$\\begin{align}\n",
    "    \\ket{\\phi}_A \\ket{\\Phi^+}_{AB} = \\frac{1}{2}[&\\ket{\\Phi^+}_A(\\alpha\\ket{0}_B+\\beta\\ket{1}_B) \\nonumber \\\\ + &\\ket{\\Phi^-}_A(\\alpha\\ket{0}_B-\\beta\\ket{1}_B) \\nonumber \\\\ + &\\ket{\\Psi^+}_A(\\alpha\\ket{1}_B+\\beta\\ket{0}_B) \\nonumber \\\\ + &\\ket{\\Psi^-}_A(\\alpha\\ket{1}_B-\\beta\\ket{0}_B)]\n",
    "\\end{align}$$\n",
    "In both a mathematical and physical sense, the probability amplitudes of $\\ket{\\phi}_A$ \"transfer over\" to Bob's qubit. It is clear then that each Bell state is associated with a particular Bob qubit state that needs to be communicated to ensure the proper phase relation between $\\ket{0}_B$ and $\\ket{1}_B$. \n",
    "\n",
    "We summarize the four possible Bell state measurement results for Alice and Bob's required manipulations in the following table:\n",
    "\n",
    "| Alice's Result &nbsp; &nbsp; &nbsp; &nbsp; &nbsp; &nbsp; &nbsp; &nbsp; &nbsp; &nbsp; | Bob's state &nbsp; &nbsp; &nbsp; &nbsp; &nbsp; &nbsp; &nbsp; &nbsp; &nbsp; &nbsp; | Bob's state (in terms of $\\ket{\\phi}$) &nbsp; &nbsp; &nbsp; &nbsp; &nbsp; &nbsp; &nbsp; &nbsp; &nbsp; &nbsp; | Bob applies &nbsp; &nbsp; &nbsp; &nbsp; &nbsp; &nbsp; &nbsp; &nbsp; &nbsp; &nbsp; |\n",
    "| :-------------------------------- | :-------------------------------- | :-------------------------------- |:-------------------------------- |\n",
    " |$\\ket{\\Phi^+} ~~~ (00)$ | $\\alpha \\ket{0} + \\beta \\ket{1} $ | $\\ket{\\psi}$ | $\\mathbb{1}$ |\n",
    " |$\\ket{\\Psi^+} ~~ (01)$ | $\\alpha \\ket{1} + \\beta \\ket{0} $ | $X\\ket{\\psi}$ | $X$ | \n",
    " |$\\ket{\\Phi^-} ~~ (10)$ | $\\alpha \\ket{0} - \\beta \\ket{1} $ | $Z\\ket{\\psi}$ | $Z$ |\n",
    " |$\\ket{\\Psi^-} ~~ (11)$ | $\\alpha \\ket{1} - \\beta \\ket{0} $ | $XZ\\ket{\\psi}$ | $ZX$ |\n",
    "\n",
    "</div>"
   ]
  },
  {
   "cell_type": "markdown",
   "id": "7a30799a-8fa3-4b63-8bd7-8cf38dbc2909",
   "metadata": {},
   "source": [
    "## Exercises"
   ]
  },
  {
   "cell_type": "markdown",
   "id": "d6046e01-6ad7-4889-acb3-cf1c01adfed3",
   "metadata": {},
   "source": [
    "### Implement Teleportation"
   ]
  },
  {
   "cell_type": "markdown",
   "id": "577aab15-96e1-481d-a3ac-a832bf6c044e",
   "metadata": {},
   "source": [
    "Implement the rest of the quantum state teleportation protocol. Assume $A_0$ is an arbitrary state."
   ]
  },
  {
   "cell_type": "code",
   "execution_count": null,
   "id": "45012cdf-289a-48cf-976b-76df6ebfd8c2",
   "metadata": {},
   "outputs": [],
   "source": [
    "a = QuantumRegister(2, name=\"A\")\n",
    "b = QuantumRegister(1, name=\"B\")\n",
    "qc = QuantumCircuit(a,b)\n",
    "qc.initialize(Statevector([1/np.sqrt(2),0,0,1/np.sqrt(2)]), [1,2]) # initializes a Bell pair between A&B\n",
    "# *FILL IN*\n",
    "display(qc.draw('mpl'))\n",
    "teleportation = qc.to_instruction(label=\"Teleport\")\n",
    "QuantumCircuit(qc.data[1:])"
   ]
  },
  {
   "cell_type": "markdown",
   "id": "344836df-e89d-4634-a1b0-6f88cc15a7e3",
   "metadata": {},
   "source": [
    "### Algebraic Verification"
   ]
  },
  {
   "cell_type": "markdown",
   "id": "313f6a49-79de-4bb9-919c-4f434c65947e",
   "metadata": {},
   "source": [
    "Algebraically show that your protocol works."
   ]
  },
  {
   "cell_type": "markdown",
   "id": "504ac274-071d-445f-af7f-362094288922",
   "metadata": {},
   "source": [
    "### Experimental Verification"
   ]
  },
  {
   "cell_type": "markdown",
   "id": "74bfa2bd-2721-4df5-9773-ff8f92c5b6d2",
   "metadata": {},
   "source": [
    "Experimentally verify that $B$ contains the state initialized in $A_0$ after the teleportation protocol. You can assume that you know the statevector coefficients of $A_0$ -- perhaps Alice told you. You may call `qc = prepare(state)` an infinite number of times, but you are only allowed to perform gates on and measure $B$.\n",
    "\n",
    "Hint: refer to the techniques we explored yesterday."
   ]
  },
  {
   "cell_type": "code",
   "execution_count": null,
   "id": "9d1bdb06-2b4d-4cfd-95cd-72b2f7a6df8c",
   "metadata": {},
   "outputs": [],
   "source": [
    "def prepare(state):\n",
    "    a = QuantumRegister(2, name=\"A\")\n",
    "    b = QuantumRegister(1, name=\"B\")\n",
    "    qc = QuantumCircuit(a, b)\n",
    "    qc.initialize(state, [0])\n",
    "    qc.append(teleportation, [0,1,2])\n",
    "    return qc\n",
    "\n",
    "qc = prepare(state)\n",
    "...\n",
    "b = # *FILL IN*\n",
    "\n",
    "print(state)\n",
    "print(b)"
   ]
  },
  {
   "cell_type": "markdown",
   "id": "fc0a62bb-3ec4-4aa3-ac4f-a279ebc7693b",
   "metadata": {},
   "source": [
    "# Entanglement and Partial Measurement"
   ]
  },
  {
   "cell_type": "markdown",
   "id": "e7375605-3117-46fc-bb4c-7b0c83e45581",
   "metadata": {},
   "source": [
    "We now take a brief diversion to talk about entanglement and partial measurement."
   ]
  },
  {
   "cell_type": "markdown",
   "id": "7ff83d12-354e-4248-8484-652a32866172",
   "metadata": {},
   "source": [
    "## Partial trace"
   ]
  },
  {
   "cell_type": "markdown",
   "id": "26e45769-faa0-481a-8192-8da1767e1e70",
   "metadata": {},
   "source": [
    "We often prepare a multi-qubit states. Suppose we measure one of the qubits but don't look at the result. What is the state of the rest of the system, comprising the remaining qubits that we didn't measure?"
   ]
  },
  {
   "cell_type": "code",
   "execution_count": null,
   "id": "082b267e-2da2-4059-99b8-a3ae08279696",
   "metadata": {},
   "outputs": [],
   "source": [
    "random_state = random_statevector(8)\n",
    "qc = QuantumCircuit(3, 1)\n",
    "qc.initialize(random_state)\n",
    "qc.measure(0, 0)\n",
    "display(qc.draw('mpl'))"
   ]
  },
  {
   "cell_type": "markdown",
   "id": "24c0df7f-1760-4ff0-aa41-4be7577d81e8",
   "metadata": {},
   "source": [
    "Since the remaining state is conditioned on the result of the measurement, and the measurement is probabilistic, it might make sense to describe the remaining state as a probabilistic mixture as well. The most suitable representation for this is the density matrix."
   ]
  },
  {
   "cell_type": "markdown",
   "id": "b1afb83e-c4ce-422e-8c37-4989db6ac3e3",
   "metadata": {},
   "source": [
    "## Entanglement entropy"
   ]
  },
  {
   "cell_type": "markdown",
   "id": "8cbf3ba2-b445-4f59-8349-db2c2e3e64e9",
   "metadata": {},
   "source": [
    "Entanglement entropy is a way to quantify how much entanglement there is between two subsystems of a larger quantum system. Two systems that are entirely unentangled (product states) have zero entanglement entropy; as the name suggests, the maximally entangled state has the highest possible entanglement entropy for a state of that size."
   ]
  },
  {
   "cell_type": "markdown",
   "id": "8b579912-515f-4681-84e9-67b48aa4f227",
   "metadata": {},
   "source": [
    "## Exercises"
   ]
  },
  {
   "cell_type": "markdown",
   "id": "07e8748c-d639-4087-ab51-46b7844eb87c",
   "metadata": {},
   "source": [
    "### Calculate the entanglement entropy"
   ]
  },
  {
   "cell_type": "markdown",
   "id": "7f28ebaf-40f1-4a58-b965-7df3148fe9e2",
   "metadata": {},
   "source": [
    "The entanglement entropy for a subsystem $\\rho_A$ is given by $-Tr(\\rho_A\\ln\\rho_A)$."
   ]
  },
  {
   "cell_type": "code",
   "execution_count": null,
   "id": "3373864f-45cc-45ec-a8c9-f5d5add36fbb",
   "metadata": {},
   "outputs": [],
   "source": [
    "def entropy(density_matrix):\n",
    "    # *FILL IN*\n",
    "    ...\n",
    "    return -1"
   ]
  },
  {
   "cell_type": "markdown",
   "id": "d044e92c-198b-43b1-bfc1-0a6a7489f0c6",
   "metadata": {},
   "source": [
    "Verify that your result matches `qiskit.quantum_info.entropy`."
   ]
  },
  {
   "cell_type": "markdown",
   "id": "72b3fc01-fd5f-4520-8776-16fc7139c3e1",
   "metadata": {},
   "source": [
    "### Challenge Problem: Schmidt decomposition"
   ]
  },
  {
   "cell_type": "markdown",
   "id": "ae348311-4c1e-46ba-9ac8-6d50cf53f77f",
   "metadata": {},
   "source": [
    "Investigate the Schmidt decomposition of a vector. Determine how this can be useful for determining the entanglement entropy of a system."
   ]
  },
  {
   "cell_type": "markdown",
   "id": "533c439a-8090-42a9-88eb-9336d1fc7253",
   "metadata": {},
   "source": [
    "# Entanglement Swapping"
   ]
  },
  {
   "cell_type": "markdown",
   "id": "df89ca96-dded-405c-a4eb-de674c580407",
   "metadata": {},
   "source": [
    "In a similar vein to the teleportation protocol, sometimes we wish to distribute entanglement between two parties that are separated. We can make use of a protocol known as entanglement swapping. All it requires is that the parties each share a Bell pair (maximally entangled state) with a mutual intermediary and that the intermediary can generate additional Bell pairs and participate in any other quantum protocols."
   ]
  },
  {
   "cell_type": "markdown",
   "id": "9da47dd3-086d-4dde-8bd6-8bccc2b1d972",
   "metadata": {},
   "source": [
    "## Exercises"
   ]
  },
  {
   "cell_type": "markdown",
   "id": "43c3677d-9f9a-49fc-bc22-ddb815052a64",
   "metadata": {},
   "source": [
    "### Implement Entanglement Swapping"
   ]
  },
  {
   "cell_type": "markdown",
   "id": "557a0af9-cb9c-41f3-b177-dacd4a067f08",
   "metadata": {},
   "source": [
    "Implement the entanglement swapping protocol.\n",
    "\n",
    "Hint: if qubits `y` and `z` are entangled and qubits `x` and `y` belong to the same party, `qc.append(teleportation, [x, y, z])` will send the state in qubit `x` to `z`."
   ]
  },
  {
   "cell_type": "code",
   "execution_count": null,
   "id": "ec6adc14-de4b-41a1-8278-f62b2f8bef32",
   "metadata": {},
   "outputs": [],
   "source": [
    "a = QuantumRegister(1, name=\"A\")\n",
    "c = QuantumRegister(4, name=\"C\")\n",
    "b = QuantumRegister(1, name=\"B\")\n",
    "cr = ClassicalRegister(2, name='m')\n",
    "\n",
    "# quantum circuit combines quantum and classical registers\n",
    "qc = QuantumCircuit(a, c, b, cr)\n",
    "qc.initialize(Statevector([1/np.sqrt(2),0,0,1/np.sqrt(2)]), [0,1])\n",
    "qc.initialize(Statevector([1/np.sqrt(2),0,0,1/np.sqrt(2)]), [2,3])\n",
    "qc.initialize(Statevector([1/np.sqrt(2),0,0,1/np.sqrt(2)]), [4,5])\n",
    "# *FILL IN*\n",
    "qc.draw('mpl')"
   ]
  },
  {
   "cell_type": "markdown",
   "id": "50391819-4876-49cd-9673-faf32efdd1de",
   "metadata": {},
   "source": [
    "### Mathematical Verification"
   ]
  },
  {
   "cell_type": "markdown",
   "id": "a244ffb1-8cee-477d-94c0-a6301500427e",
   "metadata": {},
   "source": [
    "Verify that $A$ and $B$ are maximally entangled by computing their entanglement entropy."
   ]
  },
  {
   "cell_type": "code",
   "execution_count": null,
   "id": "010f6cd6-1688-4b5a-90d5-b601db71d641",
   "metadata": {},
   "outputs": [],
   "source": [
    "# *FILL IN*\n",
    "DensityMatrix()"
   ]
  },
  {
   "cell_type": "markdown",
   "id": "87fc99ea-4fac-4418-8456-422594712716",
   "metadata": {},
   "source": [
    "# CHSH Game "
   ]
  },
  {
   "cell_type": "markdown",
   "id": "79f89f13-13ec-4dbc-acb6-fe3554fdbff3",
   "metadata": {},
   "source": [
    "The CHSH game is a thought experiment to investigate certain theories about quantum mechanics."
   ]
  },
  {
   "cell_type": "markdown",
   "id": "cca38a07-b11e-4a8f-9e62-a80b720073f2",
   "metadata": {},
   "source": [
    "## About the game"
   ]
  },
  {
   "cell_type": "markdown",
   "id": "865392c9-09ab-42d5-a8c1-3da4ad92ca56",
   "metadata": {},
   "source": [
    "The game is played cooperatively by two parties, Alice and Bob, and moderated by a host, Charlie.\n",
    "\n",
    "Charlie generates two bits $x$ and $y$ and sends $x$ to Alice and $y$ to Bob. (Alice and Bob cannot see each other's bit).\n",
    "\n",
    "Alice and Bob each send a bit back to Charlie, denoted as $a$ and $b$, respectively. If $a + b \\equiv xy \\pmod{2}$ then the participants win; otherwise they lose.\n",
    "\n",
    "The participants may pick any strategy in advance but are not allowed to confer once they receive their bit from Charlie. The goal is for Alice and Bob to find the optimal strategy to maximize their win probability for an equiprobable random choice of $x$ and $y$.\n",
    "\n",
    "\n",
    "(Each bit is classical and can take the value 0 or 1.)"
   ]
  },
  {
   "cell_type": "markdown",
   "id": "123f2fca-eb2b-4bcc-b593-7fed05c96161",
   "metadata": {},
   "source": [
    "## Exercises"
   ]
  },
  {
   "cell_type": "markdown",
   "id": "c130d923-a1ba-4e60-94a1-a7484b21ffe0",
   "metadata": {},
   "source": [
    "### Classical Strategy"
   ]
  },
  {
   "cell_type": "markdown",
   "id": "088d3ba6-db74-4b75-b303-562a35c3d25e",
   "metadata": {},
   "source": [
    "Devise a classical strategy for the CHSH game. What is the maximum win probability?"
   ]
  },
  {
   "cell_type": "code",
   "execution_count": null,
   "id": "628fc094-ffca-4542-bfa1-0728fa1d4ce8",
   "metadata": {},
   "outputs": [],
   "source": [
    "def chsh_game_classical(x, y):\n",
    "    # *FILL IN*\n",
    "    # Alice and Bob can decide on a strategy beforehand\n",
    "    def a(x):\n",
    "        # *FILL IN*\n",
    "    def b(y):\n",
    "        # *FILL IN*\n",
    "    return a(x), b(y)"
   ]
  },
  {
   "cell_type": "code",
   "execution_count": null,
   "id": "05227c6e-b8b7-457b-8780-c6b05b476539",
   "metadata": {},
   "outputs": [],
   "source": [
    "## CHSH Game Verifier\n",
    "\n",
    "def chsh_verifier(decision_function):\n",
    "    results = {'win': 0, 'loss': 0}\n",
    "    \n",
    "    for i in range(nshots):\n",
    "        x, y = random.choice([0,1]), random.choice([0,1])\n",
    "        a, b = decision_function(x, y)\n",
    "        if (a + b) % 2 == x*y:\n",
    "            results['win'] += 1\n",
    "        else:\n",
    "            results['loss'] += 1\n",
    "    return results"
   ]
  },
  {
   "cell_type": "code",
   "execution_count": null,
   "id": "a60e7393-06e8-4d05-99b7-5b62540d0b56",
   "metadata": {},
   "outputs": [],
   "source": [
    "results = chsh_verifier(chsh_game_classical)\n",
    "display(plot_histogram(results))"
   ]
  },
  {
   "cell_type": "markdown",
   "id": "1448b666-7c2d-4d0e-b916-9c10ccd88e3b",
   "metadata": {},
   "source": [
    "### Quantum"
   ]
  },
  {
   "cell_type": "markdown",
   "id": "8e69f084-9ff5-4c60-b027-dc5874115df5",
   "metadata": {},
   "source": [
    "See if you can do better with a quantum strategy. What is the maximum win probability? Can you calculate it mathematically?\n",
    "\n",
    "Hint: Alice and Bob can share a Bell pair and can measure in different bases."
   ]
  },
  {
   "cell_type": "code",
   "execution_count": null,
   "id": "3d5e7e0a-cf02-416e-ba44-e9b3d57e7a0b",
   "metadata": {},
   "outputs": [],
   "source": [
    "def chsh_game_quantum(x, y):\n",
    "    # *FILL IN*\n",
    "    # Alice and Bob can decide on a strategy beforehand and potentially prepare a shared quantum circuit\n",
    "    def a(x):\n",
    "        # *FILL IN*\n",
    "    def b(y):\n",
    "        # *FILL IN*\n",
    "    return a(x), b(y)"
   ]
  },
  {
   "cell_type": "code",
   "execution_count": null,
   "id": "95faa631-d3b3-47c5-851c-a842cfbf616a",
   "metadata": {},
   "outputs": [],
   "source": [
    "results = chsh_verifier(chsh_game_quantum)\n",
    "display(plot_histogram(results))"
   ]
  },
  {
   "cell_type": "markdown",
   "id": "d5e28e1c-7820-4147-993d-d6844b08f3c5",
   "metadata": {},
   "source": [
    "# Deutsch-Jozsa Algorithm\n",
    "\n",
    "Arguably the simplest \"algorithm\" in quantum computing is the Deutsch-Jozsa algorithm, which outperforms the best classical algorithm. The issue at hand is to determine whether a function is $f: \\{0,1\\}^n \\rightarrow {0,1}$ is constant or balanced. In other words, $f$ takes as an input a length $n$ bitstring and outputs either 0 or 1 for each input. If $f$ is constant, it always outputs the same answer. If $f$ is balanced, then it outputs 0 for exactly half of the inputs and 1 for the other half.\n",
    "\n",
    "Classically, the worst case scenario is we would need to check the output of $f$ for half of the number of bitsrings plus one. This is because, for example, if we measure half of the outputs to be 0, then we would need to measure one more input to be certain whether this $f$ is constant or balanced. So classically, worst case scenario, we need to make $2^{n-1} + 1$ queries of $f$. With the Deutsch-Jozsa algorithm on a quantum computer, however, we can always determine whether $f$ is constant or balanced in a *single query*!\n",
    "\n",
    "For the Deutsch Jozsa algorithm, we need to translate $f$ to something a quantum computer can understand. So we encode $f$ into a unitary $U_f$ which acts on an $n+1$ qubit system (where $n$ is the length of the inputs to $f$). We do not count any extra gates needed for the circuit, such as $H$ gates, towards the number of queries –– only the number of times $U_f$ is applied."
   ]
  },
  {
   "cell_type": "markdown",
   "id": "7e37c844-0fb2-430f-8f63-1df642eb85d0",
   "metadata": {},
   "source": [
    "### Understanding $U_f$\n",
    "\n",
    "The role of $U_f$ is to apply the following action: $U_f \\ket{x}\\ket{y} = \\ket{x}\\ket{f(x) \\oplus y} $, where $x$ is the n-bit input to $f$ and $y$ is a single qubit register. The operation $\\oplus$ is addition mod 2. Here we will practice constructing $U_f$ for single bit input $x$."
   ]
  },
  {
   "cell_type": "markdown",
   "id": "80a4775e-2574-4c5b-b02a-39c1e701b097",
   "metadata": {},
   "source": [
    "**Example 1**\n",
    "\n",
    "Here is an example which implements the constant $f$ which always outputs 0. The table summarizing for all possible bit combinations is here:\n",
    "\n",
    "| $x$ &nbsp; &nbsp; &nbsp; &nbsp; &nbsp; &nbsp; &nbsp; | $y$ &nbsp; &nbsp; &nbsp; &nbsp; &nbsp; &nbsp; &nbsp; |  $f(x)$ &nbsp; &nbsp; &nbsp; &nbsp; &nbsp; &nbsp; &nbsp; | $f(x)\\oplus y$ &nbsp; &nbsp; &nbsp; &nbsp; &nbsp;  |\n",
    "| :-------------------------------- | :-------------------------------- | :-------------------------------- |:-------------------------------- |\n",
    " |0 | 0 | 0 | 0 |\n",
    " |0| 1 | 0 | 1 | \n",
    " |1 | 0| 0 | 0 |\n",
    " |1| 1| 0 | 1 |\n",
    "\n",
    " And this can be implemented by the following circuit:"
   ]
  },
  {
   "cell_type": "code",
   "execution_count": null,
   "id": "6d06ccdf-7c4b-482c-b546-1404f83baf47",
   "metadata": {},
   "outputs": [],
   "source": [
    "qx = QuantumRegister(1, 'x')\n",
    "qy = QuantumRegister(1, 'y')\n",
    "qc = QuantumCircuit(qx,qy)\n",
    "qc.id(0)\n",
    "qc.id(1)\n",
    "display(qc.draw('mpl'))"
   ]
  },
  {
   "cell_type": "markdown",
   "id": "46868e43-ab3f-4953-b0c9-ea3633e2a213",
   "metadata": {},
   "source": [
    "**Example 2**\n",
    "\n",
    "Here is an example which implements the following balanced $f$.\n",
    "\n",
    "| $x$ &nbsp; &nbsp; &nbsp; &nbsp; &nbsp; &nbsp; &nbsp; | $y$ &nbsp; &nbsp; &nbsp; &nbsp; &nbsp; &nbsp; &nbsp; |  $f(x)$ &nbsp; &nbsp; &nbsp; &nbsp; &nbsp; &nbsp; &nbsp; | $f(x)\\oplus y$ &nbsp; &nbsp; &nbsp; &nbsp; &nbsp;  |\n",
    "| :-------------------------------- | :-------------------------------- | :-------------------------------- |:-------------------------------- |\n",
    " |0 | 0 | 0 | 0 |\n",
    " |0| 1 | 0 | 1 | \n",
    " |1 | 0| 1 | 1 |\n",
    " |1| 1| 1 | 0 |\n",
    "\n",
    " And this can be implemented by the following circuit:"
   ]
  },
  {
   "cell_type": "code",
   "execution_count": null,
   "id": "633b19da-fd5e-45a8-ad77-81d29833f58b",
   "metadata": {},
   "outputs": [],
   "source": [
    "qx = QuantumRegister(1, 'x')\n",
    "qy = QuantumRegister(1, 'y')\n",
    "qc = QuantumCircuit(qx,qy)\n",
    "qc.cx(0,1)\n",
    "display(qc.draw('mpl'))"
   ]
  },
  {
   "cell_type": "markdown",
   "id": "fb86c855-b978-444e-ba42-321367897221",
   "metadata": {},
   "source": [
    "### Exercises\n",
    "\n",
    "**A)** Fill in the table and create a circuit which implements $U_f$ for the following $f$:\n",
    "\n",
    "| $x$ &nbsp; &nbsp; &nbsp; &nbsp; &nbsp; &nbsp; &nbsp; | $y$ &nbsp; &nbsp; &nbsp; &nbsp; &nbsp; &nbsp; &nbsp; |  $f(x)$ &nbsp; &nbsp; &nbsp; &nbsp; &nbsp; &nbsp; &nbsp; | $f(x)\\oplus y$ &nbsp; &nbsp; &nbsp; &nbsp; &nbsp;  |\n",
    "| :-------------------------------- | :-------------------------------- | :-------------------------------- |:-------------------------------- |\n",
    " |0 | 0 | 1 | ? |\n",
    " |0| 1 | 1 | ? | \n",
    " |1 | 0| 1 | ? |\n",
    " |1| 1| 1 | ? |"
   ]
  },
  {
   "cell_type": "code",
   "execution_count": null,
   "id": "9133b91e-7929-47a0-aa2d-f4241673fc3a",
   "metadata": {},
   "outputs": [],
   "source": [
    "# *FILL IN CODE**"
   ]
  },
  {
   "cell_type": "markdown",
   "id": "ff6c68d1-63e7-4ded-a21c-c2f6140c00f4",
   "metadata": {},
   "source": [
    "**B)** Fill in the table and create a circuit which implements $U_f$ for the following $f$:\n",
    "\n",
    "| $x$ &nbsp; &nbsp; &nbsp; &nbsp; &nbsp; &nbsp; &nbsp; | $y$ &nbsp; &nbsp; &nbsp; &nbsp; &nbsp; &nbsp; &nbsp; |  $f(x)$ &nbsp; &nbsp; &nbsp; &nbsp; &nbsp; &nbsp; &nbsp; | $f(x)\\oplus y$ &nbsp; &nbsp; &nbsp; &nbsp; &nbsp;  |\n",
    "| :-------------------------------- | :-------------------------------- | :-------------------------------- |:-------------------------------- |\n",
    " |0 | 0 | 1 | ? |\n",
    " |0| 1 | 1 | ? | \n",
    " |1 | 0| 0 | ? |\n",
    " |1| 1| 0 | ? |"
   ]
  },
  {
   "cell_type": "code",
   "execution_count": null,
   "id": "c1b973d2-c5c9-41db-a665-ab7b46fa01df",
   "metadata": {},
   "outputs": [],
   "source": [
    "# *FILL IN CODE**"
   ]
  },
  {
   "cell_type": "markdown",
   "id": "8131792d-f0e1-4f33-82da-bc43a8be9232",
   "metadata": {},
   "source": [
    "### The Algorithm\n",
    "\n",
    "The Deutsch-Jozsa algorithm follows easily once $U_f$ is formed. First we prepare the helper qubit in $\\ket{1}$. We simply apply H gates to all $n+1$ qubits ($n$ data qubit and 1 helper qubit, $y$), then apply $U_f$, then apply H gates to all n data qubits, and finally measure all n data qubits. If the measurement result is all zeros, i.e. $\\ket{0}^{\\otimes n}$, then $f$ is constant. Otherwise, $f$ is balanced.\n",
    "\n",
    "**Exercise:** Let's test this out with our 1 bit examples. Plug in your $U_f$'s in the circuit below and see if it works as expected."
   ]
  },
  {
   "cell_type": "code",
   "execution_count": null,
   "id": "fee63e5b-054e-4735-80a1-411f46d9dc0d",
   "metadata": {},
   "outputs": [],
   "source": [
    "n=1\n",
    "qx = QuantumRegister(n, 'x')\n",
    "qy = QuantumRegister(1, 'y')\n",
    "cr = ClassicalRegister(n,'cr')\n",
    "qc = QuantumCircuit(qx,qy,cr)\n",
    "\n",
    "# prepare y in the 1 state\n",
    "qc.x(qy)\n",
    "qc.barrier()\n",
    "qc.h(qx)\n",
    "qc.h(qy)\n",
    "qc.barrier()\n",
    "\n",
    "# insert U_f here\n",
    "\n",
    "\n",
    "qc.barrier()\n",
    "qc.h(qx)\n",
    "\n",
    "qc.measure(qx,cr)\n",
    "display(qc.draw('mpl'))\n",
    "\n",
    "backend = Aer.get_backend('qasm_simulator')\n",
    "new_circuit = transpile(qc, backend)\n",
    "job = backend.run(new_circuit, shots = 1) # we only need one query!\n",
    "results = job.result()\n",
    "counts = results.get_counts()\n",
    "\n",
    "plot_histogram(counts)"
   ]
  },
  {
   "cell_type": "markdown",
   "id": "be5b12d7-4ba4-40f5-a35d-052009a0c0cf",
   "metadata": {},
   "source": [
    "### Exercise\n",
    "\n",
    "**A)** Find a $U_f$ which implements a constant $f$ for $n=2$.\n",
    "\n",
    "**B)** Find a $U_f$ which implements a balanced $f$ for $n=2$.\n",
    "\n",
    "**C)** Write code to test out the Deutsch-Jozsa algorithm for $n=2$. Do you get $\\ket{00}$ for your $U_f$ from part a? What do you get for your $U_f$ from part b?"
   ]
  },
  {
   "cell_type": "code",
   "execution_count": null,
   "id": "232c0d9f-a338-4134-82b2-b897c275642f",
   "metadata": {},
   "outputs": [],
   "source": [
    "# *FILL IN CODE*"
   ]
  },
  {
   "cell_type": "markdown",
   "id": "016fdd92-718e-4b41-9142-f5bd9c9d6411",
   "metadata": {},
   "source": [
    "### How does it work?\n",
    "\n",
    "Let's walk through why this algorithm works. We start in the state $\\ket{\\psi_0} = \\ket{0}^{\\otimes n} \\otimes \\ket{1}$. After applying the H gates, we have:\n",
    "\n",
    "$$\\begin{align}\n",
    "\\ket{\\psi_1} &= H^{\\otimes (n+1)} \\ket{\\psi_0} \n",
    "\\end{align}$$\n",
    "\n",
    "The state $\\ket{+}^{\\otimes n}$ is the equal superposition state of all bitstrings of length $n$. (Can you see why? Check for $n=2$.) So we can reexpress our state as:\n",
    "\n",
    "$$\\begin{align}\n",
    "\\ket{\\psi_1} &= \\frac{1}{\\sqrt{2^n}} \\sum_{x\\in\\{0,1\\}^n} \\ket{x}\\ket{-}\n",
    "\\end{align}$$\n",
    "\n",
    "where we are summing over every bitstring of length n, i.e. every element of $\\{0,1\\}^n$. After we apply $U_f$ we get:\n",
    "\n",
    "$$\\begin{align}\n",
    "\\ket{\\psi_2} &= U_f \\ket{\\psi_1} \\\\\n",
    "&= \\frac{1}{\\sqrt{2^{n+1}}} \\sum_{x\\in\\{0,1\\}^n} \\ket{x}(\\ket{f(x)} - \\ket{f(x)\\oplus 1}) \\\\\n",
    "&= \\frac{1}{\\sqrt{2^{n}}} \\sum_{x\\in\\{0,1\\}^n} (-1)^{f(x)}\\ket{x}\\ket{-}\n",
    "\\end{align}$$\n",
    "\n",
    "**Bonus Exercise:** Can you convince yourself of the jump to the last line? In other words, show that: $\\ket{f(x)} - \\ket{f(x)\\oplus 1} = (-1)^{f(x)}\\ket{-}$\n",
    "\n",
    "Finally, we apply a Hadamard gate to our n data qubits:\n",
    "\n",
    "$$\\begin{align}\n",
    "\\ket{\\psi_3} &= H^{\\otimes n}\\otimes I \\ket{\\psi_2} \\\\\n",
    "&= \\frac{1}{\\sqrt{2^{n}}} \\sum_{x\\in\\{0,1\\}^n} (-1)^{f(x)} \\bigg( \\sum_{z\\in\\{0,1\\}^n} (-1)^{x\\cdot z} \\ket{z} \\bigg) \\ket{-} \\\\\n",
    "&= \\frac{1}{2^{n}} \\sum_{z\\in\\{0,1\\}^n} \\sum_{x\\in\\{0,1\\}^n} (-1)^{f(x)+ x\\cdot z} \\ket{z} \\ket{-}\n",
    "\\end{align}$$\n",
    "\n",
    "where $x\\cdot z = x_1 z_1 + \\dots + x_n z_n$.\n",
    "\n",
    "Now we just need to draw our conclusion.\n",
    "\n",
    "**Exercise:** Compute the amplitude on the state $\\ket{z} = \\ket{0}^{\\otimes n}$ in the two cases. Case 1 is $f$ is constant and Case $2$ is $f$ is balanced. In other words, compute $$\\frac{1}{2^{n}} \\sum_{x\\in\\{0,1\\}^n} (-1)^{f(x)+ x\\cdot z} $$ for $z = 00\\cdots 0$. \n",
    "\n",
    "*Hint: just by calculating this, you do not need to consider the probability amplitude of other states. Distinguishing between constant and balanced depends only on the amplitude of this state.*"
   ]
  },
  {
   "cell_type": "markdown",
   "id": "935d4b33-de1c-440d-b4b8-3105399c07d3",
   "metadata": {},
   "source": [
    "# Grover's Algorithm"
   ]
  },
  {
   "cell_type": "markdown",
   "id": "f0af5d84-e435-4598-b45f-c1cfd3de675f",
   "metadata": {
    "id": "zvS0Jkl1l3yy"
   },
   "source": [
    "# Implementing Grover's Algorithm"
   ]
  },
  {
   "cell_type": "markdown",
   "id": "ce0bcf0f-d5cc-4168-9eb6-e2993d7bfdc2",
   "metadata": {
    "id": "W88VPRSHl3yy"
   },
   "source": [
    "In lecture, you learned a bit about Grover's algorithm. Maybe it made sense to you, or maybe you found it confusing... Either way, playing around with Grover's algorithm in Qiskit can help us feel more comfortable with the ideas behind Grover's algorithm, what it does, and why it works!\n",
    "\n",
    "Let's say we have a black box which takes in an N-bit input and returns \"Success\" for one input bit string and \"Failure\" for all the others. We want to find out what the \"success\" input bit-string is in the least number of querys to the black box.\n",
    "\n",
    "To put this a bit more mathematically, the problem is as follows. The black box acts as a function $f(x): \\{0,1,\\dots, N\\} \\rightarrow \\{0,1\\}$, where $f(x)=1$ if and only if $x$ is the \"success\" input and $f(x)=0$ otherwise.\n",
    "\n",
    "Classically, the best we can do is just try all the bit strings until we get \"Success.\" On average, we will need to test half of the bit strings to find the right one. So classically, we need $O(N)$ evaluations of the black box.\n",
    "\n",
    "Grover's search algorithm can accomplish this in $O(\\sqrt{N})$ evaluations of the black box (which is often called the \"oracle\"). [Note: if we have n qubits, we have $N=2^n$ classical bits of information.] The big picture overview of how this is possible is because with quantum superposition, we can test all bit strings at once. Let's get into the details.\n",
    "\n",
    "The \"black box\" or \"oracle\" for Grover's search ($\\mathcal{S}_f$) is a phase-flip oracle. It flips the phase of _only_ the \"success\" bitstring. So the action of $\\mathcal{S}_f$ is:\n",
    "\n",
    "$$|x\\rangle \\rightarrow (-1)^{f(x)} |x\\rangle$$\n",
    "\n",
    "In other words, $|x\\rangle \\rightarrow -|x\\rangle$ if and only if $x$ is the right input.\n",
    "\n",
    "If we start with $n$ qubits in the $|0\\rangle$ state and apply a Hadamard to each one, then we will be in the equal superposition state of every bitstring of length $n$ (of which there are $N=2^n$). We can easily see this with 2 qubits:\n",
    "\n",
    "$$H|0\\rangle \\otimes H|0\\rangle = \\frac{1}{2} \\big[ (|0\\rangle + |1\\rangle) \\otimes (|0\\rangle + |1\\rangle) \\big] = \\frac{1}{2} \\big[ |00\\rangle + |01\\rangle + |10\\rangle + |11\\rangle \\big]$$\n",
    "\n",
    "At the start of the protocol, we create the following state:\n",
    "\n",
    "<div>\n",
    "<img src=\"figures/entanglement/grover_1.png\" width=\"500\"/>\n",
    "</div>\n",
    "\n",
    "So we can send this state into the oracle $\\mathcal{S}_f$, and we will get the same state with the phase of the right bitstring flipped."
   ]
  },
  {
   "cell_type": "markdown",
   "id": "3cc35c97-006a-433c-96fd-022f3546254d",
   "metadata": {
    "id": "GDK-Kp9ql3yy"
   },
   "source": [
    "We can visualize this step as follows:\n",
    "\n",
    "<div>\n",
    "<img src=\"figures/entanglement/grover_2.png\" width=\"500\"/>\n",
    "</div>\n",
    "\n",
    "Note that the overall amplitude of the states has been reduced from $1/\\sqrt{N}$ to something smaller. The exact amount can be computed, but is not important for the purposes of this tutorial."
   ]
  },
  {
   "cell_type": "markdown",
   "id": "be389642-1cbe-49ea-9aa6-be3ab67e960e",
   "metadata": {
    "id": "fuEZSYuSl3yy"
   },
   "source": [
    "The second step of Grover's algorithm is called amplitude amplification. In this step, we flip every state's amplitude about the overall average amplitude of all states. Every state with a positive amplitude will get a smaller amplitude, and the \"right input\" state will get a much larger positive amplitude. We can visualize this step as follows:\n",
    "\n",
    "<div>\n",
    "<img src=\"figures/entanglement/grover_3.png\" width=\"500\"/>\n",
    "</div>\n",
    "\n",
    "In practice, we implement this amplitude amplification by applying a \"diffusion operator\" defined as:\n",
    "\n",
    "$$ \\mathcal{D} = H^{\\otimes n} \\mathcal{S}_0 H^{\\otimes n}$$\n",
    "\n",
    "where $\\mathcal{S}_0$ is the zero reflection operator:\n",
    "\n",
    "$$\\mathcal{S}_0 = 2 |0\\rangle^{\\otimes n} \\langle 0|^{\\otimes n} - \\mathbb{I}_n$$\n",
    "\n",
    "All that remains is applying these steps multiple times until we have reached an optimal number of iterations (at some point there would be diminishing returns where the wrong states amplitudes begin to grow again). Finally we perform a measurement and we should get our target state with very high probability.\n",
    "\n",
    "The reason Grover's search is $O(\\sqrt{N})$ is because the optimal number of iterations is $O(\\sqrt{N})$.\n",
    "\n",
    "Now that we have a sense of what Grover's algorithm does and why it works, let's play around with it in Qiskit.\n"
   ]
  },
  {
   "cell_type": "markdown",
   "id": "bbf89e7b-3bb2-4457-8fc7-ccb0e180a250",
   "metadata": {
    "id": "LusIG3Uql3yy"
   },
   "source": [
    "Note: The following code is adpated from IBM's documentation: https://learning.quantum.ibm.com/tutorial/grovers-algorithm."
   ]
  },
  {
   "cell_type": "markdown",
   "id": "01a1f94a-46ad-41a3-bfa0-6def652757cf",
   "metadata": {
    "id": "2MloVxvWl3yy"
   },
   "source": [
    "### Creating a phase-flip oracle\n",
    "\n",
    "First things first, let's understand how a phase-flip oracle is made. Let's start by preparing an equal superposition state by applying a Hadamard to each qubit. Then let's build a phase-flip oracle step-by-step.\n",
    "\n",
    "Consider a two-qubit system with target state '01'."
   ]
  },
  {
   "cell_type": "code",
   "execution_count": null,
   "id": "8ae854ca-98a5-4e0f-aae8-07a04a520196",
   "metadata": {
    "id": "PuOpMOx5l3yy"
   },
   "outputs": [],
   "source": [
    "target_state = '01'\n",
    "\n",
    "num_qubits = len(target_state)"
   ]
  },
  {
   "cell_type": "markdown",
   "id": "e2d4d201-88df-4520-b557-ed9b4de562ea",
   "metadata": {
    "id": "pjhUkG_Cl3yy"
   },
   "source": [
    "We first apply an X gate to the location of any zeros in our target state. We will still have an equal superposition state after this."
   ]
  },
  {
   "cell_type": "code",
   "execution_count": null,
   "id": "ecac6a23-67be-4695-b5ae-8ab7a5c8fa73",
   "metadata": {
    "id": "G8xZCG9Bl3yz"
   },
   "outputs": [],
   "source": [
    "qc = QuantumCircuit(num_qubits)\n",
    "\n",
    "# apply Hadamard to all qubits to be in complete superposition state\n",
    "qc.h(range(num_qubits))\n",
    "\n",
    "# Flip target bit-string to match Qiskit bit-ordering\n",
    "rev_target = target_state[::-1]\n",
    "\n",
    "# Find the indices of all the '0' elements in bit-string\n",
    "zero_inds = [ind for ind in range(num_qubits) if rev_target.startswith(\"0\", ind)]\n",
    "\n",
    "if len(zero_inds) > 0:\n",
    "    qc.x(zero_inds)\n",
    "\n",
    "qc.draw('mpl')"
   ]
  },
  {
   "cell_type": "markdown",
   "id": "5a9f6ffe-ce2b-490b-930b-66eb4a2235b0",
   "metadata": {
    "id": "27px3nxml3yz"
   },
   "source": [
    "We can print out the state vector at the end of the circuit to see what is going on."
   ]
  },
  {
   "cell_type": "code",
   "execution_count": null,
   "id": "f9d8d0ce-0970-482e-9805-15f4db49b80d",
   "metadata": {
    "id": "dM1cJZltl3yz"
   },
   "outputs": [],
   "source": [
    "display(Statevector(qc).draw('latex'))"
   ]
  },
  {
   "cell_type": "markdown",
   "id": "beefd0c3-de35-4d27-b3ee-7cddd0dc504b",
   "metadata": {
    "id": "V6CjFpO7l3yz"
   },
   "source": [
    "Now, let's add a multi-controlled Z gate, which is controlled on the first $n-1$ qubits and targeted on the last qubit. The effect of this is it flips the phase of any state with all 1's. This is because we need all 1's in the first $n-1$ qubit for the control condition to be satisfied, and we need the last qubit to be 1 for the Z gate to have a phase flip effect."
   ]
  },
  {
   "cell_type": "code",
   "execution_count": null,
   "id": "400f25b9-c6b4-437e-9c26-a847fa91f0dd",
   "metadata": {
    "id": "vcIsnNawl3yz"
   },
   "outputs": [],
   "source": [
    "qc = QuantumCircuit(num_qubits)\n",
    "\n",
    "# apply Hadamard to all qubits to be in complete superposition state\n",
    "qc.h(range(num_qubits))\n",
    "\n",
    "# Flip target bit-string to match Qiskit bit-ordering\n",
    "rev_target = target_state[::-1]\n",
    "\n",
    "# Find the indices of all the '0' elements in bit-string\n",
    "zero_inds = [ind for ind in range(num_qubits) if rev_target.startswith(\"0\", ind)]\n",
    "\n",
    "if len(zero_inds) > 0:\n",
    "    qc.x(zero_inds)\n",
    "qc.compose(MCMT(ZGate(), num_qubits - 1, 1), inplace=True)\n",
    "\n",
    "qc.draw('mpl')"
   ]
  },
  {
   "cell_type": "code",
   "execution_count": null,
   "id": "6359089d-117e-40b8-81ee-76d7e3012a8b",
   "metadata": {
    "id": "AjT3HPGCl3yz"
   },
   "outputs": [],
   "source": [
    "display(Statevector(qc).draw('latex'))"
   ]
  },
  {
   "cell_type": "markdown",
   "id": "935db4b1-18ed-4836-a99e-801147483193",
   "metadata": {
    "id": "sscnbrzPl3yz"
   },
   "source": [
    "We can see that the $|11\\rangle$ state has been phase flipped, as expected.\n",
    "\n",
    "Now we can apply X gates again to any location of 0 in the target state. This ensures the phase flip is moved back to the target state (instead of staying on $|11\\rangle$)."
   ]
  },
  {
   "cell_type": "code",
   "execution_count": null,
   "id": "2fc5af25-f59b-444f-a795-a0b49682612a",
   "metadata": {
    "id": "4AkxjJHzl3yz"
   },
   "outputs": [],
   "source": [
    "qc = QuantumCircuit(num_qubits)\n",
    "\n",
    "# apply Hadamard to all qubits to be in complete superposition state\n",
    "qc.h(range(num_qubits))\n",
    "\n",
    "# Flip target bit-string to match Qiskit bit-ordering\n",
    "rev_target = target_state[::-1]\n",
    "\n",
    "# Find the indices of all the '0' elements in bit-string\n",
    "zero_inds = [ind for ind in range(num_qubits) if rev_target.startswith(\"0\", ind)]\n",
    "\n",
    "if len(zero_inds) > 0:\n",
    "    qc.x(zero_inds)\n",
    "qc.compose(MCMT(ZGate(), num_qubits - 1, 1), inplace=True)\n",
    "if len(zero_inds) > 0:\n",
    "    qc.x(zero_inds)\n",
    "\n",
    "qc.draw('mpl')"
   ]
  },
  {
   "cell_type": "code",
   "execution_count": null,
   "id": "0747aca7-8092-481f-b79f-8d672ee6af6c",
   "metadata": {
    "id": "UuXgPduGl3yz"
   },
   "outputs": [],
   "source": [
    "display(Statevector(qc).draw('latex'))"
   ]
  },
  {
   "cell_type": "markdown",
   "id": "078df9bf-a660-4a7f-8881-bf030725af4a",
   "metadata": {
    "id": "i_3REXEDl3yz"
   },
   "source": [
    "Ok, great, it works! We got a phase flip on just our target state. So we have successfully built a phase-flip oracle for two qubits."
   ]
  },
  {
   "cell_type": "markdown",
   "id": "283e14ed-fbb7-4756-93cb-46b53a7006c1",
   "metadata": {},
   "source": [
    "### Exercise \n",
    "\n",
    "**A)** Following the same approach as above, construct an oracle for the target state 00."
   ]
  },
  {
   "cell_type": "code",
   "execution_count": null,
   "id": "aa8f4108-988d-4a96-b5e0-4a00edda93c7",
   "metadata": {},
   "outputs": [],
   "source": [
    "# *FILL IN CODE HERE*"
   ]
  },
  {
   "cell_type": "markdown",
   "id": "d94771a8-b0ec-4673-8c64-bded0c94d275",
   "metadata": {},
   "source": [
    "**B)** Following the same approach as above, but for a 3 qubit system, construct an oracle for the target state 011."
   ]
  },
  {
   "cell_type": "code",
   "execution_count": null,
   "id": "e08b3a5b-0bd5-411d-8162-cca8724c0d75",
   "metadata": {},
   "outputs": [],
   "source": [
    "# *FILL IN CODE HERE*"
   ]
  },
  {
   "cell_type": "markdown",
   "id": "019946be-c245-4b1b-9b1c-1f60600b9e09",
   "metadata": {
    "id": "2Yey1XUrl3yz"
   },
   "source": [
    "### The Full Algorithm\n",
    "\n",
    "Now let's see the full algorithm in action. First we can define the Grover phase-flip oracle. It takes \"marked_states\" (a.k.a. target states) as input and outputs the correct phase-flip oracle based on the technique we showed above. This is a more general oracle, because you can input more than one target state if you want. It just repeats the phase-flip algorithm above for each target state."
   ]
  },
  {
   "cell_type": "code",
   "execution_count": null,
   "id": "73442115-bcf8-4e3d-ad3f-89e25f42eb18",
   "metadata": {
    "id": "w3eqdrbMl3yz"
   },
   "outputs": [],
   "source": [
    "def grover_oracle(marked_states):\n",
    "    \"\"\"Build a Grover oracle for multiple marked states\n",
    "\n",
    "    Here we assume all input marked states have the same number of bits\n",
    "\n",
    "    Parameters:\n",
    "        marked_states (str or list): Marked states of oracle\n",
    "\n",
    "    Returns:\n",
    "        QuantumCircuit: Quantum circuit representing Grover oracle\n",
    "    \"\"\"\n",
    "    if not isinstance(marked_states, list):\n",
    "        marked_states = [marked_states]\n",
    "    # Compute the number of qubits in circuit\n",
    "    num_qubits = len(marked_states[0])\n",
    "\n",
    "    qc = QuantumCircuit(num_qubits)\n",
    "    # Mark each target state in the input list\n",
    "    for target in marked_states:\n",
    "\n",
    "        # Flip target bit-string to match Qiskit bit-ordering\n",
    "        rev_target = target[::-1]\n",
    "\n",
    "        # Find the indices of all the '0' elements in bit-string\n",
    "        zero_inds = [ind for ind in range(num_qubits) if rev_target.startswith(\"0\", ind)]\n",
    "\n",
    "        # Add a multi-controlled Z-gate with pre- and post-applied X-gates (open-controls)\n",
    "        # where the target bit-string has a '0' entry\n",
    "        # MCMT stands for Multi-Control, Multi-Target. The 1st argument is the type of gate,\n",
    "        # the 2nd argument is the number of control qubits, and the 3rd is the number of target qubits\n",
    "        if len(zero_inds) > 0:\n",
    "            qc.x(zero_inds)\n",
    "        qc.compose(MCMT(ZGate(), num_qubits - 1, 1), inplace=True)\n",
    "        if len(zero_inds) > 0:\n",
    "            qc.x(zero_inds)\n",
    "        qc.barrier()\n",
    "\n",
    "    return qc"
   ]
  },
  {
   "cell_type": "markdown",
   "id": "67ff78a5-3b83-4489-bcbd-3602b292415b",
   "metadata": {
    "id": "UJiPLI0yl3y0"
   },
   "source": [
    "Let's see the Grover oracle in action for 3 qubits and two marked states."
   ]
  },
  {
   "cell_type": "code",
   "execution_count": null,
   "id": "b64d5839-e462-4f61-b51f-b795c204fd35",
   "metadata": {
    "id": "ZS5lSLocl3y0"
   },
   "outputs": [],
   "source": [
    "marked_states = [\"011\", \"100\"]\n",
    "\n",
    "oracle = grover_oracle(marked_states)\n",
    "oracle.draw('mpl')"
   ]
  },
  {
   "cell_type": "markdown",
   "id": "991a69b5-2300-478f-8d67-d3a64a95df45",
   "metadata": {
    "id": "ODknBiV8l3y0"
   },
   "source": [
    "We can use Qiskit's built in Grover operator algorithm to do the rest. It takes the oracle we have defined above as input, and implements the amplitude amplificiation protocol described earlier.\n",
    "\n",
    "Note: Documentation for the GroverOperator class: https://docs.quantum.ibm.com/api/qiskit/qiskit.circuit.library.GroverOperator"
   ]
  },
  {
   "cell_type": "code",
   "execution_count": null,
   "id": "f2ed272c-4c87-42fa-a3eb-b94f46454d15",
   "metadata": {
    "id": "hgJec0Lpl3y0"
   },
   "outputs": [],
   "source": [
    "grover_op = GroverOperator(oracle, insert_barriers=True)\n",
    "grover_op.decompose().draw('mpl')"
   ]
  },
  {
   "cell_type": "markdown",
   "id": "5ea49b29-fe9f-4778-9dba-66eb6358b526",
   "metadata": {
    "id": "kSyhmXR_l3y0"
   },
   "source": [
    "The optimal number of iterations is given by: $ \\frac{\\pi}{4} \\sqrt{ \\frac{2^{n}}{m} } $ where $n$ is the number of qubits and $m$ is the number of marked states. Recall that there are $N=2^n$ bit strings of length $n$, so the optimal number of iterations is $O(\\sqrt{N})$. We round the result down to the nearest integer. (See the textbook by Kaye, Laflamme & Mosca if you're curious for more details on this.)"
   ]
  },
  {
   "cell_type": "code",
   "execution_count": null,
   "id": "d4bca029-ea7f-458e-acb4-1f4f4c74aaf7",
   "metadata": {
    "id": "4kNMWjX9l3y0"
   },
   "outputs": [],
   "source": [
    "optimal_num_iterations = math.floor(\n",
    "    math.pi / 4 * math.sqrt(2**grover_op.num_qubits / len(marked_states))\n",
    ")\n",
    "optimal_num_iterations"
   ]
  },
  {
   "cell_type": "markdown",
   "id": "36e66801-aa39-45c5-aa17-1f0688591fb3",
   "metadata": {
    "id": "Yl9g2tj0l3y0"
   },
   "source": [
    "Finally, we can run our Grover's search algorithm! We create a quantum circuit with the right number of qubits, create an equal superposition state with Hadamard gates, apply the entire Grover circuit for the optimal number of iterations, and then measure all the qubits."
   ]
  },
  {
   "cell_type": "code",
   "execution_count": null,
   "id": "547d9c10-5e86-4919-8dfa-800a049846f5",
   "metadata": {
    "id": "oDQ2bT5Jl3y0"
   },
   "outputs": [],
   "source": [
    "qc = QuantumCircuit(grover_op.num_qubits)\n",
    "# Create even superposition of all basis states\n",
    "qc.h(range(grover_op.num_qubits))\n",
    "# Apply Grover operator the optimal number of times\n",
    "qc.compose(grover_op.power(optimal_num_iterations), inplace=True)\n",
    "# Measure all qubits\n",
    "qc.measure_all()\n",
    "qc.draw('mpl')"
   ]
  },
  {
   "cell_type": "markdown",
   "id": "330a3971-6b62-4462-bf7d-63a4182cb0b0",
   "metadata": {
    "id": "XLX_7dTXl3y0"
   },
   "source": [
    "Let's simulate our circuit for 1000 shots and see what states we get."
   ]
  },
  {
   "cell_type": "code",
   "execution_count": null,
   "id": "59215e9d-3c1b-4863-9440-1d0177922134",
   "metadata": {
    "id": "tO1Ul7UYl3y0"
   },
   "outputs": [],
   "source": [
    "backend=Aer.get_backend('qasm_simulator')\n",
    "new_circuit = transpile(qc, backend)\n",
    "job = backend.run(new_circuit, shots = 1000)\n",
    "results = job.result()\n",
    "counts = results.get_counts()\n",
    "plot_histogram(counts)"
   ]
  },
  {
   "cell_type": "markdown",
   "id": "bb1ab7f2-9af9-4b8b-becb-f8fcf2902ba0",
   "metadata": {
    "id": "oE19YlI2l3y0"
   },
   "source": [
    "### Play Around with Grover's Algorithm\n",
    "\n",
    "Some things to try:\n",
    "\n",
    "- Add more qubits. You can do this by changing the number of bits in \"marked_states\"\n",
    "- Force the number of iterations to be something else. What happens to the final distribution of states?"
   ]
  },
  {
   "cell_type": "markdown",
   "id": "8ede5974-f32a-4a5d-a365-81206a4e2d25",
   "metadata": {},
   "source": [
    "# Density Matrices (review from yesterday)"
   ]
  },
  {
   "cell_type": "markdown",
   "id": "f5252e04-bfd3-43c7-b59e-fd2f83d4dfd1",
   "metadata": {},
   "source": [
    "As we learned in class, another way to represent quantum states besides braket notation is with density matrices.\n",
    "\n",
    "$$\\rho = |\\psi\\rangle\\langle\\psi|$$"
   ]
  },
  {
   "cell_type": "markdown",
   "id": "89f97f42-7d3a-4420-a067-b4cfecdb6c9b",
   "metadata": {},
   "source": [
    "## Checkpoint\n",
    "\n"
   ]
  },
  {
   "cell_type": "markdown",
   "id": "870d7de0-5906-46cd-afd3-e5d70371ed87",
   "metadata": {},
   "source": [
    "Compute the density matrix for the following one-qubit states:\n",
    "\n",
    "$$|0\\rangle, |1\\rangle, |+\\rangle, |-\\rangle, |+i\\rangle, |-\\rangle$$\n",
    "\n",
    "Optional: Compute the density matrix for the following two-qubit states:\n",
    "\n",
    "$$\\frac{|00\\rangle+|11\\rangle}{\\sqrt{2}}, \\frac{|01\\rangle+i|11\\rangle}{\\sqrt{2}}, \\frac{|++\\rangle+|--\\rangle}{\\sqrt{2}}$$\n",
    "\n",
    "Hint: write them as amplitude vectors first."
   ]
  },
  {
   "cell_type": "markdown",
   "id": "28d3d0e9-805c-4186-a596-b5526ea07e0b",
   "metadata": {},
   "source": [
    "## Continuing..."
   ]
  },
  {
   "cell_type": "markdown",
   "id": "8aa3230a-21d5-40b0-8198-881d5691bb89",
   "metadata": {},
   "source": [
    "Qiskit gives us a convenient way to visualize density matrices through a variety of commands. For example, let us plot the density matrix for the $|+\\rangle$ state ..."
   ]
  },
  {
   "cell_type": "code",
   "execution_count": null,
   "id": "c3947031-709f-4bbd-a877-223f5f0fd113",
   "metadata": {},
   "outputs": [],
   "source": [
    "display(Statevector.from_label(\"+\").draw('latex'))\n",
    "display(Statevector.from_label(\"+\").draw('city'))"
   ]
  },
  {
   "cell_type": "markdown",
   "id": "453ba8fe-3a71-461b-977a-b09c6d3b4705",
   "metadata": {},
   "source": [
    "... and for the $|-i\\rangle$ state."
   ]
  },
  {
   "cell_type": "code",
   "execution_count": null,
   "id": "9ffb58dc-eebd-4806-b477-e86d14d0b6c0",
   "metadata": {},
   "outputs": [],
   "source": [
    "display(Statevector.from_label(\"l\").draw('latex'))\n",
    "display(Statevector.from_label(\"l\").draw('city'))"
   ]
  },
  {
   "cell_type": "markdown",
   "id": "417b11d0-185f-4047-a585-e8c550b9cd71",
   "metadata": {},
   "source": [
    "As we see above, density matrix elements can take complex values."
   ]
  },
  {
   "cell_type": "markdown",
   "id": "74cad667-602b-4d0c-b8e2-21ad22d93b36",
   "metadata": {},
   "source": [
    "For one qubit, the density matrix can be represented as a sum of the Pauli matrices, weighted by the expectation value for each Pauli matrix: $$\\rho = \\frac{\\langle I\\rangle I+\\langle X\\rangle X+\\langle Y\\rangle Y+\\langle Z\\rangle Z}{2}.$$\n",
    "\n",
    "Note that expectation values for Pauli matrices are equivalent to expectation values for measurements in the corresponding basis, according to the scheme that we defined above of assigning a value of (+1) or (-1) to a measurement. Also, $\\langle I \\rangle = 1$.\n",
    "\n",
    "We note that this formula for the density matrix contains exactly as much information as the Bloch sphere reconstruction from above. This suggests that reconstructing the density matrix for a state will allow us to learn a sufficient amount of information about the state. Additionally, for systems of more than one qubit, it will be more convenient to stick to density matrices, as there is no convenient Bloch sphere picture that can represent a multiqubit system.\n",
    "\n",
    "For two qubits, $$\\rho = \\frac{\\langle II\\rangle II+\\langle IX\\rangle IX+\\langle IY\\rangle IY+\\langle IZ\\rangle IZ+\\langle XI\\rangle XI+\\langle XX\\rangle XX+\\langle XY\\rangle XY+\\langle XZ\\rangle XZ+\\langle YI\\rangle YI+\\langle YX\\rangle YX+\\langle YY\\rangle YY+\\langle YZ\\rangle YZ+\\langle ZI\\rangle ZI+\\langle ZX\\rangle ZX+\\langle ZY\\rangle ZY+\\langle ZZ\\rangle ZZ}{4},$$\n",
    "\n",
    "where $\\langle XY \\rangle$ represents the expectation value of jointly measuring the first qubit in the X basis and the zeroth qubit in the Y basis.\n",
    "\n",
    "In general, the formula for the density matrix of an n-qubit system is \n",
    "\n",
    "$$\\rho = \\frac{\\sum_{P_i\\in\\{I,X,Y,Z\\}^{n}}\\langle P_i\\rangle P_i}{2^n}.$$\n",
    "\n",
    "In words, the density matrix is proportional to the sum of all the Pauli strings (products of single-qubit Pauli operators), weighted by the expectation value for each Pauli matrix."
   ]
  },
  {
   "cell_type": "markdown",
   "id": "6518a6e2-ebcf-45aa-a99b-2b2ffa05e9a9",
   "metadata": {},
   "source": [
    "Let's generate the four cardinal states again and randomly permute them."
   ]
  },
  {
   "cell_type": "code",
   "execution_count": null,
   "id": "ee3a501a-f68f-437b-99d1-ccb84b83f21a",
   "metadata": {},
   "outputs": [],
   "source": [
    "state1, state2, state3, state4 = random.sample([Statevector.from_label('+'),\n",
    "                                                Statevector.from_label('-'),\n",
    "                                                Statevector.from_label('r'),\n",
    "                                                Statevector.from_label('l')], 4) # randomly permuting the four options"
   ]
  },
  {
   "cell_type": "markdown",
   "id": "2d7b3241-2ac3-4ea2-847e-ddbdbc3e0890",
   "metadata": {},
   "source": [
    "Measuring only in the Z basis is not very useful, as we discussed above. The distributions are identical."
   ]
  },
  {
   "cell_type": "code",
   "execution_count": null,
   "id": "23431224-9978-47c0-98c9-29a1ddc54982",
   "metadata": {},
   "outputs": [],
   "source": [
    "display(plot_histogram(state1.sample_counts(nshots)))\n",
    "display(plot_histogram(state2.sample_counts(nshots)))\n",
    "display(plot_histogram(state3.sample_counts(nshots)))\n",
    "display(plot_histogram(state4.sample_counts(nshots)))"
   ]
  },
  {
   "cell_type": "markdown",
   "id": "3e82e466-589c-4fe6-9b7d-4fb2989025e4",
   "metadata": {},
   "source": [
    "However, their density matrices look different (note the different signs). If we could reconstruct their density matrices, that might be useful for differentiating between the states."
   ]
  },
  {
   "cell_type": "code",
   "execution_count": null,
   "id": "49f696f3-7641-4793-a78b-b1ca917be088",
   "metadata": {
    "scrolled": true
   },
   "outputs": [],
   "source": [
    "display(state1.draw('city'))\n",
    "display(state2.draw('city'))\n",
    "display(state3.draw('city'))\n",
    "display(state4.draw('city'))"
   ]
  },
  {
   "cell_type": "markdown",
   "id": "f5695d93-d58d-4dd0-b1b2-1d8d1541b6f6",
   "metadata": {},
   "source": [
    "## Checkpoint"
   ]
  },
  {
   "cell_type": "markdown",
   "id": "b83ff19d-f132-4506-84b5-fe189b0fd4d1",
   "metadata": {},
   "source": [
    "Can you match the above four density matrices to the correct states ($|+\\rangle, |-\\rangle, |+i\\rangle, |-i\\rangle$)?"
   ]
  },
  {
   "cell_type": "markdown",
   "id": "a6f66357-ef00-4adc-932a-66326730b508",
   "metadata": {},
   "source": [
    "## Final Notes on Density Matrices"
   ]
  },
  {
   "cell_type": "markdown",
   "id": "7b438cb3-7306-475c-b1a7-45214fd6c40e",
   "metadata": {},
   "source": [
    "What do all the parts of the density matrix represent?\n",
    "\n",
    "The diagonal entries represent the probabilities of a measurement ending up in the respective computational state. Consequently, the trace of the density matrix, or the sum of its diagonal entries, will always be $1$, since total probability of the system being measured in some state is always 1.\n",
    "\n",
    "The off-diagonal entries are known as \"coherences\" and represent the amount of \"quantumness\" in the system. We can exactly quantify the \"quantumness\" through a metric known as the purity, which is computed by taking the trace of the density matrix squared:\n",
    "\n",
    "$$purity = Tr(\\rho^2)$$\n",
    "\n",
    "Use `density_matrix.purity()` to compute the purity of a density matrix."
   ]
  },
  {
   "cell_type": "markdown",
   "id": "5ec506ec-8941-4963-b606-95e3e176143b",
   "metadata": {},
   "source": [
    "The density matrix representation is useful because it also allows us to represent all kinds of states, including pure (quantum) states, fully classical states, and everything in between.\n",
    "\n",
    "If we prepare the $|+\\rangle$ state, a pure state, its density matrix is fully quantum.\n",
    "\n",
    "**What is the purity of this state?**\n",
    "\n",
    "On the other hand, if we take the $|+\\rangle$ state and now measure it in the Z basis but don't look at the result, there is a 50% chance that it went to each of the $|0\\rangle$ and $|1\\rangle$ states. The state is no longer in a superposition (we collapsed the superposition when we measured), but it is in a probabilistic mixture of the $0$ and $1$ states. We can describe the new value of the state as $\\rho = 0.5|0\\rangle\\langle 0| + 0.5|1\\rangle\\langle 1|$. This state is often referred to as the maximally mixed state.\n",
    "\n",
    "**What is the purity of this state?**\n",
    "\n",
    "Physical quantum systems are susceptible to error channels that induce loss. The effect is that the system \"decoheres\" over time. If we were to track the time evolution of the density matrix, we would see the off-diagonal terms shrinking. The purity would be somewhere between the two answers you gave above, trending from the first answer to the second answer as the loss terms entirely dominate and fully decohere the system.\n",
    "\n",
    "Come talk to the lab staff if you want to learn more about errors!"
   ]
  },
  {
   "cell_type": "markdown",
   "id": "faf43e1f-0224-48ba-95ac-f22a4e803fc7",
   "metadata": {},
   "source": [
    "## Exercises"
   ]
  },
  {
   "cell_type": "markdown",
   "id": "720f0e55-5420-411c-8ec7-ac0193071658",
   "metadata": {},
   "source": [
    "Plot the density matrix for the maximally mixed state. Notice how the off-diagonal entries are zero! This means it is entirely a classical state, equivalent to a fair coin which has two equiprobable classical outcomes."
   ]
  },
  {
   "cell_type": "code",
   "execution_count": null,
   "id": "57ec678c-b964-4e1b-ba60-3bb438a2fc43",
   "metadata": {},
   "outputs": [],
   "source": [
    "# plot the quantum\n",
    "maximally_mixed_state = # *FILL IN*\n",
    "display(maximally_mixed_state.draw('city'))"
   ]
  },
  {
   "cell_type": "markdown",
   "id": "5583b3d8-1a1e-4fba-acae-f332036f6723",
   "metadata": {},
   "source": [
    "Measure the maximally mixed state in the $X$ basis and compare the result to measuring the $|+\\rangle$ state in the X basis. Plot the histograms below.\n",
    "\n",
    "Hint: you can take `maximally_mixed_state` that you created above and evolve it with `dm = maximally_mixed_state.evolve(qiskit.circuit.library.HGate())` to measure in another basis. Use `dm.sample_counts()` to obtain the counts."
   ]
  },
  {
   "cell_type": "code",
   "execution_count": null,
   "id": "3bf5ab4e-f7f9-48fa-bf14-dd5921f55982",
   "metadata": {},
   "outputs": [],
   "source": [
    "# plot the \n",
    "maximally_mixed_state = # *FILL IN*\n",
    "counts = # *FILL IN*\n",
    "display(plot_histogram(counts))"
   ]
  },
  {
   "cell_type": "markdown",
   "id": "e3e5a907-b2ea-4d6d-89d7-65e8037a907e",
   "metadata": {},
   "source": [
    "### Challenge Problem: Quantum State Tomography with Larger States\n"
   ]
  },
  {
   "cell_type": "markdown",
   "id": "8fd95fcc-3ac0-41e4-acd9-f48a526347a3",
   "metadata": {},
   "source": [
    "Quantum state tomography on larger states entails reconstructing the density matrix for the larger system and follows roughly the same process as above, albeit with far more measurements. For the two-qubit case, we already need to compute sixteen expectation values. Luckily, Qiskit gives us an easy shortcut to compute expectation values for long Pauli strings."
   ]
  },
  {
   "cell_type": "code",
   "execution_count": null,
   "id": "b5d314ee-2978-440f-8b8d-94f7fa50f397",
   "metadata": {},
   "outputs": [],
   "source": [
    "n = 2 # number of qubits\n",
    "statevector = random_statevector(2**n)\n",
    "expectation = statevector.expectation_value(Pauli('IX'))\n",
    "print(statevector)\n",
    "print(expectation)"
   ]
  },
  {
   "cell_type": "markdown",
   "id": "9aff5135-44af-4ffd-8782-146d8b455cc5",
   "metadata": {},
   "source": [
    "Design a protocol to reconstruct the density matrix for a n-qubit state. You may use\n",
    "\n",
    "```python\n",
    "qc = QuantumCircuit(n)\n",
    "qc.initialize(statevector)\n",
    "```\n",
    "\n",
    "as many times as you'd like to initialize your circuit with the input state. You may not investigate other properties of the `statevector` variable.\n",
    "\n",
    "\n",
    "Hints:\n",
    "* We made a function that generates all Pauli strings of length `n` (measurements on n qubits): `get_all_pauli_strings(n)`.\n",
    "* You should also use the `Pauli(string).to_matrix()` function.\n",
    "* Recall that $$\\rho = \\frac{\\sum_{P_i\\in\\{I,X,Y,Z\\}^{n}}\\langle P_i\\rangle P_i}{2^n}.$$"
   ]
  },
  {
   "cell_type": "code",
   "execution_count": null,
   "id": "6b92d566-07fd-46ca-881d-4f8654963c52",
   "metadata": {},
   "outputs": [],
   "source": [
    "# write your protocol\n",
    "def reconstruct_dm(statevector: Statevector, n):\n",
    "    # Function to reconstruct the density matrix of an input state\n",
    "    # Input: statevector: a Qiskit Statevector, n: the number of qubits\n",
    "    # Output: a (2**n by 2**n) Qiskit DensityMatrix\n",
    "    \n",
    "    # starter code\n",
    "    result = np.zeros((2**n, 2**n))\n",
    "    # *FILL IN*\n",
    "    qc = QuantumCircuit(n)\n",
    "    qc.initialize(statevector)\n",
    "    # quantum circuit\n",
    "    # *FILL IN*\n",
    "    ...\n",
    "    qc.measure_all()\n",
    "    backend = Aer.get_backend('qasm_simulator')\n",
    "    new_circuit = transpile(qc, backend)\n",
    "    job = backend.run(new_circuit, shots = # *FILL IN*)\n",
    "    results = job.result()\n",
    "    counts = results.get_counts()\n",
    "    \n",
    "    # quantum circuit(s)\n",
    "    # *FILL IN*\n",
    "    ...\n",
    "    \n",
    "    # post-processing\n",
    "    # *FILL IN*\n",
    "    ...\n",
    "    return DensityMatrix(result)"
   ]
  },
  {
   "cell_type": "code",
   "execution_count": null,
   "id": "825c13c5-c99d-4363-a795-e08d5e8415cc",
   "metadata": {},
   "outputs": [],
   "source": [
    "n = 4\n",
    "statevector = random_statevector(2**n)\n",
    "density_matrix = reconstruct_dm(statevector, n)\n",
    "print(\"purity of reconstructed density matrix is\", density_matrix.purity())\n",
    "display(statevector.draw('city'))\n",
    "display(density_matrix.draw('city'))"
   ]
  },
  {
   "cell_type": "markdown",
   "id": "c60627b4-43e2-43bb-b582-e2f360329b3b",
   "metadata": {
    "scrolled": true
   },
   "source": [
    "If everything went well, these should be the same."
   ]
  },
  {
   "cell_type": "markdown",
   "id": "646ccd36-e9f1-448d-8424-6b800c55fa97",
   "metadata": {},
   "source": [
    "### Challenge Problem: Recovering a Pure State from a Density Matrix"
   ]
  },
  {
   "cell_type": "markdown",
   "id": "50cd1279-4c10-465f-aba5-3aeeba972053",
   "metadata": {},
   "source": [
    "Let $\\rho = |\\psi\\rangle\\langle \\psi|$ but we only have $\\rho$ or some approximate reconstruction of $\\rho$. How do we find $|\\psi\\rangle$?\n",
    "\n",
    "Hint: use the spectral decomposition and diagonalize the matrix into its eigenbasis. What do you notice about the relative magnitudes of the eigenvalues?"
   ]
  },
  {
   "cell_type": "code",
   "execution_count": null,
   "id": "3f1bfcc5-0399-406f-8487-c9cd1ce8a4ec",
   "metadata": {},
   "outputs": [],
   "source": [
    "def recover_state(rho, n):\n",
    "    # Function to recover the pure state from a density matrix\n",
    "    # Input: rho: a Qiskit DensityMatrix, n: the number of qubits\n",
    "    # Output: a (2**n) unit vector\n",
    "\n",
    "    result = np.zeros(2**n), dtype=np.complex128)\n",
    "    # *FILL IN*\n",
    "    ...\n",
    "    \n",
    "    return result"
   ]
  },
  {
   "cell_type": "code",
   "execution_count": null,
   "id": "a2f218a8-3ad9-443c-8c50-447d33bde388",
   "metadata": {},
   "outputs": [],
   "source": [
    "n = 4\n",
    "\n",
    "statevector = random_statevector(2**n)*0.95\n",
    "phi = recover_state(DensityMatrix(statevector), n)\n",
    "\n",
    "print(statevector)\n",
    "print(phi)\n",
    "\n",
    "print(np.abs(statevector))\n",
    "print(np.abs(phi))\n",
    "print(np.abs(statevector)@np.abs(phi))"
   ]
  },
  {
   "cell_type": "markdown",
   "id": "22794a56-a66f-4ffb-96f1-3c1e6a9bcbb7",
   "metadata": {},
   "source": [
    "### Challenge Problem: Quantum Process Tomography"
   ]
  },
  {
   "cell_type": "markdown",
   "id": "ed7f72b1-e307-4414-aea6-362f3de6cd66",
   "metadata": {},
   "source": [
    "Suppose we have an unknown quantum circuit whose behavior we want to characterize. The circuit's behavior can be described by a unitary matrix $U$ which we hope to find out.\n",
    "\n",
    "We can run a similar procedure to quantum state tomography known as quantum process tomography. We will run the quantum circuit with various known quantum states as the input and perform quantum state tomography on each resulting output. Once we know how the quantum circuit operates on this set of states, we know how the quantum circuit will operate on any other pure state."
   ]
  },
  {
   "cell_type": "markdown",
   "id": "6776899a-40b1-4ca0-9860-3a0f24026fd9",
   "metadata": {},
   "source": [
    "Design a protocol to reconstruct the unitary matrix for a one-qubit unitary operator. You may create as many quantum circuits as you'd like. You may use `statevector.evolve(u)` but you may not investigate other properties of the `u` variable. Reuse your quantum state tomography and pure state recovery protocols from above. How many times do you need to run quantum state tomography?\n",
    "\n",
    "Hints:\n",
    "* To obtain the computational basis vectors, use `statevector = Statevector.from_int(i, 2**n)`.\n",
    "* You can compute the result of the circuit (as a density matrix) by invoking `output_dm = DensityMatrix(statevector.evolve(u))`. Do not directly access `statevector.evolve(u)` as a statevector.\n",
    "* To find $|u_i\\rangle$ from the reconstructed density matrix $\\rho_i \\approx |u_i\\rangle\\langle u_i|$ requires some work, as in the previous challenge problem. Due to the imprecision of this reconstruction process, you will have to find eigenstates $|u_{ik}\\rangle$ of $\\rho_i$ such that $\\rho_i = \\sum_k p_k |u_{ik}\\rangle\\langle u_{ik}|$ where $\\sum_k p_k = 1$. If your density matrix reconstruction is well-behaved, one of the $p_k$ will be much larger than the others and the corresponding $|u_{ik}\\rangle$ is a good guess for $|u_{i}\\rangle$, up to a phase factor.\n",
    "* Keep an eye out for phase! When you reconstruct $U$ from the $|u_{i}\\rangle$, some of the columns might need an extra phase factor in relation to one another. Just sampling the computational basis is insufficient. You can assume that $U_{0,0} \\in \\mathbb{R}$."
   ]
  },
  {
   "cell_type": "code",
   "execution_count": null,
   "id": "e8d7d4ec-1cae-4f03-8e43-24d8163f16ca",
   "metadata": {},
   "outputs": [],
   "source": [
    "def reconstruct_operator(u, n):\n",
    "    # Function to reconstruct the matrix of a unitary operator\n",
    "    # Input: u: a Qiskit Operator with u[0,0] real, n: the number of qubits\n",
    "    # Output: a (2**n by 2**n) unitary matrix\n",
    "\n",
    "    result = np.zeros((2**n, 2**n), dtype=np.complex128)\n",
    "    # *FILL IN*\n",
    "    ...\n",
    "    \n",
    "    return result"
   ]
  },
  {
   "cell_type": "code",
   "execution_count": null,
   "id": "82b72063-7b89-438c-a2cc-dbdeb2bc161d",
   "metadata": {},
   "outputs": [],
   "source": [
    "n = 1\n",
    "u_global_phase = qiskit.quantum_info.random_unitary(2**n)\n",
    "u = u_global_phase/np.exp(1j*np.angle(u_global_phase.to_matrix()[0,0]))\n",
    "operator = reconstruct_operator(u, n)\n",
    "print(np.allclose(u.to_matrix(), operator))\n",
    "print(u.to_matrix())\n",
    "print(operator)\n",
    "print()\n",
    "for i in range(2**n):\n",
    "    print(np.abs(u.to_matrix()[:,i]))\n",
    "    print(np.abs(operator[:,i]))"
   ]
  },
  {
   "cell_type": "markdown",
   "id": "1aeb5b6f-3da7-42cd-ba29-3876f5e154f8",
   "metadata": {},
   "source": [
    "Can you use your algorithm on a larger system? How many times do you need to run quantum state tomography?"
   ]
  },
  {
   "cell_type": "code",
   "execution_count": null,
   "id": "ebc9dae4-43fa-4909-b02f-195227f23390",
   "metadata": {},
   "outputs": [],
   "source": [
    "n = 3\n",
    "u_global_phase = qiskit.quantum_info.random_unitary(2**n)\n",
    "u = u_global_phase/np.exp(1j*np.angle(u_global_phase.to_matrix()[0,0]))\n",
    "operator = reconstruct_operator(u, n)\n",
    "print(np.allclose(u.to_matrix(), operator))\n",
    "print(u.to_matrix())\n",
    "print(operator)\n",
    "print()\n",
    "for i in range(2**n):\n",
    "    print(np.abs(u.to_matrix()[:,i]))\n",
    "    print(np.abs(operator[:,i]))"
   ]
  }
 ],
 "metadata": {
  "kernelspec": {
   "display_name": "Python 3 [Default]",
   "language": "python",
   "name": "python3"
  },
  "language_info": {
   "codemirror_mode": {
    "name": "ipython",
    "version": 3
   },
   "file_extension": ".py",
   "mimetype": "text/x-python",
   "name": "python",
   "nbconvert_exporter": "python",
   "pygments_lexer": "ipython3",
   "version": "3.11.9"
  }
 },
 "nbformat": 4,
 "nbformat_minor": 5
}
