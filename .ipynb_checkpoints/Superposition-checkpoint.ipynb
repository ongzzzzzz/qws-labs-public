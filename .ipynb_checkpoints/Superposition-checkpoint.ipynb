{
 "cells": [
  {
   "cell_type": "markdown",
   "id": "4ca9cfc1-8679-40b4-b39c-e217661ee091",
   "metadata": {},
   "source": [
    "<div style=\"background-color:rgba(230, 245, 255, 1.0); text-align:center; vertical-align: middle; padding:20px 0;border:3px; border-style:solid; padding: 0.5em; border-color: rgba(0, 153, 255, 1.0); color: #000000;\">\n",
    "\n",
    "<h1><strong>MIT Quantum Winter School</strong></h1>\n",
    "\n",
    "<h1><strong>Day 1 - Superposition</strong></h1>\n",
    "\n",
    "<img src=\"figures/course_logo.png\" width=\"500\"/>\n",
    "\n",
    "</div>"
   ]
  },
  {
   "cell_type": "markdown",
   "id": "4569c775-6265-4780-85b4-d6a56507b871",
   "metadata": {},
   "source": [
    "# Dirac Notation"
   ]
  },
  {
   "cell_type": "markdown",
   "id": "aeb8ac81-c4d8-4a57-8a90-0c07c1a5cdb8",
   "metadata": {},
   "source": [
    "**A)** Write-out the following vectors using Dirac notation. If they are not normalized, normalize them.\n",
    "1. $\\begin{pmatrix}1 \\\\ 0\\end{pmatrix}$\n",
    "2. $\\begin{pmatrix}0 \\\\ 1\\end{pmatrix}$\n",
    "3. $\\begin{pmatrix}\\frac{1}{\\sqrt{2}} \\\\ \\frac{1}{\\sqrt{2}}\\end{pmatrix}$\n",
    "4. $\\begin{pmatrix}\\frac{1}{\\sqrt{2}} \\\\ -\\frac{1}{\\sqrt{2}}\\end{pmatrix}$\n",
    "5. $\\begin{pmatrix} 3 \\\\ 7 \\end{pmatrix}$\n",
    "6. $\\begin{pmatrix} 2 \\\\ -3 \\end{pmatrix}$\n",
    "7. $\\begin{pmatrix} 1 \\\\ e^{-i \\frac{\\pi}{2}} \\end{pmatrix}$ \n",
    "\n",
    "\n",
    "**B)** Write-out the following states using vector notation. \n",
    "1. $|+\\rangle$\n",
    "2. $|-\\rangle$\n",
    "3.  $\\frac{1}{\\sqrt{2}}(|+\\rangle- |-\\rangle)$\n",
    "4.   $\\frac{1}{\\sqrt{2}}(|1\\rangle + |-\\rangle)$"
   ]
  },
  {
   "cell_type": "markdown",
   "id": "182a2154-efba-4094-ae63-1ab249df123d",
   "metadata": {},
   "source": [
    "# The Bloch Circle"
   ]
  },
  {
   "cell_type": "markdown",
   "id": "a658a5e7-13fb-43e7-b9c7-0bd758a09bab",
   "metadata": {},
   "source": [
    "Sketch the following states as vectors on the Bloch circle.\n",
    "\n",
    "1. $|0\\rangle$ \n",
    "\n",
    "<img src=\"figures/superposition/bloch_circle_blank.png\" width=\"300\"/>\n",
    "\n",
    "2. $|1\\rangle$ \n",
    "\n",
    "<img src=\"figures/superposition/bloch_circle_blank.png\" width=\"300\"/>\n",
    "\n",
    "3. $|+\\rangle$ \n",
    "\n",
    "<img src=\"figures/superposition/bloch_circle_blank.png\" width=\"300\"/>\n",
    "\n",
    "4. $|-\\rangle$ \n",
    "\n",
    "<img src=\"figures/superposition/bloch_circle_blank.png\" width=\"300\"/>\n",
    "\n",
    "5. $\\cos(\\frac{\\pi}{8})|0\\rangle + \\sin(\\frac{\\pi}{8})|1\\rangle$ \n",
    "\n",
    "<img src=\"figures/superposition/bloch_circle_blank.png\" width=\"300\"/>\n",
    "\n",
    "6. $\\cos(\\frac{-\\pi}{3})|0\\rangle + \\sin(\\frac{-\\pi}{3})|1\\rangle$ \n",
    "\n",
    "<img src=\"figures/superposition/bloch_circle_blank.png\" width=\"300\"/>\n"
   ]
  },
  {
   "cell_type": "markdown",
   "id": "a294e436-5c9b-4370-a6df-f73e9171da61",
   "metadata": {},
   "source": [
    "# Measuring Mini Magnets: The Stern-Gerlach Experiment"
   ]
  },
  {
   "cell_type": "markdown",
   "id": "f691af24-724b-4bed-8d08-572ab442ee22",
   "metadata": {},
   "source": [
    "The Stern-Gerlach experiment was a landmark experiment in the history of physics, because it provided the first experimental evidence that things behave in a \"quantum'' way on the smallest scales of our universe.\n",
    "\n",
    "In 1913, Niels Bohr predicted that the magnetic moment is quantized. In other words, the magnetic moment for a quantum object, such as an electron or a silver atom, cannot be measured to be in an arbitrary orientation. Nine years later, in 1922, Otto Stern and Walter Gerlach performed their historic experiment."
   ]
  },
  {
   "attachments": {},
   "cell_type": "markdown",
   "id": "55df7fed-6766-4dcc-b3b7-f7b7bfd676cc",
   "metadata": {},
   "source": [
    "<div style=\"background-color:rgba(255, 253, 255, 1.0); text-align:center; vertical-align: middle; padding:20px 0;border:3px; border-style:solid; padding: 0.5em; border-color: rgba(216, 129, 247, 1.0); color: #000000;\">\n",
    "\n",
    "<h4><strong>Magnets in Nonuniform Magnetic Fields</strong></h4>\n",
    "\n",
    "A magnetic dipole is essentially a tiny magnet. A nonuniform magnetic field deflects a magnetic dipole, and the force on the dipole depends upon the overlap between the dipole orientation with the magnetic field orientation. More formally, for magnetic dipole moment $\\vec{m}$ and magnetic field $\\vec{B}$, the force is given by: $\\vec{F} = \\nabla (\\vec{m}\\cdot \\vec{B})$.\n",
    "\n",
    "Our main takeaway here has to do with the amount of deflection of a dipole moment traveling through a region of nonuniform magnetic field. Consider a field oriented in the $z$-direction: $\\vec{B}=B(z)\\hat{z}$ with $B(z)$ increasing with $z$. If the dipole moment is perpendicular to the magnetic field, the deflection will be zero. If the dipole moment points in the $+z$-direction, the deflection will be maximally upwards. If the dipole moment points in the $-z$-direction, the deflection will be maximally downwards. For partial alignment with $\\vec{B}$, the deflection will be somewhere in between.\n",
    "\n",
    "<img src=\"figures/superposition/dipole_in_nonuniform.png\" width=\"1100\"/>\n",
    "\n",
    "</div>"
   ]
  },
  {
   "attachments": {},
   "cell_type": "markdown",
   "id": "02b7869c-01b9-41aa-8215-6b4c546935a4",
   "metadata": {},
   "source": [
    "Many quantum objects act like magnetic dipoles due to intrinsic properties such as *spin* and *angular momentum*. We can think of a silver atom, which has non-zero angular momentum, as a magnetic dipole. A silver atom traveling in a nonuniform magnetic field will therefore be deflected. \n",
    "\n",
    "In the Stern-Gerlach experiment, they shot silver atoms through a nonuniform magnetic field, let's say $\\vec{B}=B(z)\\hat{z}$. Classically, we would expect that the silver atom's magnetic moment could be anywhere from fully aligned ($\\vec{m} = |m|\\hat{z}$) to fully anti-aligned ($\\vec{m} = -|m|\\hat{z}$) with the field, and there would be a distribution of silver atoms at all possible amounts of deflection. But instead, they observed that the silver atoms deflected only maximally up or down, indicating that the silver atom's magnetic moment could only be $\\vec{m} = \\pm |m|\\hat{z}$. Niels Bohr was right –– magnetic moments are indeed quantized.\n",
    "\n",
    "Now consider a quantum particle which has spin-$\\frac{1}{2}$ (and therefore a magnetic moment). An electron is an example of such a particle. We can make a \"Stern-Gerlach machine\" which takes in a particle on the left-side. Since magnetic moments are quantized, the particle's magnetic moment can only be \"up\" or \"down\" with respect to the magnetic field. The machine outputs our particle out of the top port if the magnetic moment is \"up\" and the bottom port if the magnetic moment is \"down.\"\n",
    "\n",
    "There is nothing special about the $z$-direction, so we can make two of these machines, one with the magnetic field in the $z$-direction and one with the magnetic field in the $x$-direction, as shown below.\n",
    "\n",
    "<img src=\"figures/superposition/stern-gerlach.png\" width=\"800\"/>\n",
    "\n",
    "The action of these machines is to *perform a measurement* of the magnetic moment along a given axis: $\\hat{z}$ or $\\hat{x}$. We can label the output states of the two machines $|0\\rangle$ and $|1\\rangle$ for measuring along $\\hat{z}$, and $|+\\rangle$ and $|-\\rangle$ for measuring along $\\hat{x}$. These labels should look familiar to us... think Bloch circle!"
   ]
  },
  {
   "cell_type": "markdown",
   "id": "c808c419-d530-42e5-ae17-4c011f130388",
   "metadata": {},
   "source": [
    "## Practice Problems\n",
    "\n",
    "For the following problems, assume that the source outputs a particle which is an equal superposition of $|0\\rangle$ and $|1\\rangle$, as well as an equal superposition of $|+\\rangle$ or $|-\\rangle$. (For now, do not worry about how to realize this source. Such a source does exist, which outputs the state $|i\\rangle$, and we will encounter it in the next chapter.) What is the probability of finding the particle at each of the output ports, shown with dashed lines? "
   ]
  },
  {
   "attachments": {},
   "cell_type": "markdown",
   "id": "90900b34-7218-4c34-a93a-8122298735c6",
   "metadata": {},
   "source": [
    "**A)**\n",
    "<img src=\"figures/superposition/stern-gerlach_a.png\" width=\"600\"/>"
   ]
  },
  {
   "cell_type": "markdown",
   "id": "400e3a73",
   "metadata": {},
   "source": [
    "**B)**\n",
    "<img src=\"figures/superposition/stern-gerlach_b.png\" width=\"600\"/>"
   ]
  },
  {
   "cell_type": "markdown",
   "id": "9b9df621",
   "metadata": {},
   "source": [
    "**C)**\n",
    "<img src=\"figures/superposition/stern-gerlach_c.png\" width=\"600\"/>"
   ]
  },
  {
   "cell_type": "markdown",
   "id": "5bd5a308",
   "metadata": {},
   "source": [
    "**D)**\n",
    "<img src=\"figures/superposition/stern-gerlach_d.png\" width=\"600\"/>"
   ]
  },
  {
   "cell_type": "markdown",
   "id": "65025f7e",
   "metadata": {},
   "source": [
    "**E)**\n",
    "<img src=\"figures/superposition/stern-gerlach_e.png\" width=\"600\"/>"
   ]
  },
  {
   "cell_type": "markdown",
   "id": "b5777b05-abd4-4d33-8261-345623ba4639",
   "metadata": {},
   "source": [
    "# Inner Products\n",
    "\n",
    "Compute the following inner products. Let $|\\psi\\rangle = \\alpha|0\\rangle+\\beta|1\\rangle$ and $|\\phi\\rangle = \\gamma|0\\rangle+\\delta|1\\rangle$.\n",
    "\n",
    "1. $\\langle 0|+ \\rangle$\n",
    "2.  $\\langle -|+ \\rangle$\n",
    "3.   $\\langle 0|\\psi \\rangle$\n",
    "4.    $\\langle \\phi|\\psi \\rangle$"
   ]
  },
  {
   "cell_type": "markdown",
   "id": "fa3cc317-4b88-4f16-816d-0003dea46c46",
   "metadata": {},
   "source": [
    "# Outer Products \n",
    "\n",
    "Compute the following outer products. Let $|\\psi\\rangle = \\alpha|0\\rangle+\\beta|1\\rangle$ and $|\\phi\\rangle = \\gamma|0\\rangle+\\delta|1\\rangle$.\n",
    "\n",
    "1. $|0\\rangle \\langle 0 |$\n",
    "2. $|1\\rangle \\langle + |$\n",
    "3. $|0\\rangle \\langle \\psi |$\n",
    "4. $|\\phi\\rangle \\langle \\psi |$"
   ]
  },
  {
   "cell_type": "markdown",
   "id": "8e6bf786-f5c9-4358-b4d0-ab45003c08c8",
   "metadata": {},
   "source": [
    "# Gates\n",
    "\n",
    "So far, we have learned four gates, which lie at the core of all quantum algorithms:\n",
    "$$\\begin{equation*}\n",
    "    X = \\begin{pmatrix}\n",
    "        0 & 1 \\\\\n",
    "        1 & 0 \n",
    "    \\end{pmatrix} ~~~~~\n",
    "    Z = \\begin{pmatrix}\n",
    "        1 & 0 \\\\\n",
    "        0 & -1 \n",
    "    \\end{pmatrix} ~~~~~\n",
    "    H = \\frac{1}{\\sqrt{2}}\\begin{pmatrix}\n",
    "        1 & 1 \\\\\n",
    "        1 & -1 \n",
    "    \\end{pmatrix} ~~~~~\n",
    "    I = \\begin{pmatrix}\n",
    "        1 & 0 \\\\\n",
    "        0 & 1 \n",
    "    \\end{pmatrix} \n",
    "\\end{equation*}$$\n",
    "\n",
    "\n",
    "**A)** Let $|\\psi \\rangle = \\alpha |0\\rangle+\\beta |1\\rangle$. Compute the following states:\n",
    "1. $HZ |\\psi \\rangle$\n",
    "2. $XZH |\\psi \\rangle$\n",
    "3. $XHZX |\\psi\\rangle$\n",
    "\n",
    "**B)** We want to apply some operator(s) to the states below to transform them to $|\\psi \\rangle = \\alpha |0\\rangle+\\beta |1\\rangle$. For each instance, write down the operator(s), and apply them as a proof of correctness.\n",
    "\n",
    "1. $|\\phi_1\\rangle= \\alpha |0\\rangle - \\beta |1\\rangle$\n",
    "2. $|\\phi_2\\rangle= \\alpha |1\\rangle + \\beta |0\\rangle$\n",
    "3. $|\\phi_3\\rangle= \\alpha |1\\rangle - \\beta |0\\rangle$\n",
    "4. $|\\phi_4\\rangle= (\\frac{\\alpha+\\beta}{\\sqrt{2}}) |0\\rangle - (\\frac{\\alpha-\\beta}{\\sqrt{2}}) |1\\rangle$\n",
    "\n",
    "**C)** Give the matrix or a sequence of matrices to produce the following state transformations. \n",
    "1. $|+\\rangle \\rightarrow |-\\rangle$\n",
    "2. $|-\\rangle \\rightarrow |0\\rangle$\n",
    "3. $|1\\rangle \\rightarrow |0\\rangle$\n",
    "4. $|1\\rangle \\rightarrow |1\\rangle$\n",
    "5. $|0\\rangle \\rightarrow |0\\rangle$\n",
    "6. $\\frac{1}{\\sqrt{2}}(|+\\rangle- |-\\rangle) \\rightarrow \\frac{1}{\\sqrt{2}}(|0\\rangle + |1\\rangle)$\n",
    "\n",
    "**D)** *(optional)* What are the eigenvalues and eigenvectors of each of $X, Z$?\n",
    "\n",
    "**E)** *(optional)* We can also call our gates *operators*, since they map quantum states to quantum states within our Hilbert space. Every *observable* (physical measureable property) of a quantum system is described by a operator. \n",
    "\n",
    "Let $\\hat{A}$ be an operator with eigenvalues $a_i$ and orthonormal eigenvectors $| \\phi_i \\rangle$. Orthonormal means that each eigenvector has norm 1 and distinct eigenvectors have an inner product of 0, i.e. $\\langle \\phi_i | \\phi_j \\rangle = \\delta_{ij}$. We can express $\\hat{A}$ by its spectral decomposition: $\\hat{A} = \\sum_i a_i |\\phi_i\\rangle \\langle \\phi_i |$\n",
    "\n",
    "1. Show that the following eigenvalue equation holds using the above expression: $\\hat{A} |\\phi_j\\rangle = a_j |\\phi_j\\rangle$.\n",
    "2. Confirm that $X, Z$ can be expressed via spectral decomposition, using the eigenvalues and eigenvectors found in part B."
   ]
  },
  {
   "cell_type": "markdown",
   "id": "d529f677-d2b8-42c2-aff3-dd4e48948da5",
   "metadata": {},
   "source": [
    "# Expectation Values\n",
    "\n",
    "We know that measuring a quantum system collapses its wavefunction, leading to a probabalistic measurement outcome. Even though we can't know what our measurement outcome will be, we can find the expected value of a quantum measurement. You can think of the expected value as being the average value you would expect to get if you measured the state infinitely many times. The expected value of an observable $\\hat{A}$ given a state $|\\psi\\rangle$ is $\\langle \\hat{A} \\rangle = \\langle \\psi | \\hat{A} | \\psi \\rangle$. Compute the following expectation values for the given operator and state.\n",
    "\n",
    "1. $Z$, $|0\\rangle$\n",
    "2. $X$, $|1\\rangle$\n",
    "3. $H$, $|0\\rangle$\n",
    "4. $X$, $|-\\rangle$"
   ]
  },
  {
   "cell_type": "markdown",
   "id": "1dbf38bb",
   "metadata": {},
   "source": [
    "# Intro to Qiskit"
   ]
  },
  {
   "cell_type": "markdown",
   "id": "cae40587",
   "metadata": {},
   "source": [
    "In this course, we will be using Qiskit, an SDK for quantum computing. Qiskit is an open-source quantum toolkit developed by IBM. Using it, you can access the quantum computing stack, either via simulation or by running circuits on an actual quantum computer.\n",
    "\n",
    "<div style=\"background-color:rgba(243, 248, 255, 1.0); text-align:center; vertical-align: middle; padding:20px 0;border:3px; border-style:solid; padding: 0.5em; border-color: rgba(101, 174, 247, 1.0); color: #000000;\">\n",
    "\n",
    "<h4><strong>Using Qiskit</strong></h4>\n",
    "\n",
    "In the event that you wish to work with Qiskit on your local device in the future, there are a few ways you could go about doing it:\n",
    "\n",
    "(1) install Qiskit on your local device (you can first install anaconda https://docs.anaconda.com/anaconda/install/index.html and then install qiskit https://qiskit.org/documentation/getting_started.html)\n",
    "\n",
    "(2) use Qiskit within qBraid lab: https://account.qbraid.com/\n",
    "\n",
    "(3) set up an IBM Quantum Experience account: https://quantum-computing.ibm.com/\n",
    "\n",
    "...\n",
    "\n",
    "Here are some resources that may be helpful to you in relation to Qiskit:\n",
    "\n",
    "Qiskit / IBM Quantum documentation: https://docs.quantum.ibm.com/\n",
    "\n",
    "Practice notebooks and video tutorials: https://qiskit.org/learn/\n",
    "\n",
    "The Qiskit textbook: https://qiskit.org/textbook/preface.html\n",
    "\n",
    "The Qiskit github: https://github.com/Qiskit\n",
    "\n",
    "</div>"
   ]
  },
  {
   "cell_type": "code",
   "execution_count": 30,
   "id": "39ed2a71",
   "metadata": {},
   "outputs": [],
   "source": [
    "import math\n",
    "import numpy as np\n",
    "import matplotlib.pyplot as plt\n",
    "\n",
    "# Importing standard Qiskit libraries\n",
    "import qiskit\n",
    "import qiskit_aer\n",
    "import pylatexenc\n",
    "from qiskit import *\n",
    "from qiskit_aer import *\n",
    "from qiskit.compiler import transpile, assemble\n",
    "from qiskit.visualization import plot_histogram\n",
    "from qiskit.quantum_info import Statevector\n",
    "from qiskit.quantum_info.operators import Operator, Pauli\n",
    "from qiskit.circuit.library import GroverOperator, MCMT, ZGate\n",
    "\n",
    "# QWS helpers\n",
    "from helpers import convert_to_basis_string"
   ]
  },
  {
   "cell_type": "markdown",
   "id": "2c2d0307",
   "metadata": {},
   "source": [
    "### A Very Simple Circuit\n",
    "\n",
    "Qiskit makes it very easy to create quantum circuits and simulate them. Let's make a few simple circuits together to illustrate how it's done.\n",
    "\n",
    "First let's create a quantum circuit with 2 qubits using the QuantumCircuit object. The first argument is the number of qubits we want, and the second argument is the number of classical bits we want in the classical register. In this case, we just want qubits and no classical register, but when creating algorithms later on, we may find it helpful to specify quantum and/or classical registers.\n",
    "\n",
    "We can draw our circuit using the draw() method. The 'mpl' argument specifies the drawing style."
   ]
  },
  {
   "cell_type": "code",
   "execution_count": 31,
   "id": "01a4096d",
   "metadata": {},
   "outputs": [
    {
     "data": {
      "image/png": "[encoded data removed]",
      "text/plain": [
       "<Figure size 161.878x200.667 with 1 Axes>"
      ]
     },
     "execution_count": 31,
     "metadata": {},
     "output_type": "execute_result"
    }
   ],
   "source": [
    "qc = QuantumCircuit(2,0)\n",
    "qc.draw('mpl')"
   ]
  },
  {
   "cell_type": "markdown",
   "id": "fee4116e",
   "metadata": {},
   "source": [
    "Let's apply an X gate to the first qubit. We can do this by specifying the index of the qubit in qc.x(). *Note: indexing starts at 0.*"
   ]
  },
  {
   "cell_type": "code",
   "execution_count": 32,
   "id": "513cb5b9",
   "metadata": {},
   "outputs": [
    {
     "data": {
      "image/png": "[encoded data removed]",
      "text/plain": [
       "<Figure size 203.683x200.667 with 1 Axes>"
      ]
     },
     "execution_count": 32,
     "metadata": {},
     "output_type": "execute_result"
    }
   ],
   "source": [
    "qc.x(0)\n",
    "qc.draw('mpl')"
   ]
  },
  {
   "cell_type": "markdown",
   "id": "1e288bb6-638c-49b6-8382-d5797b54782f",
   "metadata": {
    "id": "JJxMQr5Pl3yk"
   },
   "source": [
    "We can similarly apply a Z gate to the 2nd qubit."
   ]
  },
  {
   "cell_type": "code",
   "execution_count": 33,
   "id": "22636149-fd67-4705-843d-a4b25f6a6e17",
   "metadata": {
    "id": "QO68Rnnyl3yk"
   },
   "outputs": [
    {
     "data": {
      "image/png": "[encoded data removed]",
      "text/plain": [
       "<Figure size 203.683x200.667 with 1 Axes>"
      ]
     },
     "execution_count": 33,
     "metadata": {},
     "output_type": "execute_result"
    }
   ],
   "source": [
    "qc.z(1)\n",
    "qc.draw('mpl')"
   ]
  },
  {
   "cell_type": "markdown",
   "id": "f1ff300d-8ec3-4158-9005-d66b1ee3ad3e",
   "metadata": {
    "id": "XvrZcVJCl3yl"
   },
   "source": [
    "We can measure all the qubits by using the measure_all() method."
   ]
  },
  {
   "cell_type": "code",
   "execution_count": 34,
   "id": "1c584d6a-31ae-4146-8a38-5a1cec46135d",
   "metadata": {
    "id": "07zmzG3kl3yl"
   },
   "outputs": [
    {
     "data": {
      "image/png": "[encoded data removed]",
      "text/plain": [
       "<Figure size 496.776x284.278 with 1 Axes>"
      ]
     },
     "execution_count": 34,
     "metadata": {},
     "output_type": "execute_result"
    }
   ],
   "source": [
    "qc.measure_all()\n",
    "qc.draw('mpl')"
   ]
  },
  {
   "cell_type": "markdown",
   "id": "22fb5741-68bc-4a02-afb7-abf6bbc3811c",
   "metadata": {
    "id": "TT_Ui0all3yl"
   },
   "source": [
    "### Simulating a Circuit"
   ]
  },
  {
   "cell_type": "markdown",
   "id": "934383a1-bc97-4518-82c8-f7ef90076bf7",
   "metadata": {
    "id": "Mq5GjE-Jl3yl"
   },
   "source": [
    "Now we have a complete quantum circuit. We have a qubit with some gates applied to it and we measure it at the end. We want to actually run this circuit and see what happends.\n",
    "\n",
    "We can do this by \"executing\" our quantum circuit. We can specify a backend. In this case, we will use a simulated backend. The 'qasm_simulator' is a simulated backend which has the option of adding noise (to emulate real quantum hardware). We will run this without any noise for now. You can also specify the number of \"shots\" you want (how many times to run the circuit). For this circuit, let's simulate 1 shot.\n",
    "\n",
    "From a simulation job, we can extract the counts, which is a dictionary of the measurement results. The keys are the bit strings measured and the values are the number of times that bit string was measured."
   ]
  },
  {
   "cell_type": "code",
   "execution_count": 35,
   "id": "991b6082-c804-403c-911a-6d7d93dc83d5",
   "metadata": {
    "id": "Vy_iFoUQl3yl"
   },
   "outputs": [
    {
     "data": {
      "text/plain": [
       "{'01': 1}"
      ]
     },
     "execution_count": 35,
     "metadata": {},
     "output_type": "execute_result"
    }
   ],
   "source": [
    "backend = Aer.get_backend('qasm_simulator')\n",
    "\n",
    "new_circuit = transpile(qc, backend)\n",
    "job = backend.run(new_circuit, shots = 1)\n",
    "results = job.result()\n",
    "counts = results.get_counts()\n",
    "counts"
   ]
  },
  {
   "cell_type": "markdown",
   "id": "3d7f1cf7-8bd4-4a61-8d67-2207888fb895",
   "metadata": {
    "id": "q2FKGwrCl3yl"
   },
   "source": [
    "### Visualizing the Results"
   ]
  },
  {
   "cell_type": "markdown",
   "id": "00aa4b25-f85b-47b6-bd5e-751724280cf8",
   "metadata": {
    "id": "JWfB72SVl3yl"
   },
   "source": [
    "This dictionary of counts is cumbersome when you have many qubits. A nice way to visualize the results of a quantum circuit simulation is with a histogram.\n",
    "\n",
    "The bins of the histogram are \"bit strings\" with the \"0\" measured qubit being the right-most (last) bit, the \"1\" measured qubit being the second-to-last, etc."
   ]
  },
  {
   "cell_type": "code",
   "execution_count": 36,
   "id": "70d99ab8-53ca-4e70-8980-eaf5da204492",
   "metadata": {
    "id": "ZjROE6rVl3yl"
   },
   "outputs": [
    {
     "data": {
      "image/png": "[encoded data removed]",
      "text/plain": [
       "<Figure size 640x480 with 1 Axes>"
      ]
     },
     "execution_count": 36,
     "metadata": {},
     "output_type": "execute_result"
    }
   ],
   "source": [
    "plot_histogram(counts)"
   ]
  },
  {
   "cell_type": "markdown",
   "id": "55a9acb9-93c6-405c-9331-635d0597bc17",
   "metadata": {
    "id": "KfSp8wxQl3yl"
   },
   "source": [
    "We can make it extra clear which qubit's measurement result is stored where by preparing one qubit in the $|1\\rangle$ state and 1 qubit in the $|0\\rangle$ state.\n",
    "\n",
    "Let's make a simple 2-qubit circuit with the 1st qubit prepared in the $|1\\rangle$ state and the 2nd qubit prepared in the $|0\\rangle$ state."
   ]
  },
  {
   "cell_type": "code",
   "execution_count": 73,
   "id": "762c2b70-826e-41c8-82b9-e7338ef60379",
   "metadata": {
    "id": "O_D5-FQMl3yl"
   },
   "outputs": [
    {
     "data": {
      "image/png": "[encoded data removed]",
      "text/plain": [
       "<Figure size 496.776x284.278 with 1 Axes>"
      ]
     },
     "execution_count": 73,
     "metadata": {},
     "output_type": "execute_result"
    }
   ],
   "source": [
    "# *FILL IN HERE*\n",
    "qc = QuantumCircuit(2,0) \n",
    "qc.x(0) \n",
    "\n",
    "qc.measure_all()\n",
    "qc.draw('mpl')"
   ]
  },
  {
   "cell_type": "code",
   "execution_count": 74,
   "id": "02358bd5-2500-404b-bf6c-5d3984ddd909",
   "metadata": {
    "id": "VYDo9TXjl3yl",
    "scrolled": true
   },
   "outputs": [
    {
     "data": {
      "text/plain": [
       "{'01': 1}"
      ]
     },
     "execution_count": 74,
     "metadata": {},
     "output_type": "execute_result"
    }
   ],
   "source": [
    "backend = Aer.get_backend('qasm_simulator')\n",
    "\n",
    "new_circuit = transpile(qc, backend)\n",
    "job = backend.run(new_circuit, shots = 1)\n",
    "results = job.result()\n",
    "counts = results.get_counts()\n",
    "counts"
   ]
  },
  {
   "cell_type": "markdown",
   "id": "d84b791a-6da6-49a0-81db-d4b37c731a73",
   "metadata": {
    "id": "QZ5xCSZNl3ym"
   },
   "source": [
    "Now we can clearly see that the order of the bit string is flipped from how we might intuitively expect. This ordering of bits is a convention of Qiskit and it's important to note for later on."
   ]
  },
  {
   "cell_type": "markdown",
   "id": "013dd9a0-076b-47db-b180-3429e80d71a6",
   "metadata": {},
   "source": [
    "### Retrieving a Final State Vector\n",
    "\n",
    "What if we don't want to know a distribution of measurements, but rather the final state vector of the circuit? We can also retreive that information. Here is an example:"
   ]
  },
  {
   "cell_type": "code",
   "execution_count": 42,
   "id": "5b361ea6-911f-47b0-ae93-4845b5c4f8e3",
   "metadata": {},
   "outputs": [
    {
     "data": {
      "image/png": "[encoded data removed]",
      "text/plain": [
       "<Figure size 185.453x117.056 with 1 Axes>"
      ]
     },
     "metadata": {},
     "output_type": "display_data"
    },
    {
     "name": "stdout",
     "output_type": "stream",
     "text": [
      "Statevector([0.+0.j, 1.+0.j],\n",
      "            dims=(2,))\n"
     ]
    }
   ],
   "source": [
    "qc = QuantumCircuit(1,0)\n",
    "qc.x(0)\n",
    "display(qc.draw('mpl'))\n",
    "vec = Statevector(qc)\n",
    "vec"
   ]
  },
  {
   "cell_type": "markdown",
   "id": "096f1541-874b-437e-ba8b-964cd745cdf9",
   "metadata": {},
   "source": [
    "The final result is the vector $( 0 ~~ 1 )$ = $|1\\rangle$ which we would expect after applying the X gate."
   ]
  },
  {
   "cell_type": "markdown",
   "id": "0fe300e9-ecbd-4491-b926-6e115fe5054e",
   "metadata": {},
   "source": [
    "## Practice Problems"
   ]
  },
  {
   "cell_type": "markdown",
   "id": "ae67d058-1e08-4626-9c30-27fa527d561a",
   "metadata": {},
   "source": [
    "**A)** Create a 1 QB circuit which prepares q0 in the $|+\\rangle$, and output the final state vector to confirm."
   ]
  },
  {
   "cell_type": "code",
   "execution_count": 43,
   "id": "2022984c-206b-4097-8633-8470143117df",
   "metadata": {},
   "outputs": [
    {
     "name": "stdout",
     "output_type": "stream",
     "text": [
      "Statevector([0.70710678+0.j, 0.70710678+0.j],\n",
      "            dims=(2,))\n"
     ]
    }
   ],
   "source": [
    "# *FILL IN HERE*\n",
    "qc = QuantumCircuit(1,0) \n",
    "qc.h(0) \n",
    "\n",
    "print(Statevector(qc))"
   ]
  },
  {
   "cell_type": "markdown",
   "id": "f4e9541f-0f08-4d7a-a766-99d57ad5391e",
   "metadata": {},
   "source": [
    "**B)** Create a 2 QB circuit which prepares q0 in the $|1\\rangle$ state and q1 in the $|+\\rangle$ state, and then measures them. Perform 100 measurements and output a histogram of the results."
   ]
  },
  {
   "cell_type": "code",
   "execution_count": 47,
   "id": "d78a6434-53eb-4bfe-89e0-b28a46273310",
   "metadata": {},
   "outputs": [
    {
     "data": {
      "image/png": "[encoded data removed]",
      "text/plain": [
       "<Figure size 640x480 with 1 Axes>"
      ]
     },
     "execution_count": 47,
     "metadata": {},
     "output_type": "execute_result"
    }
   ],
   "source": [
    "# *FILL IN HERE*\n",
    "qc = QuantumCircuit(2,0) \n",
    "qc.x(0) \n",
    "qc.h(1) \n",
    "\n",
    "qc.measure_all() \n",
    "qc.draw('mpl')\n",
    "\n",
    "backend = Aer.get_backend('qasm_simulator')\n",
    "\n",
    "new_circuit = transpile(qc, backend)\n",
    "job = backend.run(new_circuit, shots = 100)\n",
    "results = job.result()\n",
    "counts = results.get_counts()\n",
    "plot_histogram(counts)"
   ]
  },
  {
   "cell_type": "markdown",
   "id": "6a3fb9be-d2ca-4f0a-9b3a-f68764da94b2",
   "metadata": {},
   "source": [
    "**C)** Create a 1 QB circuit which prepares q0 in the $|+\\rangle$ state and then measures it. Perform 100 measurements and output a histogram of the results."
   ]
  },
  {
   "cell_type": "code",
   "execution_count": 48,
   "id": "9156956c-fc69-46e6-9de6-c7d3982cf3b5",
   "metadata": {},
   "outputs": [
    {
     "data": {
      "image/png": "[encoded data removed]",
      "text/plain": [
       "<Figure size 640x480 with 1 Axes>"
      ]
     },
     "execution_count": 48,
     "metadata": {},
     "output_type": "execute_result"
    }
   ],
   "source": [
    "# *FILL IN HERE*\n",
    "qc = QuantumCircuit(1,0) \n",
    "qc.h(0) \n",
    "\n",
    "qc.measure_all() \n",
    "qc.draw('mpl')\n",
    "\n",
    "backend = Aer.get_backend('qasm_simulator')\n",
    "\n",
    "new_circuit = transpile(qc, backend)\n",
    "job = backend.run(new_circuit, shots = 100)\n",
    "results = job.result()\n",
    "counts = results.get_counts()\n",
    "plot_histogram(counts)"
   ]
  },
  {
   "cell_type": "markdown",
   "id": "d6455412-6144-46ef-8f3b-bf58ee8c57ee",
   "metadata": {},
   "source": [
    "**D)** Create a 1 QB circuit which prepares q0 in the $|-\\rangle$ state and then measures it. Perform 100 measurements and output a histogram of the results."
   ]
  },
  {
   "cell_type": "code",
   "execution_count": 49,
   "id": "67d80666-df1d-4836-8215-6fe1855eb089",
   "metadata": {},
   "outputs": [
    {
     "data": {
      "image/png": "[encoded data removed]",
      "text/plain": [
       "<Figure size 640x480 with 1 Axes>"
      ]
     },
     "execution_count": 49,
     "metadata": {},
     "output_type": "execute_result"
    }
   ],
   "source": [
    "# *FILL IN HERE*\n",
    "qc = QuantumCircuit(2,0) \n",
    "qc.x(0) \n",
    "qc.h(0)\n",
    "\n",
    "qc.measure_all() \n",
    "qc.draw('mpl')\n",
    "\n",
    "backend = Aer.get_backend('qasm_simulator')\n",
    "\n",
    "new_circuit = transpile(qc, backend)\n",
    "job = backend.run(new_circuit, shots = 100)\n",
    "results = job.result()\n",
    "counts = results.get_counts()\n",
    "plot_histogram(counts)"
   ]
  },
  {
   "cell_type": "markdown",
   "id": "66df8f4c-887f-4fdc-a045-d80d10f5cae2",
   "metadata": {},
   "source": [
    "**E)** Can you tell the difference between $|+\\rangle$ (part C) and $|-\\rangle$ (part D) from this measurement? Suppose you want to determine whether a qubit is $|+\\rangle$ or $|-\\rangle$. What can you do before the measurement to know with 100% certainty? Show that this works by preparing $|+\\rangle$ and $|-\\rangle$ respectively and applying this technique."
   ]
  },
  {
   "cell_type": "code",
   "execution_count": 51,
   "id": "1cd3baa4-f240-4fea-be87-43625f5dc1be",
   "metadata": {},
   "outputs": [
    {
     "data": {
      "image/png": "[encoded data removed]",
      "text/plain": [
       "<Figure size 640x480 with 1 Axes>"
      ]
     },
     "execution_count": 51,
     "metadata": {},
     "output_type": "execute_result"
    }
   ],
   "source": [
    "# *FILL IN HERE*\n",
    "qc = QuantumCircuit(2,0) \n",
    "\n",
    "# prepare q0 as |+> and q1 as |->\n",
    "qc.h(0) \n",
    "\n",
    "qc.x(1)\n",
    "qc.h(1) \n",
    "\n",
    "# flip them back to the 0/1 basis\n",
    "qc.h(0) \n",
    "qc.h(1)\n",
    "\n",
    "qc.measure_all() \n",
    "qc.draw('mpl')\n",
    "\n",
    "backend = Aer.get_backend('qasm_simulator')\n",
    "\n",
    "new_circuit = transpile(qc, backend)\n",
    "job = backend.run(new_circuit, shots = 100)\n",
    "results = job.result()\n",
    "counts = results.get_counts()\n",
    "plot_histogram(counts)"
   ]
  },
  {
   "cell_type": "markdown",
   "id": "34cd4a02-a617-4813-a24d-af2018d41bf3",
   "metadata": {},
   "source": [
    "# Connecting the Stern-Gerlach experiment to quantum computing"
   ]
  },
  {
   "cell_type": "markdown",
   "id": "e441c318-b427-4ce1-92ad-08128a3959b5",
   "metadata": {},
   "source": [
    "Our Stern-Gerlach machines, which measure magnetization along the z or x axes, have the same effect as measuring a qubit in the $\\{|0\\rangle,|1\\rangle\\}$ basis or the $\\{|+\\rangle,|-\\rangle\\}$ basis, respectively. We can make an effective z-axis Stern-Gerlach machine by measuring as normal, and an effective x-axis Stern-Gerlach machine by applying an H gate before AND after measurement. *Recall that the H gate maps $|+\\rangle$ to $|0\\rangle$ and $|-\\rangle$ to $|1\\rangle$, which is why we call this measuring in the $\\{|+\\rangle,|-\\rangle\\}$ basis.* We need the H gate after the measurement to rotate the collapsed wavefunction $|0\\rangle$ or $|1\\rangle$ back to $|+\\rangle$ or $|-\\rangle$.\n",
    "\n",
    "Below, we show the action of a Z basis measurement and an X basis measurement from our source, which generates a qubit which is in an equal superposition of $|0\\rangle$ and $|1\\rangle$ AND an equal superposition of $|+\\rangle$ and $|-\\rangle$. We realize this source by applying an $R_X(\\pi/2)$ gate. You do not need to know what this is for now, we will discuss it further tomorrow."
   ]
  },
  {
   "cell_type": "code",
   "execution_count": 52,
   "id": "3e4e5cf5-d8e3-4c79-afcf-8b85ae1f9323",
   "metadata": {},
   "outputs": [
    {
     "name": "stdout",
     "output_type": "stream",
     "text": [
      "Z basis measurement:\n"
     ]
    },
    {
     "data": {
      "image/png": "[encoded data removed]",
      "text/plain": [
       "<Figure size 293.102x200.667 with 1 Axes>"
      ]
     },
     "metadata": {},
     "output_type": "display_data"
    },
    {
     "data": {
      "image/png": "[encoded data removed]",
      "text/plain": [
       "<Figure size 300x400 with 1 Axes>"
      ]
     },
     "execution_count": 52,
     "metadata": {},
     "output_type": "execute_result"
    }
   ],
   "source": [
    "# 1 QB quantum register\n",
    "qr = QuantumRegister(1, name=\"QB\")\n",
    "# 2 bit classical register -- the length of the register is the number of measurements (number of Stern-Gerlach machines)\n",
    "cr = ClassicalRegister(1, name='c')\n",
    "\n",
    "# quantum circuit combines quantum and classical registers\n",
    "qc = QuantumCircuit(qr, cr)\n",
    "\n",
    "# applying this gate makes our source which generates qubits which are an equal superposition of |0> and |1> AND an equal superposition of |+> and |->\n",
    "qc.rx(np.pi/2,0)\n",
    "\n",
    "qc.measure(0,cr) # measure qb0 to classical register\n",
    "print('Z basis measurement:')\n",
    "display(qc.draw('mpl'))\n",
    "\n",
    "backend = Aer.get_backend('qasm_simulator')\n",
    "new_circuit = transpile(qc, backend)\n",
    "job = backend.run(new_circuit, shots = 100)\n",
    "results = job.result()\n",
    "counts = results.get_counts()\n",
    "plot_histogram(counts, figsize=(3,4))"
   ]
  },
  {
   "cell_type": "code",
   "execution_count": 53,
   "id": "91b93105-f015-42e1-a764-670a68b46325",
   "metadata": {},
   "outputs": [
    {
     "name": "stdout",
     "output_type": "stream",
     "text": [
      "X basis measurement:\n"
     ]
    },
    {
     "data": {
      "image/png": "[encoded data removed]",
      "text/plain": [
       "<Figure size 460.324x200.667 with 1 Axes>"
      ]
     },
     "metadata": {},
     "output_type": "display_data"
    },
    {
     "data": {
      "image/png": "[encoded data removed]",
      "text/plain": [
       "<Figure size 300x400 with 1 Axes>"
      ]
     },
     "execution_count": 53,
     "metadata": {},
     "output_type": "execute_result"
    }
   ],
   "source": [
    "# 1 QB quantum register\n",
    "qr = QuantumRegister(1, name=\"QB\")\n",
    "# 1 bit classical register -- the length of the register is the number of measurements (number of Stern-Gerlach machines)\n",
    "cr = ClassicalRegister(1, name='c')\n",
    "\n",
    "# quantum circuit combines quantum and classical registers\n",
    "qc = QuantumCircuit(qr, cr)\n",
    "\n",
    "# applying this gate makes our source which generates qubits which are an equal superposition of |0> and |1> AND an equal superposition of |+> and |->\n",
    "qc.rx(np.pi/2,0)\n",
    "\n",
    "qc.h(0)\n",
    "qc.measure(0,cr) # measure qb0 to classical register\n",
    "qc.h(0)\n",
    "print('X basis measurement:')\n",
    "display(qc.draw('mpl'))\n",
    "\n",
    "backend = Aer.get_backend('qasm_simulator')\n",
    "new_circuit = transpile(qc, backend)\n",
    "job = backend.run(new_circuit, shots = 100)\n",
    "results = job.result()\n",
    "counts = results.get_counts()\n",
    "plot_histogram(counts, figsize=(3,4))"
   ]
  },
  {
   "cell_type": "markdown",
   "id": "645dec21-7667-4db4-b8a4-d7a6ae79dd4a",
   "metadata": {},
   "source": [
    "We can recreate each of our Stern-Gerlach experiments from before using this. We show the first one here.\n",
    "\n",
    "**A)**\n",
    "<img src=\"figures/superposition/stern-gerlach_a.png\" width=\"600\"/>"
   ]
  },
  {
   "cell_type": "code",
   "execution_count": 55,
   "id": "c3b89e8a-ccb1-40bf-abb4-2d700a2edaed",
   "metadata": {},
   "outputs": [
    {
     "data": {
      "image/png": "[encoded data removed]",
      "text/plain": [
       "<Figure size 376.713x200.667 with 1 Axes>"
      ]
     },
     "metadata": {},
     "output_type": "display_data"
    },
    {
     "data": {
      "image/png": "[encoded data removed]",
      "text/plain": [
       "<Figure size 300x400 with 1 Axes>"
      ]
     },
     "metadata": {},
     "output_type": "display_data"
    },
    {
     "name": "stdout",
     "output_type": "stream",
     "text": [
      "We measured 0 for 46.0% of the shots and 1 for 0.0% of the shots.\n"
     ]
    }
   ],
   "source": [
    "# 1 QB quantum register\n",
    "qr = QuantumRegister(1, name=\"QB\")\n",
    "# 2 bit classical register -- the length of the register is the number of measurements (number of Stern-Gerlach machines)\n",
    "cr = ClassicalRegister(2, name='c')\n",
    "\n",
    "# quantum circuit combines quantum and classical registers\n",
    "qc = QuantumCircuit(qr, cr)\n",
    "\n",
    "# number of shots\n",
    "num_shots = 100\n",
    "\n",
    "# applying this gate makes our source which generates qubits which are an equal superposition of |0> and |1> AND an equal superposition of |+> and |->\n",
    "qc.rx(np.pi/2,0)\n",
    "\n",
    "qc.measure(0,cr[0]) # measure qb0 to classical register bit 0\n",
    "qc.measure(0,cr[1]) # measure qb0 to classical register bit 1\n",
    "display(qc.draw('mpl'))\n",
    "\n",
    "backend = Aer.get_backend('qasm_simulator')\n",
    "new_circuit = transpile(qc, backend)\n",
    "job = backend.run(new_circuit, shots = num_shots)\n",
    "results = job.result()\n",
    "counts = results.get_counts()\n",
    "\n",
    "# filter our counts... We only want to keep measurements for which the first bit is 0\n",
    "# This corresponds to blocking the minus port of the first Z Stern-Gerlach machine\n",
    "filtered_counts = {key: counts[key] for key in counts.keys() if key[-1] == '0'}\n",
    "\n",
    "# compute the number of measurements of the final bit being 0 vs. 1\n",
    "output_counts = {}\n",
    "for bit in [0,1]:\n",
    "    output_counts[bit] = [filtered_counts[key] for key in filtered_counts.keys() if key[0] == str(bit)]\n",
    "\n",
    "display(plot_histogram(filtered_counts, figsize=(3,4)))\n",
    "\n",
    "print(f\"We measured 0 for {sum(output_counts[0])*100/num_shots}% of the shots and 1 for {sum(output_counts[1])*100/num_shots}% of the shots.\")"
   ]
  },
  {
   "cell_type": "markdown",
   "id": "0d9c4d6d-ba1d-4759-8d50-3a02e87386d7",
   "metadata": {},
   "source": [
    "### Practice Problems\n",
    "\n",
    "Recreate each of the following Stern-Gerlach experiments as Qiskit circuits. Double check that in the limit of many shots, the final percentages match what you would expect from your calculations before."
   ]
  },
  {
   "cell_type": "markdown",
   "id": "ce540ba4-f17d-4a48-a1a5-7e6c7b828ab0",
   "metadata": {},
   "source": [
    "**B)**\n",
    "<img src=\"figures/superposition/stern-gerlach_b.png\" width=\"600\"/>"
   ]
  },
  {
   "cell_type": "code",
   "execution_count": 59,
   "id": "be40a5df-9d7e-409a-b2bf-6bfbcce76d6c",
   "metadata": {
    "scrolled": true
   },
   "outputs": [
    {
     "data": {
      "image/png": "[encoded data removed]",
      "text/plain": [
       "<Figure size 543.935x200.667 with 1 Axes>"
      ]
     },
     "metadata": {},
     "output_type": "display_data"
    },
    {
     "data": {
      "image/png": "[encoded data removed]",
      "text/plain": [
       "<Figure size 300x400 with 1 Axes>"
      ]
     },
     "metadata": {},
     "output_type": "display_data"
    },
    {
     "name": "stdout",
     "output_type": "stream",
     "text": [
      "We measured 0 for 26.0% of the shots and 1 for 25.0% of the shots.\n"
     ]
    }
   ],
   "source": [
    "# 1 QB quantum register\n",
    "qr = QuantumRegister(1, name=\"QB\")\n",
    "# 2 bit classical register -- the length of the register is the number of measurements (number of Stern-Gerlach machines)\n",
    "cr = ClassicalRegister(2, name='c')\n",
    "\n",
    "# quantum circuit combines quantum and classical registers\n",
    "qc = QuantumCircuit(qr, cr)\n",
    "\n",
    "# applying this gate makes our source which generates qubits which are an equal superposition of |0> and |1> AND an equal superposition of |+> and |->\n",
    "qc.rx(np.pi/2,0)\n",
    "\n",
    "# *FILL IN HERE*\n",
    "qc.measure(0,cr[0]) \n",
    "\n",
    "qc.h(0) \n",
    "qc.measure(0,cr[1]) \n",
    "qc.h(0) \n",
    "\n",
    "display(qc.draw('mpl'))\n",
    "\n",
    "backend = Aer.get_backend('qasm_simulator')\n",
    "new_circuit = transpile(qc, backend)\n",
    "job = backend.run(new_circuit, shots = 100)\n",
    "results = job.result()\n",
    "counts = results.get_counts()\n",
    "\n",
    "# filter our counts... We only want to keep measurements for which the first bit is 0\n",
    "# This corresponds to blocking the minus port of the first Z Stern-Gerlach machine\n",
    "filtered_counts = {key: counts[key] for key in counts.keys() if key[-1] == '0'}\n",
    "\n",
    "# compute the number of measurements of the final bit being 0 vs. 1\n",
    "output_counts = {}\n",
    "for bit in [0,1]:\n",
    "    output_counts[bit] = [filtered_counts[key] for key in filtered_counts.keys() if key[0] == str(bit)]\n",
    "\n",
    "display(plot_histogram(filtered_counts, figsize=(3,4)))\n",
    "\n",
    "print(f\"We measured 0 for {sum(output_counts[0])*100/num_shots}% of the shots and 1 for {sum(output_counts[1])*100/num_shots}% of the shots.\")"
   ]
  },
  {
   "cell_type": "markdown",
   "id": "965f741a-8651-43ba-a421-8698e7634af9",
   "metadata": {},
   "source": [
    "**C)**\n",
    "<img src=\"figures/superposition/stern-gerlach_c.png\" width=\"600\"/>"
   ]
  },
  {
   "cell_type": "code",
   "execution_count": 60,
   "id": "0d57b987-4464-4d8d-b9fb-18ae32d8c18e",
   "metadata": {},
   "outputs": [
    {
     "data": {
      "image/png": "[encoded data removed]",
      "text/plain": [
       "<Figure size 627.547x200.667 with 1 Axes>"
      ]
     },
     "metadata": {},
     "output_type": "display_data"
    },
    {
     "data": {
      "image/png": "[encoded data removed]",
      "text/plain": [
       "<Figure size 300x400 with 1 Axes>"
      ]
     },
     "metadata": {},
     "output_type": "display_data"
    },
    {
     "name": "stdout",
     "output_type": "stream",
     "text": [
      "We measured 0 for 12.0% of the shots and 1 for 11.0% of the shots.\n"
     ]
    }
   ],
   "source": [
    "# 1 QB quantum register\n",
    "qr = QuantumRegister(1, name=\"QB\")\n",
    "# 3 bit classical register -- the length of the register is the number of measurements (number of Stern-Gerlach machines)\n",
    "cr = ClassicalRegister(3, name='c')\n",
    "\n",
    "# quantum circuit combines quantum and classical registers\n",
    "qc = QuantumCircuit(qr, cr)\n",
    "\n",
    "# applying this gate makes our source which generates qubits which are an equal superposition of |0> and |1> AND an equal superposition of |+> and |->\n",
    "qc.rx(np.pi/2,0)\n",
    "\n",
    "# *FILL IN HERE*\n",
    "qc.measure(0,cr[0]) \n",
    "\n",
    "qc.h(0) \n",
    "qc.measure(0,cr[1]) \n",
    "qc.h(0) \n",
    "\n",
    "qc.measure(0,cr[2]) \n",
    "\n",
    "display(qc.draw('mpl'))\n",
    "\n",
    "backend = Aer.get_backend('qasm_simulator')\n",
    "new_circuit = transpile(qc, backend)\n",
    "job = backend.run(new_circuit, shots = 100)\n",
    "results = job.result()\n",
    "counts = results.get_counts()\n",
    "\n",
    "# Filter your counts (see parts a and b for examples)\n",
    "filtered_counts = {key: counts[key] for key in counts.keys() if key[-1] == '0' and key[-2] == '0'}\n",
    "\n",
    "# compute the number of measurements of the final bit being 0 vs. 1\n",
    "output_counts = {}\n",
    "for bit in [0,1]:\n",
    "    output_counts[bit] = [filtered_counts[key] for key in filtered_counts.keys() if key[0] == str(bit)]\n",
    "\n",
    "display(plot_histogram(filtered_counts, figsize=(3,4)))\n",
    "\n",
    "print(f\"We measured 0 for {sum(output_counts[0])*100/num_shots}% of the shots and 1 for {sum(output_counts[1])*100/num_shots}% of the shots.\")"
   ]
  },
  {
   "cell_type": "markdown",
   "id": "df8e6e07-97a1-40f9-ab82-356978ecaebd",
   "metadata": {},
   "source": [
    "**D)**\n",
    "<img src=\"figures/superposition/stern-gerlach_d.png\" width=\"600\"/>"
   ]
  },
  {
   "cell_type": "code",
   "execution_count": 62,
   "id": "84aeff63-fd12-46b1-9431-a4e885a3e736",
   "metadata": {},
   "outputs": [
    {
     "data": {
      "image/png": "[encoded data removed]",
      "text/plain": [
       "<Figure size 543.935x200.667 with 1 Axes>"
      ]
     },
     "metadata": {},
     "output_type": "display_data"
    },
    {
     "data": {
      "image/png": "[encoded data removed]",
      "text/plain": [
       "<Figure size 300x400 with 1 Axes>"
      ]
     },
     "metadata": {},
     "output_type": "display_data"
    },
    {
     "name": "stdout",
     "output_type": "stream",
     "text": [
      "We measured 0 for 23.0% of the shots and 1 for 29.0% of the shots.\n"
     ]
    }
   ],
   "source": [
    "# 1 QB quantum register\n",
    "qr = QuantumRegister(1, name=\"QB\")\n",
    "# 2 bit classical register -- the length of the register is the number of measurements (number of Stern-Gerlach machines)\n",
    "cr = ClassicalRegister(2, name='c')\n",
    "\n",
    "# quantum circuit combines quantum and classical registers\n",
    "qc = QuantumCircuit(qr, cr)\n",
    "\n",
    "# applying this gate makes our source which generates qubits which are an equal superposition of |0> and |1> AND an equal superposition of |+> and |->\n",
    "qc.rx(np.pi/2,0)\n",
    "\n",
    "# *FILL IN HERE*\n",
    "qc.h(0) \n",
    "qc.measure(0,cr[0]) \n",
    "qc.h(0) \n",
    "\n",
    "qc.measure(0,cr[1]) \n",
    "\n",
    "display(qc.draw('mpl'))\n",
    "\n",
    "backend = Aer.get_backend('qasm_simulator')\n",
    "new_circuit = transpile(qc, backend)\n",
    "job = backend.run(new_circuit, shots = 100)\n",
    "results = job.result()\n",
    "counts = results.get_counts()\n",
    "\n",
    "# Filter your counts (see parts a and b for examples)\n",
    "filtered_counts = {key: counts[key] for key in counts.keys() if key[-1] == '1'}\n",
    "\n",
    "# compute the number of measurements of the final bit being 0 vs. 1\n",
    "output_counts = {}\n",
    "for bit in [0,1]:\n",
    "    output_counts[bit] = [filtered_counts[key] for key in filtered_counts.keys() if key[0] == str(bit)]\n",
    "\n",
    "display(plot_histogram(filtered_counts, figsize=(3,4)))\n",
    "\n",
    "print(f\"We measured 0 for {sum(output_counts[0])*100/num_shots}% of the shots and 1 for {sum(output_counts[1])*100/num_shots}% of the shots.\")"
   ]
  },
  {
   "cell_type": "markdown",
   "id": "7ca84247-86cc-414b-9ca5-b70cea9ee281",
   "metadata": {},
   "source": [
    "**E)**\n",
    "<img src=\"figures/superposition/stern-gerlach_e.png\" width=\"600\"/>"
   ]
  },
  {
   "cell_type": "code",
   "execution_count": 63,
   "id": "42bb2d57-6792-4a0e-ab18-b1500f4b5c4a",
   "metadata": {},
   "outputs": [
    {
     "data": {
      "image/png": "[encoded data removed]",
      "text/plain": [
       "<Figure size 794.769x200.667 with 1 Axes>"
      ]
     },
     "metadata": {},
     "output_type": "display_data"
    },
    {
     "data": {
      "image/png": "[encoded data removed]",
      "text/plain": [
       "<Figure size 300x400 with 1 Axes>"
      ]
     },
     "metadata": {},
     "output_type": "display_data"
    },
    {
     "name": "stdout",
     "output_type": "stream",
     "text": [
      "We measured 0 for 13.0% of the shots and 1 for 12.0% of the shots.\n"
     ]
    }
   ],
   "source": [
    "# 1 QB quantum register\n",
    "qr = QuantumRegister(1, name=\"QB\")\n",
    "# 3 bit classical register -- the length of the register is the number of measurements (number of Stern-Gerlach machines)\n",
    "cr = ClassicalRegister(3, name='c')\n",
    "\n",
    "# quantum circuit combines quantum and classical registers\n",
    "qc = QuantumCircuit(qr, cr)\n",
    "\n",
    "# applying this gate makes our source which generates qubits which are an equal superposition of |0> and |1> AND an equal superposition of |+> and |->\n",
    "qc.rx(np.pi/2,0)\n",
    "\n",
    "# *FILL IN HERE*\n",
    "qc.h(0) \n",
    "qc.measure(0,cr[0]) \n",
    "qc.h(0) \n",
    "\n",
    "qc.measure(0,cr[1]) \n",
    "\n",
    "qc.h(0) \n",
    "qc.measure(0,cr[2]) \n",
    "qc.h(0) \n",
    "\n",
    "display(qc.draw('mpl'))\n",
    "\n",
    "backend = Aer.get_backend('qasm_simulator')\n",
    "new_circuit = transpile(qc, backend)\n",
    "job = backend.run(new_circuit, shots = 100)\n",
    "results = job.result()\n",
    "counts = results.get_counts()\n",
    "\n",
    "# Filter your counts (see parts a and b for examples)\n",
    "filtered_counts = {key: counts[key] for key in counts.keys() if key[-1] == '0' and key[-2] == '1'}\n",
    "\n",
    "# compute the number of measurements of the final bit being 0 vs. 1\n",
    "output_counts = {}\n",
    "for bit in [0,1]:\n",
    "    output_counts[bit] = [filtered_counts[key] for key in filtered_counts.keys() if key[0] == str(bit)]\n",
    "\n",
    "display(plot_histogram(filtered_counts, figsize=(3,4)))\n",
    "\n",
    "print(f\"We measured 0 for {sum(output_counts[0])*100/num_shots}% of the shots and 1 for {sum(output_counts[1])*100/num_shots}% of the shots.\")"
   ]
  },
  {
   "cell_type": "markdown",
   "id": "b292e413-bed0-4322-a350-0e1ada4d29c7",
   "metadata": {},
   "source": [
    "### Comprehension Questions"
   ]
  },
  {
   "cell_type": "markdown",
   "id": "2cd34db9-e599-4f81-a735-e194c8773458",
   "metadata": {},
   "source": [
    "**A)** Measuring in the Z basis corresponds to the observable $\\sigma_z$, and measuring in the X basis corresponds to the observable $\\sigma_x$. When you perform a measurement in the X basis, you collapse the wave function to an eigenvector of $\\sigma_x$: either $|+\\rangle$ or $|-\\rangle$. Is this final state a superposition of eigenvectors of $\\sigma_z$: $|0\\rangle$ and $|1\\rangle$?\n",
    "\n",
    "**B)** When you perform a measurement in the Z basis, you collapse the wave function to an eigenvector of $\\sigma_z$: either $|0\\rangle$ or $|1\\rangle$. Is this final state a superposition of eigenvectors of $\\sigma_x$: $|+\\rangle$ and $|-\\rangle$? Express $|0\\rangle$ and $|1\\rangle$ as linear combinations of $|+\\rangle$ and $|-\\rangle$.\n",
    "\n",
    "**C)** What is the difference between measuring a qubit and flipping a coin? Could you perform the experiments above with coin tosses?\n",
    "\n"
   ]
  },
  {
   "cell_type": "markdown",
   "id": "efdfc138-8b98-4108-afbb-be0e92835403",
   "metadata": {
    "id": "Mc1tauzTl3yx"
   },
   "source": [
    "# BB84 Protocol"
   ]
  },
  {
   "cell_type": "markdown",
   "id": "124516a1-eb8d-47a0-aaed-e13ccbd97391",
   "metadata": {},
   "source": [
    "We learned today about a QKD (quantum key distribution) protocol called BB84, which leverages quantum superposition to securely create a shared key between two users (who we often call Alice and Bob). Alice and Bob will also be able to detect if anyone tries to \"eavesdrop\" to learn the key. All that is required for BB84 is a quantum channel and a classical communication channel, neither of which need to be secure. We summarize the steps of the protocol here:\n",
    "\n",
    "<div style=\"background-color:rgba(247, 255, 245, 1.0); text-align:left; vertical-align: middle; padding:20px 0;border:3px; border-style:solid; padding: 0.5em; border-color: rgba(0, 153, 51, 1.0); color: #000000;\">\n",
    "\n",
    "1. Alice randomly chooses a bit string of length $n$: $b_1 b_2 \\cdots b_n$\n",
    "2. Alice randomly chooses measurement basis $Z$ or $X$ for each of the $n$ bits. This corresponds to an $n$-bit string where a choice of $Z$ is a 0 and a choice of $X$ is a 1: $A = A_1 A_2 \\cdots A_n$\n",
    "3. Bob randomly chooses measurement basis $Z$ or $X$ for each of the $n$ bits. This corresponds to an $n$-bit string where a choice of $Z$ is a 0 and a choice of $X$ is a 1: $B = B_1 B_2 \\cdots B_n$\n",
    "4. Repeat the following steps for $i$ in $1,2,\\dots n$:\n",
    "\n",
    "    - Alice prepares the state $|b_i\\rangle$ in the basis she has chosen ($A_i$).\n",
    "    - Alice sends the qubit to Bob via a quantum channel.\n",
    "    - Bob measures the qubit in the basis he has chosen ($B_i$) to obtain a measured bit $m_i$. \n",
    "\n",
    "\n",
    "5. Alice and Bob compare their choice of bases, $A$ and $B$, over a classical channel. For each $i$ in $1,2,\\dots n$, if $A_i=B_i$, Alice adds $b_i$ to her version of the shared key and Bob adds $m_i$ to his version of the shared key. If $A_i\\neq B_i$, they discard $b_i$ and $m_i$.\n",
    "\n",
    "6. Finally, they choose some fraction of the bits in their shared key and compare them over a classical channel. (Note: these bits can no longer be used in the shared key.) If they are in agreement, they keep the remaining bits as their shared key. If there are any discrepancies, they know that someone tried to eavesdrop and they discard their keys.\n",
    "\n",
    "</div>"
   ]
  },
  {
   "cell_type": "markdown",
   "id": "f35f93b5-281d-4660-b247-fefd5bedaf3d",
   "metadata": {
    "id": "eBfNB9gKl3yx"
   },
   "source": [
    "We can summarize all 8 possibilities (per qubit) in the following chart:\n",
    "\n",
    "| Alice's bit &nbsp; &nbsp; &nbsp; &nbsp; &nbsp; &nbsp; &nbsp; &nbsp; &nbsp; &nbsp; | Alice's Basis &nbsp; &nbsp; &nbsp; &nbsp; &nbsp; &nbsp; &nbsp; &nbsp; &nbsp; &nbsp; | Bob's Basis &nbsp; &nbsp; &nbsp; &nbsp; &nbsp; &nbsp; &nbsp; &nbsp; &nbsp; &nbsp; | Bit added to shared key? &nbsp; &nbsp; &nbsp; &nbsp; &nbsp; &nbsp; &nbsp; &nbsp; &nbsp; &nbsp; |\n",
    "| :-------------------------------- | :-------------------------------- | :-------------------------------- |:-------------------------------- |\n",
    "| 0  |  Z  | Z | Yes |\n",
    "| 1  |  Z  | Z | Yes |\n",
    "| 0  |  X  | Z | No |\n",
    "| 1  |  X  | Z | No |\n",
    "| 0  |  Z  | X | No |\n",
    "| 1  |  Z  | X | No |\n",
    "| 0  |  X  | X | Yes |\n",
    "| 1  |  X  | X | Yes |"
   ]
  },
  {
   "attachments": {},
   "cell_type": "markdown",
   "id": "76e32f53-e145-4e37-9a67-83a24bdda062",
   "metadata": {},
   "source": [
    "We can also express the protocol as a quantum circuit, where $U^0=\\mathbb{1}$ for any gate $U$.\n",
    "\n",
    "<img src=\"figures/superposition/BB84_circuit.png\" width=\"800\"/>"
   ]
  },
  {
   "cell_type": "markdown",
   "id": "ccff6762-e619-4aac-a96f-0a4932a7cc2f",
   "metadata": {
    "id": "ZGF1CfdCl3yx"
   },
   "source": [
    "Now let's see how we can implement this protocol in Qiskit."
   ]
  },
  {
   "cell_type": "code",
   "execution_count": 64,
   "id": "9bd4be01-8979-4191-bd62-72753e3913c2",
   "metadata": {
    "id": "9OoeAp_Ml3yx"
   },
   "outputs": [
    {
     "name": "stdout",
     "output_type": "stream",
     "text": [
      "Bit #1\n",
      "Alice Bit: 1, Alice Basis: Z, Bob Basis: Z\n"
     ]
    },
    {
     "data": {
      "image/png": "[encoded data removed]",
      "text/plain": [
       "<Figure size 496.776x200.667 with 1 Axes>"
      ]
     },
     "metadata": {},
     "output_type": "display_data"
    },
    {
     "name": "stdout",
     "output_type": "stream",
     "text": [
      "Bob measured 1\n",
      "\n",
      "Bit #2\n",
      "Alice Bit: 0, Alice Basis: Z, Bob Basis: X\n"
     ]
    },
    {
     "data": {
      "image/png": "[encoded data removed]",
      "text/plain": [
       "<Figure size 496.776x200.667 with 1 Axes>"
      ]
     },
     "metadata": {},
     "output_type": "display_data"
    },
    {
     "name": "stdout",
     "output_type": "stream",
     "text": [
      "Bob measured 1\n",
      "\n",
      "Bit #3\n",
      "Alice Bit: 1, Alice Basis: X, Bob Basis: X\n"
     ]
    },
    {
     "data": {
      "image/png": "[encoded data removed]",
      "text/plain": [
       "<Figure size 663.998x200.667 with 1 Axes>"
      ]
     },
     "metadata": {},
     "output_type": "display_data"
    },
    {
     "name": "stdout",
     "output_type": "stream",
     "text": [
      "Bob measured 1\n",
      "\n",
      "Bit #4\n",
      "Alice Bit: 0, Alice Basis: Z, Bob Basis: Z\n"
     ]
    },
    {
     "data": {
      "image/png": "[encoded data removed]",
      "text/plain": [
       "<Figure size 413.165x200.667 with 1 Axes>"
      ]
     },
     "metadata": {},
     "output_type": "display_data"
    },
    {
     "name": "stdout",
     "output_type": "stream",
     "text": [
      "Bob measured 0\n",
      "\n",
      "Bit #5\n",
      "Alice Bit: 1, Alice Basis: X, Bob Basis: X\n"
     ]
    },
    {
     "data": {
      "image/png": "[encoded data removed]",
      "text/plain": [
       "<Figure size 663.998x200.667 with 1 Axes>"
      ]
     },
     "metadata": {},
     "output_type": "display_data"
    },
    {
     "name": "stdout",
     "output_type": "stream",
     "text": [
      "Bob measured 1\n",
      "\n"
     ]
    }
   ],
   "source": [
    "# BB84 Protocol\n",
    "\n",
    "n = 5 # number of bits\n",
    "\n",
    "# randomly choose Alice's bits and bases, and Bob's bases\n",
    "alice_bits = np.random.choice([0,1], n)\n",
    "alice_bases = np.random.choice([0,1], n)\n",
    "bob_bases = np.random.choice([0,1], n)\n",
    "\n",
    "bob_bits = np.zeros(len(alice_bits), dtype=int) # list to store Bob's measurement results\n",
    "\n",
    "# simulator backend\n",
    "backend = Aer.get_backend('qasm_simulator')\n",
    "\n",
    "# loop through all bits\n",
    "for i in range(n):\n",
    "    \n",
    "    print(f\"Bit #{i+1}\")\n",
    "    print(f\"Alice Bit: {alice_bits[i]}, Alice Basis: {'Z' if alice_bases[i]==0 else 'X'}, Bob Basis: {'Z' if bob_bases[i]==0 else 'X'}\" )\n",
    "\n",
    "    qc = QuantumCircuit(1,0) # 1 QB circuit\n",
    "    \n",
    "    # bit flip if preparing the |1> state\n",
    "    if alice_bits[i] == 1:\n",
    "        qc.x(0)\n",
    "        \n",
    "    # H gate if X basis\n",
    "    if alice_bases[i] == 1:\n",
    "        qc.h(0)\n",
    "        \n",
    "    qc.barrier() # visual barrier between Alice and Bob's steps\n",
    "        \n",
    "    # H gate if X basis\n",
    "    if bob_bases[i] == 1:\n",
    "        qc.h(0)\n",
    "        \n",
    "    qc.measure_all()\n",
    "        \n",
    "    display(qc.draw(\"mpl\"))\n",
    "\n",
    "    # simulate for 1 shot\n",
    "    new_circuit = transpile(qc, backend)\n",
    "    job = backend.run(new_circuit, shots = 1)\n",
    "    results = job.result()\n",
    "    counts = results.get_counts()\n",
    "    \n",
    "    # save Bob's measurement result\n",
    "    bob_bits[i] = 0 if '0' in counts.keys() else 1\n",
    "    \n",
    "    print(f\"Bob measured {bob_bits[i]:.0f}\")\n",
    "    print()\n",
    "    "
   ]
  },
  {
   "cell_type": "code",
   "execution_count": 65,
   "id": "5da051b7-dcc7-4a9a-a79f-79f39522b78b",
   "metadata": {},
   "outputs": [
    {
     "name": "stdout",
     "output_type": "stream",
     "text": [
      "Measurement Results:\n",
      "Alice's bitstring: [1 0 1 0 1]\n",
      "  Bob's bitstring: [1 1 1 0 1]\n",
      "\n",
      "Basis Comparison:\n",
      "Alice's bases: ['Z' 'Z' 'X' 'Z' 'X']\n",
      "  Bob's bases: ['Z' 'X' 'X' 'Z' 'X']\n",
      "\n",
      "Keys:\n",
      "Alice's key: [1 1 0 1]\n",
      "  Bob's key: [1 1 0 1]\n",
      "\n"
     ]
    }
   ],
   "source": [
    "# Post-selection\n",
    "\n",
    "print(\"Measurement Results:\")\n",
    "print(f\"Alice's bitstring: {alice_bits}\")\n",
    "print(f\"  Bob's bitstring: {bob_bits}\")\n",
    "print()\n",
    "print(\"Basis Comparison:\")\n",
    "print(f\"Alice's bases: {convert_to_basis_string(alice_bases)}\")\n",
    "print(f\"  Bob's bases: {convert_to_basis_string(bob_bases)}\")\n",
    "print()\n",
    "\n",
    "# only keep bits where the basis is in agreement\n",
    "keep_idxs = alice_bases == bob_bases\n",
    "alice_key = alice_bits[keep_idxs]\n",
    "bob_key = bob_bits[keep_idxs]\n",
    "\n",
    "print(\"Keys:\")\n",
    "print(f\"Alice's key: {alice_key}\")\n",
    "print(f\"  Bob's key: {bob_key}\")\n",
    "print()"
   ]
  },
  {
   "cell_type": "markdown",
   "id": "7bcb32aa-3856-407d-a932-35d6af39cf06",
   "metadata": {},
   "source": [
    "### Comprehension Questions:\n",
    "\n",
    "Run the above code a few times to get a sense for how the protocol works, then consider the following questions.\n",
    "\n",
    "**A)** When Alice and Bob's bases are the same, does Bob's measured bit always match Alice's? \n",
    "\n",
    "**B)** When Alice and Bob's bases differ, does Bob's measured bit always match Alice's?\n",
    "\n",
    "**C)** How does the BB84 protocol relate to the Stern-Gerlach experiments from before?"
   ]
  },
  {
   "cell_type": "markdown",
   "id": "c38d4c1a-d01f-4420-a241-e8dec2a6c471",
   "metadata": {},
   "source": [
    "### The Full Protocol\n",
    "\n",
    "Below, we have code implementing the full protocol with post-processing. Run it a few times to see how Alice and Bob build up their shared key."
   ]
  },
  {
   "cell_type": "code",
   "execution_count": 66,
   "id": "dfdb8512-a3ff-4334-8bcc-f5704cc5fcb0",
   "metadata": {},
   "outputs": [
    {
     "name": "stdout",
     "output_type": "stream",
     "text": [
      "Measurement Results:\n",
      "Alice's bitstring: [1 0 1 1 0 0 0 1 0 1 0 1 1 1 1 0 1 1 1 0]\n",
      "  Bob's bitstring: [0 0 1 1 0 0 0 1 0 0 0 1 0 1 1 0 1 1 1 0]\n",
      "\n",
      "Basis Comparison:\n",
      "Alice's bases: ['X' 'Z' 'Z' 'Z' 'Z' 'Z' 'Z' 'X' 'X' 'X' 'Z' 'Z' 'Z' 'X' 'Z' 'Z' 'X' 'X'\n",
      " 'X' 'X']\n",
      "  Bob's bases: ['Z' 'X' 'X' 'Z' 'Z' 'X' 'Z' 'X' 'Z' 'Z' 'Z' 'Z' 'X' 'X' 'X' 'Z' 'Z' 'X'\n",
      " 'Z' 'Z']\n",
      "\n",
      "Keys:\n",
      "Alice's key: [1 0 0 1 0 1 1 0 1]\n",
      "  Bob's key: [1 0 0 1 0 1 1 0 1]\n",
      "\n"
     ]
    }
   ],
   "source": [
    "# BB84 Protocol\n",
    "\n",
    "n = 20 # number of bits\n",
    "\n",
    "# randomly choose Alice's bits and bases, and Bob's bases\n",
    "alice_bits = np.random.choice([0,1], n)\n",
    "alice_bases = np.random.choice([0,1], n)\n",
    "bob_bases = np.random.choice([0,1], n)\n",
    "bob_bits = np.zeros(len(alice_bits), dtype=int) # list to store Bob's measurement results\n",
    "\n",
    "# simulator backend\n",
    "backend = Aer.get_backend('qasm_simulator')\n",
    "\n",
    "# loop through all bits\n",
    "for i in range(n):\n",
    "    \n",
    "    qc = QuantumCircuit(1,0) # 1 QB circuit\n",
    "    \n",
    "    # bit flip if preparing the |1> state\n",
    "    if alice_bits[i] == 1:\n",
    "        qc.x(0)\n",
    "        \n",
    "    # H gate if X basis\n",
    "    if alice_bases[i] == 1:\n",
    "        qc.h(0)\n",
    "        \n",
    "    qc.barrier() # visual barrier between Alice and Bob's steps\n",
    "        \n",
    "    # H gate if X basis\n",
    "    if bob_bases[i] == 1:\n",
    "        qc.h(0)\n",
    "        \n",
    "    qc.measure_all()\n",
    "\n",
    "    # simulate for 1 shot\n",
    "    new_circuit = transpile(qc, backend)\n",
    "    job = backend.run(new_circuit, shots = 1)\n",
    "    results = job.result()\n",
    "    counts = results.get_counts()\n",
    "    \n",
    "    # save Bob's measurement result\n",
    "    bob_bits[i] = 0 if '0' in counts.keys() else 1\n",
    "    \n",
    "# Post-selection\n",
    "print(\"Measurement Results:\")\n",
    "print(f\"Alice's bitstring: {alice_bits}\")\n",
    "print(f\"  Bob's bitstring: {bob_bits}\")\n",
    "print()\n",
    "print(\"Basis Comparison:\")\n",
    "print(f\"Alice's bases: {convert_to_basis_string(alice_bases)}\")\n",
    "print(f\"  Bob's bases: {convert_to_basis_string(bob_bases)}\")\n",
    "print()\n",
    "\n",
    "# only keep bits where the basis is in agreement\n",
    "keep_idxs = alice_bases == bob_bases\n",
    "alice_key = alice_bits[keep_idxs]\n",
    "bob_key = bob_bits[keep_idxs]\n",
    "\n",
    "print(\"Keys:\")\n",
    "print(f\"Alice's key: {alice_key}\")\n",
    "print(f\"  Bob's key: {bob_key}\")\n",
    "print()"
   ]
  },
  {
   "cell_type": "markdown",
   "id": "058b6148-e15d-4c59-8cfc-e901e7204834",
   "metadata": {},
   "source": [
    "## Adding in Eve... >:)\n",
    "\n",
    "In practice, Alice and Bob's quantum channel is not secure! So they do not know what occurs from the time Alice sends the qubit to the time Bob receives it. We can model this as a \"black box\" where Eve (our eavesdropper) may do something nefarious...\n",
    "\n",
    "<img src=\"figures/superposition/BB84_circuit_eve.png\" width=\"800\"/>\n",
    "\n",
    "If Eve could make a perfect copy of Alice's qubit and send the original qubit along to Bob, then she would be golden! She could just store the qubit, wait for Alice and Bob to announce their bases over an unsecured channel, and then measure her copy qubits in the same bases as Alice. She would then have the exact same key as Alice and Bob, thwarting their plans!\n",
    "\n",
    "Unfortunately for Eve, and fortunately for Alice and Bob, this is impossible, thanks to the No Cloning Theorem.\n",
    "\n",
    "<div style=\"background-color:rgba(255, 252, 255, 1.0); text-align:center; vertical-align: middle; padding:20px 0;border:3px; border-style:solid; padding: 0.5em; border-color: rgba(255, 112, 222, 1.0); color: #000000;\">\n",
    "\n",
    "<h4><strong>The No Cloning Theorem</strong></h4>\n",
    "\n",
    "Cloning a quantum state is disallowed by the laws of quantum mechanics. The No Cloning Theorem asserts: there is no quantum operation that can duplicate an arbitrary quantum state.\n",
    "\n",
    "**Proof:** Suppose there is an operation $U$ that can clone an arbitrary state $\\ket{\\psi}$, i.e. $U |\\psi\\rangle |0\\rangle = |\\psi\\rangle|\\psi\\rangle$\n",
    "\n",
    "We can express our arbitrary state as $|\\psi\\rangle = \\alpha |0\\rangle + \\beta |1\\rangle $.\n",
    "\\begin{align*}\n",
    "U|\\psi\\rangle|0\\rangle &= |\\psi\\rangle|\\psi\\rangle \\\\\n",
    "&= (\\alpha |0\\rangle + \\beta |1\\rangle)(\\alpha |0\\rangle + \\beta |1\\rangle) \\\\\n",
    "&= \\alpha^2 |0\\rangle|0\\rangle + \\alpha\\beta |0\\rangle |1\\rangle + \\alpha\\beta |1\\rangle|0\\rangle + \\beta^2 |1\\rangle |1\\rangle \\\\\n",
    "\\end{align*}\n",
    "However, we could alternatively use the linearity of $U$ to write:\n",
    "\\begin{align*}\n",
    "U|\\psi\\rangle|0\\rangle &=  \\alpha U|0\\rangle|0\\rangle + \\beta U|1\\rangle|0\\rangle \\\\\n",
    "&=  \\alpha |0\\rangle|0\\rangle + \\beta |1\\rangle|1\\rangle \\\\\n",
    "\\end{align*}\n",
    "We can clearly see these are not equivalent for arbitrary $\\alpha,\\beta$, so no such $U$ can exist!\n",
    "\n",
    "</div>\n",
    "\n",
    "\\\n",
    "Ok, so Eve cannot copy Alice's qubit, but she could try other things. In the problems below, explore attacks that Eve can try to make to learn Alice and Bob's key."
   ]
  },
  {
   "cell_type": "markdown",
   "id": "dd4a2bcb-0921-40f0-8035-d6652273457c",
   "metadata": {},
   "source": [
    "### Simple Measurement Attack\n",
    "\n",
    "The simplest thing Eve could try to do is to measure Alice's qubit and then send it along to Bob. In the code, below we implement such an attack."
   ]
  },
  {
   "cell_type": "code",
   "execution_count": 68,
   "id": "48a1f9d6-2615-4aaf-8a29-47a6b3ad5676",
   "metadata": {
    "jp-MarkdownHeadingCollapsed": true
   },
   "outputs": [
    {
     "name": "stdout",
     "output_type": "stream",
     "text": [
      "Bit #1\n",
      "Alice Bit: 0, Alice Basis: Z, Bob Basis: Z\n"
     ]
    },
    {
     "data": {
      "image/png": "[encoded data removed]",
      "text/plain": [
       "<Figure size 496.785x284.278 with 1 Axes>"
      ]
     },
     "metadata": {},
     "output_type": "display_data"
    },
    {
     "name": "stdout",
     "output_type": "stream",
     "text": [
      "Bob measured 0\n",
      "Eve measured 0\n",
      "\n",
      "Bit #2\n",
      "Alice Bit: 0, Alice Basis: Z, Bob Basis: X\n"
     ]
    },
    {
     "data": {
      "image/png": "[encoded data removed]",
      "text/plain": [
       "<Figure size 580.397x284.278 with 1 Axes>"
      ]
     },
     "metadata": {},
     "output_type": "display_data"
    },
    {
     "name": "stdout",
     "output_type": "stream",
     "text": [
      "Bob measured 0\n",
      "Eve measured 0\n",
      "\n",
      "Bit #3\n",
      "Alice Bit: 0, Alice Basis: Z, Bob Basis: X\n"
     ]
    },
    {
     "data": {
      "image/png": "[encoded data removed]",
      "text/plain": [
       "<Figure size 580.397x284.278 with 1 Axes>"
      ]
     },
     "metadata": {},
     "output_type": "display_data"
    },
    {
     "name": "stdout",
     "output_type": "stream",
     "text": [
      "Bob measured 1\n",
      "Eve measured 0\n",
      "\n",
      "Bit #4\n",
      "Alice Bit: 0, Alice Basis: X, Bob Basis: X\n"
     ]
    },
    {
     "data": {
      "image/png": "[encoded data removed]",
      "text/plain": [
       "<Figure size 664.008x284.278 with 1 Axes>"
      ]
     },
     "metadata": {},
     "output_type": "display_data"
    },
    {
     "name": "stdout",
     "output_type": "stream",
     "text": [
      "Bob measured 1\n",
      "Eve measured 0\n",
      "\n",
      "Bit #5\n",
      "Alice Bit: 1, Alice Basis: X, Bob Basis: Z\n"
     ]
    },
    {
     "data": {
      "image/png": "[encoded data removed]",
      "text/plain": [
       "<Figure size 664.008x284.278 with 1 Axes>"
      ]
     },
     "metadata": {},
     "output_type": "display_data"
    },
    {
     "name": "stdout",
     "output_type": "stream",
     "text": [
      "Bob measured 1\n",
      "Eve measured 1\n",
      "\n"
     ]
    }
   ],
   "source": [
    "# BB84 Protocol with Eve (simple measurement attack)\n",
    "\n",
    "n = 5 # number of bits\n",
    "\n",
    "# randomly choose Alice's bits and bases, and Bob's bases\n",
    "alice_bits = np.random.choice([0,1], n)\n",
    "alice_bases = np.random.choice([0,1], n)\n",
    "bob_bases = np.random.choice([0,1], n)\n",
    "bob_bits = np.zeros(len(alice_bits), dtype=int) # list to store Bob's measurement results\n",
    "eve_bits = np.zeros(len(alice_bits), dtype=int) # list to store Eve's measurement results\n",
    "\n",
    "# simulator backend\n",
    "backend = Aer.get_backend('qasm_simulator')\n",
    "# quantum register for our qubit\n",
    "qr = QuantumRegister(1, name=\"Qubit\")\n",
    "# create two classical registers -- one for Bob's measurement and one for Eve's\n",
    "c_Bob = ClassicalRegister(1, name='Bob')\n",
    "c_Eve = ClassicalRegister(1, name='Eve')\n",
    "\n",
    "# loop through all bits\n",
    "for i in range(n):\n",
    "    \n",
    "    print(f\"Bit #{i+1}\")\n",
    "    print(f\"Alice Bit: {alice_bits[i]}, Alice Basis: {'Z' if alice_bases[i]==0 else 'X'}, Bob Basis: {'Z' if bob_bases[i]==0 else 'X'}\" )\n",
    "    \n",
    "    qc = QuantumCircuit(qr, c_Eve, c_Bob) # 1 QB circuit\n",
    "    \n",
    "    # bit flip if preparing the |1> state\n",
    "    if alice_bits[i] == 1:\n",
    "        qc.x(0)\n",
    "        \n",
    "    # H gate if X basis\n",
    "    if alice_bases[i] == 1:\n",
    "        qc.h(0)\n",
    "        \n",
    "    qc.barrier() # visual barrier between Alice and Eve's steps\n",
    "    \n",
    "    # Eve measures the qubit\n",
    "    qc.measure(qr, c_Eve) \n",
    "    \n",
    "    qc.barrier() # visual barrier between Eve and Bob's steps\n",
    "        \n",
    "    # H gate if X basis\n",
    "    if bob_bases[i] == 1:\n",
    "        qc.h(0)\n",
    "        \n",
    "    qc.measure(qr, c_Bob)\n",
    "        \n",
    "    display(qc.draw(\"mpl\"))\n",
    "\n",
    "    # simulate for 1 shot\n",
    "    new_circuit = transpile(qc, backend)\n",
    "    job = backend.run(new_circuit, shots = 1)\n",
    "    results = job.result()\n",
    "    counts = results.get_counts()\n",
    "    # extract counts -- Bob's is first because he measured last (potentially counterintuitive ordering)\n",
    "    bob_counts = {key[0]: value for key, value in counts.items()} \n",
    "    eve_counts = {key[-1]: value for key, value in counts.items()} \n",
    "    \n",
    "    # save Bob and Eve's measurement results\n",
    "    bob_bits[i] = 0 if '0' in bob_counts.keys() else 1\n",
    "    eve_bits[i] = 0 if '0' in eve_counts.keys() else 1\n",
    "    \n",
    "    print(f\"Bob measured {bob_bits[i]:.0f}\")\n",
    "    print(f\"Eve measured {eve_bits[i]:.0f}\")\n",
    "    print()\n",
    "    "
   ]
  },
  {
   "cell_type": "markdown",
   "id": "6f38ab56-3bd4-46b1-bf93-9b122a9a7ce2",
   "metadata": {},
   "source": [
    "### Comprehension Questions:\n",
    "\n",
    "Run the above code a few times to get a sense for how Eve's attack works, then consider the following questions.\n",
    "\n",
    "**A)** When Alice and Bob's bases are the same, does Bob's measured bit always match Alice's? \n",
    "\n",
    "**B)** When Alice and Bob's bases differ, does Bob's measured bit always match Alice's?\n",
    "\n",
    "**C)** How does Eve's measurement result compare to Alice's bit and Bob's measured bit?\n",
    "\n",
    "**D)** Is Eve's method effective?"
   ]
  },
  {
   "cell_type": "markdown",
   "id": "e3083d3f-7923-4ca3-909c-d37709fb1795",
   "metadata": {},
   "source": [
    "### Full protocol -- Simple Measurement Attack\n",
    "\n",
    "The full protocol with post processing is below. You can play around with it to get a sense for how Eve's attack falls short."
   ]
  },
  {
   "cell_type": "code",
   "execution_count": 70,
   "id": "4f98a7cc-5baf-4e39-bd75-5ac676ff11f4",
   "metadata": {},
   "outputs": [
    {
     "name": "stdout",
     "output_type": "stream",
     "text": [
      "Measurement Results:\n",
      "Alice's bitstring: [0 0 1 1 0 1 0 0 0 1 1 1 1 0 1 1 0 1 0 1]\n",
      "  Bob's bitstring: [0 1 1 0 1 0 1 0 1 1 1 0 1 1 0 0 0 1 1 0]\n",
      "  Eve's bitstring: [0 0 0 0 1 0 1 0 1 1 1 1 1 1 1 1 0 1 1 1]\n",
      "\n",
      "Basis Comparison:\n",
      "Alice's bases: ['Z' 'Z' 'X' 'X' 'X' 'X' 'X' 'X' 'X' 'Z' 'Z' 'Z' 'Z' 'X' 'X' 'X' 'Z' 'X'\n",
      " 'X' 'Z']\n",
      "  Bob's bases: ['Z' 'X' 'X' 'Z' 'Z' 'Z' 'Z' 'Z' 'Z' 'Z' 'X' 'X' 'Z' 'X' 'X' 'X' 'Z' 'X'\n",
      " 'Z' 'X']\n",
      "\n",
      "Keys:\n",
      "Alice's key: [0 1 1 1 0 1 1 0 1]\n",
      "  Bob's key: [0 1 1 1 1 0 0 0 1]\n",
      "  Eve's key: [0 0 1 1 1 1 1 0 1]\n",
      "\n"
     ]
    }
   ],
   "source": [
    "# BB84 Protocol\n",
    "\n",
    "n = 20 # number of bits\n",
    "\n",
    "# randomly choose Alice's bits and bases, and Bob's bases\n",
    "alice_bits = np.random.choice([0,1], n)\n",
    "alice_bases = np.random.choice([0,1], n)\n",
    "bob_bases = np.random.choice([0,1], n)\n",
    "bob_bits = np.zeros(len(alice_bits), dtype=int) # list to store Bob's measurement results\n",
    "eve_bits = np.zeros(len(alice_bits), dtype=int) # list to store Eve's measurement results\n",
    "\n",
    "# simulator backend\n",
    "backend = Aer.get_backend('qasm_simulator')\n",
    "# quantum register for our qubit\n",
    "qr = QuantumRegister(1, name=\"Qubit\")\n",
    "# create two classical registers -- one for Bob's measurement and one for Eve's\n",
    "c_Bob = ClassicalRegister(1, name='Bob')\n",
    "c_Eve = ClassicalRegister(1, name='Eve')\n",
    "\n",
    "# loop through all bits\n",
    "for i in range(n):\n",
    "    \n",
    "    qc = QuantumCircuit(qr, c_Eve, c_Bob) # 1 QB circuit\n",
    "    \n",
    "    # bit flip if preparing the |1> state\n",
    "    if alice_bits[i] == 1:\n",
    "        qc.x(0)\n",
    "        \n",
    "    # H gate if X basis\n",
    "    if alice_bases[i] == 1:\n",
    "        qc.h(0)\n",
    "        \n",
    "    qc.barrier() # visual barrier between Alice and Eve's steps\n",
    "    \n",
    "    # Eve measures the qubit\n",
    "    qc.measure(qr, c_Eve) \n",
    "    \n",
    "    qc.barrier() # visual barrier between Eve and Bob's steps\n",
    "        \n",
    "    # H gate if X basis\n",
    "    if bob_bases[i] == 1:\n",
    "        qc.h(0)\n",
    "        \n",
    "    qc.measure(qr, c_Bob)\n",
    "\n",
    "    # simulate for 1 shot\n",
    "    new_circuit = transpile(qc, backend)\n",
    "    job = backend.run(new_circuit, shots = 1)\n",
    "    results = job.result()\n",
    "    counts = results.get_counts()\n",
    "    # extract counts -- Bob's is first because he measured last (potentially counterintuitive ordering)\n",
    "    bob_counts = {key[0]: value for key, value in counts.items()} \n",
    "    eve_counts = {key[-1]: value for key, value in counts.items()} \n",
    "    \n",
    "    # save Bob and Eve's measurement results\n",
    "    bob_bits[i] = 0 if '0' in bob_counts.keys() else 1\n",
    "    eve_bits[i] = 0 if '0' in eve_counts.keys() else 1\n",
    "\n",
    "    \n",
    "# Post-selection\n",
    "print(\"Measurement Results:\")\n",
    "print(f\"Alice's bitstring: {alice_bits}\")\n",
    "print(f\"  Bob's bitstring: {bob_bits}\")\n",
    "print(f\"  Eve's bitstring: {eve_bits}\")\n",
    "print()\n",
    "print(\"Basis Comparison:\")\n",
    "print(f\"Alice's bases: {convert_to_basis_string(alice_bases)}\")\n",
    "print(f\"  Bob's bases: {convert_to_basis_string(bob_bases)}\")\n",
    "print()\n",
    "\n",
    "# only keep bits where the basis is in agreement\n",
    "keep_idxs = alice_bases == bob_bases\n",
    "alice_key = alice_bits[keep_idxs]\n",
    "bob_key = bob_bits[keep_idxs]\n",
    "# bases are compared over a public channel, so eve keeps the same indexed bits\n",
    "eve_key = eve_bits[keep_idxs]\n",
    "\n",
    "print(\"Keys:\")\n",
    "print(f\"Alice's key: {alice_key}\")\n",
    "print(f\"  Bob's key: {bob_key}\")\n",
    "print(f\"  Eve's key: {eve_key}\")\n",
    "print()"
   ]
  },
  {
   "cell_type": "markdown",
   "id": "e6707f54-1259-4f82-8457-bda27a6d6421",
   "metadata": {},
   "source": [
    "### Mimic Bob Attack\n",
    "\n",
    "Another approach Eve could try is to mimic Bob. So she can also randomly pick a basis and then measure and then send the qubit along to Bob. When she measures in the Z basis, she can simply measure, but when she measures in the X basis, she should apply an H gate both before AND after measuring.\n",
    "\n",
    "#### Implement the mimicry attack below:"
   ]
  },
  {
   "cell_type": "code",
   "execution_count": 76,
   "id": "15cc7afc-3e9d-46f6-99e5-5fcc8c7c4d32",
   "metadata": {},
   "outputs": [
    {
     "name": "stdout",
     "output_type": "stream",
     "text": [
      "Measurement Results:\n",
      "Alice's bitstring: [0 1 0 0 1 1 1 1 0 1 1 0 1 0 1 0 1 1 1 1]\n",
      "  Bob's bitstring: [0 1 0 0 1 0 1 1 0 0 1 1 1 1 1 1 1 1 0 0]\n",
      "  Eve's bitstring: [0 1 0 0 1 1 0 1 0 1 1 1 1 0 1 1 1 1 1 0]\n",
      "\n",
      "Basis Comparison:\n",
      "Alice's bases: ['X' 'X' 'Z' 'X' 'X' 'Z' 'Z' 'Z' 'X' 'X' 'Z' 'X' 'X' 'X' 'Z' 'Z' 'Z' 'Z'\n",
      " 'Z' 'Z']\n",
      "  Bob's bases: ['X' 'X' 'X' 'Z' 'X' 'Z' 'Z' 'Z' 'X' 'Z' 'Z' 'X' 'Z' 'Z' 'X' 'X' 'Z' 'Z'\n",
      " 'X' 'X']\n",
      "\n",
      "Keys:\n",
      "Alice's key: [0 1 1 1 1 1 0 1 0 1 1]\n",
      "  Bob's key: [0 1 1 0 1 1 0 1 1 1 1]\n",
      "  Eve's key: [0 1 1 1 0 1 0 1 1 1 1]\n",
      "\n"
     ]
    }
   ],
   "source": [
    "# BB84 Protocol with Eve (mimic Bob attack)\n",
    "\n",
    "n = 20 # number of bits\n",
    "\n",
    "# randomly choose Alice's bits and bases, and Bob's bases\n",
    "alice_bits = np.random.choice([0,1], n)\n",
    "alice_bases = np.random.choice([0,1], n)\n",
    "bob_bits = np.zeros(len(alice_bits), dtype=int) # list to store Bob's measurement results\n",
    "bob_bases = np.random.choice([0,1], n)\n",
    "eve_bits = np.zeros(len(alice_bits), dtype=int) # list to store Eve's measurement results\n",
    "eve_bases = np.random.choice([0,1], n)\n",
    "\n",
    "# simulator backend\n",
    "backend = Aer.get_backend('qasm_simulator')\n",
    "# quantum register for our qubit\n",
    "qr = QuantumRegister(1, name=\"Qubit\")\n",
    "# create two classical registers -- one for Bob's measurement and one for Eve's\n",
    "c_Bob = ClassicalRegister(1, name='Bob')\n",
    "c_Eve = ClassicalRegister(1, name='Eve')\n",
    "\n",
    "# loop through all bits\n",
    "for i in range(n):\n",
    "    \n",
    "    qc = QuantumCircuit(qr, c_Eve, c_Bob) # 1 QB circuit\n",
    "    \n",
    "    # bit flip if preparing the |1> state\n",
    "    if alice_bits[i] == 1:\n",
    "        qc.x(0)\n",
    "        \n",
    "    # H gate if X basis\n",
    "    if alice_bases[i] == 1:\n",
    "        qc.h(0)\n",
    "        \n",
    "    qc.barrier() # visual barrier between Alice and Eve's steps\n",
    "    \n",
    "    # Eve measures the qubit\n",
    "    if eve_bases[i] == 1: # H gate if X basis\n",
    "        qc.h(0)\n",
    "        \n",
    "    qc.measure(qr, c_Eve)\n",
    "\n",
    "    if eve_bases[i] == 1: # flip it back for Bob\n",
    "        qc.h(0)\n",
    "    \n",
    "    qc.barrier() # visual barrier between Eve and Bob's steps\n",
    "        \n",
    "    # H gate if X basis\n",
    "    if bob_bases[i] == 1:\n",
    "        qc.h(0)\n",
    "        \n",
    "    qc.measure(qr, c_Bob)\n",
    "\n",
    "    # simulate for 1 shot\n",
    "    new_circuit = transpile(qc, backend)\n",
    "    job = backend.run(new_circuit, shots = 1)\n",
    "    results = job.result()\n",
    "    counts = results.get_counts()\n",
    "    # extract counts -- Bob's is first because he measured last (potentially counterintuitive ordering)\n",
    "    bob_counts = {key[0]: value for key, value in counts.items()} \n",
    "    eve_counts = {key[-1]: value for key, value in counts.items()} \n",
    "    \n",
    "    # save Bob and Eve's measurement results\n",
    "    bob_bits[i] = 0 if '0' in bob_counts.keys() else 1\n",
    "    eve_bits[i] = 0 if '0' in eve_counts.keys() else 1\n",
    "\n",
    "    \n",
    "# Post-selection\n",
    "print(\"Measurement Results:\")\n",
    "print(f\"Alice's bitstring: {alice_bits}\")\n",
    "print(f\"  Bob's bitstring: {bob_bits}\")\n",
    "print(f\"  Eve's bitstring: {eve_bits}\")\n",
    "print()\n",
    "print(\"Basis Comparison:\")\n",
    "print(f\"Alice's bases: {convert_to_basis_string(alice_bases)}\")\n",
    "print(f\"  Bob's bases: {convert_to_basis_string(bob_bases)}\")\n",
    "print()\n",
    "\n",
    "# only keep bits where the basis is in agreement\n",
    "keep_idxs = alice_bases == bob_bases\n",
    "alice_key = alice_bits[keep_idxs]\n",
    "bob_key = bob_bits[keep_idxs]\n",
    "# bases are compared over a public channel, so eve keeps the same indexed bits\n",
    "eve_key = eve_bits[keep_idxs]\n",
    "\n",
    "print(\"Keys:\")\n",
    "print(f\"Alice's key: {alice_key}\")\n",
    "print(f\"  Bob's key: {bob_key}\")\n",
    "print(f\"  Eve's key: {eve_key}\")\n",
    "print()"
   ]
  },
  {
   "cell_type": "markdown",
   "id": "9be7b729-a99c-47e5-90f6-b7a29cf0e7b9",
   "metadata": {},
   "source": [
    "### Comprehension Questions:\n",
    "\n",
    "Run your mimicry attack code a few times to get a sense for how Eve's attack works, then consider the following questions.\n",
    "\n",
    "**A)** When Alice and Bob's bases are the same, does Bob's measured bit always match Alice's? \n",
    "\n",
    "**B)** When Alice and Bob's bases differ, does Bob's measured bit always match Alice's?\n",
    "\n",
    "**C)** How does Eve's measurement result compare to Alice's bit and Bob's measured bit?\n",
    "\n",
    "**D)** Is Eve's method effective?"
   ]
  },
  {
   "cell_type": "markdown",
   "id": "17ed814c-916d-4b49-8e90-548fa586fe02",
   "metadata": {},
   "source": [
    "### Other Attacks?\n",
    "\n",
    "Can you think of any other approaches Eve could try? If so, try coding them up!"
   ]
  },
  {
   "cell_type": "code",
   "execution_count": null,
   "id": "5e199d94-a2e2-4bc1-8209-384053e624d2",
   "metadata": {},
   "outputs": [],
   "source": [
    "# BB84 Protocol with Eve (other attacks)\n",
    "\n",
    "# *FILL IN HERE*"
   ]
  }
 ],
 "metadata": {
  "kernelspec": {
   "display_name": "Python 3 [MIT-QWS]",
   "language": "python",
   "name": "python3_mit_qw_er3wqt"
  },
  "language_info": {
   "codemirror_mode": {
    "name": "ipython",
    "version": 3
   },
   "file_extension": ".py",
   "mimetype": "text/x-python",
   "name": "python",
   "nbconvert_exporter": "python",
   "pygments_lexer": "ipython3",
   "version": "3.11.9"
  }
 },
 "nbformat": 4,
 "nbformat_minor": 5
}
