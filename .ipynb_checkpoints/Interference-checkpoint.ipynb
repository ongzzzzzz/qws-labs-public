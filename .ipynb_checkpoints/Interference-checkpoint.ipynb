{
 "cells": [
  {
   "cell_type": "markdown",
   "id": "5e2586c4-74f4-4e93-b6a6-76f0d2d4293f",
   "metadata": {},
   "source": [
    "<div style=\"background-color:rgba(230, 245, 255, 1.0); text-align:center; vertical-align: middle; padding:20px 0;border:3px; border-style:solid; padding: 0.5em; border-color: rgba(0, 153, 255, 1.0); color: #000000;\">\n",
    "\n",
    "<h1><strong>MIT Quantum Winter School</strong></h1>\n",
    "\n",
    "<h1><strong>Day 2 - Interference</strong></h1>\n",
    "\n",
    "<img src=\"figures/course_logo.png\" width=\"500\"/>\n",
    "\n",
    "</div>"
   ]
  },
  {
   "cell_type": "code",
   "execution_count": 1,
   "id": "e96254fa-b5c1-4339-ad9f-428fe86ca0e5",
   "metadata": {},
   "outputs": [],
   "source": [
    "%load_ext autoreload\n",
    "%autoreload 2"
   ]
  },
  {
   "cell_type": "code",
   "execution_count": 2,
   "id": "e1448713-9c7b-4936-9ffb-1b176a76ebc6",
   "metadata": {},
   "outputs": [
    {
     "data": {
      "text/html": [
       "    <style>\n",
       "        .bk-notebook-logo {\n",
       "            display: block;\n",
       "            width: 20px;\n",
       "            height: 20px;\n",
       "            background-image: url(data:image/png;base64,iVBORw0KGgoAAAANSUhEUgAAABQAAAAUCAYAAACNiR0NAAAABHNCSVQICAgIfAhkiAAAAAlwSFlzAAALEgAACxIB0t1+/AAAABx0RVh0U29mdHdhcmUAQWRvYmUgRmlyZXdvcmtzIENTNui8sowAAAOkSURBVDiNjZRtaJVlGMd/1/08zzln5zjP1LWcU9N0NkN8m2CYjpgQYQXqSs0I84OLIC0hkEKoPtiH3gmKoiJDU7QpLgoLjLIQCpEsNJ1vqUOdO7ppbuec5+V+rj4ctwzd8IIbbi6u+8f1539dt3A78eXC7QizUF7gyV1fD1Yqg4JWz84yffhm0qkFqBogB9rM8tZdtwVsPUhWhGcFJngGeWrPzHm5oaMmkfEg1usvLFyc8jLRqDOMru7AyC8saQr7GG7f5fvDeH7Ej8CM66nIF+8yngt6HWaKh7k49Soy9nXurCi1o3qUbS3zWfrYeQDTB/Qj6kX6Ybhw4B+bOYoLKCC9H3Nu/leUTZ1JdRWkkn2ldcCamzrcf47KKXdAJllSlxAOkRgyHsGC/zRday5Qld9DyoM4/q/rUoy/CXh3jzOu3bHUVZeU+DEn8FInkPBFlu3+nW3Nw0mk6vCDiWg8CeJaxEwuHS3+z5RgY+YBR6V1Z1nxSOfoaPa4LASWxxdNp+VWTk7+4vzaou8v8PN+xo+KY2xsw6une2frhw05CTYOmQvsEhjhWjn0bmXPjpE1+kplmmkP3suftwTubK9Vq22qKmrBhpY4jvd5afdRA3wGjFAgcnTK2s4hY0/GPNIb0nErGMCRxWOOX64Z8RAC4oCXdklmEvcL8o0BfkNK4lUg9HTl+oPlQxdNo3Mg4Nv175e/1LDGzZen30MEjRUtmXSfiTVu1kK8W4txyV6BMKlbgk3lMwYCiusNy9fVfvvwMxv8Ynl6vxoByANLTWplvuj/nF9m2+PDtt1eiHPBr1oIfhCChQMBw6Aw0UulqTKZdfVvfG7VcfIqLG9bcldL/+pdWTLxLUy8Qq38heUIjh4XlzZxzQm19lLFlr8vdQ97rjZVOLf8nclzckbcD4wxXMidpX30sFd37Fv/GtwwhzhxGVAprjbg0gCAEeIgwCZyTV2Z1REEW8O4py0wsjeloKoMr6iCY6dP92H6Vw/oTyICIthibxjm/DfN9lVz8IqtqKYLUXfoKVMVQVVJOElGjrnnUt9T9wbgp8AyYKaGlqingHZU/uG2NTZSVqwHQTWkx9hxjkpWDaCg6Ckj5qebgBVbT3V3NNXMSiWSDdGV3hrtzla7J+duwPOToIg42ChPQOQjspnSlp1V+Gjdged7+8UN5CRAV7a5EdFNwCjEaBR27b3W890TE7g24NAP/mMDXRWrGoFPQI9ls/MWO2dWFAar/xcOIImbbpA3zgAAAABJRU5ErkJggg==);\n",
       "        }\n",
       "    </style>\n",
       "    <div>\n",
       "        <a href=\"https://bokeh.org\" target=\"_blank\" class=\"bk-notebook-logo\"></a>\n",
       "        <span id=\"f68db6ec-8877-457f-b0ce-475e62bde649\">Loading BokehJS ...</span>\n",
       "    </div>\n"
      ]
     },
     "metadata": {},
     "output_type": "display_data"
    },
    {
     "data": {
      "application/javascript": [
       "'use strict';\n",
       "(function(root) {\n",
       "  function now() {\n",
       "    return new Date();\n",
       "  }\n",
       "\n",
       "  const force = true;\n",
       "\n",
       "  if (typeof root._bokeh_onload_callbacks === \"undefined\" || force === true) {\n",
       "    root._bokeh_onload_callbacks = [];\n",
       "    root._bokeh_is_loading = undefined;\n",
       "  }\n",
       "\n",
       "const JS_MIME_TYPE = 'application/javascript';\n",
       "  const HTML_MIME_TYPE = 'text/html';\n",
       "  const EXEC_MIME_TYPE = 'application/vnd.bokehjs_exec.v0+json';\n",
       "  const CLASS_NAME = 'output_bokeh rendered_html';\n",
       "\n",
       "  /**\n",
       "   * Render data to the DOM node\n",
       "   */\n",
       "  function render(props, node) {\n",
       "    const script = document.createElement(\"script\");\n",
       "    node.appendChild(script);\n",
       "  }\n",
       "\n",
       "  /**\n",
       "   * Handle when an output is cleared or removed\n",
       "   */\n",
       "  function handleClearOutput(event, handle) {\n",
       "    function drop(id) {\n",
       "      const view = Bokeh.index.get_by_id(id)\n",
       "      if (view != null) {\n",
       "        view.model.document.clear()\n",
       "        Bokeh.index.delete(view)\n",
       "      }\n",
       "    }\n",
       "\n",
       "    const cell = handle.cell;\n",
       "\n",
       "    const id = cell.output_area._bokeh_element_id;\n",
       "    const server_id = cell.output_area._bokeh_server_id;\n",
       "\n",
       "    // Clean up Bokeh references\n",
       "    if (id != null) {\n",
       "      drop(id)\n",
       "    }\n",
       "\n",
       "    if (server_id !== undefined) {\n",
       "      // Clean up Bokeh references\n",
       "      const cmd_clean = \"from bokeh.io.state import curstate; print(curstate().uuid_to_server['\" + server_id + \"'].get_sessions()[0].document.roots[0]._id)\";\n",
       "      cell.notebook.kernel.execute(cmd_clean, {\n",
       "        iopub: {\n",
       "          output: function(msg) {\n",
       "            const id = msg.content.text.trim()\n",
       "            drop(id)\n",
       "          }\n",
       "        }\n",
       "      });\n",
       "      // Destroy server and session\n",
       "      const cmd_destroy = \"import bokeh.io.notebook as ion; ion.destroy_server('\" + server_id + \"')\";\n",
       "      cell.notebook.kernel.execute(cmd_destroy);\n",
       "    }\n",
       "  }\n",
       "\n",
       "  /**\n",
       "   * Handle when a new output is added\n",
       "   */\n",
       "  function handleAddOutput(event, handle) {\n",
       "    const output_area = handle.output_area;\n",
       "    const output = handle.output;\n",
       "\n",
       "    // limit handleAddOutput to display_data with EXEC_MIME_TYPE content only\n",
       "    if ((output.output_type != \"display_data\") || (!Object.prototype.hasOwnProperty.call(output.data, EXEC_MIME_TYPE))) {\n",
       "      return\n",
       "    }\n",
       "\n",
       "    const toinsert = output_area.element.find(\".\" + CLASS_NAME.split(' ')[0]);\n",
       "\n",
       "    if (output.metadata[EXEC_MIME_TYPE][\"id\"] !== undefined) {\n",
       "      toinsert[toinsert.length - 1].firstChild.textContent = output.data[JS_MIME_TYPE];\n",
       "      // store reference to embed id on output_area\n",
       "      output_area._bokeh_element_id = output.metadata[EXEC_MIME_TYPE][\"id\"];\n",
       "    }\n",
       "    if (output.metadata[EXEC_MIME_TYPE][\"server_id\"] !== undefined) {\n",
       "      const bk_div = document.createElement(\"div\");\n",
       "      bk_div.innerHTML = output.data[HTML_MIME_TYPE];\n",
       "      const script_attrs = bk_div.children[0].attributes;\n",
       "      for (let i = 0; i < script_attrs.length; i++) {\n",
       "        toinsert[toinsert.length - 1].firstChild.setAttribute(script_attrs[i].name, script_attrs[i].value);\n",
       "        toinsert[toinsert.length - 1].firstChild.textContent = bk_div.children[0].textContent\n",
       "      }\n",
       "      // store reference to server id on output_area\n",
       "      output_area._bokeh_server_id = output.metadata[EXEC_MIME_TYPE][\"server_id\"];\n",
       "    }\n",
       "  }\n",
       "\n",
       "  function register_renderer(events, OutputArea) {\n",
       "\n",
       "    function append_mime(data, metadata, element) {\n",
       "      // create a DOM node to render to\n",
       "      const toinsert = this.create_output_subarea(\n",
       "        metadata,\n",
       "        CLASS_NAME,\n",
       "        EXEC_MIME_TYPE\n",
       "      );\n",
       "      this.keyboard_manager.register_events(toinsert);\n",
       "      // Render to node\n",
       "      const props = {data: data, metadata: metadata[EXEC_MIME_TYPE]};\n",
       "      render(props, toinsert[toinsert.length - 1]);\n",
       "      element.append(toinsert);\n",
       "      return toinsert\n",
       "    }\n",
       "\n",
       "    /* Handle when an output is cleared or removed */\n",
       "    events.on('clear_output.CodeCell', handleClearOutput);\n",
       "    events.on('delete.Cell', handleClearOutput);\n",
       "\n",
       "    /* Handle when a new output is added */\n",
       "    events.on('output_added.OutputArea', handleAddOutput);\n",
       "\n",
       "    /**\n",
       "     * Register the mime type and append_mime function with output_area\n",
       "     */\n",
       "    OutputArea.prototype.register_mime_type(EXEC_MIME_TYPE, append_mime, {\n",
       "      /* Is output safe? */\n",
       "      safe: true,\n",
       "      /* Index of renderer in `output_area.display_order` */\n",
       "      index: 0\n",
       "    });\n",
       "  }\n",
       "\n",
       "  // register the mime type if in Jupyter Notebook environment and previously unregistered\n",
       "  if (root.Jupyter !== undefined) {\n",
       "    const events = require('base/js/events');\n",
       "    const OutputArea = require('notebook/js/outputarea').OutputArea;\n",
       "\n",
       "    if (OutputArea.prototype.mime_types().indexOf(EXEC_MIME_TYPE) == -1) {\n",
       "      register_renderer(events, OutputArea);\n",
       "    }\n",
       "  }\n",
       "  if (typeof (root._bokeh_timeout) === \"undefined\" || force === true) {\n",
       "    root._bokeh_timeout = Date.now() + 5000;\n",
       "    root._bokeh_failed_load = false;\n",
       "  }\n",
       "\n",
       "  const NB_LOAD_WARNING = {'data': {'text/html':\n",
       "     \"<div style='background-color: #fdd'>\\n\"+\n",
       "     \"<p>\\n\"+\n",
       "     \"BokehJS does not appear to have successfully loaded. If loading BokehJS from CDN, this \\n\"+\n",
       "     \"may be due to a slow or bad network connection. Possible fixes:\\n\"+\n",
       "     \"</p>\\n\"+\n",
       "     \"<ul>\\n\"+\n",
       "     \"<li>re-rerun `output_notebook()` to attempt to load from CDN again, or</li>\\n\"+\n",
       "     \"<li>use INLINE resources instead, as so:</li>\\n\"+\n",
       "     \"</ul>\\n\"+\n",
       "     \"<code>\\n\"+\n",
       "     \"from bokeh.resources import INLINE\\n\"+\n",
       "     \"output_notebook(resources=INLINE)\\n\"+\n",
       "     \"</code>\\n\"+\n",
       "     \"</div>\"}};\n",
       "\n",
       "  function display_loaded(error = null) {\n",
       "    const el = document.getElementById(\"f68db6ec-8877-457f-b0ce-475e62bde649\");\n",
       "    if (el != null) {\n",
       "      const html = (() => {\n",
       "        if (typeof root.Bokeh === \"undefined\") {\n",
       "          if (error == null) {\n",
       "            return \"BokehJS is loading ...\";\n",
       "          } else {\n",
       "            return \"BokehJS failed to load.\";\n",
       "          }\n",
       "        } else {\n",
       "          const prefix = `BokehJS ${root.Bokeh.version}`;\n",
       "          if (error == null) {\n",
       "            return `${prefix} successfully loaded.`;\n",
       "          } else {\n",
       "            return `${prefix} <b>encountered errors</b> while loading and may not function as expected.`;\n",
       "          }\n",
       "        }\n",
       "      })();\n",
       "      el.innerHTML = html;\n",
       "\n",
       "      if (error != null) {\n",
       "        const wrapper = document.createElement(\"div\");\n",
       "        wrapper.style.overflow = \"auto\";\n",
       "        wrapper.style.height = \"5em\";\n",
       "        wrapper.style.resize = \"vertical\";\n",
       "        const content = document.createElement(\"div\");\n",
       "        content.style.fontFamily = \"monospace\";\n",
       "        content.style.whiteSpace = \"pre-wrap\";\n",
       "        content.style.backgroundColor = \"rgb(255, 221, 221)\";\n",
       "        content.textContent = error.stack ?? error.toString();\n",
       "        wrapper.append(content);\n",
       "        el.append(wrapper);\n",
       "      }\n",
       "    } else if (Date.now() < root._bokeh_timeout) {\n",
       "      setTimeout(() => display_loaded(error), 100);\n",
       "    }\n",
       "  }\n",
       "\n",
       "  function run_callbacks() {\n",
       "    try {\n",
       "      root._bokeh_onload_callbacks.forEach(function(callback) {\n",
       "        if (callback != null)\n",
       "          callback();\n",
       "      });\n",
       "    } finally {\n",
       "      delete root._bokeh_onload_callbacks\n",
       "    }\n",
       "    console.debug(\"Bokeh: all callbacks have finished\");\n",
       "  }\n",
       "\n",
       "  function load_libs(css_urls, js_urls, callback) {\n",
       "    if (css_urls == null) css_urls = [];\n",
       "    if (js_urls == null) js_urls = [];\n",
       "\n",
       "    root._bokeh_onload_callbacks.push(callback);\n",
       "    if (root._bokeh_is_loading > 0) {\n",
       "      console.debug(\"Bokeh: BokehJS is being loaded, scheduling callback at\", now());\n",
       "      return null;\n",
       "    }\n",
       "    if (js_urls == null || js_urls.length === 0) {\n",
       "      run_callbacks();\n",
       "      return null;\n",
       "    }\n",
       "    console.debug(\"Bokeh: BokehJS not loaded, scheduling load and callback at\", now());\n",
       "    root._bokeh_is_loading = css_urls.length + js_urls.length;\n",
       "\n",
       "    function on_load() {\n",
       "      root._bokeh_is_loading--;\n",
       "      if (root._bokeh_is_loading === 0) {\n",
       "        console.debug(\"Bokeh: all BokehJS libraries/stylesheets loaded\");\n",
       "        run_callbacks()\n",
       "      }\n",
       "    }\n",
       "\n",
       "    function on_error(url) {\n",
       "      console.error(\"failed to load \" + url);\n",
       "    }\n",
       "\n",
       "    for (let i = 0; i < css_urls.length; i++) {\n",
       "      const url = css_urls[i];\n",
       "      const element = document.createElement(\"link\");\n",
       "      element.onload = on_load;\n",
       "      element.onerror = on_error.bind(null, url);\n",
       "      element.rel = \"stylesheet\";\n",
       "      element.type = \"text/css\";\n",
       "      element.href = url;\n",
       "      console.debug(\"Bokeh: injecting link tag for BokehJS stylesheet: \", url);\n",
       "      document.body.appendChild(element);\n",
       "    }\n",
       "\n",
       "    for (let i = 0; i < js_urls.length; i++) {\n",
       "      const url = js_urls[i];\n",
       "      const element = document.createElement('script');\n",
       "      element.onload = on_load;\n",
       "      element.onerror = on_error.bind(null, url);\n",
       "      element.async = false;\n",
       "      element.src = url;\n",
       "      console.debug(\"Bokeh: injecting script tag for BokehJS library: \", url);\n",
       "      document.head.appendChild(element);\n",
       "    }\n",
       "  };\n",
       "\n",
       "  function inject_raw_css(css) {\n",
       "    const element = document.createElement(\"style\");\n",
       "    element.appendChild(document.createTextNode(css));\n",
       "    document.body.appendChild(element);\n",
       "  }\n",
       "\n",
       "  const js_urls = [\"https://cdn.bokeh.org/bokeh/release/bokeh-3.6.2.min.js\", \"https://cdn.bokeh.org/bokeh/release/bokeh-gl-3.6.2.min.js\", \"https://cdn.bokeh.org/bokeh/release/bokeh-widgets-3.6.2.min.js\", \"https://cdn.bokeh.org/bokeh/release/bokeh-tables-3.6.2.min.js\", \"https://cdn.bokeh.org/bokeh/release/bokeh-mathjax-3.6.2.min.js\"];\n",
       "  const css_urls = [];\n",
       "\n",
       "  const inline_js = [    function(Bokeh) {\n",
       "      Bokeh.set_log_level(\"info\");\n",
       "    },\n",
       "function(Bokeh) {\n",
       "    }\n",
       "  ];\n",
       "\n",
       "  function run_inline_js() {\n",
       "    if (root.Bokeh !== undefined || force === true) {\n",
       "      try {\n",
       "            for (let i = 0; i < inline_js.length; i++) {\n",
       "      inline_js[i].call(root, root.Bokeh);\n",
       "    }\n",
       "\n",
       "      } catch (error) {display_loaded(error);throw error;\n",
       "      }if (force === true) {\n",
       "        display_loaded();\n",
       "      }} else if (Date.now() < root._bokeh_timeout) {\n",
       "      setTimeout(run_inline_js, 100);\n",
       "    } else if (!root._bokeh_failed_load) {\n",
       "      console.log(\"Bokeh: BokehJS failed to load within specified timeout.\");\n",
       "      root._bokeh_failed_load = true;\n",
       "    } else if (force !== true) {\n",
       "      const cell = $(document.getElementById(\"f68db6ec-8877-457f-b0ce-475e62bde649\")).parents('.cell').data().cell;\n",
       "      cell.output_area.append_execute_result(NB_LOAD_WARNING)\n",
       "    }\n",
       "  }\n",
       "\n",
       "  if (root._bokeh_is_loading === 0) {\n",
       "    console.debug(\"Bokeh: BokehJS loaded, going straight to plotting\");\n",
       "    run_inline_js();\n",
       "  } else {\n",
       "    load_libs(css_urls, js_urls, function() {\n",
       "      console.debug(\"Bokeh: BokehJS plotting callback run at\", now());\n",
       "      run_inline_js();\n",
       "    });\n",
       "  }\n",
       "}(window));"
      ],
      "application/vnd.bokehjs_load.v0+json": "'use strict';\n(function(root) {\n  function now() {\n    return new Date();\n  }\n\n  const force = true;\n\n  if (typeof root._bokeh_onload_callbacks === \"undefined\" || force === true) {\n    root._bokeh_onload_callbacks = [];\n    root._bokeh_is_loading = undefined;\n  }\n\n\n  if (typeof (root._bokeh_timeout) === \"undefined\" || force === true) {\n    root._bokeh_timeout = Date.now() + 5000;\n    root._bokeh_failed_load = false;\n  }\n\n  const NB_LOAD_WARNING = {'data': {'text/html':\n     \"<div style='background-color: #fdd'>\\n\"+\n     \"<p>\\n\"+\n     \"BokehJS does not appear to have successfully loaded. If loading BokehJS from CDN, this \\n\"+\n     \"may be due to a slow or bad network connection. Possible fixes:\\n\"+\n     \"</p>\\n\"+\n     \"<ul>\\n\"+\n     \"<li>re-rerun `output_notebook()` to attempt to load from CDN again, or</li>\\n\"+\n     \"<li>use INLINE resources instead, as so:</li>\\n\"+\n     \"</ul>\\n\"+\n     \"<code>\\n\"+\n     \"from bokeh.resources import INLINE\\n\"+\n     \"output_notebook(resources=INLINE)\\n\"+\n     \"</code>\\n\"+\n     \"</div>\"}};\n\n  function display_loaded(error = null) {\n    const el = document.getElementById(\"f68db6ec-8877-457f-b0ce-475e62bde649\");\n    if (el != null) {\n      const html = (() => {\n        if (typeof root.Bokeh === \"undefined\") {\n          if (error == null) {\n            return \"BokehJS is loading ...\";\n          } else {\n            return \"BokehJS failed to load.\";\n          }\n        } else {\n          const prefix = `BokehJS ${root.Bokeh.version}`;\n          if (error == null) {\n            return `${prefix} successfully loaded.`;\n          } else {\n            return `${prefix} <b>encountered errors</b> while loading and may not function as expected.`;\n          }\n        }\n      })();\n      el.innerHTML = html;\n\n      if (error != null) {\n        const wrapper = document.createElement(\"div\");\n        wrapper.style.overflow = \"auto\";\n        wrapper.style.height = \"5em\";\n        wrapper.style.resize = \"vertical\";\n        const content = document.createElement(\"div\");\n        content.style.fontFamily = \"monospace\";\n        content.style.whiteSpace = \"pre-wrap\";\n        content.style.backgroundColor = \"rgb(255, 221, 221)\";\n        content.textContent = error.stack ?? error.toString();\n        wrapper.append(content);\n        el.append(wrapper);\n      }\n    } else if (Date.now() < root._bokeh_timeout) {\n      setTimeout(() => display_loaded(error), 100);\n    }\n  }\n\n  function run_callbacks() {\n    try {\n      root._bokeh_onload_callbacks.forEach(function(callback) {\n        if (callback != null)\n          callback();\n      });\n    } finally {\n      delete root._bokeh_onload_callbacks\n    }\n    console.debug(\"Bokeh: all callbacks have finished\");\n  }\n\n  function load_libs(css_urls, js_urls, callback) {\n    if (css_urls == null) css_urls = [];\n    if (js_urls == null) js_urls = [];\n\n    root._bokeh_onload_callbacks.push(callback);\n    if (root._bokeh_is_loading > 0) {\n      console.debug(\"Bokeh: BokehJS is being loaded, scheduling callback at\", now());\n      return null;\n    }\n    if (js_urls == null || js_urls.length === 0) {\n      run_callbacks();\n      return null;\n    }\n    console.debug(\"Bokeh: BokehJS not loaded, scheduling load and callback at\", now());\n    root._bokeh_is_loading = css_urls.length + js_urls.length;\n\n    function on_load() {\n      root._bokeh_is_loading--;\n      if (root._bokeh_is_loading === 0) {\n        console.debug(\"Bokeh: all BokehJS libraries/stylesheets loaded\");\n        run_callbacks()\n      }\n    }\n\n    function on_error(url) {\n      console.error(\"failed to load \" + url);\n    }\n\n    for (let i = 0; i < css_urls.length; i++) {\n      const url = css_urls[i];\n      const element = document.createElement(\"link\");\n      element.onload = on_load;\n      element.onerror = on_error.bind(null, url);\n      element.rel = \"stylesheet\";\n      element.type = \"text/css\";\n      element.href = url;\n      console.debug(\"Bokeh: injecting link tag for BokehJS stylesheet: \", url);\n      document.body.appendChild(element);\n    }\n\n    for (let i = 0; i < js_urls.length; i++) {\n      const url = js_urls[i];\n      const element = document.createElement('script');\n      element.onload = on_load;\n      element.onerror = on_error.bind(null, url);\n      element.async = false;\n      element.src = url;\n      console.debug(\"Bokeh: injecting script tag for BokehJS library: \", url);\n      document.head.appendChild(element);\n    }\n  };\n\n  function inject_raw_css(css) {\n    const element = document.createElement(\"style\");\n    element.appendChild(document.createTextNode(css));\n    document.body.appendChild(element);\n  }\n\n  const js_urls = [\"https://cdn.bokeh.org/bokeh/release/bokeh-3.6.2.min.js\", \"https://cdn.bokeh.org/bokeh/release/bokeh-gl-3.6.2.min.js\", \"https://cdn.bokeh.org/bokeh/release/bokeh-widgets-3.6.2.min.js\", \"https://cdn.bokeh.org/bokeh/release/bokeh-tables-3.6.2.min.js\", \"https://cdn.bokeh.org/bokeh/release/bokeh-mathjax-3.6.2.min.js\"];\n  const css_urls = [];\n\n  const inline_js = [    function(Bokeh) {\n      Bokeh.set_log_level(\"info\");\n    },\nfunction(Bokeh) {\n    }\n  ];\n\n  function run_inline_js() {\n    if (root.Bokeh !== undefined || force === true) {\n      try {\n            for (let i = 0; i < inline_js.length; i++) {\n      inline_js[i].call(root, root.Bokeh);\n    }\n\n      } catch (error) {display_loaded(error);throw error;\n      }if (force === true) {\n        display_loaded();\n      }} else if (Date.now() < root._bokeh_timeout) {\n      setTimeout(run_inline_js, 100);\n    } else if (!root._bokeh_failed_load) {\n      console.log(\"Bokeh: BokehJS failed to load within specified timeout.\");\n      root._bokeh_failed_load = true;\n    } else if (force !== true) {\n      const cell = $(document.getElementById(\"f68db6ec-8877-457f-b0ce-475e62bde649\")).parents('.cell').data().cell;\n      cell.output_area.append_execute_result(NB_LOAD_WARNING)\n    }\n  }\n\n  if (root._bokeh_is_loading === 0) {\n    console.debug(\"Bokeh: BokehJS loaded, going straight to plotting\");\n    run_inline_js();\n  } else {\n    load_libs(css_urls, js_urls, function() {\n      console.debug(\"Bokeh: BokehJS plotting callback run at\", now());\n      run_inline_js();\n    });\n  }\n}(window));"
     },
     "metadata": {},
     "output_type": "display_data"
    }
   ],
   "source": [
    "import math\n",
    "import numpy as np\n",
    "import matplotlib.pyplot as plt\n",
    "import random\n",
    "\n",
    "# Importing standard Qiskit libraries\n",
    "import qiskit\n",
    "import qiskit_aer\n",
    "import pylatexenc\n",
    "from qiskit import *\n",
    "from qiskit_aer import *\n",
    "from qiskit.compiler import transpile, assemble\n",
    "from qiskit.visualization import plot_histogram, plot_bloch_vector\n",
    "from qiskit.quantum_info import Statevector, DensityMatrix, random_statevector\n",
    "from qiskit.quantum_info.operators import Operator, Pauli\n",
    "from qiskit.circuit.library import GroverOperator, MCMT, ZGate\n",
    "\n",
    "# QWS helpers\n",
    "from helpers import convert_to_basis_string, get_all_pauli_strings,interactive_sine_waves, double_slit_experiment\n",
    "\n",
    "# Bokeh interactive plotting\n",
    "from bokeh.plotting import figure, output_notebook, show\n",
    "from bokeh.models import Slider, ColumnDataSource, CustomJS, Range1d, Toggle, Button, SetValue\n",
    "from bokeh.layouts import column, row\n",
    "from bokeh.io import push_notebook\n",
    "# Initialize the notebook output\n",
    "output_notebook()\n",
    "\n",
    "nshots = 10000"
   ]
  },
  {
   "cell_type": "markdown",
   "id": "c5ff30f9-2178-47eb-bcf0-9708f6cd7b6e",
   "metadata": {},
   "source": [
    "# Interference Between Two Sine Waves\n",
    "\n",
    "Two sine waves interfere with each other. For two sine waves with the same amplitude and frequency, the condition for complete constructive interference is for the phase difference between the waves to be a multiple of $2\\pi$, i.e. $2\\pi n$ for $n\\in\\mathbb{Z}$. The condition of complete destructive interference is for the phase difference between the two waves to be $\\pi (n + 1/2)$ for $n\\in\\mathbb{Z}$. For values of phase in between these special points, or if the frequency and/or amplitudes of the waves are different, there will be partial interference.\n",
    "\n",
    "In the interactive plot below, you can play around with the properties of two sine waves and see how their sum can interfere constructively/destructively."
   ]
  },
  {
   "cell_type": "code",
   "execution_count": 3,
   "id": "db954bef-3694-4de9-86bc-30d5f18da824",
   "metadata": {},
   "outputs": [
    {
     "data": {
      "text/html": [
       "\n",
       "  <div id=\"b691e8c3-cc32-40d6-8e8d-d9d5bbd795a8\" data-root-id=\"p1081\" style=\"display: contents;\"></div>\n"
      ]
     },
     "metadata": {},
     "output_type": "display_data"
    },
    {
     "data": {
      "application/javascript": [
       "(function(root) {\n",
       "  function embed_document(root) {\n",
       "  const docs_json = {\"e7ff2f4b-b037-4569-b078-4e4153de5e07\":{\"version\":\"3.6.2\",\"title\":\"Bokeh Application\",\"roots\":[{\"type\":\"object\",\"name\":\"Column\",\"id\":\"p1081\",\"attributes\":{\"children\":[{\"type\":\"object\",\"name\":\"Row\",\"id\":\"p1080\",\"attributes\":{\"children\":[{\"type\":\"object\",\"name\":\"Column\",\"id\":\"p1078\",\"attributes\":{\"children\":[{\"type\":\"object\",\"name\":\"Slider\",\"id\":\"p1073\",\"attributes\":{\"js_property_callbacks\":{\"type\":\"map\",\"entries\":[[\"change:value\",[{\"type\":\"object\",\"name\":\"CustomJS\",\"id\":\"p1077\",\"attributes\":{\"args\":{\"type\":\"map\",\"entries\":[[\"source\",{\"type\":\"object\",\"name\":\"ColumnDataSource\",\"id\":\"p1001\",\"attributes\":{\"selected\":{\"type\":\"object\",\"name\":\"Selection\",\"id\":\"p1002\",\"attributes\":{\"indices\":[],\"line_indices\":[]}},\"selection_policy\":{\"type\":\"object\",\"name\":\"UnionRenderers\",\"id\":\"p1003\"},\"data\":{\"type\":\"map\",\"entries\":[[\"x\",{\"type\":\"ndarray\",\"array\":{\"type\":\"bytes\",\"data\":\"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\"},\"shape\":[500],\"dtype\":\"float64\",\"order\":\"little\"}],[\"y1\",{\"type\":\"ndarray\",\"array\":{\"type\":\"bytes\",\"data\":\"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\"},\"shape\":[500],\"dtype\":\"float64\",\"order\":\"little\"}],[\"y2\",{\"type\":\"ndarray\",\"array\":{\"type\":\"bytes\",\"data\":\"AAAAAAAAAABsmj0TbcmJP7d/dxvnyJk/CvyZ4QVWoz926q5Mz8apPy9xs3FGG7A/i4uG4n1Ssz+iPUGP7Ii2P3oLehZxvrk/I1pIIOryvD+xcc8vGxPAPzjc0kkarME/BOOJxGFEwz+z5cMN4dvEP0xbcJuHcsY/36tK7EQIyD/droWICJ3JP/fGdgLCMMs/wJRA92DDzD8ROX0P1VTOP0Ig6P8N5c8/racDxf250D8wFmq+xoDRP3HdsdrZRtI/8SLHDy8M0z8yOEtbvtDTP+7S58J/lNQ/yvGhVGtX1T8+aiwneRnWP04cOlqh2tY/wMjPFtya1z94hpWPIVrYP67TJwFqGNk/wT9osq3V2T9Gqs305JHaPyMUtCQITds/hf+rqQ8H3D9SW8n287/cPwz38Yqtd90/13sr8TQu3j+U5+jAguPeP8mGV56Pl98/L7VVHSol4D/3qjWq5H3gP94R3tvz1eA/is1VH1Qt4T8gW73oAYThP2uqc7P52eE/xqs6Ajgv4j9HkVtfuYPiP6zBylx61+I/n3tLlHcq4z/TJ5OnrXzjP5VYbEAZzuM/ZHXZELce5D8dETfTg27kP2jpXUp8veQ/9o3EQZ0L5T84rqCN41jlPzYMCAtMpeU/LRMRoNPw5T+lEPM7dzvmP6UOJtczheY/1E2CcwbO5j8dXl8c7BXnP7HUsubhXOc/Ep4u8eSi5z/+6l5k8ufnP/e2x3IHLOg/NecBWSFv6D/fANhdPbHoP1V1YtJY8ug/Z4MjEnEy6T9ZrCKDg3HpP6C7B5aNr+k/KGA1xozs6T8mVuOZfijqP10gOKJgY+o/xE9iezCd6j+UWLHM69XqP7TzrUiQDes/ewsyrRtE6z/yMoDDi3nrP3OmWmDeres/3dQZZBHh6z9ecMK6IhPsP/oFG1wQROw/3RrBS9hz7D+xzj2ZeKLsPx0CGmDvz+w/hADyxzr87D9krIgEWSftP18t2lVIUe0/UR8uCAd67T+bQSl0k6HtP/+l3v7rx+0/Ul7gGQ/t7T9QqE9D+xDuP/mW7AWvM+4/xzgl+ShV7j8pOiTBZ3XuP6ID3w5qlO4/A1MjoC6y7j8vT6Q/tM7uP9IVB8X56e4/sMLuFP4D7z/a7wchwBzvP4KuE+g+NO8/2vfxdXlK7z+olavjbl/vPxiCe1cec+8/cb7XBIeF7z9YoHksqJbvPz6VZRyBpu8/sVvyLxG17z9Ass/PV8LvP7N7DHJUzu8/TlgcmgbZ7z/xs9zYbeLvP9JImcyJ6u8/rRYQIVrx7z8/znSP3vbvP+Wwc94W++8/P+Qz4gL+7z/NOVl8ov/vP19qBZz1/+8/W8XYPfz+7z/MU/JrtvzvPzVv7z0k+e8/N8zq2EX07z8I+XpvG+7vP9BPsEGl5u8/Bl0SnePd7z/auZzc1tPvP+Nau2h/yO8/HFNGt9277z94C31L8q3vPyPvALa9nu8/w4zPlECO7z/eLDyTe3zvP7bd6Glvae8/4/S+3hxV7z/qBufEhD/vP0BVwPynKO8/8bLXc4cQ7z9j4N0kJPfuP5RenRd/3O4/LbrvYJnA7j/wTrIidKPuP+iDuosQhe4/2IDJ129l7j9pXX9Pk0TuP5rKTUh8Iu4/AzdqJCz/7T93br9SpNrtP5S13k7mtO0/6WHwoPON7T9H76PdzWXtP+mSH6Z2PO0/GE3vp+8R7T/9efOcOubsP2LiTktZuew/AE1UhU2L7D84kXMpGVzsP+orJiK+K+w/PlfbZT766z8cpuP2m8frPz0kXOPYk+s/pvsYRfde6z9eoI9B+SjrP1mDwAnh8eo/Zk0g2rC56j8xo4D6aoDqPxJz+L0RRuo/2s3LgqcK6j+DS1OyLs7pP6T84sCpkOk/4+mwLRtS6T9GIruChRLpP41ZrVTr0eg/fBfGQk+Q6D9lebv2s03oP+iGnyQcCug/ARvEiorF5z+tYp7xAYDnPynyqSuFOec/F3JLFRfy5j+U5bKUuqnmP5aKvZlyYOY/zFXXHUIW5j8RC9wjLMvlP+fz97czf+U/KDWI71sy5T87xfrop+TkP/4DrssaluQ/7/XPx7dG5D+/Iz0WgvbjP5ofX/h8peM/trEKuKtT4z9NrV2nEQHjP6BvnCCyreI/IwoPhpBZ4j98Gd5BsATiP7NK78UUr+E/14/Bi8FY4T/OBUkUugHhP5mMyucBquA/ohO3lZxR4D/fNg1pG/HfP8PcJcOxPd8/8yPkgQOJ3j8E5KD6F9PdP9GOlY/2G90/M3iPr6Zj3D85m6LVL6rbP4rf24iZ79o/oOLyW+sz2j/HR/vsLHfZP9+RFeVludg/hYof+J361z+HOWTk3DrXPytwS3IqetY/EOsIdI641T+ZDkvFEPbUP8lA6Uq5MtQ/teOR8o9u0z9w9HeynKnSPzVRAInn49E/rapufHgd0T8WI5KaV1bQP5c+4/AZHc8/qJnvY0GMzT8gwD3TNfrLPxkdOJAHZ8o/z5AV+MbSyD84aS9zhD3HP0jmVnRQp8U/+VEqeDsQxD+KsmkEVnjCPz8dS6ew38A/vmOd7beMvj++iSQg0Vi7P/9/SS3OI7g/sn6yZ9DttD8h5jMs+baxP5Uw68DT/qw/Xusv44eOpj9xG7GlUR2gP4c72vDnVpM/smJwkY7JeT+YX3CRjsl5v0A72vDnVpO/DhuxpVEdoL/66i/jh46mvzIw68DT/qy/EOYzLPm2sb+BfrJn0O20v81/SS3OI7i/rIkkINFYu7+MY53tt4y+vycdS6ew38C/crJpBFZ4wr/xUSp4OxDEvy/mVnRQp8W/IGkvc4Q9x7/GkBX4xtLIvwAdOJAHZ8q/CMA90zX6y7+Qme9jQYzNv48+4/AZHc+/CiOSmldW0L+hqm58eB3RvzFRAInn49G/ZPR3spyp0r+q45Hyj27Tv71A6Uq5MtS/lQ5LxRD21L8F6wh0jrjVvx9wS3Iqeta/gzlk5Nw61795ih/4nfrXv9ORFeVludi/vEf77Cx32b+c4vJb6zPav3/f24iZ79q/Lpui1S+q278veI+vpmPcv8aOlY/2G92/+eOg+hfT3b/oI+SBA4nev7/cJcOxPd+/1DYNaRvx37+dE7eVnFHgv5eMyucBquC/yQVJFLoB4b/Sj8GLwVjhv65K78UUr+G/ehneQbAE4r8eCg+GkFniv5tvnCCyreK/S61dpxEB47+xsQq4q1Pjv5UfX/h8peO/uiM9FoL247/t9c/Ht0bkv/kDrssaluS/NsX66Kfk5L8nNYjvWzLlv+Pz97czf+W/DAvcIyzL5b/IVdcdQhbmv5SKvZlyYOa/j+WylLqp5r8TcksVF/LmvyfyqSuFOee/qWKe8QGA57/9GsSKisXnv+SGnyQcCui/YXm79rNN6L94F8ZCT5Dov4xZrVTr0ei/QyK7goUS6b/f6bAtG1Lpv6P84sCpkOm/f0tTsi7O6b/ZzcuCpwrqvwxz+L0RRuq/LqOA+mqA6r9lTSDasLnqv1ODwAnh8eq/W6CPQfko67+l+xhF917rvzkkXOPYk+u/Gabj9pvH6789V9tlPvrrv+crJiK+K+y/NZFzKRlc7L//TFSFTYvsv1/iTktZuey//HnznDrm7L8UTe+n7xHtv+eSH6Z2PO2/Ru+j3c1l7b/mYfCg843tv5K13k7mtO2/dm6/UqTa7b8BN2okLP/tv5jKTUh8Iu6/aV1/T5NE7r/WgMnXb2Xuv+eDuosQhe6/706yInSj7r8ruu9gmcDuv5NenRd/3O6/YeDdJCT37r/vstdzhxDvvz9VwPynKO+/6AbnxIQ/77/h9L7eHFXvv7bd6Glvae+/3Sw8k3t877/DjM+UQI7vvyPvALa9nu+/dwt9S/Kt778cU0a33bvvv+Jau2h/yO+/2bmc3NbT778FXRKd493vv9BPsEGl5u+/CPl6bxvu7783zOrYRfTvvzVv7z0k+e+/zFPya7b8779bxdg9/P7vv19qBZz1/++/zTlZfKL/778/5DPiAv7vv+Wwc94W+++/QM50j97277+tFhAhWvHvv9JImcyJ6u+/8bPc2G3i779PWByaBtnvv7N7DHJUzu+/QbLPz1fC77+yW/IvEbXvvz+VZRyBpu+/WKB5LKiW779yvtcEh4XvvxmCe1cec++/qZWr425f77/b9/F1eUrvv4OuE+g+NO+/2u8HIcAc77+ywu4U/gPvv9MVB8X56e6/MU+kP7TO7r8FUyOgLrLuv6ID3w5qlO6/KzokwWd17r/JOCX5KFXuv/qW7AWvM+6/U6hPQ/sQ7r9UXuAZD+3tvwCm3v7rx+2/nUEpdJOh7b9THy4IB3rtv2At2lVIUe2/Z6yIBFkn7b+GAPLHOvzsvyECGmDvz+y/tM49mXii7L/eGsFL2HPsv/4FG1wQROy/YXDCuiIT7L/e1BlkEeHrv3emWmDereu/9TKAw4t56798CzKtG0Trv7fzrUiQDeu/l1ixzOvV6r/FT2J7MJ3qv2AgOKJgY+q/KFbjmX4o6r8tYDXGjOzpv6S7B5aNr+m/W6wig4Nx6b9sgyMScTLpv1l1YtJY8ui/4QDYXT2x6L855wFZIW/ov/q2x3IHLOi/AOteZPLn578Xni7x5KLnv7TUsubhXOe/Hl5fHOwV57/YTYJzBs7mv6cOJtczhea/qhDzO3c75r8yExGg0/DlvzkMCAtMpeW/Pq6gjeNY5b/6jcRBnQvlv2npXUp8veS/IhE304Nu5L9nddkQtx7kv5dYbEAZzuO/2CeTp61847+ie0uUdyrjv63Bylx61+K/TJFbX7mD4r/JqzoCOC/iv3Kqc7P52eG/Jlu96AGE4b+NzVUfVC3hv+UR3tvz1eC/+6o1quR94L8xtVUdKiXgv9aGV56Pl9+/nOfowILj3r/aeyvxNC7evxj38Yqtd92/WVvJ9vO/3L+H/6upDwfcvy4UtCQITdu/S6rN9OSR2r/RP2iyrdXZv7nTJwFqGNm/fYaVjyFa2L/PyM8W3JrXv1gcOlqh2ta/QmosJ3kZ1r/Y8aFUa1fVv/fS58J/lNS/NjhLW77Q07/9IscPLwzTv3ndsdrZRtK/MhZqvsaA0b+5pwPF/bnQv04g6P8N5c+/Mjl9D9VUzr/WlED3YMPMvwHHdgLCMMu//K6FiAidyb/zq0rsRAjIv1RbcJuHcsa/0eXDDeHbxL8V44nEYUTDvz/c0kkarMG/y3HPLxsTwL9DWkgg6vK8v4ILehZxvrm/1D1Bj+yItr+mi4bifVKzv3Nxs3FGG7C/0OquTM/Gqb82/JnhBVajv7SAdxvnyJm/sZs9E23Jib8HXBQzJqaxvA==\"},\"shape\":[500],\"dtype\":\"float64\",\"order\":\"little\"}],[\"y3\",{\"type\":\"ndarray\",\"array\":{\"type\":\"bytes\",\"data\":\"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\"},\"shape\":[500],\"dtype\":\"float64\",\"order\":\"little\"}]]}}}],[\"x\",{\"type\":\"ndarray\",\"array\":{\"type\":\"bytes\",\"data\":\"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\"},\"shape\":[500],\"dtype\":\"float64\",\"order\":\"little\"}],[\"amplitude_slider1\",{\"type\":\"object\",\"name\":\"Slider\",\"id\":\"p1071\",\"attributes\":{\"js_property_callbacks\":{\"type\":\"map\",\"entries\":[[\"change:value\",[{\"id\":\"p1077\"}]]]},\"title\":\"Amplitude #1 [a.u.]\",\"start\":0,\"end\":2.3,\"value\":1,\"step\":0.1}}],[\"frequency_slider1\",{\"type\":\"object\",\"name\":\"Slider\",\"id\":\"p1072\",\"attributes\":{\"js_property_callbacks\":{\"type\":\"map\",\"entries\":[[\"change:value\",[{\"id\":\"p1077\"}]]]},\"title\":\"Frequency #1 [1/s]\",\"start\":0.1,\"end\":2,\"value\":1,\"step\":0.1}}],[\"phase_slider1\",{\"id\":\"p1073\"}],[\"amplitude_slider2\",{\"type\":\"object\",\"name\":\"Slider\",\"id\":\"p1074\",\"attributes\":{\"js_property_callbacks\":{\"type\":\"map\",\"entries\":[[\"change:value\",[{\"id\":\"p1077\"}]]]},\"title\":\"Amplitude #2 [a.u.]\",\"start\":0,\"end\":2.3,\"value\":1,\"step\":0.1}}],[\"frequency_slider2\",{\"type\":\"object\",\"name\":\"Slider\",\"id\":\"p1075\",\"attributes\":{\"js_property_callbacks\":{\"type\":\"map\",\"entries\":[[\"change:value\",[{\"id\":\"p1077\"}]]]},\"title\":\"Frequency #2 [1/s]\",\"start\":0.1,\"end\":2,\"value\":1,\"step\":0.1}}],[\"phase_slider2\",{\"type\":\"object\",\"name\":\"Slider\",\"id\":\"p1076\",\"attributes\":{\"js_property_callbacks\":{\"type\":\"map\",\"entries\":[[\"change:value\",[{\"id\":\"p1077\"}]]]},\"title\":\"Phase #2 [deg.]\",\"start\":0,\"end\":360,\"value\":0,\"step\":5}}]]},\"code\":\"\\n        var data = source.data;\\n        var amplitude1 = amplitude_slider1.value;\\n        var frequency1 = frequency_slider1.value;\\n        var phase1 = phase_slider1.value;\\n        \\n        var amplitude2 = amplitude_slider2.value;\\n        var frequency2 = frequency_slider2.value;\\n        var phase2 = phase_slider2.value;\\n        \\n        var y1 = [];\\n        var y2 = [];\\n        var y3 = [];\\n        \\n        for (var i = 0; i < x.length; i++) {\\n            y1.push(amplitude1 * Math.sin(frequency1 * x[i] + (Math.PI/180)*phase1));\\n            y2.push(amplitude2 * Math.sin(frequency2 * x[i] + (Math.PI/180)*phase2));\\n            y3.push(y1[i] + y2[i]);  // Sum of the two sine waves\\n        }\\n        \\n        data['y1'] = y1;\\n        data['y2'] = y2;\\n        data['y3'] = y3;  // Update the third sine wave (sum)\\n        source.change.emit();\\n    \"}}]]]},\"title\":\"Phase #1 [deg.]\",\"start\":0,\"end\":360,\"value\":0,\"step\":5}},{\"id\":\"p1071\"},{\"id\":\"p1072\"}]}},{\"type\":\"object\",\"name\":\"Column\",\"id\":\"p1079\",\"attributes\":{\"children\":[{\"id\":\"p1076\"},{\"id\":\"p1074\"},{\"id\":\"p1075\"}]}}]}},{\"type\":\"object\",\"name\":\"Figure\",\"id\":\"p1004\",\"attributes\":{\"width\":800,\"height\":400,\"x_range\":{\"type\":\"object\",\"name\":\"DataRange1d\",\"id\":\"p1005\"},\"y_range\":{\"type\":\"object\",\"name\":\"Range1d\",\"id\":\"p1070\",\"attributes\":{\"start\":-5,\"end\":5}},\"x_scale\":{\"type\":\"object\",\"name\":\"LinearScale\",\"id\":\"p1014\"},\"y_scale\":{\"type\":\"object\",\"name\":\"LinearScale\",\"id\":\"p1015\"},\"title\":{\"type\":\"object\",\"name\":\"Title\",\"id\":\"p1007\",\"attributes\":{\"text\":\"Interactive Sine Waves\"}},\"renderers\":[{\"type\":\"object\",\"name\":\"GlyphRenderer\",\"id\":\"p1045\",\"attributes\":{\"data_source\":{\"id\":\"p1001\"},\"view\":{\"type\":\"object\",\"name\":\"CDSView\",\"id\":\"p1046\",\"attributes\":{\"filter\":{\"type\":\"object\",\"name\":\"AllIndices\",\"id\":\"p1047\"}}},\"glyph\":{\"type\":\"object\",\"name\":\"Line\",\"id\":\"p1042\",\"attributes\":{\"x\":{\"type\":\"field\",\"field\":\"x\"},\"y\":{\"type\":\"field\",\"field\":\"y1\"},\"line_color\":\"blue\",\"line_width\":2,\"line_dash\":[3]}},\"nonselection_glyph\":{\"type\":\"object\",\"name\":\"Line\",\"id\":\"p1043\",\"attributes\":{\"x\":{\"type\":\"field\",\"field\":\"x\"},\"y\":{\"type\":\"field\",\"field\":\"y1\"},\"line_color\":\"blue\",\"line_alpha\":0.1,\"line_width\":2,\"line_dash\":[3]}},\"muted_glyph\":{\"type\":\"object\",\"name\":\"Line\",\"id\":\"p1044\",\"attributes\":{\"x\":{\"type\":\"field\",\"field\":\"x\"},\"y\":{\"type\":\"field\",\"field\":\"y1\"},\"line_color\":\"blue\",\"line_alpha\":0.2,\"line_width\":2,\"line_dash\":[3]}}}},{\"type\":\"object\",\"name\":\"GlyphRenderer\",\"id\":\"p1056\",\"attributes\":{\"data_source\":{\"id\":\"p1001\"},\"view\":{\"type\":\"object\",\"name\":\"CDSView\",\"id\":\"p1057\",\"attributes\":{\"filter\":{\"type\":\"object\",\"name\":\"AllIndices\",\"id\":\"p1058\"}}},\"glyph\":{\"type\":\"object\",\"name\":\"Line\",\"id\":\"p1053\",\"attributes\":{\"x\":{\"type\":\"field\",\"field\":\"x\"},\"y\":{\"type\":\"field\",\"field\":\"y2\"},\"line_color\":\"red\",\"line_width\":2,\"line_dash\":[5]}},\"nonselection_glyph\":{\"type\":\"object\",\"name\":\"Line\",\"id\":\"p1054\",\"attributes\":{\"x\":{\"type\":\"field\",\"field\":\"x\"},\"y\":{\"type\":\"field\",\"field\":\"y2\"},\"line_color\":\"red\",\"line_alpha\":0.1,\"line_width\":2,\"line_dash\":[5]}},\"muted_glyph\":{\"type\":\"object\",\"name\":\"Line\",\"id\":\"p1055\",\"attributes\":{\"x\":{\"type\":\"field\",\"field\":\"x\"},\"y\":{\"type\":\"field\",\"field\":\"y2\"},\"line_color\":\"red\",\"line_alpha\":0.2,\"line_width\":2,\"line_dash\":[5]}}}},{\"type\":\"object\",\"name\":\"GlyphRenderer\",\"id\":\"p1066\",\"attributes\":{\"data_source\":{\"id\":\"p1001\"},\"view\":{\"type\":\"object\",\"name\":\"CDSView\",\"id\":\"p1067\",\"attributes\":{\"filter\":{\"type\":\"object\",\"name\":\"AllIndices\",\"id\":\"p1068\"}}},\"glyph\":{\"type\":\"object\",\"name\":\"Line\",\"id\":\"p1063\",\"attributes\":{\"x\":{\"type\":\"field\",\"field\":\"x\"},\"y\":{\"type\":\"field\",\"field\":\"y3\"},\"line_color\":\"green\",\"line_width\":2}},\"nonselection_glyph\":{\"type\":\"object\",\"name\":\"Line\",\"id\":\"p1064\",\"attributes\":{\"x\":{\"type\":\"field\",\"field\":\"x\"},\"y\":{\"type\":\"field\",\"field\":\"y3\"},\"line_color\":\"green\",\"line_alpha\":0.1,\"line_width\":2}},\"muted_glyph\":{\"type\":\"object\",\"name\":\"Line\",\"id\":\"p1065\",\"attributes\":{\"x\":{\"type\":\"field\",\"field\":\"x\"},\"y\":{\"type\":\"field\",\"field\":\"y3\"},\"line_color\":\"green\",\"line_alpha\":0.2,\"line_width\":2}}}}],\"toolbar\":{\"type\":\"object\",\"name\":\"Toolbar\",\"id\":\"p1013\",\"attributes\":{\"tools\":[{\"type\":\"object\",\"name\":\"PanTool\",\"id\":\"p1026\"},{\"type\":\"object\",\"name\":\"WheelZoomTool\",\"id\":\"p1027\",\"attributes\":{\"renderers\":\"auto\"}},{\"type\":\"object\",\"name\":\"BoxZoomTool\",\"id\":\"p1028\",\"attributes\":{\"overlay\":{\"type\":\"object\",\"name\":\"BoxAnnotation\",\"id\":\"p1029\",\"attributes\":{\"syncable\":false,\"line_color\":\"black\",\"line_alpha\":1.0,\"line_width\":2,\"line_dash\":[4,4],\"fill_color\":\"lightgrey\",\"fill_alpha\":0.5,\"level\":\"overlay\",\"visible\":false,\"left\":{\"type\":\"number\",\"value\":\"nan\"},\"right\":{\"type\":\"number\",\"value\":\"nan\"},\"top\":{\"type\":\"number\",\"value\":\"nan\"},\"bottom\":{\"type\":\"number\",\"value\":\"nan\"},\"left_units\":\"canvas\",\"right_units\":\"canvas\",\"top_units\":\"canvas\",\"bottom_units\":\"canvas\",\"handles\":{\"type\":\"object\",\"name\":\"BoxInteractionHandles\",\"id\":\"p1035\",\"attributes\":{\"all\":{\"type\":\"object\",\"name\":\"AreaVisuals\",\"id\":\"p1034\",\"attributes\":{\"fill_color\":\"white\",\"hover_fill_color\":\"lightgray\"}}}}}}}},{\"type\":\"object\",\"name\":\"SaveTool\",\"id\":\"p1036\"},{\"type\":\"object\",\"name\":\"ResetTool\",\"id\":\"p1037\"},{\"type\":\"object\",\"name\":\"HelpTool\",\"id\":\"p1038\"}]}},\"left\":[{\"type\":\"object\",\"name\":\"LinearAxis\",\"id\":\"p1021\",\"attributes\":{\"ticker\":{\"type\":\"object\",\"name\":\"BasicTicker\",\"id\":\"p1022\",\"attributes\":{\"mantissas\":[1,2,5]}},\"formatter\":{\"type\":\"object\",\"name\":\"BasicTickFormatter\",\"id\":\"p1023\"},\"axis_label\":\"y\",\"major_label_policy\":{\"type\":\"object\",\"name\":\"AllLabels\",\"id\":\"p1024\"}}}],\"below\":[{\"type\":\"object\",\"name\":\"LinearAxis\",\"id\":\"p1016\",\"attributes\":{\"ticker\":{\"type\":\"object\",\"name\":\"BasicTicker\",\"id\":\"p1017\",\"attributes\":{\"mantissas\":[1,2,5]}},\"formatter\":{\"type\":\"object\",\"name\":\"BasicTickFormatter\",\"id\":\"p1018\"},\"axis_label\":\"x\",\"major_label_policy\":{\"type\":\"object\",\"name\":\"AllLabels\",\"id\":\"p1019\"}}}],\"center\":[{\"type\":\"object\",\"name\":\"Grid\",\"id\":\"p1020\",\"attributes\":{\"axis\":{\"id\":\"p1016\"}}},{\"type\":\"object\",\"name\":\"Grid\",\"id\":\"p1025\",\"attributes\":{\"dimension\":1,\"axis\":{\"id\":\"p1021\"}}},{\"type\":\"object\",\"name\":\"Legend\",\"id\":\"p1048\",\"attributes\":{\"items\":[{\"type\":\"object\",\"name\":\"LegendItem\",\"id\":\"p1049\",\"attributes\":{\"label\":{\"type\":\"value\",\"value\":\"Sine Wave 1\"},\"renderers\":[{\"id\":\"p1045\"}]}},{\"type\":\"object\",\"name\":\"LegendItem\",\"id\":\"p1059\",\"attributes\":{\"label\":{\"type\":\"value\",\"value\":\"Sine Wave 2\"},\"renderers\":[{\"id\":\"p1056\"}]}},{\"type\":\"object\",\"name\":\"LegendItem\",\"id\":\"p1069\",\"attributes\":{\"label\":{\"type\":\"value\",\"value\":\"Sine Wave 1 + Sine Wave 2\"},\"renderers\":[{\"id\":\"p1066\"}]}}]}}]}}]}}]}};\n",
       "  const render_items = [{\"docid\":\"e7ff2f4b-b037-4569-b078-4e4153de5e07\",\"roots\":{\"p1081\":\"b691e8c3-cc32-40d6-8e8d-d9d5bbd795a8\"},\"root_ids\":[\"p1081\"]}];\n",
       "  void root.Bokeh.embed.embed_items_notebook(docs_json, render_items);\n",
       "  }\n",
       "  if (root.Bokeh !== undefined) {\n",
       "    embed_document(root);\n",
       "  } else {\n",
       "    let attempts = 0;\n",
       "    const timer = setInterval(function(root) {\n",
       "      if (root.Bokeh !== undefined) {\n",
       "        clearInterval(timer);\n",
       "        embed_document(root);\n",
       "      } else {\n",
       "        attempts++;\n",
       "        if (attempts > 100) {\n",
       "          clearInterval(timer);\n",
       "          console.log(\"Bokeh: ERROR: Unable to run BokehJS code because BokehJS library is missing\");\n",
       "        }\n",
       "      }\n",
       "    }, 10, root)\n",
       "  }\n",
       "})(window);"
      ],
      "application/vnd.bokehjs_exec.v0+json": ""
     },
     "metadata": {
      "application/vnd.bokehjs_exec.v0+json": {
       "id": "p1081"
      }
     },
     "output_type": "display_data"
    }
   ],
   "source": [
    "interactive_sine_waves()"
   ]
  },
  {
   "cell_type": "markdown",
   "id": "a8975c0c-c9ab-4b70-bb89-99c28c867a9e",
   "metadata": {},
   "source": [
    "# The Double Slit Experiment\n",
    "\n",
    "Today we learned about the double slit experiment, which displays the wave-particle duality of quantum particles, such as electrons. When an electron passes through a single slit, it simply passes through and ends up on the other side. From one electron alone, we cannot tell what the probability distribution is for where our electron will be found. When we send many electrons through, however, we can see the underlying probability distribution from the build up of the electrons. *This is much like when we need to measure our qubits many times in order to obtain an estimate of the quantum state. Measuring a qubit once gives us little information.* In the case of one slit, the probability distribution will be non zero across a region with the probability peaked in the center and decaying to the sides.\n",
    "\n",
    "Now if we add in a second slit, the electron may pass through either slit... and in fact, it will be in a *superposition* of passing through both slits! This means that our electron will *interfere with itself*, exhibiting wave-like behavior. (Of course, when you measure where the electron hits the screen, it displays particle-like behavior again since you only observe it in one place.) In this double slit case, the probability distribution for where we will find the particle will exhibit regions of constructive and destructive interference. The overall amplitude envelope will be peaked in the center and decay out to the sides, but within that there are regions where you are more or less likely to find the electron. Again, measuring only one electron will not tell us anything about the underlying probability distribution, but if we repeat this many times, the electrons will build up, revealing the underlying probability distribution.\n",
    "\n",
    "Now we add in one more twist... What if you watch the electron and observe which slit the electron went through, the probability distribution changes again! We can observe which slit the electron goes through because it is a particle, and a particle can only be seen in one place at one time. In this case, the probability distribution will look like two of the single slit probability distributions laid on top of each other. In practice, since the slits are so close together and the screen is so far away, the distribution looks the same as just one single slit distribution. By observing which slit the electron went through, you *collapsed the electron's wave function* and the electron proceeds to behave particle-like.\n",
    "\n",
    "<div style=\"background-color:rgba(255, 253, 255, 1.0); text-align:center; vertical-align: middle; padding:20px 0;border:3px; border-style:solid; padding: 0.5em; border-color: rgba(216, 129, 247, 1.0); color: #000000;\">\n",
    "\n",
    "<h4><strong>Probability Distributions for Observing vs. Ignoring</strong></h4>\n",
    "\n",
    "Here we show the probability distribution (pmf) for the double slit experiment when you ignore which slit the electron went through:\n",
    "\n",
    "<img src=\"figures/interference/interfere.png\" width=\"500\"/>\n",
    "\n",
    "Here we show the probability distribution (pmf) for the double slit experiment when you observe which slit the electron went through:\n",
    "\n",
    "<img src=\"figures/interference/gauss.png\" width=\"500\"/>\n",
    "\n",
    "</div>\n",
    "\n",
    "\\\n",
    "In the interactive plot below, we show the double slit experiment for electrons with a wavelength of 10 picometers ($10^{-12}$ m). You can play around with the distance between the two slits, the distance from the slits to the screen, and the number of electrons fired at one time. You can also toggle between observing which slit the electron went through versus ignoring."
   ]
  },
  {
   "cell_type": "code",
   "execution_count": 4,
   "id": "7900a279-c4c3-4f10-833c-e2331c628f3f",
   "metadata": {},
   "outputs": [
    {
     "data": {
      "text/html": [
       "\n",
       "  <div id=\"eadb7dad-afc0-432d-b731-4aeecc91bd9b\" data-root-id=\"p1149\" style=\"display: contents;\"></div>\n"
      ]
     },
     "metadata": {},
     "output_type": "display_data"
    },
    {
     "data": {
      "application/javascript": [
       "(function(root) {\n",
       "  function embed_document(root) {\n",
       "  const docs_json = {\"ffd1c589-7bbd-4b95-ab29-7dac9bcd12fd\":{\"version\":\"3.6.2\",\"title\":\"Bokeh Application\",\"roots\":[{\"type\":\"object\",\"name\":\"Column\",\"id\":\"p1149\",\"attributes\":{\"children\":[{\"type\":\"object\",\"name\":\"Slider\",\"id\":\"p1143\",\"attributes\":{\"js_property_callbacks\":{\"type\":\"map\",\"entries\":[[\"change:value\",[{\"type\":\"object\",\"name\":\"CustomJS\",\"id\":\"p1142\",\"attributes\":{\"args\":{\"type\":\"map\",\"entries\":[[\"source\",{\"type\":\"object\",\"name\":\"ColumnDataSource\",\"id\":\"p1090\",\"attributes\":{\"selected\":{\"type\":\"object\",\"name\":\"Selection\",\"id\":\"p1091\",\"attributes\":{\"indices\":[],\"line_indices\":[]}},\"selection_policy\":{\"type\":\"object\",\"name\":\"UnionRenderers\",\"id\":\"p1092\"},\"data\":{\"type\":\"map\",\"entries\":[[\"d\",[1e-05]],[\"l\",[2]],[\"wavelength\",[5e-11]],[\"num_particles\",[1000]]]}}}]]},\"code\":\"\\n            const f = cb_obj.value \\n            source.data['d'][0] = f * 1e-6\\n        \"}}]]]},\"title\":\"Distance between slits (um)\",\"start\":5,\"end\":20,\"value\":10.0,\"step\":0.1}},{\"type\":\"object\",\"name\":\"Slider\",\"id\":\"p1145\",\"attributes\":{\"js_property_callbacks\":{\"type\":\"map\",\"entries\":[[\"change:value\",[{\"type\":\"object\",\"name\":\"CustomJS\",\"id\":\"p1144\",\"attributes\":{\"args\":{\"type\":\"map\",\"entries\":[[\"source\",{\"id\":\"p1090\"}]]},\"code\":\"\\n            const f = cb_obj.value \\n            source.data['l'][0] = f\\n        \"}}]]]},\"title\":\"Distance to screen (m)\",\"start\":1,\"end\":3,\"value\":2,\"step\":0.1}},{\"type\":\"object\",\"name\":\"Slider\",\"id\":\"p1147\",\"attributes\":{\"js_property_callbacks\":{\"type\":\"map\",\"entries\":[[\"change:value\",[{\"type\":\"object\",\"name\":\"CustomJS\",\"id\":\"p1146\",\"attributes\":{\"args\":{\"type\":\"map\",\"entries\":[[\"source\",{\"id\":\"p1090\"}]]},\"code\":\"\\n            const f = cb_obj.value \\n            source.data['num_particles'][0] = f\\n        \"}}]]]},\"title\":\"Number of electrons\",\"start\":5,\"end\":2000,\"value\":1000,\"step\":5}},{\"type\":\"object\",\"name\":\"Row\",\"id\":\"p1148\",\"attributes\":{\"children\":[{\"type\":\"object\",\"name\":\"Toggle\",\"id\":\"p1138\",\"attributes\":{\"button_type\":\"primary\",\"js_property_callbacks\":{\"type\":\"map\",\"entries\":[[\"change:active\",[{\"type\":\"object\",\"name\":\"CustomJS\",\"id\":\"p1139\",\"attributes\":{\"args\":{\"type\":\"map\",\"entries\":[[\"tb\",{\"id\":\"p1138\"}]]},\"code\":\"\\n            const a = cb_obj.label;\\n             if (a === 'Observe') {\\n                tb.label = \\\"Ignore\\\";\\n            } else {\\n                tb.label = 'Observe';\\n            }\\n        \"}}]]]},\"width\":100,\"label\":\"Ignore\"}},{\"type\":\"object\",\"name\":\"Button\",\"id\":\"p1140\",\"attributes\":{\"button_type\":\"success\",\"js_event_callbacks\":{\"type\":\"map\",\"entries\":[[\"button_click\",[{\"type\":\"object\",\"name\":\"CustomJS\",\"id\":\"p1141\",\"attributes\":{\"args\":{\"type\":\"map\",\"entries\":[[\"hist_source\",{\"type\":\"object\",\"name\":\"ColumnDataSource\",\"id\":\"p1087\",\"attributes\":{\"selected\":{\"type\":\"object\",\"name\":\"Selection\",\"id\":\"p1088\",\"attributes\":{\"indices\":[],\"line_indices\":[]}},\"selection_policy\":{\"type\":\"object\",\"name\":\"UnionRenderers\",\"id\":\"p1089\"},\"data\":{\"type\":\"map\",\"entries\":[[\"start\",{\"type\":\"ndarray\",\"array\":{\"type\":\"bytes\",\"data\":\"LUMc6+I2Cr87atwA+SQJv0mRnBYPEwi/VrhcLCUBB79k3xxCO+8Fv3IG3VdR3QS/gC2dbWfLA7+OVF2DfbkCv5x7HZmTpwG/qqLdrqmVAL9ukzuJfwf/vorhu7Sr4/y+pi884Ne/+r7BfbwLBJz4vt3LPDcwePa++Bm9YlxU9L4UaD2OiDDyvjC2vbm0DPC+mAh8ysHR677MpHwhGornvgRBfXhyQuO+eLr7npX13b7o8vxMRmbVvrBW/PXtrcm+II/9o54esb5Aj/2jnh6xPsBW/PXtrck+8PL8TEZm1T6AuvuelfXdPghBfXhyQuM+1KR8IRqK5z6cCHzKwdHrPjK2vbm0DPA+Fmg9jogw8j76Gb1iXFT0Pt7LPDcwePY+wn28CwSc+D6mLzzg17/6Po7hu7Sr4/w+cpM7iX8H/z6rot2uqZUAP517HZmTpwE/j1Rdg325Aj+BLZ1tZ8sDP3MG3VdR3QQ/Zd8cQjvvBT9XuFwsJQEHP0mRnBYPEwg/O2rcAPkkCT8=\"},\"shape\":[49],\"dtype\":\"float64\",\"order\":\"little\"}],[\"end\",{\"type\":\"ndarray\",\"array\":{\"type\":\"bytes\",\"data\":\"O2rcAPkkCb9JkZwWDxMIv1a4XCwlAQe/ZN8cQjvvBb9yBt1XUd0Ev4AtnW1nywO/jlRdg325Ar+cex2Zk6cBv6qi3a6plQC/bpM7iX8H/76K4bu0q+P8vqYvPODXv/q+wX28CwSc+L7dyzw3MHj2vvgZvWJcVPS+FGg9jogw8r4wtr25tAzwvpgIfMrB0eu+zKR8IRqK574EQX14ckLjvni6+56V9d2+6PL8TEZm1b6wVvz17a3JviCP/aOeHrG+QI/9o54esT7AVvz17a3JPvDy/ExGZtU+gLr7npX13T4IQX14ckLjPtSkfCEaiuc+nAh8ysHR6z4ytr25tAzwPhZoPY6IMPI++hm9YlxU9D7eyzw3MHj2PsJ9vAsEnPg+pi884Ne/+j6O4bu0q+P8PnKTO4l/B/8+q6LdrqmVAD+dex2Zk6cBP49UXYN9uQI/gS2dbWfLAz9zBt1XUd0EP2XfHEI77wU/V7hcLCUBBz9JkZwWDxMIPztq3AD5JAk/LUMc6+I2Cj8=\"},\"shape\":[49],\"dtype\":\"float64\",\"order\":\"little\"}],[\"top\",{\"type\":\"ndarray\",\"array\":{\"type\":\"bytes\",\"data\":\"AAAAAAAAAAAAAAAAAAAAAAAAAAAAAAAAAAAAAAAAAAAAAAAAAAAAAAAAAAAAAAAAAAAAAAAAAAAAAAAAAAAAAAAAAAAAAAAAAAAAAAAAAAAAAAAAAAAAAAAAAAAAAAAAAAAAAAAAAAAAAAAAAAAAAAAAAAAAAAAAAAAAAAAAAAAAAAAAAAAAAAAAAAAAAAAAAAAAAAAAAAAAAAAAAAAAAAAAAAAAAAAAAAAAAAAAAAAAAAAAAAAAAAAAAAAAAAAAAAAAAA==\"},\"shape\":[49],\"dtype\":\"int32\",\"order\":\"little\"}]]}}}],[\"x\",{\"type\":\"ndarray\",\"array\":{\"type\":\"bytes\",\"data\":\"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\"},\"shape\":[1000],\"dtype\":\"float64\",\"order\":\"little\"}],[\"geometry_source\",{\"id\":\"p1090\"}],[\"tb\",{\"id\":\"p1138\"}]]},\"code\":\"\\n            var num_particles = geometry_source.data['num_particles'][0];\\n            var pmf = [];\\n            \\n            const d = geometry_source.data['d'][0];\\n            const l = geometry_source.data['l'][0];\\n            const wavelength = geometry_source.data['wavelength'][0];\\n            \\n            var delta_l = [];\\n            for (var i = 0; i < x.length; i++) {\\n                delta_l.push(d * Math.sin(x[i] / l));\\n            }\\n            \\n            const observe_status = tb.label\\n            \\n            // Calculate the pdf\\n            var fringes = (function() {\\n                var intensity = [];\\n                var gaussian = [];\\n                for (var i = 0; i < x.length; i++) {\\n                    var cos_value = Math.cos(Math.PI * delta_l[i] / wavelength);\\n                    if (observe_status === 'Ignore') {\\n                        intensity.push(cos_value * cos_value);\\n                    } else {\\n                        intensity.push(1);\\n                    }\\n                    gaussian.push(Math.exp(-0.5 * Math.pow(x[i] / (2 * d), 2)) / Math.exp(0));\\n                }\\n\\n                var fringes = [];\\n                for (var i = 0; i < x.length; i++) {\\n                    fringes.push(gaussian[i] * intensity[i]);\\n                }\\n\\n                // Normalize\\n                var sum = fringes.reduce(function(a, b) { return a + b; }, 0);\\n                for (var i = 0; i < fringes.length; i++) {\\n                    fringes[i] /= sum;\\n                }\\n\\n                return fringes;\\n            })();\\n            \\n            // Sample particles from the probability mass function\\n            var result = [];\\n            for (var i = 0; i < num_particles; i++) {\\n                var rand = Math.random();\\n                var cumulative_prob = 0;\\n                for (var j = 0; j < x.length; j++) {\\n                    cumulative_prob += fringes[j];\\n                    if (rand < cumulative_prob) {\\n                        result.push(x[j]);\\n                        break;\\n                    }\\n                }\\n            }\\n           \\n            // Calculate the histogram data based on the new particle positions\\n            var hist_bins = 200;  // Number of histogram bins\\n            var hist_start = Math.min.apply(null, result);\\n            var hist_end = Math.max.apply(null, result);\\n            var hist_step = (hist_end - hist_start) / hist_bins;\\n            var bins = new Array(hist_bins).fill(0);\\n            \\n            // Compute the histogram\\n            for (var i = 0; i < result.length; i++) {\\n                var index = Math.floor((result[i] - hist_start) / hist_step);\\n                if (index >= 0 && index < hist_bins) {\\n                    bins[index]++;\\n                }\\n            }\\n            \\n            // Prepare the new histogram data\\n            var start_vals = [];\\n            var end_vals = [];\\n            var top_vals = [];\\n            for (var i = 0; i < hist_bins; i++) {\\n                start_vals.push((hist_start + i * hist_step)/1);\\n                end_vals.push((hist_start + (i + 1) * hist_step)/1);\\n                top_vals.push(bins[i]);\\n            }\\n\\n            // Update the histogram data source\\n            hist_source.data['start'] = start_vals;\\n            hist_source.data['end'] = end_vals;\\n            hist_source.data['top'] = top_vals;\\n            hist_source.change.emit();  // Notify Bokeh to update the histogram\\n        \"}}]]]},\"label\":\"Fire Electrons\"}}]}},{\"type\":\"object\",\"name\":\"Figure\",\"id\":\"p1093\",\"attributes\":{\"width\":800,\"height\":400,\"x_range\":{\"type\":\"object\",\"name\":\"Range1d\",\"id\":\"p1128\",\"attributes\":{\"start\":-5e-05,\"end\":5e-05}},\"y_range\":{\"type\":\"object\",\"name\":\"DataRange1d\",\"id\":\"p1095\"},\"x_scale\":{\"type\":\"object\",\"name\":\"LinearScale\",\"id\":\"p1103\"},\"y_scale\":{\"type\":\"object\",\"name\":\"LinearScale\",\"id\":\"p1104\"},\"title\":{\"type\":\"object\",\"name\":\"Title\",\"id\":\"p1096\",\"attributes\":{\"text\":\"Double Slit Simulation\"}},\"renderers\":[{\"type\":\"object\",\"name\":\"GlyphRenderer\",\"id\":\"p1135\",\"attributes\":{\"data_source\":{\"id\":\"p1087\"},\"view\":{\"type\":\"object\",\"name\":\"CDSView\",\"id\":\"p1136\",\"attributes\":{\"filter\":{\"type\":\"object\",\"name\":\"AllIndices\",\"id\":\"p1137\"}}},\"glyph\":{\"type\":\"object\",\"name\":\"Quad\",\"id\":\"p1132\",\"attributes\":{\"left\":{\"type\":\"field\",\"field\":\"start\"},\"right\":{\"type\":\"field\",\"field\":\"end\"},\"bottom\":{\"type\":\"value\",\"value\":0},\"top\":{\"type\":\"field\",\"field\":\"top\"},\"line_color\":{\"type\":\"value\",\"value\":\"white\"},\"line_alpha\":{\"type\":\"value\",\"value\":0.6},\"fill_color\":{\"type\":\"value\",\"value\":\"blue\"},\"fill_alpha\":{\"type\":\"value\",\"value\":0.6},\"hatch_alpha\":{\"type\":\"value\",\"value\":0.6}}},\"nonselection_glyph\":{\"type\":\"object\",\"name\":\"Quad\",\"id\":\"p1133\",\"attributes\":{\"left\":{\"type\":\"field\",\"field\":\"start\"},\"right\":{\"type\":\"field\",\"field\":\"end\"},\"bottom\":{\"type\":\"value\",\"value\":0},\"top\":{\"type\":\"field\",\"field\":\"top\"},\"line_color\":{\"type\":\"value\",\"value\":\"white\"},\"line_alpha\":{\"type\":\"value\",\"value\":0.1},\"fill_color\":{\"type\":\"value\",\"value\":\"blue\"},\"fill_alpha\":{\"type\":\"value\",\"value\":0.1},\"hatch_alpha\":{\"type\":\"value\",\"value\":0.1}}},\"muted_glyph\":{\"type\":\"object\",\"name\":\"Quad\",\"id\":\"p1134\",\"attributes\":{\"left\":{\"type\":\"field\",\"field\":\"start\"},\"right\":{\"type\":\"field\",\"field\":\"end\"},\"bottom\":{\"type\":\"value\",\"value\":0},\"top\":{\"type\":\"field\",\"field\":\"top\"},\"line_color\":{\"type\":\"value\",\"value\":\"white\"},\"line_alpha\":{\"type\":\"value\",\"value\":0.2},\"fill_color\":{\"type\":\"value\",\"value\":\"blue\"},\"fill_alpha\":{\"type\":\"value\",\"value\":0.2},\"hatch_alpha\":{\"type\":\"value\",\"value\":0.2}}}}}],\"toolbar\":{\"type\":\"object\",\"name\":\"Toolbar\",\"id\":\"p1102\",\"attributes\":{\"tools\":[{\"type\":\"object\",\"name\":\"PanTool\",\"id\":\"p1115\"},{\"type\":\"object\",\"name\":\"WheelZoomTool\",\"id\":\"p1116\",\"attributes\":{\"renderers\":\"auto\"}},{\"type\":\"object\",\"name\":\"BoxZoomTool\",\"id\":\"p1117\",\"attributes\":{\"overlay\":{\"type\":\"object\",\"name\":\"BoxAnnotation\",\"id\":\"p1118\",\"attributes\":{\"syncable\":false,\"line_color\":\"black\",\"line_alpha\":1.0,\"line_width\":2,\"line_dash\":[4,4],\"fill_color\":\"lightgrey\",\"fill_alpha\":0.5,\"level\":\"overlay\",\"visible\":false,\"left\":{\"type\":\"number\",\"value\":\"nan\"},\"right\":{\"type\":\"number\",\"value\":\"nan\"},\"top\":{\"type\":\"number\",\"value\":\"nan\"},\"bottom\":{\"type\":\"number\",\"value\":\"nan\"},\"left_units\":\"canvas\",\"right_units\":\"canvas\",\"top_units\":\"canvas\",\"bottom_units\":\"canvas\",\"handles\":{\"type\":\"object\",\"name\":\"BoxInteractionHandles\",\"id\":\"p1124\",\"attributes\":{\"all\":{\"type\":\"object\",\"name\":\"AreaVisuals\",\"id\":\"p1123\",\"attributes\":{\"fill_color\":\"white\",\"hover_fill_color\":\"lightgray\"}}}}}}}},{\"type\":\"object\",\"name\":\"SaveTool\",\"id\":\"p1125\"},{\"type\":\"object\",\"name\":\"ResetTool\",\"id\":\"p1126\"},{\"type\":\"object\",\"name\":\"HelpTool\",\"id\":\"p1127\"}]}},\"left\":[{\"type\":\"object\",\"name\":\"LinearAxis\",\"id\":\"p1110\",\"attributes\":{\"ticker\":{\"type\":\"object\",\"name\":\"BasicTicker\",\"id\":\"p1111\",\"attributes\":{\"mantissas\":[1,2,5]}},\"formatter\":{\"type\":\"object\",\"name\":\"BasicTickFormatter\",\"id\":\"p1112\"},\"axis_label\":\"Number of Electrons\",\"major_label_policy\":{\"type\":\"object\",\"name\":\"AllLabels\",\"id\":\"p1113\"}}}],\"below\":[{\"type\":\"object\",\"name\":\"LinearAxis\",\"id\":\"p1105\",\"attributes\":{\"ticker\":{\"type\":\"object\",\"name\":\"BasicTicker\",\"id\":\"p1106\",\"attributes\":{\"mantissas\":[1,2,5]}},\"formatter\":{\"type\":\"object\",\"name\":\"BasicTickFormatter\",\"id\":\"p1107\"},\"axis_label\":\"Distance from center [m]\",\"major_label_policy\":{\"type\":\"object\",\"name\":\"AllLabels\",\"id\":\"p1108\"}}}],\"center\":[{\"type\":\"object\",\"name\":\"Grid\",\"id\":\"p1109\",\"attributes\":{\"axis\":{\"id\":\"p1105\"}}},{\"type\":\"object\",\"name\":\"Grid\",\"id\":\"p1114\",\"attributes\":{\"dimension\":1,\"axis\":{\"id\":\"p1110\"}}}]}}]}}]}};\n",
       "  const render_items = [{\"docid\":\"ffd1c589-7bbd-4b95-ab29-7dac9bcd12fd\",\"roots\":{\"p1149\":\"eadb7dad-afc0-432d-b731-4aeecc91bd9b\"},\"root_ids\":[\"p1149\"],\"notebook_comms_target\":\"p1150\"}];\n",
       "  void root.Bokeh.embed.embed_items_notebook(docs_json, render_items);\n",
       "  }\n",
       "  if (root.Bokeh !== undefined) {\n",
       "    embed_document(root);\n",
       "  } else {\n",
       "    let attempts = 0;\n",
       "    const timer = setInterval(function(root) {\n",
       "      if (root.Bokeh !== undefined) {\n",
       "        clearInterval(timer);\n",
       "        embed_document(root);\n",
       "      } else {\n",
       "        attempts++;\n",
       "        if (attempts > 100) {\n",
       "          clearInterval(timer);\n",
       "          console.log(\"Bokeh: ERROR: Unable to run BokehJS code because BokehJS library is missing\");\n",
       "        }\n",
       "      }\n",
       "    }, 10, root)\n",
       "  }\n",
       "})(window);"
      ],
      "application/vnd.bokehjs_exec.v0+json": ""
     },
     "metadata": {
      "application/vnd.bokehjs_exec.v0+json": {
       "id": "p1149"
      }
     },
     "output_type": "display_data"
    }
   ],
   "source": [
    "# Create an instance of the double_slit_bokeh class\n",
    "slit_simulation = double_slit_experiment()"
   ]
  },
  {
   "cell_type": "markdown",
   "id": "f8db58eb-293b-49d0-856b-50fde6a63b22",
   "metadata": {},
   "source": [
    "### Comprehension Question:\n",
    "\n",
    "**A)** If you set the number of electrons really low (around 5), can you tell the difference between the probability distribution from when you ignore vs. observe the electron? \n",
    "\n",
    "**B)** How does the distance between the slits impact the probability distribution?\n",
    "\n",
    "**C)** How does the distance to the screen impact the probability distribution?\n",
    "\n",
    "**D)** What do you think would happen if we had three slits instead of two? Consider the following two cases:\n",
    "\n",
    "1. What kind of probability distribution would you expect if we ignored the electron vs. observed which of the three slits it went through?\n",
    "2. What kind of probability distribution would you expect if we ignored the electron vs. observed whether or not it went through the center slit?"
   ]
  },
  {
   "cell_type": "markdown",
   "id": "703b54d1-fb4a-480c-911c-645c6c2978f5",
   "metadata": {},
   "source": [
    "# Measuring in different bases"
   ]
  },
  {
   "cell_type": "markdown",
   "id": "7a9a82f4-62ad-498f-9eaf-8d1072422c2e",
   "metadata": {},
   "source": [
    "Yesterday and today in class, we learned about different quantum operators and different bases for measurement. Today, we'll start off with a quick review of measurement in these different bases."
   ]
  },
  {
   "cell_type": "markdown",
   "id": "1062329a-7bbf-43d9-a1b7-e7f5f8ab599c",
   "metadata": {},
   "source": [
    "We'll start off by generating a state and plotting it on the Bloch sphere. We'll also show the circuit used to prepare it. By default, `qc = QuantumCircuit(n)` will initialize all qubits to the all-zeros state."
   ]
  },
  {
   "cell_type": "code",
   "execution_count": 5,
   "id": "94a1b35a-cf96-4c4f-8ba2-6a87979f17be",
   "metadata": {},
   "outputs": [
    {
     "data": {
      "image/png": "[encoded data removed]",
      "text/plain": [
       "<Figure size 480x480 with 1 Axes>"
      ]
     },
     "metadata": {},
     "output_type": "display_data"
    },
    {
     "data": {
      "image/png": "[encoded data removed]",
      "text/plain": [
       "<Figure size 185.453x117.056 with 1 Axes>"
      ]
     },
     "metadata": {},
     "output_type": "display_data"
    }
   ],
   "source": [
    "qc = QuantumCircuit(1)\n",
    "qc.rx(np.pi/4, 0)\n",
    "display(Statevector(qc).draw('bloch'))\n",
    "display(qc.draw('mpl'))"
   ]
  },
  {
   "cell_type": "markdown",
   "id": "1bc81e6f-bab1-483a-b135-35f9d4c4fa20",
   "metadata": {},
   "source": [
    "## Measuring in the Z basis"
   ]
  },
  {
   "cell_type": "markdown",
   "id": "5d37012e-920a-4b2d-92dc-cc74e3b90b04",
   "metadata": {},
   "source": [
    "Written in braket notation, the state is ..."
   ]
  },
  {
   "cell_type": "code",
   "execution_count": 7,
   "id": "5b31895f-a89f-42ca-bd0f-fedd5cf07d3e",
   "metadata": {},
   "outputs": [
    {
     "data": {
      "text/latex": [
       "$$0.9238795325 |0\\rangle- 0.3826834324 i |1\\rangle$$"
      ],
      "text/plain": [
       "<IPython.core.display.Latex object>"
      ]
     },
     "metadata": {},
     "output_type": "display_data"
    }
   ],
   "source": [
    "qc = QuantumCircuit(1)\n",
    "qc.rx(np.pi/4, 0)\n",
    "display(Statevector(qc).draw('latex'))"
   ]
  },
  {
   "cell_type": "markdown",
   "id": "bdf7dff6-d99e-4503-a694-9ebea4763307",
   "metadata": {},
   "source": [
    "### Comprehension Question:\n",
    "If we prepare and measure this state ten thousand times in the Z basis, what would we expect our measurement histogram to be? (You can give approximate answers.) "
   ]
  },
  {
   "cell_type": "markdown",
   "id": "e1e9a7ad-890d-46ef-afc9-a1d08cd72071",
   "metadata": {},
   "source": [
    "### Comparing to the histogram..."
   ]
  },
  {
   "cell_type": "markdown",
   "id": "e370f0b1-36ca-4c72-b1cc-5cf533591045",
   "metadata": {},
   "source": [
    "The standard Qiskit measurement operation will measure the qubit in the Z basis, projecting it to either pole along the Z axis. We can repeat this experiment many times (`nshots` times) and plot the histogram below. Let's see how this compares to our analytical solution above."
   ]
  },
  {
   "cell_type": "code",
   "execution_count": 9,
   "id": "015e9871-2f75-48eb-a080-cf172f371865",
   "metadata": {},
   "outputs": [
    {
     "data": {
      "image/png": "[encoded data removed]",
      "text/plain": [
       "<Figure size 413.165x200.667 with 1 Axes>"
      ]
     },
     "metadata": {},
     "output_type": "display_data"
    },
    {
     "data": {
      "image/png": "[encoded data removed]",
      "text/plain": [
       "<Figure size 640x480 with 1 Axes>"
      ]
     },
     "metadata": {},
     "output_type": "display_data"
    }
   ],
   "source": [
    "qc = QuantumCircuit(1)\n",
    "qc.rx(np.pi/4, 0)\n",
    "qc.measure_all()\n",
    "display(qc.draw('mpl'))\n",
    "\n",
    "backend = Aer.get_backend('qasm_simulator')\n",
    "\n",
    "new_circuit = transpile(qc, backend)\n",
    "job = backend.run(new_circuit, shots = nshots)\n",
    "results = job.result()\n",
    "counts = results.get_counts()\n",
    "\n",
    "display(plot_histogram(counts))"
   ]
  },
  {
   "cell_type": "markdown",
   "id": "10ba22f8-09bc-45f7-9940-9a4e69437c26",
   "metadata": {},
   "source": [
    "The overall experiment is equivalent to the following pseudocode:\n",
    "\n",
    "```python\n",
    "histogram = {0: 0, 1: 0}\n",
    "for i in range(nshots):\n",
    "    qc.prepare(state)\n",
    "    result = qc.measure() # returns 0 or 1\n",
    "    if result == 0:\n",
    "        histogram[0] += 1\n",
    "    else:\n",
    "        histogram[1] += 1\n",
    "plot(histogram)\n",
    "```\n",
    "\n",
    "We are re-initializing and re-running this entire circuit for every shot, and the outcome of each shot may be different. Over many shots, we build up our histogram."
   ]
  },
  {
   "cell_type": "markdown",
   "id": "01174f45-c977-46bd-bc67-d28143ab1e64",
   "metadata": {},
   "source": [
    "Rerun the above cell a few times. Note that each time we rerun the above cell, our histogram also changes by a slight amount. This is because the Qiskit simulator is sampling from a probability distribution to measure each shot, so each experimental run (comprising many shots) will have had a slightly different number of its shots evaluate to $0$ or $1$. As `nshots` tends to $\\infty$, the histogram will approach the mathematically expected value that you calculated above."
   ]
  },
  {
   "cell_type": "markdown",
   "id": "356b7048-4fc1-461d-9c6f-9188c8d2f958",
   "metadata": {},
   "source": [
    "### Comprehension Question:\n",
    "What would the histogram look like if we took repeated measurements without re-running the circuit? (i.e. feed the output of the first measurement into the second measurement, then feed the output of the second measurement into the third measurement, etc.)"
   ]
  },
  {
   "cell_type": "markdown",
   "id": "a4f718ed-fca9-42ac-878f-c4ed3a418e1f",
   "metadata": {},
   "source": [
    "## Measuring in other bases"
   ]
  },
  {
   "cell_type": "markdown",
   "id": "f50e9e02-8288-46bc-8f8c-c6195f319593",
   "metadata": {},
   "source": [
    "We can also reuse the same circuit to prepare the same state but instead measure in the X basis.\n",
    "\n",
    "Qiskit only allows us to measure in the Z basis, so we apply the $H$ gate to map the $|+\\rangle$ and $|-\\rangle$ states to $|0\\rangle$ and $|1\\rangle$, respectively. We then measure using the standard Qiskit measurement operator and interpret our results according to our mapping."
   ]
  },
  {
   "cell_type": "code",
   "execution_count": 14,
   "id": "133f0a4b-dfbd-4297-828d-5a626c3d2867",
   "metadata": {},
   "outputs": [
    {
     "data": {
      "image/png": "[encoded data removed]",
      "text/plain": [
       "<Figure size 496.776x200.667 with 1 Axes>"
      ]
     },
     "metadata": {},
     "output_type": "display_data"
    },
    {
     "data": {
      "image/png": "[encoded data removed]",
      "text/plain": [
       "<Figure size 640x480 with 1 Axes>"
      ]
     },
     "metadata": {},
     "output_type": "display_data"
    }
   ],
   "source": [
    "qc = QuantumCircuit(1)\n",
    "qc.rx(np.pi/4, 0)\n",
    "qc.h(0)\n",
    "qc.measure_all()\n",
    "display(qc.draw('mpl'))\n",
    "\n",
    "backend = Aer.get_backend('qasm_simulator')\n",
    "\n",
    "new_circuit = transpile(qc, backend)\n",
    "job = backend.run(new_circuit, shots = nshots)\n",
    "results = job.result()\n",
    "counts = results.get_counts()\n",
    "\n",
    "display(plot_histogram(counts))"
   ]
  },
  {
   "cell_type": "markdown",
   "id": "691face7-3621-410f-825d-86088723ec2f",
   "metadata": {},
   "source": [
    "The measurement outcomes $0$ and $1$ correspond to $|+\\rangle$ and $|-\\rangle$, respectively."
   ]
  },
  {
   "cell_type": "markdown",
   "id": "e8e02965-f840-4fe1-a426-7c5720e470e7",
   "metadata": {},
   "source": [
    "We can also measure in the Y basis, applying $HS^\\dagger$ to map $|+i\\rangle$ and $|-i\\rangle$ to $|0\\rangle$ and $|1\\rangle$, respectively. Note that the operator $HS^\\dagger$ corresponds to first applying $S^\\dagger$ and then $H$ to the state. This is consistent with $S^\\dagger$ being to the left of $H$ in the circuit below."
   ]
  },
  {
   "cell_type": "code",
   "execution_count": 12,
   "id": "eb7e5fa4-6b78-4f4d-bf0d-6d9343b8804e",
   "metadata": {},
   "outputs": [
    {
     "data": {
      "image/png": "[encoded data removed]",
      "text/plain": [
       "<Figure size 663.998x200.667 with 1 Axes>"
      ]
     },
     "metadata": {},
     "output_type": "display_data"
    },
    {
     "data": {
      "image/png": "[encoded data removed]",
      "text/plain": [
       "<Figure size 640x480 with 1 Axes>"
      ]
     },
     "metadata": {},
     "output_type": "display_data"
    }
   ],
   "source": [
    "qc = QuantumCircuit(1)\n",
    "qc.rx(np.pi/4, 0)\n",
    "qc.barrier()\n",
    "qc.sdg(0)\n",
    "qc.h(0)\n",
    "qc.measure_all()\n",
    "display(qc.draw('mpl'))\n",
    "\n",
    "backend = Aer.get_backend('qasm_simulator')\n",
    "\n",
    "new_circuit = transpile(qc, backend)\n",
    "job = backend.run(new_circuit, shots = nshots)\n",
    "results = job.result()\n",
    "counts = results.get_counts()\n",
    "\n",
    "display(plot_histogram(counts))"
   ]
  },
  {
   "cell_type": "markdown",
   "id": "9c56f675-ec30-4571-96f5-7cbda3ba8cac",
   "metadata": {},
   "source": [
    "The measurement outcomes $0$ and $1$ correspond to $|+i\\rangle$ and $|-i\\rangle$, respectively."
   ]
  },
  {
   "cell_type": "markdown",
   "id": "24459c88-41e3-4f6d-ab8a-caca24a0e5f8",
   "metadata": {},
   "source": [
    "## Why is it important to be able to measure in different bases?"
   ]
  },
  {
   "cell_type": "markdown",
   "id": "bfb4a7f4-a4d8-4708-8981-6b0648e9acb8",
   "metadata": {},
   "source": [
    "Let's take two quantum states, $|+i\\rangle$ and $|-i\\rangle$. Suppose someone gives you an infinite stream of one of these states, but you don't know which one you have.\n",
    "\n",
    "You would like to know which state you have. Suppose that you are also able to perform measurements and gates on your states. What kinds of gates or measurements will be useful?"
   ]
  },
  {
   "cell_type": "markdown",
   "id": "72574744-eb71-45f0-9873-6747bd1ddc4d",
   "metadata": {},
   "source": [
    "Let's take a look at the distribution for measurement of these two states in the Z basis."
   ]
  },
  {
   "cell_type": "code",
   "execution_count": 13,
   "id": "2ac66072-e511-4206-9ef0-11d5e262ab43",
   "metadata": {},
   "outputs": [
    {
     "data": {
      "text/latex": [
       "$$\\frac{\\sqrt{2}}{2} |0\\rangle+\\frac{\\sqrt{2} i}{2} |1\\rangle$$"
      ],
      "text/plain": [
       "<IPython.core.display.Latex object>"
      ]
     },
     "metadata": {},
     "output_type": "display_data"
    },
    {
     "data": {
      "image/png": "[encoded data removed]",
      "text/plain": [
       "<Figure size 413.165x200.667 with 1 Axes>"
      ]
     },
     "metadata": {},
     "output_type": "display_data"
    },
    {
     "data": {
      "image/png": "[encoded data removed]",
      "text/plain": [
       "<Figure size 640x480 with 1 Axes>"
      ]
     },
     "metadata": {},
     "output_type": "display_data"
    }
   ],
   "source": [
    "qc = QuantumCircuit(1)\n",
    "qc.rx(-np.pi/2, 0)\n",
    "display(Statevector(qc).draw('latex'))\n",
    "qc.measure_all()\n",
    "display(qc.draw('mpl'))\n",
    "\n",
    "backend = Aer.get_backend('qasm_simulator')\n",
    "\n",
    "new_circuit = transpile(qc, backend)\n",
    "job = backend.run(new_circuit, shots = nshots)\n",
    "results = job.result()\n",
    "counts = results.get_counts()\n",
    "\n",
    "display(plot_histogram(counts))"
   ]
  },
  {
   "cell_type": "code",
   "execution_count": 15,
   "id": "33fe0c60-3b1d-4b48-b0ec-aeaa06f79253",
   "metadata": {},
   "outputs": [
    {
     "data": {
      "text/latex": [
       "$$\\frac{\\sqrt{2}}{2} |0\\rangle- \\frac{\\sqrt{2} i}{2} |1\\rangle$$"
      ],
      "text/plain": [
       "<IPython.core.display.Latex object>"
      ]
     },
     "metadata": {},
     "output_type": "display_data"
    },
    {
     "data": {
      "image/png": "[encoded data removed]",
      "text/plain": [
       "<Figure size 413.165x200.667 with 1 Axes>"
      ]
     },
     "metadata": {},
     "output_type": "display_data"
    },
    {
     "data": {
      "image/png": "[encoded data removed]",
      "text/plain": [
       "<Figure size 640x480 with 1 Axes>"
      ]
     },
     "metadata": {},
     "output_type": "display_data"
    }
   ],
   "source": [
    "qc = QuantumCircuit(1)\n",
    "qc.rx(np.pi/2, 0)\n",
    "display(Statevector(qc).draw('latex'))\n",
    "qc.measure_all()\n",
    "display(qc.draw('mpl'))\n",
    "\n",
    "backend = Aer.get_backend('qasm_simulator')\n",
    "\n",
    "new_circuit = transpile(qc, backend)\n",
    "job = backend.run(new_circuit, shots = nshots)\n",
    "results = job.result()\n",
    "counts = results.get_counts()\n",
    "\n",
    "display(plot_histogram(counts))"
   ]
  },
  {
   "cell_type": "markdown",
   "id": "a9b2e233-a457-46d0-ade8-63ba71fe56e9",
   "metadata": {},
   "source": [
    "### Conclusion"
   ]
  },
  {
   "cell_type": "markdown",
   "id": "dc58dac7-d144-46bf-9a3b-aafaa037877b",
   "metadata": {},
   "source": [
    "These distributions are essentially identical, so repeatedly measuring in the Z basis doesn't help us differentiate between the states. However, if we can measure in another basis that distinguishes these states, that might be useful."
   ]
  },
  {
   "cell_type": "markdown",
   "id": "3588b901-de14-48a7-99cd-6a1ae2338588",
   "metadata": {},
   "source": [
    "## Exercises\n"
   ]
  },
  {
   "cell_type": "markdown",
   "id": "c739d4cf-07c1-4358-beb5-966e8eb21801",
   "metadata": {},
   "source": [
    "### Differentiate between $|+i\\rangle$ and $|-i\\rangle$"
   ]
  },
  {
   "cell_type": "markdown",
   "id": "dc309016-930f-4250-bb04-8e1c6f425879",
   "metadata": {},
   "source": [
    "Design a protocol to distinguish between $|+i\\rangle$ and $|-i\\rangle$. What is the minimum number of measurements (shots) you need to do this? How many gates do you need?"
   ]
  },
  {
   "cell_type": "code",
   "execution_count": 30,
   "id": "51723d6f-c775-4bf2-ac72-2b6215d35541",
   "metadata": {},
   "outputs": [],
   "source": [
    "# write your protocol\n",
    "def distinguish_plus_minus_i(statevector: Statevector):\n",
    "    # Function to identify the input state\n",
    "    # Input: a Qiskit Statevector encoding one of ['+i', '-i']\n",
    "    # Output: '+i' or '-i'\n",
    "    \n",
    "    # starter code\n",
    "    qc = QuantumCircuit(1)\n",
    "    qc.initialize(statevector)\n",
    "    \n",
    "    # quantum circuit\n",
    "    qc.sdg(0)\n",
    "    qc.h(0)\n",
    "    \n",
    "    qc.measure_all()\n",
    "    backend = Aer.get_backend('qasm_simulator')\n",
    "    new_circuit = transpile(qc, backend)\n",
    "    job = backend.run(new_circuit, shots = nshots)\n",
    "    results = job.result()\n",
    "    counts = results.get_counts()\n",
    "\n",
    "    max_count = max(counts, key=counts.get) \n",
    "    if max_count == '0': \n",
    "        return '+i' \n",
    "    else: \n",
    "        return '-i'"
   ]
  },
  {
   "cell_type": "code",
   "execution_count": 31,
   "id": "61c06e72-6932-461e-9b94-730768fc829b",
   "metadata": {},
   "outputs": [],
   "source": [
    "# test your protocol\n",
    "assert distinguish_plus_minus_i(Statevector.from_label('r')) == '+i', \"State detector did not work\"\n",
    "assert distinguish_plus_minus_i(Statevector.from_label('l')) == '-i', \"State detector did not work\""
   ]
  },
  {
   "cell_type": "markdown",
   "id": "4128f34c-8fd5-419f-add5-88b19f556b70",
   "metadata": {},
   "source": [
    "### Determine the state"
   ]
  },
  {
   "cell_type": "markdown",
   "id": "d399659e-465a-4b35-ae78-8fc8da45d0e7",
   "metadata": {},
   "source": [
    "Design a protocol to distinguish between $|0\\rangle$, $|1\\rangle$, $|+\\rangle$, $|-\\rangle$, $|+i\\rangle$ and $|-i\\rangle$, assuming someone gives you an infinite stream of one such state. What is the minimum number of measurements (shots) you need to do this? How many gates do you need?\n",
    "\n",
    "You may use\n",
    "```python\n",
    "qc = QuantumCircuit(1)\n",
    "qc.initialize(statevector)\n",
    "```\n",
    "as many times as you'd like to initialize your circuit with the input state. You may not investigate other properties of the `statevector` variable."
   ]
  },
  {
   "cell_type": "code",
   "execution_count": null,
   "id": "bc44d323-b249-4de6-b8f0-0a3cee14abbc",
   "metadata": {},
   "outputs": [],
   "source": [
    "# write your protocol\n",
    "def state_detector(statevector: Statevector):\n",
    "    # Function to identify the input state\n",
    "    # Input: a Qiskit Statevector encoding one of ['0', '1', '+', '-', '+i', '-i']\n",
    "    # Output: one of ['0', '1', '+', '-', '+i', '-i']\n",
    "    \n",
    "    # starter code\n",
    "    qc = QuantumCircuit(1)\n",
    "    qc.initialize(statevector)\n",
    "    # quantum circuit\n",
    "    # *FILL IN*\n",
    "    ...\n",
    "    qc.measure_all()\n",
    "    backend = Aer.get_backend('qasm_simulator')\n",
    "    new_circuit = transpile(qc, backend)\n",
    "    job = backend.run(new_circuit, shots = 1000)# *FILL IN*)\n",
    "    results = job.result()\n",
    "    counts = results.get_counts()\n",
    "    \n",
    "    # quantum circuit(s)\n",
    "    # *FILL IN*\n",
    "    ...\n",
    "    \n",
    "    # post-processing\n",
    "    # *FILL IN*\n",
    "    ...\n",
    "    return # one of ['0', '1', '+', '-', '+i', '-i']"
   ]
  },
  {
   "cell_type": "code",
   "execution_count": null,
   "id": "04514e00-96b8-4ecb-966c-85ee00cc05b1",
   "metadata": {},
   "outputs": [],
   "source": [
    "# test your protocol\n",
    "assert state_detector(Statevector.from_label('0')) == '0', \"State detector did not work\"\n",
    "assert state_detector(Statevector.from_label('1')) == '1', \"State detector did not work\"\n",
    "assert state_detector(Statevector.from_label('+')) == '+', \"State detector did not work\"\n",
    "assert state_detector(Statevector.from_label('-')) == '-', \"State detector did not work\"\n",
    "assert state_detector(Statevector.from_label('r')) == '+i', \"State detector did not work\"\n",
    "assert state_detector(Statevector.from_label('l')) == '-i', \"State detector did not work\""
   ]
  },
  {
   "cell_type": "markdown",
   "id": "bf25671e-af8a-4d00-96dd-67fc053f1f6f",
   "metadata": {},
   "source": [
    "### Challenge Problem: Two Qubits"
   ]
  },
  {
   "cell_type": "markdown",
   "id": "d116092c-7a4c-4ec9-b3d2-4fb9efd46f73",
   "metadata": {},
   "source": [
    "Design a protocol to distinguish between $\\frac{|00\\rangle+|11\\rangle}{\\sqrt{2}}$, $\\frac{|00\\rangle-|11\\rangle}{\\sqrt{2}}$, $\\frac{|01\\rangle+|10\\rangle}{\\sqrt{2}}$, and $\\frac{|01\\rangle-|10\\rangle}{\\sqrt{2}}$ assuming someone gives you an infinite stream of one such two-qubit state. What is the minimum number of measurements (shots) you need to do this? How many gates do you need?\n",
    "\n",
    "You may use\n",
    "```python\n",
    "qc = QuantumCircuit(2)\n",
    "qc.initialize(statevector)\n",
    "```\n",
    "as many times as you'd like to initialize your circuit with the input state. You may not investigate other properties of the `statevector` variable.\n",
    "\n",
    "Hint: you may use the $CX$ or $CNOT$ gate."
   ]
  },
  {
   "cell_type": "code",
   "execution_count": null,
   "id": "f3580702-46db-47ee-8313-dc92afb08fd8",
   "metadata": {},
   "outputs": [],
   "source": [
    "# write your protocol\n",
    "def state_detector_bell(statevector):\n",
    "    # Function to identify the input state\n",
    "    # Input: a Qiskit Statevector encoding one of the four states above\n",
    "    # Output: one of [0, 1, 2, 3]\n",
    "    \n",
    "    # starter code\n",
    "    qc = QuantumCircuit(2)\n",
    "    qc.initialize(statevector)\n",
    "    # quantum circuit\n",
    "    # *FILL IN*\n",
    "    ...\n",
    "    qc.measure_all()\n",
    "    backend = Aer.get_backend('qasm_simulator')\n",
    "    new_circuit = transpile(qc, backend)\n",
    "    job = backend.run(new_circuit, shots = 1000)# *FILL IN*)\n",
    "    results = job.result()\n",
    "    counts = results.get_counts()\n",
    "    \n",
    "    # quantum circuit(s)\n",
    "    # *FILL IN*\n",
    "    ...\n",
    "    \n",
    "    # post-processing\n",
    "    # *FILL IN*\n",
    "    ...\n",
    "    return # one of [0, 1, 2, 3]"
   ]
  },
  {
   "cell_type": "code",
   "execution_count": null,
   "id": "06193e07-07d0-4e25-9d3c-13f42e005b43",
   "metadata": {},
   "outputs": [],
   "source": [
    "# test your protocol\n",
    "assert state_detector_bell(Statevector(np.array([1,0,0,+1])/np.sqrt(2)) == 0, \"State detector did not work\"\n",
    "assert state_detector_bell(Statevector(np.array([1,0,0,-1])/np.sqrt(2)) == 1, \"State detector did not work\"\n",
    "assert state_detector_bell(Statevector(np.array([0,1,+1,0])/np.sqrt(2)) == 2, \"State detector did not work\"\n",
    "assert state_detector_bell(Statevector(np.array([0,1,-1,0])/np.sqrt(2)) == 3, \"State detector did not work\"\n"
   ]
  },
  {
   "cell_type": "markdown",
   "id": "fd1c18f7-5225-4080-987e-93d2dce4719d",
   "metadata": {},
   "source": [
    "# Quantum State Tomography"
   ]
  },
  {
   "cell_type": "markdown",
   "id": "90e41785-2f04-457b-83f0-51a65c0325f8",
   "metadata": {},
   "source": [
    "What we have been doing above is a kind of protocol known as quantum state tomography. In general, this protocol allows for the reconstruction of an unknown quantum state, provided we can repeatedly create and measure it.\n",
    "\n",
    "Why would this be useful? Let's say we are running an experiment in which we are preparing a particular useful state. If we want to ensure that our experiment is working correctly, we can repeatedly run the experiment from the same initial conditions. We can perform quantum state tomography on the resulting state, measuring it in different bases to confirm that we've prepared the correct state. (Note that this does not violate the no-cloning theorem, because we are following a deterministic protocol to generate a specific state.)\n",
    "\n",
    "Let's see this in action."
   ]
  },
  {
   "cell_type": "markdown",
   "id": "187f0f50-c6ac-4a60-9c85-a59b68cddffc",
   "metadata": {},
   "source": [
    "In the following cell, we prepare a quantum state. You can uncomment the commented lines to see the intermediate circuits and intermediate states plotted on the Bloch sphere."
   ]
  },
  {
   "cell_type": "code",
   "execution_count": null,
   "id": "baca2879-73f0-48f8-9562-12bd5fe1777b",
   "metadata": {},
   "outputs": [],
   "source": [
    "qc = QuantumCircuit(1)\n",
    "# display(qc.draw('mpl'))\n",
    "# display(Statevector(qc).draw('bloch'))\n",
    "\n",
    "qc.x(0)\n",
    "# display(qc.draw('mpl'))\n",
    "# display(Statevector(qc).draw('bloch'))\n",
    "\n",
    "qc.h(0)\n",
    "# display(qc.draw('mpl'))\n",
    "# display(Statevector(qc).draw('bloch'))\n",
    "\n",
    "qc.ry(45, 0)\n",
    "# display(qc.draw('mpl'))\n",
    "# display(Statevector(qc).draw('bloch'))\n",
    "\n",
    "qc.y(0)\n",
    "# display(qc.draw('mpl'))\n",
    "# display(Statevector(qc).draw('bloch'))\n",
    "\n",
    "qc.rz(45, 0)\n",
    "display(qc.draw('mpl'))\n",
    "display(Statevector(qc).draw('bloch'))"
   ]
  },
  {
   "cell_type": "markdown",
   "id": "e17e9db4-68df-4853-93f2-d95e8485dd88",
   "metadata": {},
   "source": [
    "The Bloch sphere picture gives us some sense of the expectation values of the states. If we were to measure the qubit in the Z basis, we'd get a distribution of $\\{|0\\rangle, |1\\rangle\\}$ proportionate to the projection of the state onto the Z axis. And likewise for the other two axes."
   ]
  },
  {
   "cell_type": "markdown",
   "id": "7321e9d4-0d10-40da-81b0-376641890ea2",
   "metadata": {},
   "source": [
    "## Exercises"
   ]
  },
  {
   "cell_type": "markdown",
   "id": "21f41e05-c172-479b-8a97-030960303d31",
   "metadata": {},
   "source": [
    "### Histograms"
   ]
  },
  {
   "cell_type": "markdown",
   "id": "1ef36a51-94eb-41a0-8900-cf2e1ae1a364",
   "metadata": {},
   "source": [
    "Measure the state generated above in the X, Y, and Z bases and obtain the histograms.\n",
    "\n",
    "Here is the condensed code to generate the circuit:\n",
    "\n",
    "```python\n",
    "qc = QuantumCircuit(1)\n",
    "qc.x(0)\n",
    "qc.h(0)\n",
    "qc.ry(45, 0)\n",
    "qc.y(0)\n",
    "qc.rz(45, 0)\n",
    "```\n",
    "\n",
    "You may invoke this as many times as you need."
   ]
  },
  {
   "cell_type": "code",
   "execution_count": null,
   "id": "38d88f04-326c-434d-a7c0-eee89a506f3a",
   "metadata": {},
   "outputs": [],
   "source": [
    "x_counts, y_counts, z_counts = # *FILL IN*\n",
    "\n",
    "display(plot_histogram(x_counts))\n",
    "display(plot_histogram(y_counts))\n",
    "display(plot_histogram(z_counts))"
   ]
  },
  {
   "cell_type": "markdown",
   "id": "8ed53c00-8950-40b1-856f-a2e06f537f04",
   "metadata": {},
   "source": [
    "### Expectation values"
   ]
  },
  {
   "cell_type": "markdown",
   "id": "648d7483-4805-4500-8b18-badf8f4cdf03",
   "metadata": {},
   "source": [
    "We now compute the expectation values for the three measurements.\n",
    "\n",
    "In this scheme, $|0\\rangle$, $|+\\rangle$, and $|+i\\rangle$ correspond to a value of +1, and $|1\\rangle$, $|-\\rangle$, and $|-i\\rangle$ correspond to a value of -1.\n",
    "\n",
    "For each basis, we multiply the number of counts in each bin by the respective \"expectation\" value for each bin and then take the average over `nshots` to obtain the expectation value."
   ]
  },
  {
   "cell_type": "code",
   "execution_count": null,
   "id": "1ce64707-e503-4d86-bbab-35ef689b2600",
   "metadata": {},
   "outputs": [],
   "source": [
    "# sx = # *FILL IN*\n",
    "# sy = # *FILL IN*\n",
    "# sz = # *FILL IN*\n",
    "# print(sx, sy, sz)"
   ]
  },
  {
   "cell_type": "markdown",
   "id": "c8f6b7d8-4360-4f91-b07a-a6cd9c3455d3",
   "metadata": {},
   "source": [
    "If we did everything right, we can plot the expectations on the Bloch sphere and compare it to the initial state."
   ]
  },
  {
   "cell_type": "code",
   "execution_count": null,
   "id": "0deae360-50fb-400c-b90d-bfad32e351a2",
   "metadata": {},
   "outputs": [],
   "source": [
    "display(plot_bloch_vector([sx,sy,sz]))\n",
    "qc = QuantumCircuit(1)\n",
    "qc.x(0)\n",
    "qc.h(0)\n",
    "qc.ry(45, 0)\n",
    "qc.y(0)\n",
    "qc.rz(45, 0)\n",
    "display(Statevector(qc).draw('bloch'))"
   ]
  },
  {
   "cell_type": "markdown",
   "id": "e7651f40-d23b-4172-8f02-528aa5664683",
   "metadata": {},
   "source": [
    "### Challenge Problem: Reconstructing the State"
   ]
  },
  {
   "cell_type": "markdown",
   "id": "09c2216a-accf-4254-8775-3243a5e9bfd4",
   "metadata": {},
   "source": [
    "We can go one step further and obtain the amplitudes of the state as well."
   ]
  },
  {
   "cell_type": "markdown",
   "id": "33611f12-0ea0-459f-968c-f85deb43720e",
   "metadata": {},
   "source": [
    "Per the lecture notes, if $$S = \\begin{pmatrix} s_x \\\\ s_y \\\\ s_z \\end{pmatrix} = \\begin{pmatrix} \\sin\\theta\\cos\\phi \\\\ \\sin\\theta\\sin\\phi \\\\ \\cos\\theta \\end{pmatrix},$$ where $S$ is the state's vector coordinates on the Bloch sphere and $s_x = \\langle X \\rangle$ is the expectation of measurement in the $X$ basis, then $$|\\psi\\rangle = \\cos\\frac{\\theta}{2}|0\\rangle + e^{i\\phi}\\sin\\frac{\\theta}{2}|1\\rangle.$$\n",
    "\n",
    "Using the measurement data you collected above, can you reconstruct $|\\psi\\rangle$? Recall that $\\arccos$ and $\\arcsin$ are multivalued, so you might have to apply some extra logic to ensure you have the correct values."
   ]
  },
  {
   "cell_type": "code",
   "execution_count": null,
   "id": "0529eab0-e949-43fb-986d-a1783c0d11af",
   "metadata": {},
   "outputs": [],
   "source": [
    "theta = # *FILL IN* f(sx, sy, sz)\n",
    "phi = # *FILL IN* f(sx, sy, sz)\n",
    "\n",
    "# *FILL IN*\n",
    "psi = Statevector([np.cos(theta/2), np.exp(1j*phi)*np.sin(theta/2)])"
   ]
  },
  {
   "cell_type": "code",
   "execution_count": null,
   "id": "ec14356f-087f-4442-a79b-0ebdf527414a",
   "metadata": {},
   "outputs": [],
   "source": [
    "qc = QuantumCircuit(1)\n",
    "qc.x(0)\n",
    "qc.h(0)\n",
    "qc.ry(45, 0)\n",
    "qc.y(0)\n",
    "qc.rz(45, 0)\n",
    "display(Statevector(qc).draw())\n",
    "display(psi.draw())"
   ]
  },
  {
   "cell_type": "markdown",
   "id": "650db723-be7c-4ea3-aa06-24ae400d827f",
   "metadata": {},
   "source": [
    "### Challenge Problem: Putting it All Together"
   ]
  },
  {
   "cell_type": "markdown",
   "id": "a560aaea-3216-4e40-a26b-bff18d204c3c",
   "metadata": {},
   "source": [
    "Below is a code snippet that generates a random pure state $|\\psi\\rangle$, uniformly distributed over the Bloch sphere, and plots it on the Bloch sphere. You can repeatedly rerun the code to generate a new state."
   ]
  },
  {
   "cell_type": "code",
   "execution_count": null,
   "id": "d7d0dc82-a5bf-4986-bbdd-c89cbcd57d49",
   "metadata": {},
   "outputs": [],
   "source": [
    "# statevector = Statevector(qiskit.circuit.library.UGate(np.arccos(1-2*random.random()), 2*np.pi*random.random(), 2*np.pi*random.random()))\n",
    "statevector = random_statevector(2)\n",
    "display(statevector.draw('bloch'))"
   ]
  },
  {
   "cell_type": "markdown",
   "id": "9fe994cc-c42f-4889-b3d6-702a37686563",
   "metadata": {},
   "source": [
    "Now suppose that someone picks a particular random state. We wish to find out which state they chose. They can supply us with an infinite number of qubits prepared in this particular state. However, all we can do is repeatedly measure the state in various bases. How can we determine the state?\n",
    "\n",
    "You may use\n",
    "```python\n",
    "qc = QuantumCircuit(1)\n",
    "qc.initialize(statevector)\n",
    "```\n",
    "as many times as you'd like to initialize your circuit with the input state. You may not investigate other properties of the `statevector` variable.\n",
    "\n",
    "Hint: put together everything you did in the previous few exercises."
   ]
  },
  {
   "cell_type": "code",
   "execution_count": null,
   "id": "c0b1c70a-7f90-4159-9eea-3e31c2bcca31",
   "metadata": {},
   "outputs": [],
   "source": [
    "# write your protocol\n",
    "def random_state_reconstructor(statevector: Statevector):\n",
    "    # Function to reconstruct the random input state\n",
    "    # Input: a Qiskit Statevector\n",
    "    # Output: a Qiskit Statevector\n",
    "    \n",
    "    # starter code\n",
    "    # *FILL IN*\n",
    "    qc = QuantumCircuit(1)\n",
    "    qc.initialize(statevector)\n",
    "    # quantum circuit\n",
    "    # *FILL IN*\n",
    "    ...\n",
    "    qc.measure_all()\n",
    "    backend = Aer.get_backend('qasm_simulator')\n",
    "    new_circuit = transpile(qc, backend)\n",
    "    job = backend.run(new_circuit, shots = 1000)# *FILL IN*)\n",
    "    results = job.result()\n",
    "    counts = results.get_counts()\n",
    "    \n",
    "    # quantum circuit(s)\n",
    "    # *FILL IN*\n",
    "    ...\n",
    "    \n",
    "    # post-processing\n",
    "    theta = # *FILL IN* f(sx, sy, sz)\n",
    "    phi = # *FILL IN* f(sx, sy, sz)\n",
    "    \n",
    "    psi = Statevector([np.cos(theta/2), np.exp(1j*phi)*np.sin(theta/2)])\n",
    "    # *FILL IN*\n",
    "    ...\n",
    "    return psi"
   ]
  },
  {
   "cell_type": "code",
   "execution_count": null,
   "id": "15793ed7-69f9-47a2-bcc8-19b8e6517377",
   "metadata": {},
   "outputs": [],
   "source": [
    "psi = random_state_reconstructor(statevector)"
   ]
  },
  {
   "cell_type": "markdown",
   "id": "bb95785d-30a8-43de-ad47-28b34d51e050",
   "metadata": {},
   "source": [
    "Did we get it right? Let's plot Bloch vectors for the initial and reconstructed states."
   ]
  },
  {
   "cell_type": "code",
   "execution_count": null,
   "id": "9f1f02ad-1d67-4cc0-b53d-5e4410f374e5",
   "metadata": {},
   "outputs": [],
   "source": [
    "display(psi.draw('bloch'))\n",
    "display(statevector.draw('bloch'))"
   ]
  },
  {
   "cell_type": "markdown",
   "id": "a5e47259-7d65-49cb-b84d-bd2c47fe1799",
   "metadata": {},
   "source": [
    "And we can compare the statevector representations, as well:"
   ]
  },
  {
   "cell_type": "code",
   "execution_count": null,
   "id": "76ae026c-fa0e-49bb-9ba8-5364100b1e9f",
   "metadata": {},
   "outputs": [],
   "source": [
    "display(psi.draw('latex'))\n",
    "display(statevector.draw('latex'))"
   ]
  },
  {
   "cell_type": "markdown",
   "id": "ec2f4f65-c787-4d88-83e5-eb6e616ebeca",
   "metadata": {},
   "source": [
    "If we did everything correctly, these should be identical, up to a global phase. This is because we imposed a constraint on our reconstruction algorithm that the amplitude of $|0\\rangle$ be real, whereas this constraint is not present in the `random_statevector` function. Note that we are unable to recover global phase in this sort of tomography"
   ]
  },
  {
   "cell_type": "markdown",
   "id": "192c63d0-d37b-4357-9fd9-bb232a892e94",
   "metadata": {},
   "source": [
    "# State preparation"
   ]
  },
  {
   "cell_type": "markdown",
   "id": "25b7b754-6f49-46db-a6ae-8d5a9b8acaff",
   "metadata": {},
   "source": [
    "## Exercises"
   ]
  },
  {
   "cell_type": "markdown",
   "id": "8b88274c-6cd1-41bb-9ca1-9fdc5ae3685f",
   "metadata": {},
   "source": [
    "### Bell States"
   ]
  },
  {
   "cell_type": "markdown",
   "id": "79c93db2-720b-4047-a57b-aa3e31f3f185",
   "metadata": {},
   "source": [
    "Sometimes, it is useful to prepare certain quantum states. \n",
    "\n",
    "Design circuits to prepare the following states, assuming the initial state is all zeros. Compare the LaTeX output above each circuit diagram to the expression in the problem statement.\n",
    "\n",
    "**1.** $\\frac{|00\\rangle+|11\\rangle}{\\sqrt{2}}$\n",
    "\n",
    "**2.** $\\frac{|00\\rangle-|11\\rangle}{\\sqrt{2}}$\n",
    "\n",
    "**3.** $\\frac{|01\\rangle+|10\\rangle}{\\sqrt{2}}$\n",
    "\n",
    "**4.** $\\frac{|01\\rangle-i|10\\rangle}{\\sqrt{2}}$"
   ]
  },
  {
   "cell_type": "code",
   "execution_count": null,
   "id": "86e80401-529f-49d0-95ba-3dac69442489",
   "metadata": {},
   "outputs": [],
   "source": [
    "# 1\n",
    "\n",
    "qc = QuantumCircuit(2)\n",
    "# *FILL IN*\n",
    "display(Statevector(qc).draw('latex'))\n",
    "display(qc.draw('mpl'))"
   ]
  },
  {
   "cell_type": "code",
   "execution_count": null,
   "id": "2ba1cd27-11b5-424f-b439-d12cb84a6e33",
   "metadata": {
    "scrolled": true
   },
   "outputs": [],
   "source": [
    "# 2\n",
    "\n",
    "qc = QuantumCircuit(2)\n",
    "# *FILL IN*\n",
    "display(Statevector(qc).draw('latex'))\n",
    "display(qc.draw('mpl'))"
   ]
  },
  {
   "cell_type": "code",
   "execution_count": null,
   "id": "8b5d65c3-25b3-4b24-ac7e-fe20c5da3b71",
   "metadata": {},
   "outputs": [],
   "source": [
    "# 3\n",
    "\n",
    "qc = QuantumCircuit(2)\n",
    "# *FILL IN*\n",
    "display(Statevector(qc).draw('latex'))\n",
    "display(qc.draw('mpl'))"
   ]
  },
  {
   "cell_type": "code",
   "execution_count": null,
   "id": "57129b19-2ecd-4ea4-a008-73bb34913ea9",
   "metadata": {},
   "outputs": [],
   "source": [
    "# 4\n",
    "\n",
    "qc = QuantumCircuit(2)\n",
    "# *FILL IN*\n",
    "display(Statevector(qc).draw('latex'))\n",
    "display(qc.draw('mpl'))"
   ]
  },
  {
   "cell_type": "markdown",
   "id": "40b12b71-fcb4-4f16-9e18-b59e773d3a1a",
   "metadata": {},
   "source": [
    "### Challenge Problem: 3-Cat State"
   ]
  },
  {
   "cell_type": "markdown",
   "id": "ae1ed8dc-eafd-40c8-bfb6-82c4811951b3",
   "metadata": {},
   "source": [
    "Prepare the three-qubit cat state $\\frac{|000\\rangle+|111\\rangle}{\\sqrt{2}}$\n"
   ]
  },
  {
   "cell_type": "code",
   "execution_count": null,
   "id": "48005c2b-8676-4909-82a3-9d63219e727b",
   "metadata": {
    "scrolled": true
   },
   "outputs": [],
   "source": [
    "qc = QuantumCircuit(3)\n",
    "# *FILL IN*\n",
    "display(Statevector(qc).draw('latex'))\n",
    "display(qc.draw('mpl'))"
   ]
  },
  {
   "cell_type": "markdown",
   "id": "734f9915-08e9-4d4e-8aa9-bf90dcf2c3d6",
   "metadata": {},
   "source": [
    "### Challenge Problem: N-Cat State"
   ]
  },
  {
   "cell_type": "markdown",
   "id": "a9f3f9d2-6299-4dd2-9a5b-cdf1ade22a1f",
   "metadata": {},
   "source": [
    "Prepare the n-qubit cat state $\\frac{|0....0\\rangle+|1...1\\rangle}{2}$\n"
   ]
  },
  {
   "cell_type": "code",
   "execution_count": null,
   "id": "19ac667f-0936-4e0a-93d7-1ecbf6ed29fe",
   "metadata": {},
   "outputs": [],
   "source": [
    "def cat_state(n):\n",
    "    qc = QuantumCircuit(n)\n",
    "    # *FILL IN*\n",
    "    return qc"
   ]
  },
  {
   "cell_type": "code",
   "execution_count": null,
   "id": "7821cc34-1933-451b-818a-29e4acc2798a",
   "metadata": {},
   "outputs": [],
   "source": [
    "qc = cat_state(10)\n",
    "state = Statevector(qc)\n",
    "display(state.draw('latex'))\n",
    "display(qc.draw('mpl'))"
   ]
  },
  {
   "cell_type": "markdown",
   "id": "cc4423b4-126c-407a-b4f7-b2ea71bc1b1c",
   "metadata": {},
   "source": [
    "### Challenge Problem: Four-Qubit Parity"
   ]
  },
  {
   "cell_type": "markdown",
   "id": "4e2bd452-1c3b-4f3b-ab13-49649e1c39ef",
   "metadata": {},
   "source": [
    "Design a circuit that prepares an equal superposition of all four-qubit states, in which strings with an even Hamming weight (number of ones in the string) have positive amplitude, and all strings of odd Hamming weight have negative amplitude.\n",
    "\n",
    "Example of desired end-state for two qubits: $$\\frac{|00\\rangle-|01\\rangle-|10\\rangle+11\\rangle}{2}$$.\n",
    "\n",
    "Example of desired end-state for three qubits: $$\\frac{|000\\rangle-|001\\rangle-|010\\rangle+|011\\rangle-|100\\rangle+|011\\rangle+|101\\rangle-|111\\rangle}{2\\sqrt{2}}$$.\n",
    "\n",
    "Hint: Starting from the all-zeros string, apply $H$ to every qubit to move to the equal superposition state."
   ]
  },
  {
   "cell_type": "code",
   "execution_count": null,
   "id": "87d68315-8fe9-4c98-8a11-9d592808a231",
   "metadata": {},
   "outputs": [],
   "source": [
    "qc = QuantumCircuit(4)\n",
    "# *FILL IN*\n",
    "state = Statevector(qc)\n",
    "display(state.draw('latex'))\n",
    "display(qc.draw('mpl'))"
   ]
  },
  {
   "cell_type": "markdown",
   "id": "d85356c4-0e0f-4806-902a-cdd0e6afa7cb",
   "metadata": {},
   "source": [
    "### Challenge Problem: N-Qubit Parity"
   ]
  },
  {
   "cell_type": "markdown",
   "id": "48fa6c68-6686-45fb-829c-2f7c5f30ce56",
   "metadata": {},
   "source": [
    "Can you make a state-preparing that works for arbitrarily-sized inputs?"
   ]
  },
  {
   "cell_type": "code",
   "execution_count": null,
   "id": "866d4ad5-777a-4e37-b66a-30bb1cbee3e6",
   "metadata": {},
   "outputs": [],
   "source": [
    "def state_preparer(n):\n",
    "    qc = QuantumCircuit(n)\n",
    "    # *FILL IN*\n",
    "\n",
    "    return qc"
   ]
  },
  {
   "cell_type": "code",
   "execution_count": null,
   "id": "8034e540-c3b9-48b1-8ac8-079ac51b37eb",
   "metadata": {},
   "outputs": [],
   "source": [
    "qc = state_preparer(10)\n",
    "state = Statevector(qc)\n",
    "display(state.draw('latex'))\n",
    "display(qc.draw('mpl'))"
   ]
  },
  {
   "cell_type": "markdown",
   "id": "1765ba9c-fea6-45cb-8d97-b599d463d757",
   "metadata": {},
   "source": [
    "### Challenge Problem: Only Two of Three Qubits"
   ]
  },
  {
   "cell_type": "markdown",
   "id": "89a96762-95c6-4e4b-8625-a2ffc70d6110",
   "metadata": {},
   "source": [
    "Example of desired end-state for three qubits: $$\\frac{|000\\rangle+|001\\rangle+|010\\rangle-|011\\rangle+|100\\rangle-|011\\rangle-|101\\rangle+|111\\rangle}{2\\sqrt{2}}$$.\n",
    "\n",
    "Hint: you can use the $CZ$ and $CCZ$ gates.\n",
    "\n",
    "$$CZ = \\begin{pmatrix} 1 & 0 & 0 & 0 \\\\ 0 & 1 & 0 & 0 \\\\ 0 & 0 & 1 & 0 \\\\ 0 & 0 & 0 & -1 \\end{pmatrix}$$\n",
    "\n",
    "$$CCZ = \\begin{pmatrix} 1 & 0 & 0 & 0 & 0 & 0 & 0 & 0 \\\\ 0 & 1 & 0 & 0 & 0 & 0 & 0 & 0 \\\\ 0 & 0 & 1 & 0 & 0 & 0 & 0 & 0 \\\\ 0 & 0 & 0 & 1 & 0 & 0 & 0 & 0 \\\\ 0 & 0 & 0 & 0 & 1 & 0 & 0 & 0 \\\\ 0 & 0 & 0 & 0 & 0 & 1 & 0 & 0 \\\\ 0 & 0 & 0 & 0 & 0 & 0 & 1 & 0 \\\\ 0 & 0 & 0 & 0 & 0 & 0 & 0 & -1 \\end{pmatrix}$$"
   ]
  },
  {
   "cell_type": "code",
   "execution_count": null,
   "id": "ae10a770-e532-451b-a427-7420661936d7",
   "metadata": {},
   "outputs": [],
   "source": [
    "qc = QuantumCircuit(3)\n",
    "# *FILL IN*\n",
    "state = Statevector(qc)\n",
    "display(state.draw('latex'))\n",
    "display(qc.draw('mpl'))"
   ]
  },
  {
   "cell_type": "markdown",
   "id": "b6f67eed-36e7-4681-b92e-f818e6e534da",
   "metadata": {},
   "source": [
    "### Challenge Problem: More Complicated Oracle"
   ]
  },
  {
   "cell_type": "markdown",
   "id": "f199e8e6-35f1-4274-be2b-128feecca42c",
   "metadata": {},
   "source": [
    "Can you design a quantum circuit that takes a four-qubit input state $|\\psi\\rangle$ and returns $|1\\rangle$ if the state has any adjacent qubits set to $|1\\rangle$, and returns $|0\\rangle$ otherwise. Use an ancilla qubit to store the answer.\n",
    "\n",
    "Note that $|\\psi\\rangle$ may be a superposition, so the ancilla qubit that you return will be entangled with the initial state. Our desired result is a circuit $U$ such that if $$|\\psi\\rangle = \\sum_{i=0}^{2^n} \\alpha_i |i\\rangle,$$ then $$U\\left(|\\psi\\rangle|0\\rangle_{ancilla}\\right) = \\sum_{i=0}^{2^n}\\alpha_i \\cdot U\\left(|i\\rangle|0\\rangle_{ancilla}\\right) = \\sum_{i=0}^{2^n}\\alpha_i|i\\rangle|f(|i\\rangle)\\rangle_{ancilla} = |\\psi\\rangle|f(|\\psi\\rangle)\\rangle_{ancilla},$$\n",
    "\n",
    "where $f(|i\\rangle) = 1$ if $|i\\rangle$ has consecutive ones anywhere and $|0\\rangle$ otherwise."
   ]
  },
  {
   "cell_type": "code",
   "execution_count": null,
   "id": "f7fbdf46-d903-4021-84ab-3484b98f59d6",
   "metadata": {},
   "outputs": [],
   "source": [
    "def oracle(n):\n",
    "    qr = qiskit.circuit.QuantumRegister(n, 'input')\n",
    "    ancilla = QuantumRegister(1, 'ancilla')\n",
    "    qc = QuantumCircuit(qr, ancilla)\n",
    "    # *FILL IN*\n",
    "\n",
    "    return qc"
   ]
  },
  {
   "cell_type": "code",
   "execution_count": null,
   "id": "8bb60539-d50c-4abf-82cb-b6a71e958219",
   "metadata": {},
   "outputs": [],
   "source": [
    "qc = oracle(3)\n",
    "state = Statevector(qc)\n",
    "display(state.draw('latex'))\n",
    "display(qc.draw('mpl'))"
   ]
  },
  {
   "cell_type": "markdown",
   "id": "dc410e71-de49-42af-b287-ae22b9f8a1ec",
   "metadata": {},
   "source": [
    "# Density Matrices"
   ]
  },
  {
   "cell_type": "markdown",
   "id": "01af175e-59eb-4b5c-9772-9317fe4e602e",
   "metadata": {},
   "source": [
    "As we learned in class, another way to represent quantum states besides braket notation is with density matrices.\n",
    "\n",
    "$$\\rho = |\\psi\\rangle\\langle\\psi|$$"
   ]
  },
  {
   "cell_type": "markdown",
   "id": "e4a011c6-47c5-488f-934a-50120c9d9449",
   "metadata": {},
   "source": [
    "## Checkpoint\n",
    "\n"
   ]
  },
  {
   "cell_type": "markdown",
   "id": "60cf0d1d-644d-4c5e-9ee2-d4d4869b9f37",
   "metadata": {},
   "source": [
    "Compute the density matrix for the following one-qubit states:\n",
    "\n",
    "$$|0\\rangle, |1\\rangle, |+\\rangle, |-\\rangle, |+i\\rangle, |-\\rangle$$\n",
    "\n",
    "Optional: Compute the density matrix for the following two-qubit states:\n",
    "\n",
    "$$\\frac{|00\\rangle+|11\\rangle}{\\sqrt{2}}, \\frac{|01\\rangle+i|11\\rangle}{\\sqrt{2}}, \\frac{|++\\rangle+|--\\rangle}{\\sqrt{2}}$$\n",
    "\n",
    "Hint: write them as amplitude vectors first."
   ]
  },
  {
   "cell_type": "markdown",
   "id": "d7c874c1-cf9d-4551-8265-3c40aad7d965",
   "metadata": {},
   "source": [
    "## Continuing..."
   ]
  },
  {
   "cell_type": "markdown",
   "id": "f1d07614-f83a-4001-a9ab-8ab020d976e1",
   "metadata": {},
   "source": [
    "Qiskit gives us a convenient way to visualize density matrices through a variety of commands. For example, let us plot the density matrix for the $|+\\rangle$ state ..."
   ]
  },
  {
   "cell_type": "code",
   "execution_count": null,
   "id": "c3947031-709f-4bbd-a877-223f5f0fd113",
   "metadata": {},
   "outputs": [],
   "source": [
    "display(Statevector.from_label(\"+\").draw('latex'))\n",
    "display(Statevector.from_label(\"+\").draw('city'))"
   ]
  },
  {
   "cell_type": "markdown",
   "id": "309fd7df-7ae0-4090-b9f3-3bad4339137b",
   "metadata": {},
   "source": [
    "... and for the $|-i\\rangle$ state."
   ]
  },
  {
   "cell_type": "code",
   "execution_count": null,
   "id": "9ffb58dc-eebd-4806-b477-e86d14d0b6c0",
   "metadata": {},
   "outputs": [],
   "source": [
    "display(Statevector.from_label(\"l\").draw('latex'))\n",
    "display(Statevector.from_label(\"l\").draw('city'))"
   ]
  },
  {
   "cell_type": "markdown",
   "id": "03d93821-224a-4e38-9572-1fc68f679812",
   "metadata": {},
   "source": [
    "As we see above, density matrix elements can take complex values."
   ]
  },
  {
   "cell_type": "markdown",
   "id": "be66c130-fec9-4f97-b485-fcbdb75339d5",
   "metadata": {},
   "source": [
    "For one qubit, the density matrix can be represented as a sum of the Pauli matrices, weighted by the expectation value for each Pauli matrix: $$\\rho = \\frac{\\langle I\\rangle I+\\langle X\\rangle X+\\langle Y\\rangle Y+\\langle Z\\rangle Z}{2}.$$\n",
    "\n",
    "Note that expectation values for Pauli matrices are equivalent to expectation values for measurements in the corresponding basis, according to the scheme that we defined above of assigning a value of (+1) or (-1) to a measurement. Also, $\\langle I \\rangle = 1$.\n",
    "\n",
    "We note that this formula for the density matrix contains exactly as much information as the Bloch sphere reconstruction from above. This suggests that reconstructing the density matrix for a state will allow us to learn a sufficient amount of information about the state. Additionally, for systems of more than one qubit, it will be more convenient to stick to density matrices, as there is no convenient Bloch sphere picture that can represent a multiqubit system.\n",
    "\n",
    "For two qubits, $$\\rho = \\frac{\\langle II\\rangle II+\\langle IX\\rangle IX+\\langle IY\\rangle IY+\\langle IZ\\rangle IZ+\\langle XI\\rangle XI+\\langle XX\\rangle XX+\\langle XY\\rangle XY+\\langle XZ\\rangle XZ+\\langle YI\\rangle YI+\\langle YX\\rangle YX+\\langle YY\\rangle YY+\\langle YZ\\rangle YZ+\\langle ZI\\rangle ZI+\\langle ZX\\rangle ZX+\\langle ZY\\rangle ZY+\\langle ZZ\\rangle ZZ}{4},$$\n",
    "\n",
    "where $\\langle XY \\rangle$ represents the expectation value of jointly measuring the first qubit in the X basis and the zeroth qubit in the Y basis.\n",
    "\n",
    "In general, the formula for the density matrix of an n-qubit system is \n",
    "\n",
    "$$\\rho = \\frac{\\sum_{P_i\\in\\{I,X,Y,Z\\}^{n}}\\langle P_i\\rangle P_i}{2^n}.$$\n",
    "\n",
    "In words, the density matrix is proportional to the sum of all the Pauli strings (products of single-qubit Pauli operators), weighted by the expectation value for each Pauli matrix."
   ]
  },
  {
   "cell_type": "markdown",
   "id": "61d6a593-4750-4929-96ad-95a4466a5fd9",
   "metadata": {},
   "source": [
    "Let's generate the four cardinal states again and randomly permute them."
   ]
  },
  {
   "cell_type": "code",
   "execution_count": null,
   "id": "ee3a501a-f68f-437b-99d1-ccb84b83f21a",
   "metadata": {},
   "outputs": [],
   "source": [
    "state1, state2, state3, state4 = random.sample([Statevector.from_label('+'),\n",
    "                                                Statevector.from_label('-'),\n",
    "                                                Statevector.from_label('r'),\n",
    "                                                Statevector.from_label('l')], 4) # randomly permuting the four options"
   ]
  },
  {
   "cell_type": "markdown",
   "id": "7fb2ec15-c92b-4b19-8d95-5d09848579f3",
   "metadata": {},
   "source": [
    "Measuring only in the Z basis is not very useful, as we discussed above. The distributions are identical."
   ]
  },
  {
   "cell_type": "code",
   "execution_count": null,
   "id": "23431224-9978-47c0-98c9-29a1ddc54982",
   "metadata": {},
   "outputs": [],
   "source": [
    "display(plot_histogram(state1.sample_counts(nshots)))\n",
    "display(plot_histogram(state2.sample_counts(nshots)))\n",
    "display(plot_histogram(state3.sample_counts(nshots)))\n",
    "display(plot_histogram(state4.sample_counts(nshots)))"
   ]
  },
  {
   "cell_type": "markdown",
   "id": "c79f3962-a941-4633-801b-522ee29f5324",
   "metadata": {},
   "source": [
    "However, their density matrices look different (note the different signs). If we could reconstruct their density matrices, that might be useful for differentiating between the states."
   ]
  },
  {
   "cell_type": "code",
   "execution_count": null,
   "id": "49f696f3-7641-4793-a78b-b1ca917be088",
   "metadata": {
    "scrolled": true
   },
   "outputs": [],
   "source": [
    "display(state1.draw('city'))\n",
    "display(state2.draw('city'))\n",
    "display(state3.draw('city'))\n",
    "display(state4.draw('city'))"
   ]
  },
  {
   "cell_type": "markdown",
   "id": "db243270-3811-45f5-b98e-1cab496d158d",
   "metadata": {},
   "source": [
    "## Checkpoint"
   ]
  },
  {
   "cell_type": "markdown",
   "id": "2cec150f-6e07-4f8c-a61f-a30b1d3dc7da",
   "metadata": {},
   "source": [
    "Can you match the above four density matrices to the correct states ($|+\\rangle, |-\\rangle, |+i\\rangle, |-i\\rangle$)?"
   ]
  },
  {
   "cell_type": "markdown",
   "id": "db432cd5-eeb3-4749-ae51-80c0d954459a",
   "metadata": {},
   "source": [
    "## Final Notes on Density Matrices"
   ]
  },
  {
   "cell_type": "markdown",
   "id": "373c0908-3f24-430f-a2b7-eb55bb34e02b",
   "metadata": {},
   "source": [
    "What do all the parts of the density matrix represent?\n",
    "\n",
    "The diagonal entries represent the probabilities of a measurement ending up in the respective computational state. Consequently, the trace of the density matrix, or the sum of its diagonal entries, will always be $1$, since total probability of the system being measured in some state is always 1.\n",
    "\n",
    "The off-diagonal entries are known as \"coherences\" and represent the amount of \"quantumness\" in the system. We can exactly quantify the \"quantumness\" through a metric known as the purity, which is computed by taking the trace of the density matrix squared:\n",
    "\n",
    "$$purity = Tr(\\rho^2)$$\n",
    "\n",
    "Use `density_matrix.purity()` to compute the purity of a density matrix."
   ]
  },
  {
   "cell_type": "markdown",
   "id": "a9e83656-57c8-4226-8c9b-4bddb0b80f6f",
   "metadata": {},
   "source": [
    "The density matrix representation is useful because it also allows us to represent all kinds of states, including pure (quantum) states, fully classical states, and everything in between.\n",
    "\n",
    "If we prepare the $|+\\rangle$ state, a pure state, its density matrix is fully quantum.\n",
    "\n",
    "**What is the purity of this state?**\n",
    "\n",
    "On the other hand, if we take the $|+\\rangle$ state and now measure it in the Z basis but don't look at the result, there is a 50% chance that it went to each of the $|0\\rangle$ and $|1\\rangle$ states. The state is no longer in a superposition (we collapsed the superposition when we measured), but it is in a probabilistic mixture of the $0$ and $1$ states. We can describe the new value of the state as $\\rho = 0.5|0\\rangle\\langle 0| + 0.5|1\\rangle\\langle 1|$. This state is often referred to as the maximally mixed state.\n",
    "\n",
    "**What is the purity of this state?**\n",
    "\n",
    "Physical quantum systems are susceptible to error channels that induce loss. The effect is that the system \"decoheres\" over time. If we were to track the time evolution of the density matrix, we would see the off-diagonal terms shrinking. The purity would be somewhere between the two answers you gave above, trending from the first answer to the second answer as the loss terms entirely dominate and fully decohere the system.\n",
    "\n",
    "Come talk to the lab staff if you want to learn more about errors!"
   ]
  },
  {
   "cell_type": "markdown",
   "id": "1c927806-2506-45a2-b529-8b14f146f552",
   "metadata": {},
   "source": [
    "## Exercises"
   ]
  },
  {
   "cell_type": "markdown",
   "id": "39e9e671-ebb1-4300-a5ab-5e4cf09bec35",
   "metadata": {},
   "source": [
    "Plot the density matrix for the maximally mixed state. Notice how the off-diagonal entries are zero! This means it is entirely a classical state, equivalent to a fair coin which has two equiprobable classical outcomes."
   ]
  },
  {
   "cell_type": "code",
   "execution_count": null,
   "id": "57ec678c-b964-4e1b-ba60-3bb438a2fc43",
   "metadata": {},
   "outputs": [],
   "source": [
    "# plot the quantum\n",
    "maximally_mixed_state = # *FILL IN*\n",
    "display(maximally_mixed_state.draw('city'))"
   ]
  },
  {
   "cell_type": "markdown",
   "id": "8cb01874-2755-43c4-b12c-44ab80449437",
   "metadata": {},
   "source": [
    "Measure the maximally mixed state in the $X$ basis and compare the result to measuring the $|+\\rangle$ state in the X basis. Plot the histograms below.\n",
    "\n",
    "Hint: you can take `maximally_mixed_state` that you created above and evolve it with `dm = maximally_mixed_state.evolve(qiskit.circuit.library.HGate())` to measure in another basis. Use `dm.sample_counts()` to obtain the counts."
   ]
  },
  {
   "cell_type": "code",
   "execution_count": null,
   "id": "3bf5ab4e-f7f9-48fa-bf14-dd5921f55982",
   "metadata": {},
   "outputs": [],
   "source": [
    "# plot the \n",
    "maximally_mixed_state = # *FILL IN*\n",
    "counts = # *FILL IN*\n",
    "display(plot_histogram(counts))"
   ]
  },
  {
   "cell_type": "markdown",
   "id": "5e7c60ed-48ea-4244-b694-b3a3906afa6b",
   "metadata": {},
   "source": [
    "### Challenge Problem: Quantum State Tomography with Larger States\n"
   ]
  },
  {
   "cell_type": "markdown",
   "id": "7fd7303f-d87f-43ea-915e-3acfd7bc79e5",
   "metadata": {},
   "source": [
    "Quantum state tomography on larger states entails reconstructing the density matrix for the larger system and follows roughly the same process as above, albeit with far more measurements. For the two-qubit case, we already need to compute sixteen expectation values. Luckily, Qiskit gives us an easy shortcut to compute expectation values for long Pauli strings."
   ]
  },
  {
   "cell_type": "code",
   "execution_count": null,
   "id": "b5d314ee-2978-440f-8b8d-94f7fa50f397",
   "metadata": {},
   "outputs": [],
   "source": [
    "n = 2 # number of qubits\n",
    "statevector = random_statevector(2**n)\n",
    "expectation = statevector.expectation_value(Pauli('IX'))\n",
    "print(statevector)\n",
    "print(expectation)"
   ]
  },
  {
   "cell_type": "markdown",
   "id": "71cf5861-6f89-46e5-b967-90add7496d3e",
   "metadata": {},
   "source": [
    "Design a protocol to reconstruct the density matrix for a n-qubit state. You may use\n",
    "\n",
    "```python\n",
    "qc = QuantumCircuit(n)\n",
    "qc.initialize(statevector)\n",
    "```\n",
    "\n",
    "as many times as you'd like to initialize your circuit with the input state. You may not investigate other properties of the `statevector` variable.\n",
    "\n",
    "\n",
    "Hints:\n",
    "* We made a function that generates all Pauli strings of length `n` (measurements on n qubits): `get_all_pauli_strings(n)`.\n",
    "* You should also use the `Pauli(string).to_matrix()` function.\n",
    "* Recall that $$\\rho = \\frac{\\sum_{P_i\\in\\{I,X,Y,Z\\}^{n}}\\langle P_i\\rangle P_i}{2^n}.$$"
   ]
  },
  {
   "cell_type": "code",
   "execution_count": null,
   "id": "6b92d566-07fd-46ca-881d-4f8654963c52",
   "metadata": {},
   "outputs": [],
   "source": [
    "# write your protocol\n",
    "def reconstruct_dm(statevector: Statevector, n):\n",
    "    # Function to reconstruct the density matrix of an input state\n",
    "    # Input: statevector: a Qiskit Statevector, n: the number of qubits\n",
    "    # Output: a (2**n by 2**n) Qiskit DensityMatrix\n",
    "    \n",
    "    # starter code\n",
    "    result = np.zeros((2**n, 2**n))\n",
    "    # *FILL IN*\n",
    "    qc = QuantumCircuit(n)\n",
    "    qc.initialize(statevector)\n",
    "    # quantum circuit\n",
    "    # *FILL IN*\n",
    "    ...\n",
    "    qc.measure_all()\n",
    "    backend = Aer.get_backend('qasm_simulator')\n",
    "    new_circuit = transpile(qc, backend)\n",
    "    job = backend.run(new_circuit, shots = 1000)# *FILL IN*)\n",
    "    results = job.result()\n",
    "    counts = results.get_counts()\n",
    "    \n",
    "    # quantum circuit(s)\n",
    "    # *FILL IN*\n",
    "    ...\n",
    "    \n",
    "    # post-processing\n",
    "    # *FILL IN*\n",
    "    ...\n",
    "    return DensityMatrix(result)"
   ]
  },
  {
   "cell_type": "code",
   "execution_count": null,
   "id": "825c13c5-c99d-4363-a795-e08d5e8415cc",
   "metadata": {},
   "outputs": [],
   "source": [
    "n = 4\n",
    "statevector = random_statevector(2**n)\n",
    "density_matrix = reconstruct_dm(statevector, n)\n",
    "print(\"purity of reconstructed density matrix is\", density_matrix.purity())\n",
    "display(statevector.draw('city'))\n",
    "display(density_matrix.draw('city'))"
   ]
  },
  {
   "cell_type": "markdown",
   "id": "780aac34-75a1-48cd-9c6d-30e376865a32",
   "metadata": {
    "scrolled": true
   },
   "source": [
    "If everything went well, these should be the same."
   ]
  },
  {
   "cell_type": "markdown",
   "id": "cd7c9d2d-1ec3-4f22-ab72-784c531257bd",
   "metadata": {},
   "source": [
    "### Challenge Problem: Recovering a Pure State from a Density Matrix"
   ]
  },
  {
   "cell_type": "markdown",
   "id": "e363eae6-97fc-449e-9764-d299a2f4310b",
   "metadata": {},
   "source": [
    "Let $\\rho = |\\psi\\rangle\\langle \\psi|$ but we only have $\\rho$ or some approximate reconstruction of $\\rho$. How do we find $|\\psi\\rangle$?\n",
    "\n",
    "Hint: use the spectral decomposition and diagonalize the matrix into its eigenbasis. What do you notice about the relative magnitudes of the eigenvalues?"
   ]
  },
  {
   "cell_type": "code",
   "execution_count": null,
   "id": "3f1bfcc5-0399-406f-8487-c9cd1ce8a4ec",
   "metadata": {},
   "outputs": [],
   "source": [
    "def recover_state(rho, n):\n",
    "    # Function to recover the pure state from a density matrix\n",
    "    # Input: rho: a Qiskit DensityMatrix, n: the number of qubits\n",
    "    # Output: a (2**n) unit vector\n",
    "\n",
    "    result = np.zeros(2**n), dtype=np.complex128)\n",
    "    # *FILL IN*\n",
    "    ...\n",
    "    \n",
    "    return result"
   ]
  },
  {
   "cell_type": "code",
   "execution_count": null,
   "id": "a2f218a8-3ad9-443c-8c50-447d33bde388",
   "metadata": {},
   "outputs": [],
   "source": [
    "n = 4\n",
    "\n",
    "statevector = random_statevector(2**n)*0.95\n",
    "phi = recover_state(DensityMatrix(statevector), n)\n",
    "\n",
    "print(statevector)\n",
    "print(phi)\n",
    "\n",
    "print(np.abs(statevector))\n",
    "print(np.abs(phi))\n",
    "print(np.abs(statevector)@np.abs(phi))"
   ]
  },
  {
   "cell_type": "markdown",
   "id": "5c2403ba-edaf-4c66-983f-840e0f31ed12",
   "metadata": {},
   "source": [
    "### Challenge Problem: Quantum Process Tomography"
   ]
  },
  {
   "cell_type": "markdown",
   "id": "0a9cea9d-1369-42ba-a68f-2490a98781f8",
   "metadata": {},
   "source": [
    "Suppose we have an unknown quantum circuit whose behavior we want to characterize. The circuit's behavior can be described by a unitary matrix $U$ which we hope to find out.\n",
    "\n",
    "We can run a similar procedure to quantum state tomography known as quantum process tomography. We will run the quantum circuit with various known quantum states as the input and perform quantum state tomography on each resulting output. Once we know how the quantum circuit operates on this set of states, we know how the quantum circuit will operate on any other pure state."
   ]
  },
  {
   "cell_type": "markdown",
   "id": "9588bdbd-bad5-4f69-b1b5-f76c271bd0ab",
   "metadata": {},
   "source": [
    "Design a protocol to reconstruct the unitary matrix for a one-qubit unitary operator. You may create as many quantum circuits as you'd like. You may use `statevector.evolve(u)` but you may not investigate other properties of the `u` variable. Reuse your quantum state tomography and pure state recovery protocols from above. How many times do you need to run quantum state tomography?\n",
    "\n",
    "Hints:\n",
    "* To obtain the computational basis vectors, use `statevector = Statevector.from_int(i, 2**n)`.\n",
    "* You can compute the result of the circuit (as a density matrix) by invoking `output_dm = DensityMatrix(statevector.evolve(u))`. Do not directly access `statevector.evolve(u)` as a statevector.\n",
    "* To find $|u_i\\rangle$ from the reconstructed density matrix $\\rho_i \\approx |u_i\\rangle\\langle u_i|$ requires some work, as in the previous challenge problem. Due to the imprecision of this reconstruction process, you will have to find eigenstates $|u_{ik}\\rangle$ of $\\rho_i$ such that $\\rho_i = \\sum_k p_k |u_{ik}\\rangle\\langle u_{ik}|$ where $\\sum_k p_k = 1$. If your density matrix reconstruction is well-behaved, one of the $p_k$ will be much larger than the others and the corresponding $|u_{ik}\\rangle$ is a good guess for $|u_{i}\\rangle$, up to a phase factor.\n",
    "* Keep an eye out for phase! When you reconstruct $U$ from the $|u_{i}\\rangle$, some of the columns might need an extra phase factor in relation to one another. Just sampling the computational basis is insufficient. You can assume that $U_{0,0} \\in \\mathbb{R}$."
   ]
  },
  {
   "cell_type": "code",
   "execution_count": null,
   "id": "e8d7d4ec-1cae-4f03-8e43-24d8163f16ca",
   "metadata": {},
   "outputs": [],
   "source": [
    "def reconstruct_operator(u, n):\n",
    "    # Function to reconstruct the matrix of a unitary operator\n",
    "    # Input: u: a Qiskit Operator with u[0,0] real, n: the number of qubits\n",
    "    # Output: a (2**n by 2**n) unitary matrix\n",
    "\n",
    "    result = np.zeros((2**n, 2**n), dtype=np.complex128)\n",
    "    # *FILL IN*\n",
    "    ...\n",
    "    \n",
    "    return result"
   ]
  },
  {
   "cell_type": "code",
   "execution_count": null,
   "id": "82b72063-7b89-438c-a2cc-dbdeb2bc161d",
   "metadata": {},
   "outputs": [],
   "source": [
    "n = 1\n",
    "u_global_phase = qiskit.quantum_info.random_unitary(2**n)\n",
    "u = u_global_phase/np.exp(1j*np.angle(u_global_phase.to_matrix()[0,0]))\n",
    "operator = reconstruct_operator(u, n)\n",
    "print(np.allclose(u.to_matrix(), operator))\n",
    "print(u.to_matrix())\n",
    "print(operator)\n",
    "print()\n",
    "for i in range(2**n):\n",
    "    print(np.abs(u.to_matrix()[:,i]))\n",
    "    print(np.abs(operator[:,i]))"
   ]
  },
  {
   "cell_type": "markdown",
   "id": "59bb3ddb-4131-4a81-b767-a071d1d09b12",
   "metadata": {},
   "source": [
    "Can you use your algorithm on a larger system? How many times do you need to run quantum state tomography?"
   ]
  },
  {
   "cell_type": "code",
   "execution_count": null,
   "id": "ebc9dae4-43fa-4909-b02f-195227f23390",
   "metadata": {},
   "outputs": [],
   "source": [
    "n = 3\n",
    "u_global_phase = qiskit.quantum_info.random_unitary(2**n)\n",
    "u = u_global_phase/np.exp(1j*np.angle(u_global_phase.to_matrix()[0,0]))\n",
    "operator = reconstruct_operator(u, n)\n",
    "print(np.allclose(u.to_matrix(), operator))\n",
    "print(u.to_matrix())\n",
    "print(operator)\n",
    "print()\n",
    "for i in range(2**n):\n",
    "    print(np.abs(u.to_matrix()[:,i]))\n",
    "    print(np.abs(operator[:,i]))"
   ]
  }
 ],
 "metadata": {
  "kernelspec": {
   "display_name": "Python 3 [MIT-QWS]",
   "language": "python",
   "name": "python3_mit_qw_er3wqt"
  },
  "language_info": {
   "codemirror_mode": {
    "name": "ipython",
    "version": 3
   },
   "file_extension": ".py",
   "mimetype": "text/x-python",
   "name": "python",
   "nbconvert_exporter": "python",
   "pygments_lexer": "ipython3",
   "version": "3.11.9"
  }
 },
 "nbformat": 4,
 "nbformat_minor": 5
}
