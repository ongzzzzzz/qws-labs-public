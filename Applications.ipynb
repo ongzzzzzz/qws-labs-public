{
 "cells": [
  {
   "cell_type": "markdown",
   "id": "5e2586c4-74f4-4e93-b6a6-76f0d2d4293f",
   "metadata": {},
   "source": [
    "<div style=\"background-color:rgba(230, 245, 255, 1.0); text-align:center; vertical-align: middle; padding:20px 0;border:3px; border-style:solid; padding: 0.5em; border-color: rgba(0, 153, 255, 1.0); color: #000000;\">\n",
    "\n",
    "<h1><strong>MIT Quantum Winter School</strong></h1>\n",
    "\n",
    "<h1><strong>Day 4 - Applications</strong></h1>\n",
    "\n",
    "<img src=\"figures/course_logo.png\" width=\"500\"/>\n",
    "\n",
    "</div>"
   ]
  },
  {
   "cell_type": "code",
   "execution_count": null,
   "id": "e96254fa-b5c1-4339-ad9f-428fe86ca0e5",
   "metadata": {},
   "outputs": [],
   "source": [
    "%load_ext autoreload\n",
    "%autoreload 2"
   ]
  },
  {
   "cell_type": "code",
   "execution_count": null,
   "id": "e1448713-9c7b-4936-9ffb-1b176a76ebc6",
   "metadata": {},
   "outputs": [],
   "source": [
    "import math\n",
    "import numpy as np\n",
    "import matplotlib.pyplot as plt\n",
    "import random\n",
    "\n",
    "# Importing standard Qiskit libraries\n",
    "import qiskit\n",
    "import qiskit_aer\n",
    "import pylatexenc\n",
    "from qiskit import *\n",
    "from qiskit_aer import *\n",
    "from qiskit.compiler import transpile, assemble\n",
    "from qiskit.visualization import plot_histogram, plot_bloch_vector\n",
    "from qiskit.quantum_info import Statevector, DensityMatrix, random_statevector\n",
    "from qiskit.quantum_info.operators import Operator, Pauli\n",
    "from qiskit.circuit.library import GroverOperator, MCMT, ZGate\n",
    "\n",
    "# QWS helpers\n",
    "from helpers import convert_to_basis_string, get_all_pauli_strings,interactive_sine_waves, double_slit_experiment\n",
    "\n",
    "# Bokeh interactive plotting\n",
    "from bokeh.plotting import figure, output_notebook, show\n",
    "from bokeh.models import Slider, ColumnDataSource, CustomJS, Range1d, Toggle, Button, SetValue\n",
    "from bokeh.layouts import column, row\n",
    "from bokeh.io import push_notebook\n",
    "# Initialize the notebook output\n",
    "output_notebook()\n",
    "\n",
    "nshots = 10000"
   ]
  },
  {
   "cell_type": "markdown",
   "id": "0a5b987a-65a2-46c7-90b4-b6a4653778a0",
   "metadata": {},
   "source": [
    "# Shor's Algorithm"
   ]
  },
  {
   "cell_type": "markdown",
   "id": "9eeb384e-e206-4d28-a967-ee890936174a",
   "metadata": {},
   "source": [
    "I implemented Shor's algorithm in Python. If you would like, explore the code or interact with the algorithm by running the function in the cell below."
   ]
  },
  {
   "cell_type": "code",
   "execution_count": null,
   "id": "ebc9dae4-43fa-4909-b02f-195227f23390",
   "metadata": {},
   "outputs": [],
   "source": [
    "# Designed by Om Joshi\n",
    "# Shor's Algorithm Simulator, self-ported to Python from Matlab\n",
    "\n",
    "import numpy as np\n",
    "import matplotlib.pyplot as plt\n",
    "from math import sqrt, gcd, ceil, log2\n",
    "\n",
    "# https://en.wikipedia.org/wiki/Shor%27s_algorithm\n",
    "# see above link for explanation of algorithm\n",
    "\n",
    "def shor_algorithm(plot_qft=False, safety_mode=True):\n",
    "    print(\"Shor's Algorithm Simulator, designed by Om Joshi\")\n",
    "    N = int(input(\"What number do you want to factor? N = \")) # our factorization target\n",
    "    Q = 2**ceil(log2(N))\n",
    "\n",
    "    if N > 80 and safety_mode:\n",
    "        raise ValueError(\"This will probably break your computer. Please re-run with a smaller value of N or with safety_mode=False\")\n",
    "\n",
    "    # generate the QFT by computing roots of unity (sped up by memoizing)\n",
    "    qft = np.zeros((Q,Q), dtype='complex')\n",
    "    root_lookup = {}\n",
    "    for i in range(Q):\n",
    "        for j in range(Q):\n",
    "            if i*j in root_lookup:\n",
    "                qft[i][j] = root_lookup[i*j]\n",
    "            else:\n",
    "                root = np.exp(1j*2*np.pi*i*j/Q)/sqrt(Q)\n",
    "                root_lookup[i*j] = root\n",
    "                qft[i][j] = root\n",
    "\n",
    "    # loop until we find a suitable x value\n",
    "    while True:\n",
    "        x = int(input(f\"Pick a number x where 1 < x < {N}: x = \"))\n",
    "        if x <= 1 or x >= N:\n",
    "            continue\n",
    "\n",
    "        if (g:=gcd(N,x)) != 1:\n",
    "            print(f\"Hooray! gcd({N},{x}) = {g} which is a factor of {N}.\")\n",
    "            break\n",
    "        \n",
    "        r_reg = np.zeros((Q), dtype='complex') # input state\n",
    "\n",
    "        # simulate the partial measurement of the powmod register as `target`\n",
    "        target = pow(x, int(np.random.choice(range(Q))), N)\n",
    "        \n",
    "        # collapse the state to values of r where x^r = target mod N,\n",
    "        # setting r_reg = 1 to indicate an equal superposition over such r\n",
    "        for i in range(Q):\n",
    "            if pow(x,i,N) == target:\n",
    "                r_reg[i] = 1\n",
    "        \n",
    "        r_reg /= np.linalg.norm(r_reg) # normalize the resulting state vector\n",
    "\n",
    "        k_reg = qft@r_reg # apply the qft -> k domain\n",
    "        k_abs = np.abs(k_reg*k_reg) # compute the probability vector\n",
    "\n",
    "        if plot_qft:\n",
    "            # plot the probability of each value in the k domain\n",
    "            fig, ax = plt.subplots()\n",
    "            ax.plot(range(Q),k_abs)\n",
    "            ax.set_title(f\"QFT for N={N} Q={Q} x={x}\");\n",
    "            ax.set_xlim(-Q/10, Q+Q/10)\n",
    "            ax.set_xlabel(\"k\");\n",
    "            ax.set_ylabel(\"P(k)\")\n",
    "        \n",
    "        # simulate measurement of the top few k values\n",
    "        # using |k_reg| as measurement probability\n",
    "        top = 20\n",
    "        k_top = np.random.choice(range(Q), top, p=k_abs)/Q\n",
    "        print(f\"These are the approximate values of c/s after {top} measurements:\")\n",
    "        print(k_top)\n",
    "        print(\"Each value is very close to a fraction with a small denominator s_i.\")\n",
    "        # prompt for user input to determine the period s based on measured values\n",
    "        s = int(input(\"What do you think s = lcm(s_i) is? s = \"))\n",
    "        if s % 2 == 0 and (root:=pow(x,s//2,N)) != N-1: # nontrivial square root\n",
    "            print(f\"If everything went right, {N} = {gcd(N,root+1)} * {gcd(N,root-1)}.\")\n",
    "            break\n",
    "        print(\"You were unlucky! Try again with a different x value!\")"
   ]
  },
  {
   "cell_type": "code",
   "execution_count": null,
   "id": "4d8b0db7-ec8c-4475-82a5-753a782dbfee",
   "metadata": {},
   "outputs": [],
   "source": [
    "shor_algorithm(plot_qft=True)"
   ]
  }
 ],
 "metadata": {
  "kernelspec": {
   "display_name": "Python 3 (ipykernel)",
   "language": "python",
   "name": "python3"
  },
  "language_info": {
   "codemirror_mode": {
    "name": "ipython",
    "version": 3
   },
   "file_extension": ".py",
   "mimetype": "text/x-python",
   "name": "python",
   "nbconvert_exporter": "python",
   "pygments_lexer": "ipython3",
   "version": "3.13.1"
  }
 },
 "nbformat": 4,
 "nbformat_minor": 5
}
